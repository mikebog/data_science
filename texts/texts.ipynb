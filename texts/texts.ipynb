{
  "cells": [
    {
      "cell_type": "markdown",
      "metadata": {
        "toc": true,
        "id": "djLbCoql39Oi"
      },
      "source": [
        "<h1>Содержание<span class=\"tocSkip\"></span></h1>\n",
        "<div class=\"toc\"><ul class=\"toc-item\"><li><span><a href=\"#Загрузка-и-подготовка-данных\" data-toc-modified-id=\"Загрузка-и-подготовка-данных-1\"><span class=\"toc-item-num\">1&nbsp;&nbsp;</span>Загрузка и подготовка данных</a></span><ul class=\"toc-item\"><li><span><a href=\"#Загрузка-данных\" data-toc-modified-id=\"Загрузка-данных-1.1\"><span class=\"toc-item-num\">1.1&nbsp;&nbsp;</span>Загрузка данных</a></span></li><li><span><a href=\"#Подготовка-данных\" data-toc-modified-id=\"Подготовка-данных-1.2\"><span class=\"toc-item-num\">1.2&nbsp;&nbsp;</span>Подготовка данных</a></span></li></ul></li><li><span><a href=\"#Обучение\" data-toc-modified-id=\"Обучение-2\"><span class=\"toc-item-num\">2&nbsp;&nbsp;</span>Обучение</a></span><ul class=\"toc-item\"><li><span><a href=\"#Обучение-разных-моделей-в-пайплайне\" data-toc-modified-id=\"Обучение-разных-моделей-в-пайплайне-2.1\"><span class=\"toc-item-num\">2.1&nbsp;&nbsp;</span>Обучение разных моделей в пайплайне</a></span></li><li><span><a href=\"#Анализ-моделей\" data-toc-modified-id=\"Анализ-моделей-2.2\"><span class=\"toc-item-num\">2.2&nbsp;&nbsp;</span>Анализ моделей</a></span></li><li><span><a href=\"#Тестирование\" data-toc-modified-id=\"Тестирование-2.3\"><span class=\"toc-item-num\">2.3&nbsp;&nbsp;</span>Тестирование</a></span></li></ul></li><li><span><a href=\"#Выводы\" data-toc-modified-id=\"Выводы-3\"><span class=\"toc-item-num\">3&nbsp;&nbsp;</span>Выводы</a></span></li><li><span><a href=\"#Чек-лист-проверки\" data-toc-modified-id=\"Чек-лист-проверки-4\"><span class=\"toc-item-num\">4&nbsp;&nbsp;</span>Чек-лист проверки</a></span></li></ul></div>"
      ]
    },
    {
      "cell_type": "markdown",
      "metadata": {
        "id": "BxMimIZd39Oj"
      },
      "source": [
        "# Проект для «Викишоп»"
      ]
    },
    {
      "cell_type": "markdown",
      "metadata": {
        "id": "9bp9OtZz39Ok"
      },
      "source": [
        "Интернет-магазин «Викишоп» запускает новый сервис. Теперь пользователи могут редактировать и дополнять описания товаров, как в вики-сообществах. То есть клиенты предлагают свои правки и комментируют изменения других. Магазину нужен инструмент, который будет искать токсичные комментарии и отправлять их на модерацию.\n",
        "\n",
        "**Наша задача**\n",
        "\n",
        "Обучить модель классифицировать комментарии на позитивные и негативные. В нашем распоряжении набор данных с разметкой о токсичности правок.\n",
        "\n",
        "Для выполнения задачи необходимо построить модель со значением метрики качества *F1* не меньше 0.75.\n",
        "\n",
        "**Описание данных**\n",
        "\n",
        "Данные находятся в файле `toxic_comments.csv`. Столбец *text* в нём содержит текст комментария, а *toxic* — целевой признак.\n",
        "\n",
        "**План работы будет таким:**\n",
        "\n",
        "1. Загрузить данные и подготовить их.\n",
        "2. Обучить разные модели с различными гиперпараметрами.\n",
        "3. Сделать выводы.\n",
        "  \n",
        "Прежде чем загружать датасеты, нужно провести импорт необходимых библиотек."
      ]
    },
    {
      "cell_type": "code",
      "execution_count": null,
      "metadata": {
        "id": "VfOxylhY39Oo"
      },
      "outputs": [],
      "source": [
        "import numpy as np\n",
        "import pandas as pd\n",
        "import re\n",
        "import spacy\n",
        "from tqdm.notebook import tqdm\n",
        "from nltk.tokenize import word_tokenize\n",
        "from nltk.corpus import stopwords\n",
        "from nltk.stem import WordNetLemmatizer\n",
        "from sklearn.feature_extraction.text import TfidfVectorizer\n",
        "from sklearn.model_selection import train_test_split\n",
        "from sklearn.pipeline import Pipeline\n",
        "from sklearn.compose import ColumnTransformer\n",
        "from sklearn.metrics import f1_score\n",
        "from sklearn.model_selection import GridSearchCV\n",
        "from sklearn.linear_model import LogisticRegression\n",
        "from sklearn.neighbors import KNeighborsClassifier\n",
        "from lightgbm import LGBMClassifier\n",
        "\n",
        "RANDOM_STATE = 12345"
      ]
    },
    {
      "cell_type": "markdown",
      "metadata": {
        "id": "23mtHm0539Oq"
      },
      "source": [
        "Кроме того, напишем функции, которые пригодятся нам в дальнейшей работе."
      ]
    },
    {
      "cell_type": "code",
      "execution_count": null,
      "metadata": {
        "id": "rTcXBiVa39Oq"
      },
      "outputs": [],
      "source": [
        "#Функция получения общей информации о датасете, о дубликатах и пропусках.\n",
        "def information(df):\n",
        "    df.info();\n",
        "    print('\\nКоличество дубликатов:',df.duplicated().sum(),'\\n')\n",
        "    print('Количество пропусков:\\n',df.isna().sum())"
      ]
    },
    {
      "cell_type": "code",
      "execution_count": null,
      "metadata": {
        "id": "Nk_Rja2U39Or"
      },
      "outputs": [],
      "source": [
        "# Функция для очистки текста\n",
        "def clean_text(text):\n",
        "    # приводим текст к нижнему регистру\n",
        "    text = text.lower()\n",
        "    # создаем регулярное выражение для удаления лишних символов\n",
        "    regular = r'[\\*+\\#+\\№\\\"\\-+\\+\\=+\\?+\\&\\^\\.+\\;\\,+\\>+\\(\\)\\/+\\:\\\\+]'\n",
        "    # регулярное выражение для замены ссылки на \"URL\"\n",
        "    regular_url = r'(http\\S+)|(www\\S+)|([\\w\\d]+www\\S+)|([\\w\\d]+http\\S+)'\n",
        "    # удаляем лишние символы\n",
        "    text = re.sub(regular, '', text)\n",
        "    # заменяем ссылки на \"URL\"\n",
        "    text = re.sub(regular_url, r'URL', text)\n",
        "    # заменяем числа и цифры на ' NUM '\n",
        "    text = re.sub(r'(\\d+\\s\\d+)|(\\d+)',' NUM ', text)\n",
        "    # удаляем лишние пробелы\n",
        "    text = re.sub(r'\\s+', ' ', text)\n",
        "    # возвращаем очищенные данные\n",
        "    return text"
      ]
    },
    {
      "cell_type": "markdown",
      "metadata": {
        "id": "ngEpd83A39Os"
      },
      "source": [
        "## Загрузка и подготовка данных"
      ]
    },
    {
      "cell_type": "markdown",
      "metadata": {
        "id": "p5q6X2uk39Os"
      },
      "source": [
        "### Загрузка данных"
      ]
    },
    {
      "cell_type": "code",
      "execution_count": null,
      "metadata": {
        "id": "8z9mj8Bc39Os"
      },
      "outputs": [],
      "source": [
        "try:\n",
        "    data = pd.read_csv('???/toxic_comments.csv')\n",
        "except:\n",
        "    data = pd.read_csv('https://???/toxic_comments.csv')"
      ]
    },
    {
      "cell_type": "markdown",
      "metadata": {
        "id": "xmiqlwJl39Ot"
      },
      "source": [
        "Посмотрим первые строки датасета."
      ]
    },
    {
      "cell_type": "code",
      "execution_count": null,
      "metadata": {
        "id": "ad6OjYuO39Ou",
        "outputId": "e8d62779-2c18-4be0-fcb9-74e137675744"
      },
      "outputs": [
        {
          "data": {
            "text/html": [
              "<div>\n",
              "<style scoped>\n",
              "    .dataframe tbody tr th:only-of-type {\n",
              "        vertical-align: middle;\n",
              "    }\n",
              "\n",
              "    .dataframe tbody tr th {\n",
              "        vertical-align: top;\n",
              "    }\n",
              "\n",
              "    .dataframe thead th {\n",
              "        text-align: right;\n",
              "    }\n",
              "</style>\n",
              "<table border=\"1\" class=\"dataframe\">\n",
              "  <thead>\n",
              "    <tr style=\"text-align: right;\">\n",
              "      <th></th>\n",
              "      <th>Unnamed: 0</th>\n",
              "      <th>text</th>\n",
              "      <th>toxic</th>\n",
              "    </tr>\n",
              "  </thead>\n",
              "  <tbody>\n",
              "    <tr>\n",
              "      <th>0</th>\n",
              "      <td>0</td>\n",
              "      <td>Explanation\\nWhy the edits made under my usern...</td>\n",
              "      <td>0</td>\n",
              "    </tr>\n",
              "    <tr>\n",
              "      <th>1</th>\n",
              "      <td>1</td>\n",
              "      <td>D'aww! He matches this background colour I'm s...</td>\n",
              "      <td>0</td>\n",
              "    </tr>\n",
              "    <tr>\n",
              "      <th>2</th>\n",
              "      <td>2</td>\n",
              "      <td>Hey man, I'm really not trying to edit war. It...</td>\n",
              "      <td>0</td>\n",
              "    </tr>\n",
              "    <tr>\n",
              "      <th>3</th>\n",
              "      <td>3</td>\n",
              "      <td>\"\\nMore\\nI can't make any real suggestions on ...</td>\n",
              "      <td>0</td>\n",
              "    </tr>\n",
              "    <tr>\n",
              "      <th>4</th>\n",
              "      <td>4</td>\n",
              "      <td>You, sir, are my hero. Any chance you remember...</td>\n",
              "      <td>0</td>\n",
              "    </tr>\n",
              "  </tbody>\n",
              "</table>\n",
              "</div>"
            ],
            "text/plain": [
              "   Unnamed: 0                                               text  toxic\n",
              "0           0  Explanation\\nWhy the edits made under my usern...      0\n",
              "1           1  D'aww! He matches this background colour I'm s...      0\n",
              "2           2  Hey man, I'm really not trying to edit war. It...      0\n",
              "3           3  \"\\nMore\\nI can't make any real suggestions on ...      0\n",
              "4           4  You, sir, are my hero. Any chance you remember...      0"
            ]
          },
          "execution_count": 7,
          "metadata": {},
          "output_type": "execute_result"
        }
      ],
      "source": [
        "data.head()"
      ]
    },
    {
      "cell_type": "markdown",
      "metadata": {
        "id": "UeXtS9du39Ow"
      },
      "source": [
        "Сразу удалим столбец 'Unnamed: 0', он явно лишний."
      ]
    },
    {
      "cell_type": "code",
      "execution_count": null,
      "metadata": {
        "id": "29dY2sbz39Ow"
      },
      "outputs": [],
      "source": [
        "data = data.drop(['Unnamed: 0'], axis=1)"
      ]
    },
    {
      "cell_type": "markdown",
      "metadata": {
        "id": "BTgVBmU939Oy"
      },
      "source": [
        "Теперь посмотрим общую информацию о датасете."
      ]
    },
    {
      "cell_type": "code",
      "execution_count": null,
      "metadata": {
        "id": "pWbyVApN39Oy",
        "outputId": "af1d2bf0-ce95-43ab-f2ca-5363dea7dfb2"
      },
      "outputs": [
        {
          "name": "stdout",
          "output_type": "stream",
          "text": [
            "<class 'pandas.core.frame.DataFrame'>\n",
            "RangeIndex: 159292 entries, 0 to 159291\n",
            "Data columns (total 2 columns):\n",
            " #   Column  Non-Null Count   Dtype \n",
            "---  ------  --------------   ----- \n",
            " 0   text    159292 non-null  object\n",
            " 1   toxic   159292 non-null  int64 \n",
            "dtypes: int64(1), object(1)\n",
            "memory usage: 2.4+ MB\n",
            "\n",
            "Количество дубликатов: 0 \n",
            "\n",
            "Количество пропусков:\n",
            " text     0\n",
            "toxic    0\n",
            "dtype: int64\n"
          ]
        }
      ],
      "source": [
        "information(data)"
      ]
    },
    {
      "cell_type": "markdown",
      "metadata": {
        "id": "XEQ2VGc139Oz"
      },
      "source": [
        "***Вывод:*** Загрузили датасет, общая информация показала, что в нем 152292 текста, дубликатов и пропусков нет. Тексты на английском языке, это надо будет учесть при дальнейшей подготовке данных к обучению."
      ]
    },
    {
      "cell_type": "markdown",
      "metadata": {
        "id": "CQvGii3p39Oz"
      },
      "source": [
        "### Подготовка данных"
      ]
    },
    {
      "cell_type": "markdown",
      "metadata": {
        "id": "LsdhyAYh39O0"
      },
      "source": [
        " Прежде чем начинать обработку текстов для обучения посмотрим, есть ли дисбаланс классов в целевом признаке."
      ]
    },
    {
      "cell_type": "code",
      "execution_count": null,
      "metadata": {
        "id": "pMrbe7xb39O0",
        "outputId": "e70092e7-a2f6-49d7-f069-fa1b03d8ccd0"
      },
      "outputs": [
        {
          "data": {
            "text/plain": [
              "0    143106\n",
              "1     16186\n",
              "Name: toxic, dtype: int64"
            ]
          },
          "execution_count": 10,
          "metadata": {},
          "output_type": "execute_result"
        }
      ],
      "source": [
        "data['toxic'].value_counts()"
      ]
    },
    {
      "cell_type": "markdown",
      "metadata": {
        "id": "bVv63hW039O1"
      },
      "source": [
        "Видно, что токсичных комментариев всего 10% от всего датасета. Чтобы уменьшить влияние дисбаланса, обучение будем проводить, используя кросс-валидацию."
      ]
    },
    {
      "cell_type": "markdown",
      "metadata": {
        "id": "AEj8RjEm39O7"
      },
      "source": [
        "Для подготовки данных к обучению нам нужно сначала очистить тексты от лишней информации (лишние символы, цифры, ссылки, пробелы) с помощью функции, написанной выше, затем токенизировать тексты, удалить стоп-слова и лемматизировать слова. Результат запишем в новую колонку."
      ]
    },
    {
      "cell_type": "code",
      "execution_count": null,
      "metadata": {
        "id": "lqHjdoNt39O7"
      },
      "outputs": [],
      "source": [
        "nlp = spacy.load('en_core_web_sm', disable=['parser', 'ner'])\n",
        "def lemmatize_text(text):\n",
        "    text = clean_text(text)\n",
        "    doc = nlp(text)\n",
        "    text = [token.lemma_ for token in doc]\n",
        "    text = ' '.join(text)\n",
        "    return text"
      ]
    },
    {
      "cell_type": "code",
      "execution_count": null,
      "metadata": {
        "colab": {
          "referenced_widgets": [
            "318eb9d3f8d54790a8ec51abdaa86f94"
          ]
        },
        "id": "OmySyniR39O8",
        "outputId": "c3dfb653-51a0-4197-f849-3e22a8c20ce0"
      },
      "outputs": [
        {
          "data": {
            "application/vnd.jupyter.widget-view+json": {
              "model_id": "318eb9d3f8d54790a8ec51abdaa86f94",
              "version_major": 2,
              "version_minor": 0
            },
            "text/plain": [
              "  0%|          | 0/159292 [00:00<?, ?it/s]"
            ]
          },
          "metadata": {},
          "output_type": "display_data"
        }
      ],
      "source": [
        "tqdm.pandas()\n",
        "\n",
        "data['lemm_text'] = data['text'].progress_apply(lemmatize_text)"
      ]
    },
    {
      "cell_type": "code",
      "execution_count": null,
      "metadata": {
        "id": "jOR3wBLD39O8",
        "outputId": "43bb3191-4a90-45b8-af02-a0b628b178a1"
      },
      "outputs": [
        {
          "data": {
            "text/html": [
              "<div>\n",
              "<style scoped>\n",
              "    .dataframe tbody tr th:only-of-type {\n",
              "        vertical-align: middle;\n",
              "    }\n",
              "\n",
              "    .dataframe tbody tr th {\n",
              "        vertical-align: top;\n",
              "    }\n",
              "\n",
              "    .dataframe thead th {\n",
              "        text-align: right;\n",
              "    }\n",
              "</style>\n",
              "<table border=\"1\" class=\"dataframe\">\n",
              "  <thead>\n",
              "    <tr style=\"text-align: right;\">\n",
              "      <th></th>\n",
              "      <th>text</th>\n",
              "      <th>toxic</th>\n",
              "      <th>lemm_text</th>\n",
              "    </tr>\n",
              "  </thead>\n",
              "  <tbody>\n",
              "    <tr>\n",
              "      <th>0</th>\n",
              "      <td>Explanation\\nWhy the edits made under my usern...</td>\n",
              "      <td>0</td>\n",
              "      <td>explanation why the edit make under my usernam...</td>\n",
              "    </tr>\n",
              "    <tr>\n",
              "      <th>1</th>\n",
              "      <td>D'aww! He matches this background colour I'm s...</td>\n",
              "      <td>0</td>\n",
              "      <td>d'aww ! he match this background colour I be s...</td>\n",
              "    </tr>\n",
              "    <tr>\n",
              "      <th>2</th>\n",
              "      <td>Hey man, I'm really not trying to edit war. It...</td>\n",
              "      <td>0</td>\n",
              "      <td>hey man I be really not try to edit war it be ...</td>\n",
              "    </tr>\n",
              "    <tr>\n",
              "      <th>3</th>\n",
              "      <td>\"\\nMore\\nI can't make any real suggestions on ...</td>\n",
              "      <td>0</td>\n",
              "      <td>more I can not make any real suggestion on i...</td>\n",
              "    </tr>\n",
              "    <tr>\n",
              "      <th>4</th>\n",
              "      <td>You, sir, are my hero. Any chance you remember...</td>\n",
              "      <td>0</td>\n",
              "      <td>you sir be my hero any chance you remember wha...</td>\n",
              "    </tr>\n",
              "  </tbody>\n",
              "</table>\n",
              "</div>"
            ],
            "text/plain": [
              "                                                text  toxic  \\\n",
              "0  Explanation\\nWhy the edits made under my usern...      0   \n",
              "1  D'aww! He matches this background colour I'm s...      0   \n",
              "2  Hey man, I'm really not trying to edit war. It...      0   \n",
              "3  \"\\nMore\\nI can't make any real suggestions on ...      0   \n",
              "4  You, sir, are my hero. Any chance you remember...      0   \n",
              "\n",
              "                                           lemm_text  \n",
              "0  explanation why the edit make under my usernam...  \n",
              "1  d'aww ! he match this background colour I be s...  \n",
              "2  hey man I be really not try to edit war it be ...  \n",
              "3    more I can not make any real suggestion on i...  \n",
              "4  you sir be my hero any chance you remember wha...  "
            ]
          },
          "execution_count": 13,
          "metadata": {},
          "output_type": "execute_result"
        }
      ],
      "source": [
        "data.head()"
      ]
    },
    {
      "cell_type": "markdown",
      "metadata": {
        "id": "3176HnEJ39O_"
      },
      "source": [
        "Теперь разобьем датасет на тренировочную и тестовую выборки, не забудем добавить стратификацию, так как дисбаланс классов хоть и уменьшился, но не исчез совсем."
      ]
    },
    {
      "cell_type": "code",
      "execution_count": null,
      "metadata": {
        "id": "8XjhRJ7O39PA"
      },
      "outputs": [],
      "source": [
        "X = data.drop(['text','toxic'], axis=1)\n",
        "y = data['toxic']\n",
        "X_train, X_test, y_train, y_test = train_test_split(\n",
        "    X,\n",
        "    y,\n",
        "    random_state=RANDOM_STATE, test_size=0.1, stratify=y)"
      ]
    },
    {
      "cell_type": "code",
      "execution_count": null,
      "metadata": {
        "id": "IZlGMCh339PC"
      },
      "outputs": [],
      "source": [
        "X_train = X_train['lemm_text']\n",
        "X_test = X_test['lemm_text']"
      ]
    },
    {
      "cell_type": "markdown",
      "metadata": {
        "id": "Iilc3pEM39PF"
      },
      "source": [
        "***Вывод:*** На этапе подготовки данных мы проанализировали дисбаланс классов целевого признака, обнаружили его, но будем бороться с ним на этапе кросс-валидации. Кроме того, провели обработку текстов: очистили от лишней информации, провели лемматизацию. Затем разбили датасет на тренировочную и тестовую выборки. Можно переходить к обучению моделей."
      ]
    },
    {
      "cell_type": "markdown",
      "metadata": {
        "id": "Q3Vvr5_s39PF"
      },
      "source": [
        "## Обучение"
      ]
    },
    {
      "cell_type": "markdown",
      "metadata": {
        "id": "US2U9zY839PF"
      },
      "source": [
        "### Обучение разных моделей в пайплайне\n",
        "\n",
        "Чтобы сравнить несколько моделей, удобно использовать пайплайн с перебором разных гиперпараметров в GridsearchCV. Целевой признак у нас один - Toxic. Вариантов у него всего 2 - да или нет (1 или 0). А значит нам предстоит задача бинарной классификации. Для бинарной классификации нам подойдут модели логистической регрессии, KNN и LightGBM (для всех, кроме LightGBM, используем перебор разных гиперпараметров). Оценку моделей будем проводить метрикой F1. Так же включим в пайплайн получение признаков с помощью TF-IDF."
      ]
    },
    {
      "cell_type": "code",
      "execution_count": null,
      "metadata": {
        "id": "_1JoTL_s39PG"
      },
      "outputs": [],
      "source": [
        "pipe_final = Pipeline(\n",
        "        [\n",
        "            ('vect', TfidfVectorizer()),\n",
        "            ('models', LogisticRegression(random_state=RANDOM_STATE))\n",
        "        ]\n",
        "    )"
      ]
    },
    {
      "cell_type": "code",
      "execution_count": null,
      "metadata": {
        "id": "_4yPPbpk39PH"
      },
      "outputs": [],
      "source": [
        "param_grid = [\n",
        "\n",
        "    {\n",
        "        'models': [KNeighborsClassifier()],\n",
        "        'models__n_neighbors': range(2, 5),\n",
        "    },\n",
        "\n",
        "    {\n",
        "        'models': [LogisticRegression(random_state=RANDOM_STATE, solver='liblinear')],\n",
        "        'models__penalty': ['l1','l2'],\n",
        "        'models__C': range(5, 15)\n",
        "    },\n",
        "\n",
        "    {\n",
        "        'models': [LGBMClassifier(random_state=RANDOM_STATE, n_estimators=50)]\n",
        "\n",
        "    }\n",
        "]"
      ]
    },
    {
      "cell_type": "markdown",
      "metadata": {
        "id": "0bi99TgE39PJ"
      },
      "source": [
        "Запустим обучение перебором, используя метод GridSearchCV."
      ]
    },
    {
      "cell_type": "code",
      "execution_count": null,
      "metadata": {
        "id": "G9aeR16C39PJ",
        "outputId": "10daf9d4-7426-4fd6-99af-b96cf8c73e90"
      },
      "outputs": [
        {
          "data": {
            "text/html": [
              "<style>#sk-container-id-1 {\n",
              "  /* Definition of color scheme common for light and dark mode */\n",
              "  --sklearn-color-text: black;\n",
              "  --sklearn-color-line: gray;\n",
              "  /* Definition of color scheme for unfitted estimators */\n",
              "  --sklearn-color-unfitted-level-0: #fff5e6;\n",
              "  --sklearn-color-unfitted-level-1: #f6e4d2;\n",
              "  --sklearn-color-unfitted-level-2: #ffe0b3;\n",
              "  --sklearn-color-unfitted-level-3: chocolate;\n",
              "  /* Definition of color scheme for fitted estimators */\n",
              "  --sklearn-color-fitted-level-0: #f0f8ff;\n",
              "  --sklearn-color-fitted-level-1: #d4ebff;\n",
              "  --sklearn-color-fitted-level-2: #b3dbfd;\n",
              "  --sklearn-color-fitted-level-3: cornflowerblue;\n",
              "\n",
              "  /* Specific color for light theme */\n",
              "  --sklearn-color-text-on-default-background: var(--sg-text-color, var(--theme-code-foreground, var(--jp-content-font-color1, black)));\n",
              "  --sklearn-color-background: var(--sg-background-color, var(--theme-background, var(--jp-layout-color0, white)));\n",
              "  --sklearn-color-border-box: var(--sg-text-color, var(--theme-code-foreground, var(--jp-content-font-color1, black)));\n",
              "  --sklearn-color-icon: #696969;\n",
              "\n",
              "  @media (prefers-color-scheme: dark) {\n",
              "    /* Redefinition of color scheme for dark theme */\n",
              "    --sklearn-color-text-on-default-background: var(--sg-text-color, var(--theme-code-foreground, var(--jp-content-font-color1, white)));\n",
              "    --sklearn-color-background: var(--sg-background-color, var(--theme-background, var(--jp-layout-color0, #111)));\n",
              "    --sklearn-color-border-box: var(--sg-text-color, var(--theme-code-foreground, var(--jp-content-font-color1, white)));\n",
              "    --sklearn-color-icon: #878787;\n",
              "  }\n",
              "}\n",
              "\n",
              "#sk-container-id-1 {\n",
              "  color: var(--sklearn-color-text);\n",
              "}\n",
              "\n",
              "#sk-container-id-1 pre {\n",
              "  padding: 0;\n",
              "}\n",
              "\n",
              "#sk-container-id-1 input.sk-hidden--visually {\n",
              "  border: 0;\n",
              "  clip: rect(1px 1px 1px 1px);\n",
              "  clip: rect(1px, 1px, 1px, 1px);\n",
              "  height: 1px;\n",
              "  margin: -1px;\n",
              "  overflow: hidden;\n",
              "  padding: 0;\n",
              "  position: absolute;\n",
              "  width: 1px;\n",
              "}\n",
              "\n",
              "#sk-container-id-1 div.sk-dashed-wrapped {\n",
              "  border: 1px dashed var(--sklearn-color-line);\n",
              "  margin: 0 0.4em 0.5em 0.4em;\n",
              "  box-sizing: border-box;\n",
              "  padding-bottom: 0.4em;\n",
              "  background-color: var(--sklearn-color-background);\n",
              "}\n",
              "\n",
              "#sk-container-id-1 div.sk-container {\n",
              "  /* jupyter's `normalize.less` sets `[hidden] { display: none; }`\n",
              "     but bootstrap.min.css set `[hidden] { display: none !important; }`\n",
              "     so we also need the `!important` here to be able to override the\n",
              "     default hidden behavior on the sphinx rendered scikit-learn.org.\n",
              "     See: https://github.com/scikit-learn/scikit-learn/issues/21755 */\n",
              "  display: inline-block !important;\n",
              "  position: relative;\n",
              "}\n",
              "\n",
              "#sk-container-id-1 div.sk-text-repr-fallback {\n",
              "  display: none;\n",
              "}\n",
              "\n",
              "div.sk-parallel-item,\n",
              "div.sk-serial,\n",
              "div.sk-item {\n",
              "  /* draw centered vertical line to link estimators */\n",
              "  background-image: linear-gradient(var(--sklearn-color-text-on-default-background), var(--sklearn-color-text-on-default-background));\n",
              "  background-size: 2px 100%;\n",
              "  background-repeat: no-repeat;\n",
              "  background-position: center center;\n",
              "}\n",
              "\n",
              "/* Parallel-specific style estimator block */\n",
              "\n",
              "#sk-container-id-1 div.sk-parallel-item::after {\n",
              "  content: \"\";\n",
              "  width: 100%;\n",
              "  border-bottom: 2px solid var(--sklearn-color-text-on-default-background);\n",
              "  flex-grow: 1;\n",
              "}\n",
              "\n",
              "#sk-container-id-1 div.sk-parallel {\n",
              "  display: flex;\n",
              "  align-items: stretch;\n",
              "  justify-content: center;\n",
              "  background-color: var(--sklearn-color-background);\n",
              "  position: relative;\n",
              "}\n",
              "\n",
              "#sk-container-id-1 div.sk-parallel-item {\n",
              "  display: flex;\n",
              "  flex-direction: column;\n",
              "}\n",
              "\n",
              "#sk-container-id-1 div.sk-parallel-item:first-child::after {\n",
              "  align-self: flex-end;\n",
              "  width: 50%;\n",
              "}\n",
              "\n",
              "#sk-container-id-1 div.sk-parallel-item:last-child::after {\n",
              "  align-self: flex-start;\n",
              "  width: 50%;\n",
              "}\n",
              "\n",
              "#sk-container-id-1 div.sk-parallel-item:only-child::after {\n",
              "  width: 0;\n",
              "}\n",
              "\n",
              "/* Serial-specific style estimator block */\n",
              "\n",
              "#sk-container-id-1 div.sk-serial {\n",
              "  display: flex;\n",
              "  flex-direction: column;\n",
              "  align-items: center;\n",
              "  background-color: var(--sklearn-color-background);\n",
              "  padding-right: 1em;\n",
              "  padding-left: 1em;\n",
              "}\n",
              "\n",
              "\n",
              "/* Toggleable style: style used for estimator/Pipeline/ColumnTransformer box that is\n",
              "clickable and can be expanded/collapsed.\n",
              "- Pipeline and ColumnTransformer use this feature and define the default style\n",
              "- Estimators will overwrite some part of the style using the `sk-estimator` class\n",
              "*/\n",
              "\n",
              "/* Pipeline and ColumnTransformer style (default) */\n",
              "\n",
              "#sk-container-id-1 div.sk-toggleable {\n",
              "  /* Default theme specific background. It is overwritten whether we have a\n",
              "  specific estimator or a Pipeline/ColumnTransformer */\n",
              "  background-color: var(--sklearn-color-background);\n",
              "}\n",
              "\n",
              "/* Toggleable label */\n",
              "#sk-container-id-1 label.sk-toggleable__label {\n",
              "  cursor: pointer;\n",
              "  display: block;\n",
              "  width: 100%;\n",
              "  margin-bottom: 0;\n",
              "  padding: 0.5em;\n",
              "  box-sizing: border-box;\n",
              "  text-align: center;\n",
              "}\n",
              "\n",
              "#sk-container-id-1 label.sk-toggleable__label-arrow:before {\n",
              "  /* Arrow on the left of the label */\n",
              "  content: \"▸\";\n",
              "  float: left;\n",
              "  margin-right: 0.25em;\n",
              "  color: var(--sklearn-color-icon);\n",
              "}\n",
              "\n",
              "#sk-container-id-1 label.sk-toggleable__label-arrow:hover:before {\n",
              "  color: var(--sklearn-color-text);\n",
              "}\n",
              "\n",
              "/* Toggleable content - dropdown */\n",
              "\n",
              "#sk-container-id-1 div.sk-toggleable__content {\n",
              "  max-height: 0;\n",
              "  max-width: 0;\n",
              "  overflow: hidden;\n",
              "  text-align: left;\n",
              "  /* unfitted */\n",
              "  background-color: var(--sklearn-color-unfitted-level-0);\n",
              "}\n",
              "\n",
              "#sk-container-id-1 div.sk-toggleable__content.fitted {\n",
              "  /* fitted */\n",
              "  background-color: var(--sklearn-color-fitted-level-0);\n",
              "}\n",
              "\n",
              "#sk-container-id-1 div.sk-toggleable__content pre {\n",
              "  margin: 0.2em;\n",
              "  border-radius: 0.25em;\n",
              "  color: var(--sklearn-color-text);\n",
              "  /* unfitted */\n",
              "  background-color: var(--sklearn-color-unfitted-level-0);\n",
              "}\n",
              "\n",
              "#sk-container-id-1 div.sk-toggleable__content.fitted pre {\n",
              "  /* unfitted */\n",
              "  background-color: var(--sklearn-color-fitted-level-0);\n",
              "}\n",
              "\n",
              "#sk-container-id-1 input.sk-toggleable__control:checked~div.sk-toggleable__content {\n",
              "  /* Expand drop-down */\n",
              "  max-height: 200px;\n",
              "  max-width: 100%;\n",
              "  overflow: auto;\n",
              "}\n",
              "\n",
              "#sk-container-id-1 input.sk-toggleable__control:checked~label.sk-toggleable__label-arrow:before {\n",
              "  content: \"▾\";\n",
              "}\n",
              "\n",
              "/* Pipeline/ColumnTransformer-specific style */\n",
              "\n",
              "#sk-container-id-1 div.sk-label input.sk-toggleable__control:checked~label.sk-toggleable__label {\n",
              "  color: var(--sklearn-color-text);\n",
              "  background-color: var(--sklearn-color-unfitted-level-2);\n",
              "}\n",
              "\n",
              "#sk-container-id-1 div.sk-label.fitted input.sk-toggleable__control:checked~label.sk-toggleable__label {\n",
              "  background-color: var(--sklearn-color-fitted-level-2);\n",
              "}\n",
              "\n",
              "/* Estimator-specific style */\n",
              "\n",
              "/* Colorize estimator box */\n",
              "#sk-container-id-1 div.sk-estimator input.sk-toggleable__control:checked~label.sk-toggleable__label {\n",
              "  /* unfitted */\n",
              "  background-color: var(--sklearn-color-unfitted-level-2);\n",
              "}\n",
              "\n",
              "#sk-container-id-1 div.sk-estimator.fitted input.sk-toggleable__control:checked~label.sk-toggleable__label {\n",
              "  /* fitted */\n",
              "  background-color: var(--sklearn-color-fitted-level-2);\n",
              "}\n",
              "\n",
              "#sk-container-id-1 div.sk-label label.sk-toggleable__label,\n",
              "#sk-container-id-1 div.sk-label label {\n",
              "  /* The background is the default theme color */\n",
              "  color: var(--sklearn-color-text-on-default-background);\n",
              "}\n",
              "\n",
              "/* On hover, darken the color of the background */\n",
              "#sk-container-id-1 div.sk-label:hover label.sk-toggleable__label {\n",
              "  color: var(--sklearn-color-text);\n",
              "  background-color: var(--sklearn-color-unfitted-level-2);\n",
              "}\n",
              "\n",
              "/* Label box, darken color on hover, fitted */\n",
              "#sk-container-id-1 div.sk-label.fitted:hover label.sk-toggleable__label.fitted {\n",
              "  color: var(--sklearn-color-text);\n",
              "  background-color: var(--sklearn-color-fitted-level-2);\n",
              "}\n",
              "\n",
              "/* Estimator label */\n",
              "\n",
              "#sk-container-id-1 div.sk-label label {\n",
              "  font-family: monospace;\n",
              "  font-weight: bold;\n",
              "  display: inline-block;\n",
              "  line-height: 1.2em;\n",
              "}\n",
              "\n",
              "#sk-container-id-1 div.sk-label-container {\n",
              "  text-align: center;\n",
              "}\n",
              "\n",
              "/* Estimator-specific */\n",
              "#sk-container-id-1 div.sk-estimator {\n",
              "  font-family: monospace;\n",
              "  border: 1px dotted var(--sklearn-color-border-box);\n",
              "  border-radius: 0.25em;\n",
              "  box-sizing: border-box;\n",
              "  margin-bottom: 0.5em;\n",
              "  /* unfitted */\n",
              "  background-color: var(--sklearn-color-unfitted-level-0);\n",
              "}\n",
              "\n",
              "#sk-container-id-1 div.sk-estimator.fitted {\n",
              "  /* fitted */\n",
              "  background-color: var(--sklearn-color-fitted-level-0);\n",
              "}\n",
              "\n",
              "/* on hover */\n",
              "#sk-container-id-1 div.sk-estimator:hover {\n",
              "  /* unfitted */\n",
              "  background-color: var(--sklearn-color-unfitted-level-2);\n",
              "}\n",
              "\n",
              "#sk-container-id-1 div.sk-estimator.fitted:hover {\n",
              "  /* fitted */\n",
              "  background-color: var(--sklearn-color-fitted-level-2);\n",
              "}\n",
              "\n",
              "/* Specification for estimator info (e.g. \"i\" and \"?\") */\n",
              "\n",
              "/* Common style for \"i\" and \"?\" */\n",
              "\n",
              ".sk-estimator-doc-link,\n",
              "a:link.sk-estimator-doc-link,\n",
              "a:visited.sk-estimator-doc-link {\n",
              "  float: right;\n",
              "  font-size: smaller;\n",
              "  line-height: 1em;\n",
              "  font-family: monospace;\n",
              "  background-color: var(--sklearn-color-background);\n",
              "  border-radius: 1em;\n",
              "  height: 1em;\n",
              "  width: 1em;\n",
              "  text-decoration: none !important;\n",
              "  margin-left: 1ex;\n",
              "  /* unfitted */\n",
              "  border: var(--sklearn-color-unfitted-level-1) 1pt solid;\n",
              "  color: var(--sklearn-color-unfitted-level-1);\n",
              "}\n",
              "\n",
              ".sk-estimator-doc-link.fitted,\n",
              "a:link.sk-estimator-doc-link.fitted,\n",
              "a:visited.sk-estimator-doc-link.fitted {\n",
              "  /* fitted */\n",
              "  border: var(--sklearn-color-fitted-level-1) 1pt solid;\n",
              "  color: var(--sklearn-color-fitted-level-1);\n",
              "}\n",
              "\n",
              "/* On hover */\n",
              "div.sk-estimator:hover .sk-estimator-doc-link:hover,\n",
              ".sk-estimator-doc-link:hover,\n",
              "div.sk-label-container:hover .sk-estimator-doc-link:hover,\n",
              ".sk-estimator-doc-link:hover {\n",
              "  /* unfitted */\n",
              "  background-color: var(--sklearn-color-unfitted-level-3);\n",
              "  color: var(--sklearn-color-background);\n",
              "  text-decoration: none;\n",
              "}\n",
              "\n",
              "div.sk-estimator.fitted:hover .sk-estimator-doc-link.fitted:hover,\n",
              ".sk-estimator-doc-link.fitted:hover,\n",
              "div.sk-label-container:hover .sk-estimator-doc-link.fitted:hover,\n",
              ".sk-estimator-doc-link.fitted:hover {\n",
              "  /* fitted */\n",
              "  background-color: var(--sklearn-color-fitted-level-3);\n",
              "  color: var(--sklearn-color-background);\n",
              "  text-decoration: none;\n",
              "}\n",
              "\n",
              "/* Span, style for the box shown on hovering the info icon */\n",
              ".sk-estimator-doc-link span {\n",
              "  display: none;\n",
              "  z-index: 9999;\n",
              "  position: relative;\n",
              "  font-weight: normal;\n",
              "  right: .2ex;\n",
              "  padding: .5ex;\n",
              "  margin: .5ex;\n",
              "  width: min-content;\n",
              "  min-width: 20ex;\n",
              "  max-width: 50ex;\n",
              "  color: var(--sklearn-color-text);\n",
              "  box-shadow: 2pt 2pt 4pt #999;\n",
              "  /* unfitted */\n",
              "  background: var(--sklearn-color-unfitted-level-0);\n",
              "  border: .5pt solid var(--sklearn-color-unfitted-level-3);\n",
              "}\n",
              "\n",
              ".sk-estimator-doc-link.fitted span {\n",
              "  /* fitted */\n",
              "  background: var(--sklearn-color-fitted-level-0);\n",
              "  border: var(--sklearn-color-fitted-level-3);\n",
              "}\n",
              "\n",
              ".sk-estimator-doc-link:hover span {\n",
              "  display: block;\n",
              "}\n",
              "\n",
              "/* \"?\"-specific style due to the `<a>` HTML tag */\n",
              "\n",
              "#sk-container-id-1 a.estimator_doc_link {\n",
              "  float: right;\n",
              "  font-size: 1rem;\n",
              "  line-height: 1em;\n",
              "  font-family: monospace;\n",
              "  background-color: var(--sklearn-color-background);\n",
              "  border-radius: 1rem;\n",
              "  height: 1rem;\n",
              "  width: 1rem;\n",
              "  text-decoration: none;\n",
              "  /* unfitted */\n",
              "  color: var(--sklearn-color-unfitted-level-1);\n",
              "  border: var(--sklearn-color-unfitted-level-1) 1pt solid;\n",
              "}\n",
              "\n",
              "#sk-container-id-1 a.estimator_doc_link.fitted {\n",
              "  /* fitted */\n",
              "  border: var(--sklearn-color-fitted-level-1) 1pt solid;\n",
              "  color: var(--sklearn-color-fitted-level-1);\n",
              "}\n",
              "\n",
              "/* On hover */\n",
              "#sk-container-id-1 a.estimator_doc_link:hover {\n",
              "  /* unfitted */\n",
              "  background-color: var(--sklearn-color-unfitted-level-3);\n",
              "  color: var(--sklearn-color-background);\n",
              "  text-decoration: none;\n",
              "}\n",
              "\n",
              "#sk-container-id-1 a.estimator_doc_link.fitted:hover {\n",
              "  /* fitted */\n",
              "  background-color: var(--sklearn-color-fitted-level-3);\n",
              "}\n",
              "</style><div id=\"sk-container-id-1\" class=\"sk-top-container\"><div class=\"sk-text-repr-fallback\"><pre>GridSearchCV(cv=3,\n",
              "             estimator=Pipeline(steps=[(&#x27;vect&#x27;, TfidfVectorizer()),\n",
              "                                       (&#x27;models&#x27;,\n",
              "                                        LogisticRegression(random_state=12345))]),\n",
              "             n_jobs=1,\n",
              "             param_grid=[{&#x27;models&#x27;: [KNeighborsClassifier()],\n",
              "                          &#x27;models__n_neighbors&#x27;: range(2, 5)},\n",
              "                         {&#x27;models&#x27;: [LogisticRegression(random_state=12345,\n",
              "                                                        solver=&#x27;liblinear&#x27;)],\n",
              "                          &#x27;models__C&#x27;: range(5, 15),\n",
              "                          &#x27;models__penalty&#x27;: [&#x27;l1&#x27;, &#x27;l2&#x27;]},\n",
              "                         {&#x27;models&#x27;: [LGBMClassifier(n_estimators=50,\n",
              "                                                    random_state=12345)]}],\n",
              "             scoring=&#x27;f1&#x27;)</pre><b>In a Jupyter environment, please rerun this cell to show the HTML representation or trust the notebook. <br />On GitHub, the HTML representation is unable to render, please try loading this page with nbviewer.org.</b></div><div class=\"sk-container\" hidden><div class=\"sk-item sk-dashed-wrapped\"><div class=\"sk-label-container\"><div class=\"sk-label fitted sk-toggleable\"><input class=\"sk-toggleable__control sk-hidden--visually\" id=\"sk-estimator-id-1\" type=\"checkbox\" ><label for=\"sk-estimator-id-1\" class=\"sk-toggleable__label fitted sk-toggleable__label-arrow fitted\">&nbsp;&nbsp;GridSearchCV<a class=\"sk-estimator-doc-link fitted\" rel=\"noreferrer\" target=\"_blank\" href=\"https://scikit-learn.org/1.4/modules/generated/sklearn.model_selection.GridSearchCV.html\">?<span>Documentation for GridSearchCV</span></a><span class=\"sk-estimator-doc-link fitted\">i<span>Fitted</span></span></label><div class=\"sk-toggleable__content fitted\"><pre>GridSearchCV(cv=3,\n",
              "             estimator=Pipeline(steps=[(&#x27;vect&#x27;, TfidfVectorizer()),\n",
              "                                       (&#x27;models&#x27;,\n",
              "                                        LogisticRegression(random_state=12345))]),\n",
              "             n_jobs=1,\n",
              "             param_grid=[{&#x27;models&#x27;: [KNeighborsClassifier()],\n",
              "                          &#x27;models__n_neighbors&#x27;: range(2, 5)},\n",
              "                         {&#x27;models&#x27;: [LogisticRegression(random_state=12345,\n",
              "                                                        solver=&#x27;liblinear&#x27;)],\n",
              "                          &#x27;models__C&#x27;: range(5, 15),\n",
              "                          &#x27;models__penalty&#x27;: [&#x27;l1&#x27;, &#x27;l2&#x27;]},\n",
              "                         {&#x27;models&#x27;: [LGBMClassifier(n_estimators=50,\n",
              "                                                    random_state=12345)]}],\n",
              "             scoring=&#x27;f1&#x27;)</pre></div> </div></div><div class=\"sk-parallel\"><div class=\"sk-parallel-item\"><div class=\"sk-item\"><div class=\"sk-label-container\"><div class=\"sk-label fitted sk-toggleable\"><input class=\"sk-toggleable__control sk-hidden--visually\" id=\"sk-estimator-id-2\" type=\"checkbox\" ><label for=\"sk-estimator-id-2\" class=\"sk-toggleable__label fitted sk-toggleable__label-arrow fitted\">estimator: Pipeline</label><div class=\"sk-toggleable__content fitted\"><pre>Pipeline(steps=[(&#x27;vect&#x27;, TfidfVectorizer()),\n",
              "                (&#x27;models&#x27;, LogisticRegression(random_state=12345))])</pre></div> </div></div><div class=\"sk-serial\"><div class=\"sk-item\"><div class=\"sk-serial\"><div class=\"sk-item\"><div class=\"sk-estimator fitted sk-toggleable\"><input class=\"sk-toggleable__control sk-hidden--visually\" id=\"sk-estimator-id-3\" type=\"checkbox\" ><label for=\"sk-estimator-id-3\" class=\"sk-toggleable__label fitted sk-toggleable__label-arrow fitted\">&nbsp;TfidfVectorizer<a class=\"sk-estimator-doc-link fitted\" rel=\"noreferrer\" target=\"_blank\" href=\"https://scikit-learn.org/1.4/modules/generated/sklearn.feature_extraction.text.TfidfVectorizer.html\">?<span>Documentation for TfidfVectorizer</span></a></label><div class=\"sk-toggleable__content fitted\"><pre>TfidfVectorizer()</pre></div> </div></div><div class=\"sk-item\"><div class=\"sk-estimator fitted sk-toggleable\"><input class=\"sk-toggleable__control sk-hidden--visually\" id=\"sk-estimator-id-4\" type=\"checkbox\" ><label for=\"sk-estimator-id-4\" class=\"sk-toggleable__label fitted sk-toggleable__label-arrow fitted\">&nbsp;LogisticRegression<a class=\"sk-estimator-doc-link fitted\" rel=\"noreferrer\" target=\"_blank\" href=\"https://scikit-learn.org/1.4/modules/generated/sklearn.linear_model.LogisticRegression.html\">?<span>Documentation for LogisticRegression</span></a></label><div class=\"sk-toggleable__content fitted\"><pre>LogisticRegression(random_state=12345)</pre></div> </div></div></div></div></div></div></div></div></div></div></div>"
            ],
            "text/plain": [
              "GridSearchCV(cv=3,\n",
              "             estimator=Pipeline(steps=[('vect', TfidfVectorizer()),\n",
              "                                       ('models',\n",
              "                                        LogisticRegression(random_state=12345))]),\n",
              "             n_jobs=1,\n",
              "             param_grid=[{'models': [KNeighborsClassifier()],\n",
              "                          'models__n_neighbors': range(2, 5)},\n",
              "                         {'models': [LogisticRegression(random_state=12345,\n",
              "                                                        solver='liblinear')],\n",
              "                          'models__C': range(5, 15),\n",
              "                          'models__penalty': ['l1', 'l2']},\n",
              "                         {'models': [LGBMClassifier(n_estimators=50,\n",
              "                                                    random_state=12345)]}],\n",
              "             scoring='f1')"
            ]
          },
          "execution_count": 22,
          "metadata": {},
          "output_type": "execute_result"
        }
      ],
      "source": [
        "grid = GridSearchCV(\n",
        "    pipe_final,\n",
        "    param_grid=param_grid,\n",
        "    cv=3,\n",
        "    scoring='f1',\n",
        "    n_jobs=1\n",
        ")\n",
        "grid.fit(X_train, y_train)"
      ]
    },
    {
      "cell_type": "markdown",
      "metadata": {
        "id": "O5xBZakK39PJ"
      },
      "source": [
        "Теперь выберем лучшую модель и посмотрим ее метрику."
      ]
    },
    {
      "cell_type": "code",
      "execution_count": null,
      "metadata": {
        "id": "PmxbGSa139PK",
        "outputId": "353ded6b-c561-4fac-84bc-cd00ca548950"
      },
      "outputs": [
        {
          "name": "stdout",
          "output_type": "stream",
          "text": [
            "Лучшая модель и её параметры:\n",
            "\n",
            " Pipeline(steps=[('vect', TfidfVectorizer()),\n",
            "                ('models',\n",
            "                 LogisticRegression(C=5, penalty='l1', random_state=12345,\n",
            "                                    solver='liblinear'))])\n",
            "Метрика F1 лучшей модели на кросс-валидации: 0.7892618469027409\n"
          ]
        }
      ],
      "source": [
        "print('Лучшая модель и её параметры:\\n\\n', grid.best_estimator_)\n",
        "print ('Метрика F1 лучшей модели на кросс-валидации:', grid.best_score_)"
      ]
    },
    {
      "cell_type": "markdown",
      "metadata": {
        "id": "WOwhg_Ea39PL"
      },
      "source": [
        "Лучшей моделью получилась логистическая регрессия со сложностью модели 5.\n",
        "\n",
        "### Анализ моделей\n",
        "\n",
        "Для анализа моделей выведем таблицу с лучшими результатами моделей. Для этого сгруппируем результаты по названию модели и максимальному значению F1. Оставим в таблице только гиперпараметры лучших экземпляров моделей, а также время обучения и время предсказания."
      ]
    },
    {
      "cell_type": "code",
      "execution_count": null,
      "metadata": {
        "id": "ODQcXSsJ39PL",
        "outputId": "d88928f2-736a-4262-dae7-9d9e55b1903d"
      },
      "outputs": [
        {
          "data": {
            "text/html": [
              "<div>\n",
              "<style scoped>\n",
              "    .dataframe tbody tr th:only-of-type {\n",
              "        vertical-align: middle;\n",
              "    }\n",
              "\n",
              "    .dataframe tbody tr th {\n",
              "        vertical-align: top;\n",
              "    }\n",
              "\n",
              "    .dataframe thead th {\n",
              "        text-align: right;\n",
              "    }\n",
              "</style>\n",
              "<table border=\"1\" class=\"dataframe\">\n",
              "  <thead>\n",
              "    <tr style=\"text-align: right;\">\n",
              "      <th></th>\n",
              "      <th>max_f1</th>\n",
              "      <th>mean_fit_time</th>\n",
              "      <th>mean_score_time</th>\n",
              "      <th>param_models</th>\n",
              "      <th>param_models__n_neighbors</th>\n",
              "      <th>param_models__C</th>\n",
              "      <th>param_models__penalty</th>\n",
              "    </tr>\n",
              "  </thead>\n",
              "  <tbody>\n",
              "    <tr>\n",
              "      <th>0</th>\n",
              "      <td>0.204299</td>\n",
              "      <td>4.908387</td>\n",
              "      <td>295.683855</td>\n",
              "      <td>KNeighborsClassifier()</td>\n",
              "      <td>4</td>\n",
              "      <td>NaN</td>\n",
              "      <td>NaN</td>\n",
              "    </tr>\n",
              "    <tr>\n",
              "      <th>1</th>\n",
              "      <td>0.776747</td>\n",
              "      <td>21.500737</td>\n",
              "      <td>2.428766</td>\n",
              "      <td>LogisticRegression(random_state=12345, solver=...</td>\n",
              "      <td>NaN</td>\n",
              "      <td>5</td>\n",
              "      <td>l2</td>\n",
              "    </tr>\n",
              "    <tr>\n",
              "      <th>2</th>\n",
              "      <td>0.718103</td>\n",
              "      <td>78.234354</td>\n",
              "      <td>4.328923</td>\n",
              "      <td>LGBMClassifier(n_estimators=50, random_state=1...</td>\n",
              "      <td>NaN</td>\n",
              "      <td>NaN</td>\n",
              "      <td>NaN</td>\n",
              "    </tr>\n",
              "  </tbody>\n",
              "</table>\n",
              "</div>"
            ],
            "text/plain": [
              "     max_f1  mean_fit_time  mean_score_time  \\\n",
              "0  0.204299       4.908387       295.683855   \n",
              "1  0.776747      21.500737         2.428766   \n",
              "2  0.718103      78.234354         4.328923   \n",
              "\n",
              "                                        param_models  \\\n",
              "0                             KNeighborsClassifier()   \n",
              "1  LogisticRegression(random_state=12345, solver=...   \n",
              "2  LGBMClassifier(n_estimators=50, random_state=1...   \n",
              "\n",
              "  param_models__n_neighbors param_models__C param_models__penalty  \n",
              "0                         4             NaN                   NaN  \n",
              "1                       NaN               5                    l2  \n",
              "2                       NaN             NaN                   NaN  "
            ]
          },
          "execution_count": 26,
          "metadata": {},
          "output_type": "execute_result"
        }
      ],
      "source": [
        "res = pd.DataFrame(grid.cv_results_)\n",
        "res.mean_test_score = res.mean_test_score\n",
        "res['param_models'] = res['param_models'].astype('category')\n",
        "t=res.pivot_table(index='param_models', values='mean_test_score', aggfunc='min')\n",
        "t.columns = ['max_f1']\n",
        "res1=t.merge(res, left_on='max_f1', right_on='mean_test_score', how='left')\n",
        "res1.drop(['std_fit_time', 'std_score_time', 'params',\n",
        "       'split0_test_score', 'split1_test_score', 'split2_test_score',\n",
        "       'mean_test_score', 'std_test_score', 'rank_test_score'], axis=1)"
      ]
    },
    {
      "cell_type": "markdown",
      "metadata": {
        "id": "Q9rABttE39PM"
      },
      "source": [
        "Видно, что на обучающей выборке модель логистической регрессии ненамного лучше, чем LightGBM, но по времени обучения значительно быстрее.\n",
        "\n",
        "### Тестирование\n",
        "\n",
        "Посмотрим, какой результат покажет лучшая модель на тестовой выборке."
      ]
    },
    {
      "cell_type": "code",
      "execution_count": null,
      "metadata": {
        "id": "blSef2RF39PN",
        "outputId": "6f5ebf28-d1ff-43b9-962e-0fb953a11563"
      },
      "outputs": [
        {
          "name": "stdout",
          "output_type": "stream",
          "text": [
            "F1 тестовой выборки: 0.8034471329134902\n"
          ]
        }
      ],
      "source": [
        "pred = grid.best_estimator_.predict(X_test)\n",
        "print(\"F1 тестовой выборки:\", f1_score(y_test, pred))"
      ]
    },
    {
      "cell_type": "markdown",
      "metadata": {
        "id": "0m2tllR339PP"
      },
      "source": [
        "Значение метрики F1 получилось 0.8, что укладывается в критерии заказчика, так что будем рекомендовать заказчику именно эту модель."
      ]
    },
    {
      "cell_type": "markdown",
      "metadata": {
        "id": "y5eWuefO39PQ"
      },
      "source": [
        "***Вывод*** Мы провели обучение трех моделей с разными гиперпараметрами. После кросс-валидации лучшей моделью логистическая регрессия со сложностью модели 5. Мы проанализировали все модели, выяснили, что кроме того, что у логистической регрессии лучшая метрика, она еще и потратила меньше всего времени на обучение. На тестовой выборке значение метрики F1 у лучшей модели получилось 0.8, что укладывается в критерии заказчика."
      ]
    },
    {
      "cell_type": "markdown",
      "metadata": {
        "id": "7dx7M4zp39PQ"
      },
      "source": [
        "## Выводы"
      ]
    },
    {
      "cell_type": "markdown",
      "metadata": {
        "id": "VRV7CIhh39PR"
      },
      "source": [
        "Мы провели работу по обучению модели, которая классифицируют комментарии на позитивные и негативные. На пути к выполнению этой задачи мы провели следующую работу:\n",
        "1. Загрузили датасет, общая информация показала, что в нем 152292 текста, дубликатов и пропусков нет. Комментарии на английском языке.\n",
        "2. На этапе подготовки данных мы проанализировали дисбаланс классов целевого признака. Кроме того, провели обработку текстов: очистили от лишней информации, провели лемматизацию. Затем разбили датасет на тренировочную и тестовую выборки.\n",
        "3. Провели обучение трех моделей с разными гиперпараметрами, предварительно получив признаки с помощью TF-IDF . После кросс-валидации лучшей моделью логистическая регрессия со сложностью модели 5. Проанализировали все модели, выяснили, что кроме того, что у логистической регрессии лучшая метрика, она еще и потратила меньше всего времени на обучение. На тестовой выборке значение метрики F1 у лучшей модели получилось 0.8, что укладывается в критерии заказчика.\n",
        "\n",
        "Таким образом, для выявления токсичных комментариев мы можем рекомендовать заказчику модель логистической регрессии."
      ]
    }
  ],
  "metadata": {
    "ExecuteTimeLog": [
      {
        "duration": 1478,
        "start_time": "2024-03-27T15:57:02.994Z"
      },
      {
        "duration": 5,
        "start_time": "2024-03-27T15:58:31.175Z"
      },
      {
        "duration": 2495,
        "start_time": "2024-03-27T15:59:33.238Z"
      },
      {
        "duration": 19,
        "start_time": "2024-03-27T16:00:37.844Z"
      },
      {
        "duration": 295,
        "start_time": "2024-03-27T17:23:24.461Z"
      },
      {
        "duration": 4,
        "start_time": "2024-03-27T17:27:05.367Z"
      },
      {
        "duration": 7,
        "start_time": "2024-03-27T17:33:49.525Z"
      },
      {
        "duration": 166,
        "start_time": "2024-03-27T17:36:26.515Z"
      },
      {
        "duration": 606979,
        "start_time": "2024-03-27T17:39:45.509Z"
      },
      {
        "duration": 122,
        "start_time": "2024-03-27T17:50:22.627Z"
      },
      {
        "duration": 7,
        "start_time": "2024-03-27T17:51:34.906Z"
      },
      {
        "duration": 20,
        "start_time": "2024-03-27T17:52:21.760Z"
      },
      {
        "duration": 60,
        "start_time": "2024-03-27T17:53:06.734Z"
      },
      {
        "duration": 5114,
        "start_time": "2024-03-27T17:53:13.313Z"
      },
      {
        "duration": 29247,
        "start_time": "2024-03-27T17:57:30.966Z"
      },
      {
        "duration": 3,
        "start_time": "2024-03-27T17:58:38.629Z"
      },
      {
        "duration": 2398,
        "start_time": "2024-03-27T18:02:34.939Z"
      },
      {
        "duration": 2508,
        "start_time": "2024-03-27T18:03:41.108Z"
      },
      {
        "duration": 2252,
        "start_time": "2024-03-27T18:04:08.546Z"
      },
      {
        "duration": 13,
        "start_time": "2024-03-27T18:06:45.798Z"
      },
      {
        "duration": 2227,
        "start_time": "2024-03-27T18:07:50.862Z"
      },
      {
        "duration": 13,
        "start_time": "2024-03-27T18:07:57.485Z"
      },
      {
        "duration": 17,
        "start_time": "2024-03-27T18:08:12.756Z"
      },
      {
        "duration": 4,
        "start_time": "2024-03-27T18:28:57.432Z"
      },
      {
        "duration": 4,
        "start_time": "2024-03-27T18:32:15.074Z"
      },
      {
        "duration": 1364,
        "start_time": "2024-03-27T18:34:06.656Z"
      },
      {
        "duration": 110506,
        "start_time": "2024-03-27T18:34:26.466Z"
      },
      {
        "duration": 14,
        "start_time": "2024-03-27T18:40:09.509Z"
      },
      {
        "duration": 71,
        "start_time": "2024-03-27T18:42:24.273Z"
      },
      {
        "duration": 739,
        "start_time": "2024-03-27T18:42:52.288Z"
      },
      {
        "duration": 44,
        "start_time": "2024-03-27T18:44:37.622Z"
      },
      {
        "duration": 52,
        "start_time": "2024-03-27T18:54:16.630Z"
      },
      {
        "duration": 108994,
        "start_time": "2024-03-27T18:54:28.741Z"
      },
      {
        "duration": 8,
        "start_time": "2024-03-27T19:01:09.420Z"
      },
      {
        "duration": 68,
        "start_time": "2024-03-27T19:01:43.592Z"
      },
      {
        "duration": 46,
        "start_time": "2024-03-27T19:02:03.368Z"
      },
      {
        "duration": 1407,
        "start_time": "2024-03-27T19:02:19.856Z"
      },
      {
        "duration": 3,
        "start_time": "2024-03-27T19:02:21.265Z"
      },
      {
        "duration": 9,
        "start_time": "2024-03-27T19:02:21.270Z"
      },
      {
        "duration": 2425,
        "start_time": "2024-03-27T19:02:21.280Z"
      },
      {
        "duration": 13,
        "start_time": "2024-03-27T19:02:23.706Z"
      },
      {
        "duration": 294,
        "start_time": "2024-03-27T19:02:23.720Z"
      },
      {
        "duration": 109388,
        "start_time": "2024-03-27T19:02:24.016Z"
      },
      {
        "duration": 8,
        "start_time": "2024-03-27T19:04:13.405Z"
      },
      {
        "duration": 73,
        "start_time": "2024-03-27T19:04:13.414Z"
      },
      {
        "duration": 56,
        "start_time": "2024-03-27T19:05:25.895Z"
      },
      {
        "duration": 7,
        "start_time": "2024-03-27T19:05:31.537Z"
      },
      {
        "duration": 1376,
        "start_time": "2024-03-27T19:05:39.248Z"
      },
      {
        "duration": 3,
        "start_time": "2024-03-27T19:05:40.625Z"
      },
      {
        "duration": 7,
        "start_time": "2024-03-27T19:05:40.629Z"
      },
      {
        "duration": 2290,
        "start_time": "2024-03-27T19:05:40.638Z"
      },
      {
        "duration": 13,
        "start_time": "2024-03-27T19:05:42.929Z"
      },
      {
        "duration": 304,
        "start_time": "2024-03-27T19:05:42.943Z"
      },
      {
        "duration": 109976,
        "start_time": "2024-03-27T19:05:43.249Z"
      },
      {
        "duration": 7,
        "start_time": "2024-03-27T19:07:33.226Z"
      },
      {
        "duration": 76,
        "start_time": "2024-03-27T19:07:33.235Z"
      },
      {
        "duration": 3,
        "start_time": "2024-03-27T19:07:33.313Z"
      },
      {
        "duration": 5161,
        "start_time": "2024-03-27T19:07:39.748Z"
      },
      {
        "duration": 4,
        "start_time": "2024-03-27T19:08:49.865Z"
      },
      {
        "duration": 3,
        "start_time": "2024-03-27T19:13:48.520Z"
      },
      {
        "duration": 4,
        "start_time": "2024-03-27T19:13:55.372Z"
      },
      {
        "duration": 1375462,
        "start_time": "2024-03-27T19:16:16.712Z"
      },
      {
        "duration": 6,
        "start_time": "2024-03-27T19:40:33.028Z"
      },
      {
        "duration": 7,
        "start_time": "2024-03-27T19:40:45.205Z"
      },
      {
        "duration": 32,
        "start_time": "2024-03-27T19:41:18.956Z"
      },
      {
        "duration": 125,
        "start_time": "2024-03-27T19:43:32.350Z"
      },
      {
        "duration": 18,
        "start_time": "2024-03-27T19:43:42.373Z"
      },
      {
        "duration": 5,
        "start_time": "2024-03-28T06:32:14.542Z"
      },
      {
        "duration": 3,
        "start_time": "2024-03-28T06:32:26.872Z"
      },
      {
        "duration": 3,
        "start_time": "2024-03-28T06:32:27.662Z"
      },
      {
        "duration": 14633348,
        "start_time": "2024-03-28T06:32:38.768Z"
      },
      {
        "duration": 6,
        "start_time": "2024-03-28T10:36:48.361Z"
      },
      {
        "duration": 27,
        "start_time": "2024-03-28T10:36:55.017Z"
      },
      {
        "duration": 19,
        "start_time": "2024-03-28T11:58:57.874Z"
      },
      {
        "duration": 244,
        "start_time": "2024-03-28T17:18:16.835Z"
      },
      {
        "duration": 9,
        "start_time": "2024-03-28T17:18:26.754Z"
      },
      {
        "duration": 8,
        "start_time": "2024-03-28T17:24:01.576Z"
      },
      {
        "duration": 53,
        "start_time": "2024-03-28T17:36:24.369Z"
      },
      {
        "duration": 6,
        "start_time": "2024-03-28T17:36:49.447Z"
      },
      {
        "duration": 51,
        "start_time": "2024-03-28T17:37:02.914Z"
      },
      {
        "duration": 3,
        "start_time": "2024-03-28T17:41:29.518Z"
      },
      {
        "duration": 4,
        "start_time": "2024-03-28T17:41:37.654Z"
      },
      {
        "duration": 4,
        "start_time": "2024-03-28T17:41:49.215Z"
      },
      {
        "duration": 4,
        "start_time": "2024-03-28T17:41:52.173Z"
      },
      {
        "duration": 41,
        "start_time": "2024-03-28T18:06:28.785Z"
      },
      {
        "duration": 24,
        "start_time": "2024-03-28T18:06:37.216Z"
      },
      {
        "duration": 1517,
        "start_time": "2024-03-28T18:14:37.810Z"
      },
      {
        "duration": 4,
        "start_time": "2024-03-28T18:14:39.329Z"
      },
      {
        "duration": 6,
        "start_time": "2024-03-28T18:14:39.335Z"
      },
      {
        "duration": 2675,
        "start_time": "2024-03-28T18:14:39.343Z"
      },
      {
        "duration": 14,
        "start_time": "2024-03-28T18:14:42.021Z"
      },
      {
        "duration": 321,
        "start_time": "2024-03-28T18:14:42.037Z"
      },
      {
        "duration": 6,
        "start_time": "2024-03-28T18:14:42.360Z"
      },
      {
        "duration": 67,
        "start_time": "2024-03-28T18:14:42.368Z"
      },
      {
        "duration": 49610,
        "start_time": "2024-03-28T18:14:42.436Z"
      },
      {
        "duration": 51,
        "start_time": "2024-03-28T18:15:32.047Z"
      },
      {
        "duration": 6,
        "start_time": "2024-03-28T18:15:32.104Z"
      },
      {
        "duration": 2173,
        "start_time": "2024-03-28T18:15:32.111Z"
      },
      {
        "duration": 11,
        "start_time": "2024-03-28T18:15:34.294Z"
      },
      {
        "duration": 3,
        "start_time": "2024-03-28T18:15:34.313Z"
      },
      {
        "duration": 6,
        "start_time": "2024-03-28T18:15:34.318Z"
      },
      {
        "duration": 131,
        "start_time": "2024-03-28T18:15:34.327Z"
      },
      {
        "duration": 0,
        "start_time": "2024-03-28T18:15:34.459Z"
      },
      {
        "duration": 0,
        "start_time": "2024-03-28T18:15:34.460Z"
      },
      {
        "duration": 0,
        "start_time": "2024-03-28T18:15:34.461Z"
      },
      {
        "duration": 0,
        "start_time": "2024-03-28T18:15:34.462Z"
      },
      {
        "duration": 16,
        "start_time": "2024-03-28T18:16:27.555Z"
      },
      {
        "duration": 5,
        "start_time": "2024-03-28T18:17:30.633Z"
      },
      {
        "duration": 7,
        "start_time": "2024-03-28T18:17:39.388Z"
      },
      {
        "duration": 1983517,
        "start_time": "2024-03-28T18:17:42.909Z"
      },
      {
        "duration": 12,
        "start_time": "2024-03-28T18:51:04.489Z"
      },
      {
        "duration": 30,
        "start_time": "2024-03-28T18:51:10.358Z"
      },
      {
        "duration": 22,
        "start_time": "2024-03-28T18:51:58.688Z"
      },
      {
        "duration": 1543,
        "start_time": "2024-03-28T18:56:22.013Z"
      },
      {
        "duration": 3,
        "start_time": "2024-03-28T18:56:23.558Z"
      },
      {
        "duration": 8,
        "start_time": "2024-03-28T18:56:23.563Z"
      },
      {
        "duration": 2566,
        "start_time": "2024-03-28T18:56:23.573Z"
      },
      {
        "duration": 13,
        "start_time": "2024-03-28T18:56:26.140Z"
      },
      {
        "duration": 310,
        "start_time": "2024-03-28T18:56:26.154Z"
      },
      {
        "duration": 22,
        "start_time": "2024-03-28T18:56:26.465Z"
      },
      {
        "duration": 55,
        "start_time": "2024-03-28T18:56:26.489Z"
      },
      {
        "duration": 52888,
        "start_time": "2024-03-28T18:56:26.545Z"
      },
      {
        "duration": 0,
        "start_time": "2024-03-28T18:57:19.435Z"
      },
      {
        "duration": 0,
        "start_time": "2024-03-28T18:57:19.436Z"
      },
      {
        "duration": 0,
        "start_time": "2024-03-28T18:57:19.437Z"
      },
      {
        "duration": 0,
        "start_time": "2024-03-28T18:57:19.439Z"
      },
      {
        "duration": 0,
        "start_time": "2024-03-28T18:57:19.440Z"
      },
      {
        "duration": 0,
        "start_time": "2024-03-28T18:57:19.441Z"
      },
      {
        "duration": 0,
        "start_time": "2024-03-28T18:57:19.442Z"
      },
      {
        "duration": 0,
        "start_time": "2024-03-28T18:57:19.443Z"
      },
      {
        "duration": 0,
        "start_time": "2024-03-28T18:57:19.445Z"
      },
      {
        "duration": 0,
        "start_time": "2024-03-28T18:57:19.446Z"
      },
      {
        "duration": 0,
        "start_time": "2024-03-28T18:57:19.447Z"
      },
      {
        "duration": 50561,
        "start_time": "2024-03-28T18:58:22.109Z"
      },
      {
        "duration": 62,
        "start_time": "2024-03-28T18:59:34.353Z"
      },
      {
        "duration": 6,
        "start_time": "2024-03-28T18:59:35.309Z"
      },
      {
        "duration": 2278,
        "start_time": "2024-03-28T18:59:37.033Z"
      },
      {
        "duration": 13,
        "start_time": "2024-03-28T18:59:54.894Z"
      },
      {
        "duration": 4,
        "start_time": "2024-03-28T18:59:55.834Z"
      },
      {
        "duration": 3,
        "start_time": "2024-03-28T19:00:01.552Z"
      },
      {
        "duration": 3,
        "start_time": "2024-03-28T19:00:02.977Z"
      },
      {
        "duration": 6925,
        "start_time": "2024-03-28T19:06:35.015Z"
      },
      {
        "duration": 3133,
        "start_time": "2024-03-28T19:06:48.411Z"
      },
      {
        "duration": 1357,
        "start_time": "2024-03-28T19:06:51.546Z"
      },
      {
        "duration": 3,
        "start_time": "2024-03-28T19:06:52.907Z"
      },
      {
        "duration": 5,
        "start_time": "2024-03-28T19:06:52.911Z"
      },
      {
        "duration": 2416,
        "start_time": "2024-03-28T19:06:52.918Z"
      },
      {
        "duration": 14,
        "start_time": "2024-03-28T19:06:55.335Z"
      },
      {
        "duration": 309,
        "start_time": "2024-03-28T19:06:55.350Z"
      },
      {
        "duration": 6,
        "start_time": "2024-03-28T19:06:55.660Z"
      },
      {
        "duration": 63,
        "start_time": "2024-03-28T19:06:55.668Z"
      },
      {
        "duration": 49564,
        "start_time": "2024-03-28T19:06:55.734Z"
      },
      {
        "duration": 38,
        "start_time": "2024-03-28T19:07:45.311Z"
      },
      {
        "duration": 12,
        "start_time": "2024-03-28T19:07:45.351Z"
      },
      {
        "duration": 2206,
        "start_time": "2024-03-28T19:07:45.364Z"
      },
      {
        "duration": 13,
        "start_time": "2024-03-28T19:07:47.572Z"
      },
      {
        "duration": 24,
        "start_time": "2024-03-28T19:07:47.589Z"
      },
      {
        "duration": 4,
        "start_time": "2024-03-28T19:07:47.614Z"
      },
      {
        "duration": 8,
        "start_time": "2024-03-28T19:07:47.619Z"
      },
      {
        "duration": 939749,
        "start_time": "2024-03-28T19:07:47.629Z"
      },
      {
        "duration": 12,
        "start_time": "2024-03-28T19:23:27.387Z"
      },
      {
        "duration": 26,
        "start_time": "2024-03-28T19:23:27.405Z"
      },
      {
        "duration": 15,
        "start_time": "2024-03-28T19:23:27.432Z"
      },
      {
        "duration": 2942,
        "start_time": "2024-03-29T15:02:17.708Z"
      },
      {
        "duration": 10648,
        "start_time": "2024-03-29T15:02:22.059Z"
      },
      {
        "duration": 10093,
        "start_time": "2024-03-29T15:02:53.921Z"
      },
      {
        "duration": 2706,
        "start_time": "2024-03-29T15:04:07.023Z"
      },
      {
        "duration": 5,
        "start_time": "2024-03-29T15:04:13.166Z"
      },
      {
        "duration": 4,
        "start_time": "2024-03-29T15:04:15.710Z"
      },
      {
        "duration": 2349,
        "start_time": "2024-03-29T15:04:19.594Z"
      },
      {
        "duration": 10,
        "start_time": "2024-03-29T15:04:25.543Z"
      },
      {
        "duration": 10,
        "start_time": "2024-03-29T15:04:41.229Z"
      },
      {
        "duration": 267,
        "start_time": "2024-03-29T15:04:44.163Z"
      },
      {
        "duration": 6,
        "start_time": "2024-03-29T15:04:54.855Z"
      },
      {
        "duration": 2815,
        "start_time": "2024-03-29T15:12:47.055Z"
      },
      {
        "duration": 2403,
        "start_time": "2024-03-29T15:12:52.558Z"
      },
      {
        "duration": 4274,
        "start_time": "2024-03-29T15:13:21.293Z"
      },
      {
        "duration": 17,
        "start_time": "2024-03-29T15:13:42.638Z"
      },
      {
        "duration": 109,
        "start_time": "2024-03-29T15:16:32.609Z"
      },
      {
        "duration": 4,
        "start_time": "2024-03-29T15:24:32.907Z"
      },
      {
        "duration": 4,
        "start_time": "2024-03-29T15:24:36.977Z"
      },
      {
        "duration": 4,
        "start_time": "2024-03-29T15:24:39.082Z"
      },
      {
        "duration": 2168,
        "start_time": "2024-03-29T15:24:42.114Z"
      },
      {
        "duration": 14,
        "start_time": "2024-03-29T15:24:47.529Z"
      },
      {
        "duration": 10,
        "start_time": "2024-03-29T15:24:57.980Z"
      },
      {
        "duration": 281,
        "start_time": "2024-03-29T15:25:00.315Z"
      },
      {
        "duration": 6,
        "start_time": "2024-03-29T15:25:03.596Z"
      },
      {
        "duration": 3,
        "start_time": "2024-03-29T15:25:11.922Z"
      },
      {
        "duration": 3526582,
        "start_time": "2024-03-29T15:25:47.659Z"
      },
      {
        "duration": 150860,
        "start_time": "2024-03-29T16:36:05.198Z"
      },
      {
        "duration": 36666,
        "start_time": "2024-03-29T16:52:49.766Z"
      },
      {
        "duration": 6,
        "start_time": "2024-03-29T16:56:04.241Z"
      },
      {
        "duration": 4,
        "start_time": "2024-03-29T17:04:22.130Z"
      },
      {
        "duration": 3,
        "start_time": "2024-03-29T17:05:07.048Z"
      },
      {
        "duration": 26919,
        "start_time": "2024-03-29T17:05:09.443Z"
      },
      {
        "duration": 436,
        "start_time": "2024-03-29T17:06:31.773Z"
      },
      {
        "duration": 1050810,
        "start_time": "2024-03-29T17:06:34.599Z"
      },
      {
        "duration": 99,
        "start_time": "2024-03-29T17:24:24.976Z"
      },
      {
        "duration": 3,
        "start_time": "2024-03-29T17:24:41.558Z"
      },
      {
        "duration": 3,
        "start_time": "2024-03-29T17:24:45.487Z"
      },
      {
        "duration": 5,
        "start_time": "2024-03-29T17:24:49.678Z"
      },
      {
        "duration": 1682,
        "start_time": "2024-03-29T17:24:54.889Z"
      },
      {
        "duration": 3,
        "start_time": "2024-03-29T17:28:20.600Z"
      },
      {
        "duration": 4,
        "start_time": "2024-03-29T17:28:26.455Z"
      },
      {
        "duration": 10,
        "start_time": "2024-03-29T17:34:02.328Z"
      },
      {
        "duration": 3,
        "start_time": "2024-03-29T17:38:44.487Z"
      },
      {
        "duration": 4,
        "start_time": "2024-03-29T17:38:46.904Z"
      },
      {
        "duration": 3533,
        "start_time": "2024-03-29T17:38:49.920Z"
      },
      {
        "duration": 84,
        "start_time": "2024-03-29T17:40:05.096Z"
      },
      {
        "duration": 3,
        "start_time": "2024-03-29T17:40:12.084Z"
      },
      {
        "duration": 4,
        "start_time": "2024-03-29T17:40:16.284Z"
      },
      {
        "duration": 3976,
        "start_time": "2024-03-29T17:40:18.780Z"
      },
      {
        "duration": 96,
        "start_time": "2024-03-29T18:10:31.214Z"
      },
      {
        "duration": 3,
        "start_time": "2024-03-29T18:10:35.900Z"
      },
      {
        "duration": 4,
        "start_time": "2024-03-29T18:10:38.140Z"
      },
      {
        "duration": 2922,
        "start_time": "2024-03-29T18:10:40.766Z"
      },
      {
        "duration": 11,
        "start_time": "2024-03-29T18:15:02.718Z"
      },
      {
        "duration": 37,
        "start_time": "2024-03-29T18:15:29.709Z"
      },
      {
        "duration": 3,
        "start_time": "2024-03-29T18:15:54.472Z"
      },
      {
        "duration": 24,
        "start_time": "2024-03-29T18:16:08.854Z"
      },
      {
        "duration": 20,
        "start_time": "2024-03-29T18:16:28.460Z"
      },
      {
        "duration": 519,
        "start_time": "2024-03-29T18:19:49.984Z"
      },
      {
        "duration": 2889,
        "start_time": "2024-03-29T18:20:36.085Z"
      },
      {
        "duration": 2467,
        "start_time": "2024-03-29T18:20:38.976Z"
      },
      {
        "duration": 4105,
        "start_time": "2024-03-29T18:20:41.446Z"
      },
      {
        "duration": 3,
        "start_time": "2024-03-29T18:20:45.553Z"
      },
      {
        "duration": 37,
        "start_time": "2024-03-29T18:20:45.558Z"
      },
      {
        "duration": 2240,
        "start_time": "2024-03-29T18:20:45.597Z"
      },
      {
        "duration": 20,
        "start_time": "2024-03-29T18:20:47.839Z"
      },
      {
        "duration": 22,
        "start_time": "2024-03-29T18:20:47.861Z"
      },
      {
        "duration": 286,
        "start_time": "2024-03-29T18:20:47.885Z"
      },
      {
        "duration": 13,
        "start_time": "2024-03-29T18:20:48.173Z"
      },
      {
        "duration": 484,
        "start_time": "2024-03-29T18:20:48.187Z"
      },
      {
        "duration": 1033965,
        "start_time": "2024-03-29T18:20:48.673Z"
      },
      {
        "duration": 7,
        "start_time": "2024-03-29T18:38:02.640Z"
      },
      {
        "duration": 89,
        "start_time": "2024-03-29T18:38:02.648Z"
      },
      {
        "duration": 3,
        "start_time": "2024-03-29T18:38:02.739Z"
      },
      {
        "duration": 3,
        "start_time": "2024-03-29T18:38:02.744Z"
      },
      {
        "duration": 4,
        "start_time": "2024-03-29T18:38:02.748Z"
      },
      {
        "duration": 3,
        "start_time": "2024-03-29T18:38:02.753Z"
      },
      {
        "duration": 25,
        "start_time": "2024-03-29T18:38:02.757Z"
      },
      {
        "duration": 18631,
        "start_time": "2024-03-29T18:38:02.784Z"
      },
      {
        "duration": 0,
        "start_time": "2024-03-29T18:38:21.417Z"
      },
      {
        "duration": 0,
        "start_time": "2024-03-29T18:38:21.418Z"
      },
      {
        "duration": 0,
        "start_time": "2024-03-29T18:38:21.419Z"
      },
      {
        "duration": 0,
        "start_time": "2024-03-29T18:38:21.420Z"
      },
      {
        "duration": 0,
        "start_time": "2024-03-29T18:38:21.422Z"
      },
      {
        "duration": 4,
        "start_time": "2024-03-29T18:38:30.824Z"
      },
      {
        "duration": 3828806,
        "start_time": "2024-03-29T18:38:34.465Z"
      },
      {
        "duration": 10,
        "start_time": "2024-03-29T19:42:42.781Z"
      },
      {
        "duration": 47,
        "start_time": "2024-03-29T19:42:54.948Z"
      },
      {
        "duration": 897,
        "start_time": "2024-03-29T19:43:21.435Z"
      },
      {
        "duration": 25,
        "start_time": "2024-03-29T19:44:38.251Z"
      },
      {
        "duration": 769,
        "start_time": "2024-03-29T19:44:46.969Z"
      }
    ],
    "kernelspec": {
      "display_name": "Python 3 (ipykernel)",
      "language": "python",
      "name": "python3"
    },
    "language_info": {
      "codemirror_mode": {
        "name": "ipython",
        "version": 3
      },
      "file_extension": ".py",
      "mimetype": "text/x-python",
      "name": "python",
      "nbconvert_exporter": "python",
      "pygments_lexer": "ipython3",
      "version": "3.9.5"
    },
    "toc": {
      "base_numbering": 1,
      "nav_menu": {},
      "number_sections": true,
      "sideBar": true,
      "skip_h1_title": true,
      "title_cell": "Содержание",
      "title_sidebar": "Contents",
      "toc_cell": true,
      "toc_position": {
        "height": "calc(100% - 180px)",
        "left": "10px",
        "top": "150px",
        "width": "302.391px"
      },
      "toc_section_display": true,
      "toc_window_display": false
    },
    "colab": {
      "provenance": []
    }
  },
  "nbformat": 4,
  "nbformat_minor": 0
}