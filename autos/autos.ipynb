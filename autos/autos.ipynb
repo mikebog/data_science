{
 "cells": [
  {
   "cell_type": "markdown",
   "metadata": {},
   "source": [
    "# Определение стоимости автомобилей"
   ]
  },
  {
   "cell_type": "markdown",
   "metadata": {},
   "source": [
    "Сервис по продаже автомобилей с пробегом «Не бит, не крашен» разрабатывает приложение для привлечения новых клиентов. В нём можно быстро узнать рыночную стоимость своего автомобиля. В нашем распоряжении исторические данные: технические характеристики, комплектации и цены автомобилей. \n",
    "\n",
    "**Наша задача**\n",
    "\n",
    "Нужно построить модель для определения стоимости автомобилей. \n",
    "\n",
    "Заказчику важны:\n",
    "- качество предсказания;\n",
    "- скорость предсказания;\n",
    "- время обучения.\n",
    "\n",
    "**Описание данных**\n",
    "\n",
    "Данные находятся в одной таблице, которая содержит следующие признаки:\n",
    "- DateCrawled — дата скачивания анкеты из базы\n",
    "- VehicleType — тип автомобильного кузова\n",
    "- RegistrationYear — год регистрации автомобиля\n",
    "- Gearbox — тип коробки передач\n",
    "- Power — мощность (л. с.)\n",
    "- Model — модель автомобиля\n",
    "- Kilometer — пробег (км)\n",
    "- RegistrationMonth — месяц регистрации автомобиля\n",
    "- FuelType — тип топлива\n",
    "- Brand — марка автомобиля\n",
    "- Repaired — была машина в ремонте или нет\n",
    "- DateCreated — дата создания анкеты\n",
    "- NumberOfPictures — количество фотографий автомобиля\n",
    "- PostalCode — почтовый индекс владельца анкеты (пользователя)\n",
    "- LastSeen — дата последней активности пользователя\n",
    "\n",
    "Целевой признак: Price — цена (евро)\n",
    "\n",
    "**План работы будет таким:**\n",
    " 1. Загрузка данных\n",
    " 2. Предобработка данных\n",
    " 3. Исследовательский анализ данных\n",
    " 4. Подготовка данных для обучения\n",
    " 5. Обучение моделей\n",
    " 6. Анализ времени обучения, времени предсказания и качества моделей,выбор лучшей модели, проверка её качества на тестовой выборке\n",
    " 7. Итоговые выводы\n",
    " \n",
    "Прежде чем загружать датасеты, нужно провести импорт необходимых библиотек."
   ]
  },
  {
   "cell_type": "code",
   "execution_count": 1,
   "metadata": {},
   "outputs": [],
   "source": [
    "get_ipython().system(' pip install phik -q')"
   ]
  },
  {
   "cell_type": "code",
   "execution_count": 3,
   "metadata": {},
   "outputs": [],
   "source": [
    "import matplotlib.pyplot as plt\n",
    "import pandas as pd\n",
    "import numpy as np\n",
    "import seaborn as sns\n",
    "\n",
    "import sklearn\n",
    "from sklearn.model_selection import train_test_split\n",
    "from sklearn.impute import SimpleImputer\n",
    "from sklearn.pipeline import Pipeline\n",
    "from sklearn.preprocessing import OrdinalEncoder, StandardScaler\n",
    "from sklearn.compose import ColumnTransformer\n",
    "from sklearn.metrics import mean_squared_error, root_mean_squared_error\n",
    "from sklearn.model_selection import GridSearchCV\n",
    "from sklearn.linear_model import LinearRegression\n",
    "from sklearn.tree import DecisionTreeRegressor\n",
    "from lightgbm import LGBMRegressor\n",
    "from sklearn.dummy import DummyRegressor\n",
    "\n",
    "from phik import phik_matrix\n",
    "from phik.report import plot_correlation_matrix\n",
    "\n",
    "RANDOM_STATE = 42\n",
    "TEST_SIZE = 0.25"
   ]
  },
  {
   "cell_type": "markdown",
   "metadata": {},
   "source": [
    "Кроме того, напишем функции, которые пригодятся нам в дальнейшей работе."
   ]
  },
  {
   "cell_type": "code",
   "execution_count": 4,
   "metadata": {},
   "outputs": [],
   "source": [
    "# Функция получения общей информации о датасете, о дубликатах и пропусках.\n",
    "def information(df):\n",
    "    df.info();\n",
    "    print('\\nКоличество дубликатов:',df.duplicated().sum(),'\\n')\n",
    "    print('Количество пропусков:\\n',df.isna().sum())"
   ]
  },
  {
   "cell_type": "code",
   "execution_count": 5,
   "metadata": {},
   "outputs": [],
   "source": [
    "# Функция создает для списка столбцов два графика - гистограмму и ящик с усами.\n",
    "def todoplot(df):\n",
    "    for i in col:\n",
    "        fig, (ax1, ax2) = plt.subplots(1, 2, figsize=(15,5))\n",
    "        ax1.hist(df[i], bins=10);\n",
    "        ax1.set_title(i)\n",
    "        ax1.set_xlabel('Значения')\n",
    "        ax1.set_ylabel('Частота')\n",
    "        ax2.boxplot(df[i]);\n",
    "        ax2.set_title(i)\n",
    "        plt.show()"
   ]
  },
  {
   "cell_type": "code",
   "execution_count": 6,
   "metadata": {},
   "outputs": [],
   "source": [
    "# Функция для создания пайплайна.\n",
    "# Cоздадим пайпы для подготовки данных: для признаков, которые будет кодировать OneHotEncoder \n",
    "# (включим в пайпы обработку пропусков с помощью SimpleImputer). \n",
    "# Затем соединим полученные пайпы в data_preprocessor, туда же добавим масштабирование количественных признаков.\n",
    "def pipe(ord_columns, num_columns):\n",
    "    global pipe_final\n",
    "    ord_pipe = Pipeline(\n",
    "        [\n",
    "            (\n",
    "                'simpleImputer_ord', \n",
    "                SimpleImputer(missing_values=np.nan, strategy='most_frequent')\n",
    "            ),\n",
    "             (\n",
    "                'ord',  \n",
    "                OrdinalEncoder(\n",
    "                    handle_unknown='use_encoded_value', unknown_value=np.nan\n",
    "                )\n",
    "            )\n",
    "\n",
    "        ]\n",
    "    ) \n",
    "\n",
    "    data_preprocessor = ColumnTransformer(\n",
    "        [\n",
    "            ('ord', ord_pipe, ord_columns),\n",
    "            \n",
    "            ('num', StandardScaler(), num_columns)\n",
    "        ], \n",
    "        remainder='passthrough'\n",
    "    )\n",
    "\n",
    "    pipe_final = Pipeline(\n",
    "        [\n",
    "            ('preprocessor', data_preprocessor),\n",
    "            ('models', DecisionTreeRegressor(random_state=RANDOM_STATE, max_depth=8, max_features=8))\n",
    "        ]\n",
    "    )"
   ]
  },
  {
   "cell_type": "markdown",
   "metadata": {},
   "source": [
    "## Загрузка данных\n",
    "\n",
    "### \n",
    "Сначала попытаемся открыть файл с датасетом"
   ]
  },
  {
   "cell_type": "code",
   "execution_count": 7,
   "metadata": {},
   "outputs": [],
   "source": [
    "try:\n",
    "    autos = pd.read_csv('/???/autos.csv')\n",
    "except:\n",
    "    autos = pd.read_csv('https://???/autos.csv')"
   ]
  },
  {
   "cell_type": "markdown",
   "metadata": {},
   "source": [
    "###  \n",
    "Посмотрим первые строки датасета"
   ]
  },
  {
   "cell_type": "code",
   "execution_count": 8,
   "metadata": {},
   "outputs": [
    {
     "data": {
      "text/html": [
       "<div>\n",
       "<style scoped>\n",
       "    .dataframe tbody tr th:only-of-type {\n",
       "        vertical-align: middle;\n",
       "    }\n",
       "\n",
       "    .dataframe tbody tr th {\n",
       "        vertical-align: top;\n",
       "    }\n",
       "\n",
       "    .dataframe thead th {\n",
       "        text-align: right;\n",
       "    }\n",
       "</style>\n",
       "<table border=\"1\" class=\"dataframe\">\n",
       "  <thead>\n",
       "    <tr style=\"text-align: right;\">\n",
       "      <th></th>\n",
       "      <th>DateCrawled</th>\n",
       "      <th>Price</th>\n",
       "      <th>VehicleType</th>\n",
       "      <th>RegistrationYear</th>\n",
       "      <th>Gearbox</th>\n",
       "      <th>Power</th>\n",
       "      <th>Model</th>\n",
       "      <th>Kilometer</th>\n",
       "      <th>RegistrationMonth</th>\n",
       "      <th>FuelType</th>\n",
       "      <th>Brand</th>\n",
       "      <th>Repaired</th>\n",
       "      <th>DateCreated</th>\n",
       "      <th>NumberOfPictures</th>\n",
       "      <th>PostalCode</th>\n",
       "      <th>LastSeen</th>\n",
       "    </tr>\n",
       "  </thead>\n",
       "  <tbody>\n",
       "    <tr>\n",
       "      <th>0</th>\n",
       "      <td>2016-03-24 11:52:17</td>\n",
       "      <td>480</td>\n",
       "      <td>NaN</td>\n",
       "      <td>1993</td>\n",
       "      <td>manual</td>\n",
       "      <td>0</td>\n",
       "      <td>golf</td>\n",
       "      <td>150000</td>\n",
       "      <td>0</td>\n",
       "      <td>petrol</td>\n",
       "      <td>volkswagen</td>\n",
       "      <td>NaN</td>\n",
       "      <td>2016-03-24 00:00:00</td>\n",
       "      <td>0</td>\n",
       "      <td>70435</td>\n",
       "      <td>2016-04-07 03:16:57</td>\n",
       "    </tr>\n",
       "    <tr>\n",
       "      <th>1</th>\n",
       "      <td>2016-03-24 10:58:45</td>\n",
       "      <td>18300</td>\n",
       "      <td>coupe</td>\n",
       "      <td>2011</td>\n",
       "      <td>manual</td>\n",
       "      <td>190</td>\n",
       "      <td>NaN</td>\n",
       "      <td>125000</td>\n",
       "      <td>5</td>\n",
       "      <td>gasoline</td>\n",
       "      <td>audi</td>\n",
       "      <td>yes</td>\n",
       "      <td>2016-03-24 00:00:00</td>\n",
       "      <td>0</td>\n",
       "      <td>66954</td>\n",
       "      <td>2016-04-07 01:46:50</td>\n",
       "    </tr>\n",
       "    <tr>\n",
       "      <th>2</th>\n",
       "      <td>2016-03-14 12:52:21</td>\n",
       "      <td>9800</td>\n",
       "      <td>suv</td>\n",
       "      <td>2004</td>\n",
       "      <td>auto</td>\n",
       "      <td>163</td>\n",
       "      <td>grand</td>\n",
       "      <td>125000</td>\n",
       "      <td>8</td>\n",
       "      <td>gasoline</td>\n",
       "      <td>jeep</td>\n",
       "      <td>NaN</td>\n",
       "      <td>2016-03-14 00:00:00</td>\n",
       "      <td>0</td>\n",
       "      <td>90480</td>\n",
       "      <td>2016-04-05 12:47:46</td>\n",
       "    </tr>\n",
       "    <tr>\n",
       "      <th>3</th>\n",
       "      <td>2016-03-17 16:54:04</td>\n",
       "      <td>1500</td>\n",
       "      <td>small</td>\n",
       "      <td>2001</td>\n",
       "      <td>manual</td>\n",
       "      <td>75</td>\n",
       "      <td>golf</td>\n",
       "      <td>150000</td>\n",
       "      <td>6</td>\n",
       "      <td>petrol</td>\n",
       "      <td>volkswagen</td>\n",
       "      <td>no</td>\n",
       "      <td>2016-03-17 00:00:00</td>\n",
       "      <td>0</td>\n",
       "      <td>91074</td>\n",
       "      <td>2016-03-17 17:40:17</td>\n",
       "    </tr>\n",
       "    <tr>\n",
       "      <th>4</th>\n",
       "      <td>2016-03-31 17:25:20</td>\n",
       "      <td>3600</td>\n",
       "      <td>small</td>\n",
       "      <td>2008</td>\n",
       "      <td>manual</td>\n",
       "      <td>69</td>\n",
       "      <td>fabia</td>\n",
       "      <td>90000</td>\n",
       "      <td>7</td>\n",
       "      <td>gasoline</td>\n",
       "      <td>skoda</td>\n",
       "      <td>no</td>\n",
       "      <td>2016-03-31 00:00:00</td>\n",
       "      <td>0</td>\n",
       "      <td>60437</td>\n",
       "      <td>2016-04-06 10:17:21</td>\n",
       "    </tr>\n",
       "  </tbody>\n",
       "</table>\n",
       "</div>"
      ],
      "text/plain": [
       "           DateCrawled  Price VehicleType  RegistrationYear Gearbox  Power  \\\n",
       "0  2016-03-24 11:52:17    480         NaN              1993  manual      0   \n",
       "1  2016-03-24 10:58:45  18300       coupe              2011  manual    190   \n",
       "2  2016-03-14 12:52:21   9800         suv              2004    auto    163   \n",
       "3  2016-03-17 16:54:04   1500       small              2001  manual     75   \n",
       "4  2016-03-31 17:25:20   3600       small              2008  manual     69   \n",
       "\n",
       "   Model  Kilometer  RegistrationMonth  FuelType       Brand Repaired  \\\n",
       "0   golf     150000                  0    petrol  volkswagen      NaN   \n",
       "1    NaN     125000                  5  gasoline        audi      yes   \n",
       "2  grand     125000                  8  gasoline        jeep      NaN   \n",
       "3   golf     150000                  6    petrol  volkswagen       no   \n",
       "4  fabia      90000                  7  gasoline       skoda       no   \n",
       "\n",
       "           DateCreated  NumberOfPictures  PostalCode             LastSeen  \n",
       "0  2016-03-24 00:00:00                 0       70435  2016-04-07 03:16:57  \n",
       "1  2016-03-24 00:00:00                 0       66954  2016-04-07 01:46:50  \n",
       "2  2016-03-14 00:00:00                 0       90480  2016-04-05 12:47:46  \n",
       "3  2016-03-17 00:00:00                 0       91074  2016-03-17 17:40:17  \n",
       "4  2016-03-31 00:00:00                 0       60437  2016-04-06 10:17:21  "
      ]
     },
     "execution_count": 8,
     "metadata": {},
     "output_type": "execute_result"
    }
   ],
   "source": [
    "autos.head()"
   ]
  },
  {
   "cell_type": "markdown",
   "metadata": {},
   "source": [
    "Теперь посмотрим общую информацию о датасете."
   ]
  },
  {
   "cell_type": "code",
   "execution_count": 9,
   "metadata": {},
   "outputs": [
    {
     "name": "stdout",
     "output_type": "stream",
     "text": [
      "<class 'pandas.core.frame.DataFrame'>\n",
      "RangeIndex: 354369 entries, 0 to 354368\n",
      "Data columns (total 16 columns):\n",
      " #   Column             Non-Null Count   Dtype \n",
      "---  ------             --------------   ----- \n",
      " 0   DateCrawled        354369 non-null  object\n",
      " 1   Price              354369 non-null  int64 \n",
      " 2   VehicleType        316879 non-null  object\n",
      " 3   RegistrationYear   354369 non-null  int64 \n",
      " 4   Gearbox            334536 non-null  object\n",
      " 5   Power              354369 non-null  int64 \n",
      " 6   Model              334664 non-null  object\n",
      " 7   Kilometer          354369 non-null  int64 \n",
      " 8   RegistrationMonth  354369 non-null  int64 \n",
      " 9   FuelType           321474 non-null  object\n",
      " 10  Brand              354369 non-null  object\n",
      " 11  Repaired           283215 non-null  object\n",
      " 12  DateCreated        354369 non-null  object\n",
      " 13  NumberOfPictures   354369 non-null  int64 \n",
      " 14  PostalCode         354369 non-null  int64 \n",
      " 15  LastSeen           354369 non-null  object\n",
      "dtypes: int64(7), object(9)\n",
      "memory usage: 43.3+ MB\n",
      "\n",
      "Количество дубликатов: 4 \n",
      "\n",
      "Количество пропусков:\n",
      " DateCrawled              0\n",
      "Price                    0\n",
      "VehicleType          37490\n",
      "RegistrationYear         0\n",
      "Gearbox              19833\n",
      "Power                    0\n",
      "Model                19705\n",
      "Kilometer                0\n",
      "RegistrationMonth        0\n",
      "FuelType             32895\n",
      "Brand                    0\n",
      "Repaired             71154\n",
      "DateCreated              0\n",
      "NumberOfPictures         0\n",
      "PostalCode               0\n",
      "LastSeen                 0\n",
      "dtype: int64\n"
     ]
    }
   ],
   "source": [
    "information(autos)"
   ]
  },
  {
   "cell_type": "markdown",
   "metadata": {},
   "source": [
    "***Вывод:*** Общая информация показывает, что в датасете имеется 354369 строк, есть пропущенные значения в пяти колонках, имеется 4 дубликата, форматы данных соответствуют данным кроме трех колонок с датами и временем, их нужно будет привести в соответствующий формат. Кроме того, нужно будет переименовать названия колонок для приведения к правильному формату."
   ]
  },
  {
   "cell_type": "markdown",
   "metadata": {},
   "source": [
    "## Предобработка данных"
   ]
  },
  {
   "cell_type": "markdown",
   "metadata": {},
   "source": [
    "### \n",
    "Поменяем названия колонок на более подходящие для работы."
   ]
  },
  {
   "cell_type": "code",
   "execution_count": 10,
   "metadata": {},
   "outputs": [],
   "source": [
    "autos.columns = ['date_crawled', 'price', 'vehicle_type', 'reg_year', 'gearbox', 'power',\n",
    "                 'model', 'km', 'reg_month', 'fuel_type', 'brand', 'repaired', 'date_created',\n",
    "                 'number_of_pictures', 'postal_code', 'last_seen']"
   ]
  },
  {
   "cell_type": "markdown",
   "metadata": {},
   "source": [
    "### \n",
    "Преобразуем форматы в трех колонках с датой и временем."
   ]
  },
  {
   "cell_type": "code",
   "execution_count": 11,
   "metadata": {},
   "outputs": [],
   "source": [
    "autos[['date_crawled', 'date_created','last_seen']] = autos[['date_crawled', 'date_created','last_seen']].apply(pd.to_datetime)"
   ]
  },
  {
   "cell_type": "markdown",
   "metadata": {},
   "source": [
    "### \n",
    "Удалим дубликаты."
   ]
  },
  {
   "cell_type": "code",
   "execution_count": 12,
   "metadata": {},
   "outputs": [
    {
     "data": {
      "text/plain": [
       "0"
      ]
     },
     "execution_count": 12,
     "metadata": {},
     "output_type": "execute_result"
    }
   ],
   "source": [
    "autos = autos.drop_duplicates().reset_index(drop=True)\n",
    "autos.duplicated().sum()"
   ]
  },
  {
   "cell_type": "markdown",
   "metadata": {},
   "source": [
    "### \n",
    "Теперь займемся ошибками в категориальных данных. Для этого изучим уникальные значения во всех колонках типа object."
   ]
  },
  {
   "cell_type": "code",
   "execution_count": 13,
   "metadata": {},
   "outputs": [
    {
     "data": {
      "text/plain": [
       "array(['bus', 'convertible', 'coupe', 'other', 'sedan', 'small', 'suv',\n",
       "       'wagon', nan], dtype=object)"
      ]
     },
     "execution_count": 13,
     "metadata": {},
     "output_type": "execute_result"
    }
   ],
   "source": [
    "autos['vehicle_type'].sort_values().unique()"
   ]
  },
  {
   "cell_type": "code",
   "execution_count": 14,
   "metadata": {},
   "outputs": [
    {
     "data": {
      "text/plain": [
       "array(['auto', 'manual', nan], dtype=object)"
      ]
     },
     "execution_count": 14,
     "metadata": {},
     "output_type": "execute_result"
    }
   ],
   "source": [
    "autos['gearbox'].sort_values().unique()"
   ]
  },
  {
   "cell_type": "code",
   "execution_count": 15,
   "metadata": {},
   "outputs": [
    {
     "data": {
      "text/plain": [
       "array(['100', '145', '147', '156', '159', '1_reihe', '1er', '200',\n",
       "       '2_reihe', '300c', '3_reihe', '3er', '4_reihe', '500', '5_reihe',\n",
       "       '5er', '601', '6_reihe', '6er', '7er', '80', '850', '90', '900',\n",
       "       '9000', '911', 'a1', 'a2', 'a3', 'a4', 'a5', 'a6', 'a8',\n",
       "       'a_klasse', 'accord', 'agila', 'alhambra', 'almera', 'altea',\n",
       "       'amarok', 'antara', 'arosa', 'astra', 'auris', 'avensis', 'aveo',\n",
       "       'aygo', 'b_klasse', 'b_max', 'beetle', 'berlingo', 'bora',\n",
       "       'boxster', 'bravo', 'c1', 'c2', 'c3', 'c4', 'c5', 'c_klasse',\n",
       "       'c_max', 'c_reihe', 'caddy', 'calibra', 'captiva', 'carisma',\n",
       "       'carnival', 'cayenne', 'cc', 'ceed', 'charade', 'cherokee',\n",
       "       'citigo', 'civic', 'cl', 'clio', 'clk', 'clubman', 'colt', 'combo',\n",
       "       'cooper', 'cordoba', 'corolla', 'corsa', 'cr_reihe', 'croma',\n",
       "       'crossfire', 'cuore', 'cx_reihe', 'defender', 'delta', 'discovery',\n",
       "       'doblo', 'ducato', 'duster', 'e_klasse', 'elefantino', 'eos',\n",
       "       'escort', 'espace', 'exeo', 'fabia', 'fiesta', 'focus', 'forester',\n",
       "       'forfour', 'fortwo', 'fox', 'freelander', 'fusion', 'g_klasse',\n",
       "       'galant', 'galaxy', 'getz', 'gl', 'glk', 'golf', 'grand', 'i3',\n",
       "       'i_reihe', 'ibiza', 'impreza', 'insignia', 'jazz', 'jetta',\n",
       "       'jimny', 'juke', 'justy', 'ka', 'kadett', 'kaefer', 'kalina',\n",
       "       'kalos', 'kangoo', 'kappa', 'kuga', 'laguna', 'lancer', 'lanos',\n",
       "       'legacy', 'leon', 'lodgy', 'logan', 'lupo', 'lybra', 'm_klasse',\n",
       "       'm_reihe', 'materia', 'matiz', 'megane', 'meriva', 'micra', 'mii',\n",
       "       'modus', 'mondeo', 'move', 'musa', 'mustang', 'mx_reihe', 'navara',\n",
       "       'niva', 'note', 'nubira', 'octavia', 'omega', 'one', 'other',\n",
       "       'outlander', 'pajero', 'panda', 'passat', 'phaeton', 'picanto',\n",
       "       'polo', 'primera', 'ptcruiser', 'punto', 'q3', 'q5', 'q7',\n",
       "       'qashqai', 'r19', 'range_rover', 'range_rover_evoque',\n",
       "       'range_rover_sport', 'rangerover', 'rav', 'rio', 'roadster',\n",
       "       'roomster', 'rx_reihe', 's60', 's_klasse', 's_max', 's_type',\n",
       "       'samara', 'sandero', 'santa', 'scenic', 'scirocco', 'seicento',\n",
       "       'serie_1', 'serie_2', 'serie_3', 'sharan', 'signum', 'sirion',\n",
       "       'sl', 'slk', 'sorento', 'spark', 'spider', 'sportage', 'sprinter',\n",
       "       'stilo', 'superb', 'swift', 'terios', 'tigra', 'tiguan', 'toledo',\n",
       "       'touareg', 'touran', 'transit', 'transporter', 'tt', 'tucson',\n",
       "       'twingo', 'up', 'v40', 'v50', 'v60', 'v70', 'v_klasse', 'vectra',\n",
       "       'verso', 'viano', 'vito', 'vivaro', 'voyager', 'wrangler',\n",
       "       'x_reihe', 'x_trail', 'x_type', 'xc_reihe', 'yaris', 'yeti',\n",
       "       'ypsilon', 'z_reihe', 'zafira', nan], dtype=object)"
      ]
     },
     "execution_count": 15,
     "metadata": {},
     "output_type": "execute_result"
    }
   ],
   "source": [
    "autos['model'].sort_values().unique()"
   ]
  },
  {
   "cell_type": "code",
   "execution_count": 16,
   "metadata": {},
   "outputs": [
    {
     "data": {
      "text/plain": [
       "array(['cng', 'electric', 'gasoline', 'hybrid', 'lpg', 'other', 'petrol',\n",
       "       nan], dtype=object)"
      ]
     },
     "execution_count": 16,
     "metadata": {},
     "output_type": "execute_result"
    }
   ],
   "source": [
    "autos['fuel_type'].sort_values().unique()"
   ]
  },
  {
   "cell_type": "code",
   "execution_count": 17,
   "metadata": {},
   "outputs": [
    {
     "data": {
      "text/plain": [
       "array(['alfa_romeo', 'audi', 'bmw', 'chevrolet', 'chrysler', 'citroen',\n",
       "       'dacia', 'daewoo', 'daihatsu', 'fiat', 'ford', 'honda', 'hyundai',\n",
       "       'jaguar', 'jeep', 'kia', 'lada', 'lancia', 'land_rover', 'mazda',\n",
       "       'mercedes_benz', 'mini', 'mitsubishi', 'nissan', 'opel', 'peugeot',\n",
       "       'porsche', 'renault', 'rover', 'saab', 'seat', 'skoda', 'smart',\n",
       "       'sonstige_autos', 'subaru', 'suzuki', 'toyota', 'trabant',\n",
       "       'volkswagen', 'volvo'], dtype=object)"
      ]
     },
     "execution_count": 17,
     "metadata": {},
     "output_type": "execute_result"
    }
   ],
   "source": [
    "autos['brand'].sort_values().unique()"
   ]
  },
  {
   "cell_type": "code",
   "execution_count": 18,
   "metadata": {},
   "outputs": [
    {
     "data": {
      "text/plain": [
       "array(['no', 'yes', nan], dtype=object)"
      ]
     },
     "execution_count": 18,
     "metadata": {},
     "output_type": "execute_result"
    }
   ],
   "source": [
    "autos['repaired'].sort_values().unique()"
   ]
  },
  {
   "cell_type": "markdown",
   "metadata": {},
   "source": [
    "Данные в категориальных признаках выглядят более-менее достоверно, грубых ошибок не обнаружено, но имеет смысл привести к одному названию значения fuel_type petrol и gasoline (это по сути одно и то же), так же поступим с rangerover и range_rover в model. Имеются пропущенные значения. Оставим их для пайплайна."
   ]
  },
  {
   "cell_type": "code",
   "execution_count": 19,
   "metadata": {},
   "outputs": [],
   "source": [
    "autos['fuel_type'] = autos['fuel_type'].replace('gasoline', 'petrol')\n",
    "autos['model'] = autos['model'].replace('rangerover', 'range_rover')"
   ]
  },
  {
   "cell_type": "markdown",
   "metadata": {},
   "source": [
    "### \n",
    "Теперь осталось поискать аномальные значения в количественных признаках. Для этого воспользуемся функцией, которая строит гистограмму и \"ящик с усами\" для всех признаков."
   ]
  },
  {
   "cell_type": "code",
   "execution_count": 20,
   "metadata": {},
   "outputs": [
    {
     "data": {
      "image/png": "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\n",
      "text/plain": [
       "<Figure size 1080x360 with 2 Axes>"
      ]
     },
     "metadata": {
      "needs_background": "light"
     },
     "output_type": "display_data"
    },
    {
     "data": {
      "image/png": "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\n",
      "text/plain": [
       "<Figure size 1080x360 with 2 Axes>"
      ]
     },
     "metadata": {
      "needs_background": "light"
     },
     "output_type": "display_data"
    },
    {
     "data": {
      "image/png": "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\n",
      "text/plain": [
       "<Figure size 1080x360 with 2 Axes>"
      ]
     },
     "metadata": {
      "needs_background": "light"
     },
     "output_type": "display_data"
    },
    {
     "data": {
      "image/png": "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\n",
      "text/plain": [
       "<Figure size 1080x360 with 2 Axes>"
      ]
     },
     "metadata": {
      "needs_background": "light"
     },
     "output_type": "display_data"
    },
    {
     "data": {
      "image/png": "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\n",
      "text/plain": [
       "<Figure size 1080x360 with 2 Axes>"
      ]
     },
     "metadata": {
      "needs_background": "light"
     },
     "output_type": "display_data"
    },
    {
     "data": {
      "image/png": "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\n",
      "text/plain": [
       "<Figure size 1080x360 with 2 Axes>"
      ]
     },
     "metadata": {
      "needs_background": "light"
     },
     "output_type": "display_data"
    },
    {
     "data": {
      "image/png": "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\n",
      "text/plain": [
       "<Figure size 1080x360 with 2 Axes>"
      ]
     },
     "metadata": {
      "needs_background": "light"
     },
     "output_type": "display_data"
    }
   ],
   "source": [
    "col = ['price', 'reg_year', 'power', 'km', 'reg_month', 'number_of_pictures', 'postal_code']\n",
    "todoplot(autos)"
   ]
  },
  {
   "cell_type": "markdown",
   "metadata": {},
   "source": [
    "Проанализируем получившиеся графики. Очень странно выглядит колонка number_of_pictures, похоже там стоят одни нули. Проверим это."
   ]
  },
  {
   "cell_type": "code",
   "execution_count": 21,
   "metadata": {},
   "outputs": [
    {
     "data": {
      "text/plain": [
       "array([0])"
      ]
     },
     "execution_count": 21,
     "metadata": {},
     "output_type": "execute_result"
    }
   ],
   "source": [
    "autos['number_of_pictures'].sort_values().unique()"
   ]
  },
  {
   "cell_type": "markdown",
   "metadata": {},
   "source": [
    "И действительно. Значит эту колонку можно смело удалить, она неинформативна."
   ]
  },
  {
   "cell_type": "code",
   "execution_count": 22,
   "metadata": {},
   "outputs": [],
   "source": [
    "autos = autos.drop(['number_of_pictures'], axis=1)"
   ]
  },
  {
   "cell_type": "markdown",
   "metadata": {},
   "source": [
    "Теперь посмотрим на колонку с годом регистрации автомобиля. Она явно не может быть больше года создания анкеты и не может быть меньше 1920 года (точнее очень маловероятно, что может). Создадим дополнительную колонку, чтобы выделить год из даты создания. И оставим в датасете только строки, где год регистрации больше 1920, но меньше года создания анкеты. На всякий случай, удостоверимся, что автомобилей с годом регистрации до 1920 не очень много, посмотрев квантиль."
   ]
  },
  {
   "cell_type": "code",
   "execution_count": 23,
   "metadata": {},
   "outputs": [],
   "source": [
    "autos['date_created1'] = autos['date_created'].dt.year"
   ]
  },
  {
   "cell_type": "code",
   "execution_count": 24,
   "metadata": {},
   "outputs": [
    {
     "data": {
      "text/plain": [
       "1957.0"
      ]
     },
     "execution_count": 24,
     "metadata": {},
     "output_type": "execute_result"
    }
   ],
   "source": [
    "autos['reg_year'].quantile(0.001)"
   ]
  },
  {
   "cell_type": "markdown",
   "metadata": {},
   "source": [
    "Действительно, автомобилей с годом регистрации меньше 1957 года всего 0.1% от всего датасета, так что их можно смело удалить."
   ]
  },
  {
   "cell_type": "code",
   "execution_count": 25,
   "metadata": {},
   "outputs": [],
   "source": [
    "autos = autos.query('1957<reg_year<date_created1')"
   ]
  },
  {
   "cell_type": "markdown",
   "metadata": {},
   "source": [
    "Теперь обратим внимание на целевой признак - стоимость автомобилей. Сначала уберем автомобили с нулевой стоимостью. "
   ]
  },
  {
   "cell_type": "code",
   "execution_count": 26,
   "metadata": {},
   "outputs": [],
   "source": [
    "autos=autos.query('price!=0')"
   ]
  },
  {
   "cell_type": "markdown",
   "metadata": {},
   "source": [
    "Но и очень дешевые автомобили это скорее всего ошибка. Посмотрим квантиль 10% и выясним минимальную цену, которую оставим."
   ]
  },
  {
   "cell_type": "code",
   "execution_count": 27,
   "metadata": {},
   "outputs": [
    {
     "data": {
      "text/plain": [
       "600.0"
      ]
     },
     "execution_count": 27,
     "metadata": {},
     "output_type": "execute_result"
    }
   ],
   "source": [
    "autos['price'].quantile(0.1)"
   ]
  },
  {
   "cell_type": "markdown",
   "metadata": {},
   "source": [
    "Убираем все автомобили дешевле 600 евро."
   ]
  },
  {
   "cell_type": "code",
   "execution_count": 28,
   "metadata": {},
   "outputs": [],
   "source": [
    "autos=autos.query('price>600')"
   ]
  },
  {
   "cell_type": "markdown",
   "metadata": {},
   "source": [
    "Теперь посмотрим на мощность двигателя. Самые мощные двигатели у легковых автомобилей в наше время это в районе 1500 и 2000 лошадиных сил, но это единицы, даже в районе 500 лошадиных сил не так много марок. Вряд ли в нашей выборке много таких машин, но на всякий случай оставим эти дорогие машины. Сделаем запрос, в котором оставим машины меньше 500 лошадиных сил и те, что больше 500 л.с., но дороже 10000 евро."
   ]
  },
  {
   "cell_type": "code",
   "execution_count": 29,
   "metadata": {},
   "outputs": [],
   "source": [
    "autos = autos.query('(power<500) or (750>power>500 and price>10000)')"
   ]
  },
  {
   "cell_type": "markdown",
   "metadata": {},
   "source": [
    "Кроме того, имеются строки, в которых мощность меньше 5 л.с., что является ошибкой. Такие значения удалим тоже."
   ]
  },
  {
   "cell_type": "code",
   "execution_count": 30,
   "metadata": {},
   "outputs": [],
   "source": [
    "autos = autos.query('power>4')"
   ]
  },
  {
   "cell_type": "markdown",
   "metadata": {},
   "source": [
    "Теперь осталось удалить колонки, которые неинформативны в плане влияния на цену автомобиля. Это месяц регистрации автомобиля, дата загрузки анкеты, дата создания анкеты и дата последней активности. Удалим их."
   ]
  },
  {
   "cell_type": "code",
   "execution_count": 31,
   "metadata": {},
   "outputs": [],
   "source": [
    "autos = autos.drop(['date_crawled','date_created', 'date_created1','last_seen', 'reg_month', 'postal_code'], axis=1)"
   ]
  },
  {
   "cell_type": "markdown",
   "metadata": {},
   "source": [
    "Перестроим гистограммы и ящики с усами, посмотрим, что теперь получается."
   ]
  },
  {
   "cell_type": "code",
   "execution_count": 32,
   "metadata": {},
   "outputs": [
    {
     "data": {
      "image/png": "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\n",
      "text/plain": [
       "<Figure size 1080x360 with 2 Axes>"
      ]
     },
     "metadata": {
      "needs_background": "light"
     },
     "output_type": "display_data"
    },
    {
     "data": {
      "image/png": "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\n",
      "text/plain": [
       "<Figure size 1080x360 with 2 Axes>"
      ]
     },
     "metadata": {
      "needs_background": "light"
     },
     "output_type": "display_data"
    },
    {
     "data": {
      "image/png": "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\n",
      "text/plain": [
       "<Figure size 1080x360 with 2 Axes>"
      ]
     },
     "metadata": {
      "needs_background": "light"
     },
     "output_type": "display_data"
    },
    {
     "data": {
      "image/png": "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\n",
      "text/plain": [
       "<Figure size 1080x360 with 2 Axes>"
      ]
     },
     "metadata": {
      "needs_background": "light"
     },
     "output_type": "display_data"
    }
   ],
   "source": [
    "col = ['price', 'reg_year', 'power', 'km']\n",
    "todoplot(autos)"
   ]
  },
  {
   "cell_type": "code",
   "execution_count": 33,
   "metadata": {},
   "outputs": [
    {
     "name": "stdout",
     "output_type": "stream",
     "text": [
      "<class 'pandas.core.frame.DataFrame'>\n",
      "Int64Index: 263546 entries, 1 to 354364\n",
      "Data columns (total 10 columns):\n",
      " #   Column        Non-Null Count   Dtype \n",
      "---  ------        --------------   ----- \n",
      " 0   price         263546 non-null  int64 \n",
      " 1   vehicle_type  260353 non-null  object\n",
      " 2   reg_year      263546 non-null  int64 \n",
      " 3   gearbox       259626 non-null  object\n",
      " 4   power         263546 non-null  int64 \n",
      " 5   model         255037 non-null  object\n",
      " 6   km            263546 non-null  int64 \n",
      " 7   fuel_type     253685 non-null  object\n",
      " 8   brand         263546 non-null  object\n",
      " 9   repaired      231077 non-null  object\n",
      "dtypes: int64(4), object(6)\n",
      "memory usage: 22.1+ MB\n"
     ]
    }
   ],
   "source": [
    "autos.info()"
   ]
  },
  {
   "cell_type": "markdown",
   "metadata": {},
   "source": [
    "Теперь от ошибочных значений в категориальных признаках избавились, уменьшив размер датасета на 25%, хотя часть выдающихся значений осталась. "
   ]
  },
  {
   "cell_type": "markdown",
   "metadata": {},
   "source": [
    "***Выводы*** На этом предобработка данных завершена. На этом этапе мы поменяли названия колонок, преобразовали форматы данных у колонок с датой, удалили дубликаты, проверили данные на ошибки в категориальных признаках, исправили пару ошибок. Проверили количественных данные на достоверность, в колонках с ценой, годом регистрации и мощностью двигателя нашли ошибочные значения и удалили их. Удалили несколько неинформативных колонок."
   ]
  },
  {
   "cell_type": "markdown",
   "metadata": {},
   "source": [
    "## Исследовательский анализ данных"
   ]
  },
  {
   "cell_type": "markdown",
   "metadata": {},
   "source": [
    "### \n",
    "Проведем статистический анализ всех признаков. Начнем с количественных признаков."
   ]
  },
  {
   "cell_type": "code",
   "execution_count": 34,
   "metadata": {},
   "outputs": [
    {
     "data": {
      "text/html": [
       "<div>\n",
       "<style scoped>\n",
       "    .dataframe tbody tr th:only-of-type {\n",
       "        vertical-align: middle;\n",
       "    }\n",
       "\n",
       "    .dataframe tbody tr th {\n",
       "        vertical-align: top;\n",
       "    }\n",
       "\n",
       "    .dataframe thead th {\n",
       "        text-align: right;\n",
       "    }\n",
       "</style>\n",
       "<table border=\"1\" class=\"dataframe\">\n",
       "  <thead>\n",
       "    <tr style=\"text-align: right;\">\n",
       "      <th></th>\n",
       "      <th>price</th>\n",
       "      <th>reg_year</th>\n",
       "      <th>power</th>\n",
       "      <th>km</th>\n",
       "    </tr>\n",
       "  </thead>\n",
       "  <tbody>\n",
       "    <tr>\n",
       "      <th>count</th>\n",
       "      <td>263546.000000</td>\n",
       "      <td>263546.000000</td>\n",
       "      <td>263546.000000</td>\n",
       "      <td>263546.000000</td>\n",
       "    </tr>\n",
       "    <tr>\n",
       "      <th>mean</th>\n",
       "      <td>5355.639983</td>\n",
       "      <td>2003.081485</td>\n",
       "      <td>124.679999</td>\n",
       "      <td>127059.469694</td>\n",
       "    </tr>\n",
       "    <tr>\n",
       "      <th>std</th>\n",
       "      <td>4609.546351</td>\n",
       "      <td>6.170145</td>\n",
       "      <td>53.960024</td>\n",
       "      <td>37215.967511</td>\n",
       "    </tr>\n",
       "    <tr>\n",
       "      <th>min</th>\n",
       "      <td>601.000000</td>\n",
       "      <td>1958.000000</td>\n",
       "      <td>5.000000</td>\n",
       "      <td>5000.000000</td>\n",
       "    </tr>\n",
       "    <tr>\n",
       "      <th>25%</th>\n",
       "      <td>1750.000000</td>\n",
       "      <td>2000.000000</td>\n",
       "      <td>86.000000</td>\n",
       "      <td>125000.000000</td>\n",
       "    </tr>\n",
       "    <tr>\n",
       "      <th>50%</th>\n",
       "      <td>3750.000000</td>\n",
       "      <td>2004.000000</td>\n",
       "      <td>116.000000</td>\n",
       "      <td>150000.000000</td>\n",
       "    </tr>\n",
       "    <tr>\n",
       "      <th>75%</th>\n",
       "      <td>7600.000000</td>\n",
       "      <td>2007.000000</td>\n",
       "      <td>150.000000</td>\n",
       "      <td>150000.000000</td>\n",
       "    </tr>\n",
       "    <tr>\n",
       "      <th>max</th>\n",
       "      <td>20000.000000</td>\n",
       "      <td>2015.000000</td>\n",
       "      <td>678.000000</td>\n",
       "      <td>150000.000000</td>\n",
       "    </tr>\n",
       "  </tbody>\n",
       "</table>\n",
       "</div>"
      ],
      "text/plain": [
       "               price       reg_year          power             km\n",
       "count  263546.000000  263546.000000  263546.000000  263546.000000\n",
       "mean     5355.639983    2003.081485     124.679999  127059.469694\n",
       "std      4609.546351       6.170145      53.960024   37215.967511\n",
       "min       601.000000    1958.000000       5.000000    5000.000000\n",
       "25%      1750.000000    2000.000000      86.000000  125000.000000\n",
       "50%      3750.000000    2004.000000     116.000000  150000.000000\n",
       "75%      7600.000000    2007.000000     150.000000  150000.000000\n",
       "max     20000.000000    2015.000000     678.000000  150000.000000"
      ]
     },
     "execution_count": 34,
     "metadata": {},
     "output_type": "execute_result"
    }
   ],
   "source": [
    "autos.describe()"
   ]
  },
  {
   "cell_type": "markdown",
   "metadata": {},
   "source": [
    "По таблице можно посмотреть медианы, средние, максимальные и минимальные значения. Выбросы есть, но мы их оставим. Теперь еще раз построим гистограммы по непрерывным количественным признакам, но проанализируем уже более прицельно."
   ]
  },
  {
   "cell_type": "code",
   "execution_count": 35,
   "metadata": {},
   "outputs": [
    {
     "data": {
      "image/png": "iVBORw0KGgoAAAANSUhEUgAABJAAAAGrCAYAAACfVW3gAAAAOXRFWHRTb2Z0d2FyZQBNYXRwbG90bGliIHZlcnNpb24zLjMuNCwgaHR0cHM6Ly9tYXRwbG90bGliLm9yZy8QVMy6AAAACXBIWXMAAAsTAAALEwEAmpwYAAA1+0lEQVR4nO3dfbhmZ10f+u/PDEFEQhKYpiEJDtaoRVoxzJXEU/RYcsyrGk6PpVDaDDSSWmKPHmx1rBxDeWuwx6rxBZtKSqIWiCiHlATiGLXWUwMZXuRVzIBJMzEkAxMSEBWB3/njuTd5ZmfvNXtPZmbvmf35XNdz7bXu9fLc93r27GfNd93rXtXdAQAAAIDlfMVaVwAAAACA9U2ABAAAAMAkARIAAAAAkwRIAAAAAEwSIAEAAAAwSYAEcJhU1aPWug4AAAAHQoAEcAhV1WVV9a6q+rMkn6qqJ691nQAAAFZLgATrSFX946raWVWfrap7qurtVfXMta4XB6aqtie5PMml3f2k7j6uu//nWtcLAABgtQRIsE5U1UuS/EySVyc5KcmTk/xikovXsFocoKp6bJIfSfJd3f2Bta4PALByVXVHVX2+qp64qPy9VdVVtWWNqgawZgRIsA5U1eOTvDzJ5d39m93959391939X7v7X1fVt45eSZ+tqr8eJzQL80+uqq+oqpdW1Z1VdV9VXTf2maraMk50No35M8f8K8f8d4z5n52rz1NH2a/OlX1PVX2oqj5dVb9XVX97btlpVfWbVbWnqj5VVT9fVU+aq+PnR70X5r9tvO/uFR6fE6rqbWP/94/pU+eW/15V/eXY931V9apR/o/m3vOLc+t8dix/dFX9TFX92Xj9TFU9+iAdl29K8pkkPz/qvKuqXjS33csW7ecXx76/btE6C8ftzxd9js+sqvdV1WfG8i9V1Xes5HgCACvyp0metzBTVX8nyVetXXUA1pYACdaHb03ylUnestTC7v7D7v7q7v7qJL+W5CcX5sctUS8Yr7+f5GuTfHWSn1/mvf59krsXle1JcsFCeJLk+5J8ZGFhVX19kjck+aEkm5PclOS/VtWxVXVMkrcluTPJliSnJHljd//ZXJ1fneRNc3X+7ys7LF/2FUn+c5Kvyaxn1l8s0b4fGO/1zCQ/XFVP6+43zdXhvy+sM+aT5MeTnJ3k6Um+OcmZSV56MI5LZieYT87sWJ+c5HuTvLqqnrW4cWM/FyzT7jeO+n7TomX/T2a/L8eN5X+2xPYAwIH7lSSXzM1vS3Ld/ApV9fhx4W7PuJD30qr6irHsBVX1B3PrvrKqXj83//q5C3r7XPAbZb9aVS+bm3/RuCC1t6puqKonzS37pqraMZbdW1X/pvZ/AXKf+u1PVX3dqOP8xbnvW1T/hWUfnL+wNX+RbLz3XyxcSFti289W1WvGshdW1UfGBbOPV9U/n9vnp8e6fznqsrDt88fys6vqf4z1/mjxhbZx/BeOyV/U3IXNqnp2VX107kKdXmcQARKsF09I8snu/sIBbv/8JP+huz/e3Z9N8mNJnjt/EpIkVfVdSSrJby/a/vOZhR//YIQfFyT5f+eW/6MkN3b3ju7+68zCi8ck+V8yC12elORfj55Tf9ndKz4ZWYnu/lR3/0Z3f667P5PkVUn+12VW35Tki0keWMGun5/k5d19X3fvSfJvk/zTueWP5LgkyZeS/Og4Ju9L8svZ90R0wauTvGKJ8mNHHZZzTGafJwBw8N2a5Liq+tvjgtlzk/zqonV+LsnjM7uA979m9j3/woNdkXEB6t8leU5mF6buTPLGsexxmZ3bvSOzc7KvS3LLCi5ArroaSbLo4txixyd5XJLrMzsvWsorknxqqW3n6vejo+y+JN+V5LjMjutPV9UZox7Hj3p8f5I/nNv216rqlCQ3JnllkhOT/Kskv1FVm+fe7yuSvGbsY/GFvF9K8u+6+3GjTUAESLBefCrJExcHPqvwpMxOJBbcmVmQctJc2TGZnXj8yDL7+OUklyZ5dmYnIPPBxT777+4vJbkrs95GpyW58wDDryeNq0L312xMgfOWWqmqvqqq/uO4svdgkt9Pcvw4mVtwVVV9OsmHklzT3Xet5P3z8OP2pEXrHOhx+aske0fgNb//Uxa17ewk35Dk2iXqd2KS+5ep+79M8j1J/nK0e3G9AYBHbqEX0ndm1gv5y72450KlH+vuz3T3HUl+KvtejDpYnp/Z+c17uvuvMrtY+K2jV8x3JflEd//UuGj1me5+5yGow2MyfWFrQWV23vmwkKiq/m5mPe+XOu95mO6+sbs/1jP/LclvJfm2FWz6T5Lc1N03dfeXuntHkp1JLpxbZ38X6jZVlQt1MEeABOvDH2YWODz7ALf/s8xu71rw5CRfSHLvXNm2JB/t7luX2kF3fzCz265emllosuz+x5fpaZmdRN2V5MkHGH79WXcfn1lQ8nNZ/mTihzMLWc7q7uOSfPtCVebW+T/n9vXMqnpe9m+p47bPrWCP4Lj8zyQnjquC8/tffPvgT2Z24vnFJer39Un+ZKmKd/dtmQVSPz7a7RY2ADj4fiXJP85sqIDrFi17YpJH5eEXo07JgfvkuLj26cx6Gy1YfNHqs5kFNAsX8z52gO939ni/veN2r60T6/7NzG7vn/LJJJ/N7Pb+1yyx/DVJ/u8kf72SylXVBVV166jfpzMLgJ64n82S2fnZP1w4lmPbZ2bWe2vB1IW6FyTZntmwCZ9cSV1hIxAgwTrQ3Q8k+YkkvzDuuf6qqnrU+NL8yRXs4g1J/q+qekpVzY85NN8r6Mczu1o15dVJfru7P7So/PokF1XVOVX1qMwCnb9K8j+SvCvJPUmurKrHVtVXVtXfW0Gdv6y7O8mns/zfpMdl9gX+6ao6MckVE7v7YpLObEyi/XlDkpdW1eaaPWXlJ/LwrunJARyX7r47yR8k+XfjmPzdzHoyze//WUm+1N1vm99pzVycZGuSty9V8ap6TmaB1E+voJ0AwAHo7jszG0z7wiS/uWjxJzMLQhZfjFp8sWg1njhuzTo+s/OMBYsvWj02syEQFi7mfe0Bvt+t4702J9mR5cfQTJJvSfJH+9nfE7v7qzJ7ivBvVNVj5pY9a9T5+iW3XKRmY1D+Rma3wp006nlTVnb7/l1JfmXhWI7XY7v7yrl1lr1Ql9mxeDCz3mQrCaxgQxAgwTrR3T+V5CWZ9XTZk9kX3w9k3zF3lnNNZlfIfj+zk5y/zOwWp3lv6+7b91OHt3X3S5Yo/2hmXYF/LrOTpe9O8t3d/fnRc+a7M7vf/n8m2Z3Z2EAr8TeravcYtPCVmQUsS/mZzLpNfzKz8QjescQ6P1+zp6vdkeSPk7xuBe//ysy6M78/yQeSvGeU7eNAjstY5flJnpJZwPabSX6iu+fHnzo5S99SeP6ox/OXuhWvqk7ILDh60SMYNwsAWJlLkzyru/98vnCcA12f5FVV9biq+prMzuWWuhj1SL0hyQur6ukjWHl1kneO2+beluTkqvqhmj1h9nFVddZqdj7a8kCW+f9hVR2XWa+cN6xwl1/MbGyoY+fKXpbkR8aFw5U4NsmjMzsv/kJVXZDk3BVu+6tJvruqzquqY8bFvO+oqlOralNVfX9mD51Z7sEuP5zk7u7+9RW+H2wItfJ/vwAAAEe/qrojyfctuvCTccv+Xyd5SnffMS7q/FyS8zK7gPefkryyu79UVS9I8h/z0G1fx2U2NtDCbVMnZBa0nJfZxaY/TfKohYtDNXtK2a7uftmY//4k/3ps9z+SfH937x7LnpbkZ5OckVlv6J+Z721Ts6e/7e7ul86VLa7fvZk9sfYPlzgef5Lk9CSfy6yndzK7uPfXmfXk+YpR/4WQbU+SV3f3fxrbd2ZjEl005l+W5Ou6+5+McZz2afvc+16eWQ/xRyf5r5ndMrhriXZ8X3c/c9G2Z2U2VMDfGcf5XUn+RWYDZv+zJC/p7v9vrPsdSX61u0+tqr81ju/W7r5r8We++NjARiJAAgAAWANV9dIkf9Ddv7fWdZlSVXd095Ylyn85s8DsjsNeKeCwcwsbAADA2vjTLD+Q83pyzzLlezN7cAuwAeiBBAAAAMAkPZAAAAAAmLRprStwoJ74xCf2li1b1roaAMAh8u53v/uT3b15revBQ5x/AcDRb7lzsCM2QNqyZUt27ty51tUAAA6RqrpzrevAvpx/AcDRb7lzMLewAQAAADBJgAQAAADAJAESAAAAAJMESAAAAABMEiABAAAAMEmABAAAAMAkARIAAAAAkwRIAADrUFV9Q1W9b+71YFX9UFWdWFU7qur28fOEsX5V1VVVtauq3l9VZ8zta9tY//aq2jZX/oyq+sDY5qqqqrVoKwCw/gmQAADWoe7+aHc/vbufnuQZST6X5C1Jtie5pbtPT3LLmE+SC5KcPl6XJXltklTViUmuSHJWkjOTXLEQOo11XjS33fmHvmUAwJFIgAQAsP6dk+Rj3X1nkouTXDvKr03y7DF9cZLreubWJMdX1clJzkuyo7v3dvf9SXYkOX8sO667b+3uTnLd3L4AAPYhQAIAWP+em+QNY/qk7r5nTH8iyUlj+pQkd81ts3uUTZXvXqIcAOBhBEgAAOtYVR2b5HuS/PriZaPnUB/i97+sqnZW1c49e/YcyrcCANYxARIAwPp2QZL3dPe9Y/7ecftZxs/7RvndSU6b2+7UUTZVfuoS5fvo7qu7e2t3b928efNBaA4AcCQSIAEArG/Py0O3ryXJDUkWnqS2Lclb58ovGU9jOzvJA+NWt5uTnFtVJ4zBs89NcvNY9mBVnT2evnbJ3L4AAPaxaa0rAADA0qrqsUm+M8k/nyu+Msn1VXVpkjuTPGeU35TkwiS7Mnti2wuTpLv3VtUrktw21nt5d+8d0y9O8vokj0ny9vECAHgYARIAwDrV3X+e5AmLyj6V2VPZFq/bSS5fZj/XJLlmifKdSZ52UCoLABzVBEhL2LL9xjV53zuuvGhN3hcAAI4Ua3Wu/kg51weOdMZAAgAAAGCSAAkAAACASfsNkKrqG6rqfXOvB6vqh6rqxKraUVW3j58njPWrqq6qql1V9f6qOmNuX9vG+rdX1ba58mdU1QfGNleNJ4EAAAAAsA7sN0Dq7o9299O7++lJnpHZUz3ekmR7klu6+/Qkt4z5JLkgyenjdVmS1yZJVZ2Y5IokZyU5M8kVC6HTWOdFc9udfzAaBwAAAMAjt9pb2M5J8rHuvjPJxUmuHeXXJnn2mL44yXU9c2uS46vq5CTnJdnR3Xu7+/4kO5KcP5Yd1923jqeHXDe3LwAAAADW2GoDpOcmecOYPqm77xnTn0hy0pg+Jcldc9vsHmVT5buXKH+YqrqsqnZW1c49e/assuoAAAAAHIgVB0hVdWyS70ny64uXjZ5DfRDrtaTuvrq7t3b31s2bNx/qtwMAAAAgq+uBdEGS93T3vWP+3nH7WcbP+0b53UlOm9vu1FE2VX7qEuUAAAAArAOrCZCel4duX0uSG5IsPEltW5K3zpVfMp7GdnaSB8atbjcnObeqThiDZ5+b5Oax7MGqOns8fe2SuX0BAAAAsMY2rWSlqnpsku9M8s/niq9Mcn1VXZrkziTPGeU3Jbkwya7Mntj2wiTp7r1V9Yokt431Xt7de8f0i5O8Psljkrx9vAAAAABYB1YUIHX3nyd5wqKyT2X2VLbF63aSy5fZzzVJrlmifGeSp62kLgAAAAAcXqt9ChsAAAAAG4wACQAAAIBJAiQAAAAAJgmQAAAAAJgkQAIAAABgkgAJAAAAgEkCJAAAAAAmCZAAAAAAmCRAAgAAAGCSAAkAAACASQIkAAAAACYJkAAAAACYJEACAAAAYJIACQAAAIBJAiQAAAAAJgmQAAAAAJgkQAIAAABgkgAJAAAAgEkCJAAAAAAmCZAAAAAAmCRAAgAAAGCSAAkAAACASQIkAAAAACYJkAAAAACYJEACAAAAYJIACQAAAIBJAiQAAAAAJgmQAAAAAJgkQAIAAABgkgAJAAAAgEkCJAAAAAAmCZAAAAAAmCRAAgBYp6rq+Kp6c1X9cVV9pKq+tapOrKodVXX7+HnCWLeq6qqq2lVV76+qM+b2s22sf3tVbZsrf0ZVfWBsc1VV1Vq0EwBY/wRIAADr188meUd3f2OSb07ykSTbk9zS3acnuWXMJ8kFSU4fr8uSvDZJqurEJFckOSvJmUmuWAidxjovmtvu/MPQJgDgCCRAAgBYh6rq8Um+PcnrkqS7P9/dn05ycZJrx2rXJnn2mL44yXU9c2uS46vq5CTnJdnR3Xu7+/4kO5KcP5Yd1923dncnuW5uXwAA+xAgAQCsT09JsifJf66q91bVL1fVY5Oc1N33jHU+keSkMX1Kkrvmtt89yqbKdy9Rvo+quqyqdlbVzj179hyEZgEARyIBEgDA+rQpyRlJXtvd35Lkz/PQ7WpJktFzqA9lJbr76u7e2t1bN2/efCjfCgBYxwRIAADr0+4ku7v7nWP+zZkFSveO288yft43lt+d5LS57U8dZVPlpy5RDgDwMAIkAIB1qLs/keSuqvqGUXROkg8nuSHJwpPUtiV565i+Ickl42lsZyd5YNzqdnOSc6vqhDF49rlJbh7LHqyqs8fT1y6Z2xcAwD42rXUFAABY1r9M8mtVdWySjyd5YWYXAK+vqkuT3JnkOWPdm5JcmGRXks+NddPde6vqFUluG+u9vLv3jukXJ3l9ksckeft4AQA8jAAJAGCd6u73Jdm6xKJzlli3k1y+zH6uSXLNEuU7kzztkdUSANgI3MIGAAAAwKQVBUhVdXxVvbmq/riqPlJV31pVJ1bVjqq6ffw8YaxbVXVVVe2qqvdX1Rlz+9k21r+9qrbNlT+jqj4wtrlq3IcPAAAAwDqw0h5IP5vkHd39jUm+OclHMnuM7C3dfXqSW/LQY2UvSHL6eF2W5LVJUlUnJrkiyVlJzkxyxULoNNZ50dx25z+yZgEAAABwsOw3QKqqxyf59iSvS5Lu/nx3fzrJxUmuHatdm+TZY/riJNf1zK1Jjh+PmD0vyY7u3tvd9yfZkeT8sey47r513Lt/3dy+AAAAAFhjK+mB9JQke5L856p6b1X9clU9NslJ4/GvSfKJJCeN6VOS3DW3/e5RNlW+e4nyh6mqy6pqZ1Xt3LNnzwqqDgAAAMAjtZIAaVOSM5K8tru/Jcmf56Hb1ZJ8+akfffCrt6/uvrq7t3b31s2bNx/qtwMAAAAgKwuQdifZ3d3vHPNvzixQunfcfpbx876x/O4kp81tf+oomyo/dYlyAAAAANaB/QZI3f2JJHdV1TeMonOSfDjJDUkWnqS2Lclbx/QNSS4ZT2M7O8kD41a3m5OcW1UnjMGzz01y81j2YFWdPZ6+dsncvgAAAABYY5tWuN6/TPJrVXVsko8neWFm4dP1VXVpkjuTPGese1OSC5PsSvK5sW66e29VvSLJbWO9l3f33jH94iSvT/KYJG8fLwAAAADWgRUFSN39viRbl1h0zhLrdpLLl9nPNUmuWaJ8Z5KnraQuAAAAABxeKxkDCQAAAIANTIAEAAAAwCQBEgAAAACTBEgAAAAATBIgAQAAADBJgAQAAADAJAESAAAAAJMESAAAAABMEiABAAAAMEmABAAAAMAkARIAAAAAkzatdQUAAIDDb8v2G9e6CgAcQfRAAgAAAGCSAAkAAACASQIkAAAAACYJkAAAAACYJEACAAAAYJIACQAAAIBJAiQAAAAAJgmQAAAAAJgkQAIAAABgkgAJAAAAgEkCJAAAAAAmCZAAAAAAmCRAAgAAAGCSAAkAAACASQIkAAAAACYJkAAAAACYJEACAAAAYJIACQAAAIBJAiQAAAAAJgmQAAAAAJi0aa0rAAAAcLTbsv3Gta7CAbnjyovWugrAOqEHEgAAAACTBEgAAOtUVd1RVR+oqvdV1c5RdmJV7aiq28fPE0Z5VdVVVbWrqt5fVWfM7WfbWP/2qto2V/6Msf9dY9s6/K0EAI4EAiQAgPXt73f307t765jfnuSW7j49yS1jPkkuSHL6eF2W5LXJLHBKckWSs5KcmeSKhdBprPOiue3OP/TNAQCORAIkAIAjy8VJrh3T1yZ59lz5dT1za5Ljq+rkJOcl2dHde7v7/iQ7kpw/lh3X3bd2dye5bm5fAAD7ECABAKxfneS3qurdVXXZKDupu+8Z059IctKYPiXJXXPb7h5lU+W7lyjfR1VdVlU7q2rnnj17Hml7AIAjlKewAQCsX8/s7rur6m8k2VFVfzy/sLu7qvpQVqC7r05ydZJs3br1kL4XALB+6YEEALBOdffd4+d9Sd6S2RhG947bzzJ+3jdWvzvJaXObnzrKpspPXaIcAOBhBEgAAOtQVT22qh63MJ3k3CQfTHJDkoUnqW1L8tYxfUOSS8bT2M5O8sC41e3mJOdW1Qlj8Oxzk9w8lj1YVWePp69dMrcvAIB9uIUNAGB9OinJW2bZTjYl+S/d/Y6qui3J9VV1aZI7kzxnrH9TkguT7EryuSQvTJLu3ltVr0hy21jv5d29d0y/OMnrkzwmydvHCwDgYVYUIFXVHUk+k+SLSb7Q3VvHI2HflGRLkjuSPKe77x9XsH42sxOYzyV5QXe/Z+xnW5KXjt2+sruvHeXPyEMnLzcl+cHxNBAAgA2puz+e5JuXKP9UknOWKO8kly+zr2uSXLNE+c4kT3vElQUAjnqruYXt73f307t765jfnuSW7j49yS1jPkkuSHL6eF2W5LVJMgKnK5Kcldn9+1eMbtQZ67xobrvzD7hFAAAAABxUj2QMpIuTXDumr03y7Lny63rm1iTHjwEez0uyo7v3dvf9SXYkOX8sO667bx1Xzq6b2xcAAAAAa2ylAVIn+a2qendVXTbKThqDLybJJzK7Tz9JTkly19y2u0fZVPnuJcofpqouq6qdVbVzz549K6w6AAAAAI/ESgfRfmZ3311VfyPJjqr64/mF3d1VdcjHLOruq5NcnSRbt241RhIAAADAYbCiHkjdfff4eV+St2Q2htG94/azjJ/3jdXvTnLa3OanjrKp8lOXKAcAAABgHdhvgFRVj62qxy1MJzk3yQeT3JBk21htW5K3jukbklxSM2cneWDc6nZzknOr6oQxePa5SW4eyx6sqrPHE9wumdsXAAAAAGtsJbewnZTkLbNsJ5uS/JfufkdV3Zbk+qq6NMmdSZ4z1r8pyYVJdiX5XJIXJkl3762qVyS5baz38u7eO6ZfnOT1SR6T5O3jBQAAAMA6sN8Aqbs/nuSblyj/VJJzlijvJJcvs69rklyzRPnOJE9bQX0BAAAAOMxW+hQ2AAAAADYoARIAAAAAkwRIAAAAAEwSIAEAAAAwSYAEAAAAwCQBEgAAAACTBEgAAAAATBIgAQAAADBJgAQAAADAJAESAAAAAJMESAAAAABMEiABAAAAMEmABAAAAMAkARIAAAAAkwRIAAAAAEwSIAEAAAAwSYAEAAAAwCQBEgAAAACTNq11BXjIlu03rtl733HlRWv23gAAAMD6pgcSAAAAAJMESAAAAABMEiABAAAAMEmABAAAAMAkARIAAAAAkwRIAAAAAEwSIAEAAAAwSYAEAAAAwCQBEgAAAACTBEgAAAAATBIgAQAAADBJgAQAAADAJAESAAAAAJM2rXUFAAAAWJ+2bL9xratwQO648qK1rgIcdfRAAgAAAGCSAAkAAACASQIkAIB1qqqOqar3VtXbxvxTquqdVbWrqt5UVceO8keP+V1j+Za5ffzYKP9oVZ03V37+KNtVVdsPe+MAgCOKAAkAYP36wSQfmZt/TZKf7u6vS3J/kktH+aVJ7h/lPz3WS1U9Nclzk3xTkvOT/OIIpY5J8gtJLkjy1CTPG+sCACxJgAQAsA5V1alJLkryy2O+kjwryZvHKtcmefaYvnjMZyw/Z6x/cZI3dvdfdfefJtmV5Mzx2tXdH+/uzyd541gXAGBJAiQAgPXpZ5L8SJIvjfknJPl0d39hzO9OcsqYPiXJXUkylj8w1v9y+aJtlit/mKq6rKp2VtXOPXv2PMImAQBHKgESAMA6U1XfleS+7n73Wtelu6/u7q3dvXXz5s1rXR0AYI1sWusKAADwMH8vyfdU1YVJvjLJcUl+NsnxVbVp9DI6NcndY/27k5yWZHdVbUry+CSfmitfML/NcuUAAA+jBxIAwDrT3T/W3ad295bMBsH+ne5+fpLfTfK9Y7VtSd46pm8Y8xnLf6e7e5Q/dzyl7SlJTk/yriS3JTl9PNXt2PEeNxyGpgEAR6gVB0geIwsAsOZ+NMlLqmpXZmMcvW6Uvy7JE0b5S5JsT5Lu/lCS65N8OMk7klze3V8cPZh+IMnNmT3l7fqxLgDAklZzC9vCY2SPG/MLj5F9Y1X9UmaPj31t5h4jW1XPHev9o0WPkX1Skt+uqq8f+/qFJN+Z2QCOt1XVDd394UfYNgCAI153/16S3xvTH8/sCWqL1/nLJP9wme1fleRVS5TflOSmg1hVAOAotqIeSB4jCwAAALBxrfQWtp+Jx8gCAAAAbEj7DZA8RhYAAABgY1vJGEgeIwsAAACwge23B5LHyAIAAABsbKt5CttiP5rkjVX1yiTvzb6Pkf2V8RjZvZkFQunuD1XVwmNkv5DxGNkkqaqFx8gek+Qaj5EFAAAAWD9WFSB5jCwAAADAxrPSp7ABAAAAsEEJkAAAAACYJEACAAAAYJIACQAAAIBJAiQAAAAAJgmQAAAAAJgkQAIAAABgkgAJAAAAgEkCJAAAAAAmCZAAAAAAmCRAAgAAAGCSAAkAAACASQIkAAAAACYJkAAAAACYJEACAAAAYJIACQAAAIBJAiQAAAAAJgmQAAAAAJgkQAIAAABgkgAJAAAAgEkCJAAAAAAmCZAAAAAAmCRAAgAAAGCSAAkAAACASQIkAAAAACYJkAAAAACYJEACAAAAYJIACQAAAIBJAiQAAAAAJgmQAAAAAJgkQAIAAABgkgAJAAAAgEkCJAAAAAAmCZAAAAAAmCRAAgAAAGCSAAkAAACASQIkAAAAACYJkAAA1qGq+sqqeldV/VFVfaiq/u0of0pVvbOqdlXVm6rq2FH+6DG/ayzfMrevHxvlH62q8+bKzx9lu6pq+2FvJABwxBAgAQCsT3+V5Fnd/c1Jnp7k/Ko6O8lrkvx0d39dkvuTXDrWvzTJ/aP8p8d6qaqnJnlukm9Kcn6SX6yqY6rqmCS/kOSCJE9N8ryxLgDAw2xa6wqwPmzZfuOavfcdV160Zu8NAOtVd3eSz47ZR41XJ3lWkn88yq9N8rIkr01y8ZhOkjcn+fmqqlH+xu7+qyR/WlW7kpw51tvV3R9Pkqp641j3w4euVQDAkUoPJACAdWr0FHpfkvuS7EjysSSf7u4vjFV2JzllTJ+S5K4kGcsfSPKE+fJF2yxXvrgOl1XVzqrauWfPnoPUMgDgSCNAAgBYp7r7i9399CSnZtZr6BvXoA5Xd/fW7t66efPmw/32AMA6sd8AyQCOAABrq7s/neR3k3xrkuOramEYglOT3D2m705yWpKM5Y9P8qn58kXbLFcOAPAwK+mBZABHAIDDrKo2V9XxY/oxSb4zyUcyC5K+d6y2Lclbx/QNYz5j+e+McZRuSPLccZHvKUlOT/KuJLclOX1cFDw2s/O0Gw55wwCAI9J+A6SeWW4AxzeP8muTPHtMXzzmM5afs3gAx+7+0yQLAziemTGAY3d/PsnCAI4AABvZyUl+t6ren1nYs6O735bkR5O8ZAyG/YQkrxvrvy7JE0b5S5JsT5Lu/lCS6zMbHPsdSS4ft8Z9IckPJLk5s2Dq+rEuAMDDrOgpbKOX0LuTfF1mvYVWPIBjVc0P4Hjr3G7nt1k8gONZy9TjsiSXJcmTn/zklVQdAOCI1N3vT/ItS5R/PA89RW2+/C+T/MNl9vWqJK9aovymJDc94soCAEe9FQ2ivR4GcBz1MIgjAAAAwGG2qqewGcARAAAAYONZyVPYDOAIAAAAsIGtZAykk5NcO8ZB+orMBlh8W1V9OMkbq+qVSd6bfQdw/JUxgOPezAKhdPeHqmphAMcvZAzgmCRVtTCA4zFJrjGAIwAAAMD6sd8AyQCOAAAAABvbqsZAAgAAAGDjESABAAAAMEmABAAAAMAkARIAAAAAkwRIAAAAAEwSIAEAAAAwSYAEAAAAwCQBEgAAAACTBEgAAAAATBIgAQAAADBJgAQAAADAJAESAAAAAJMESAAAAABMEiABAAAAMEmABAAAAMAkARIAAAAAkwRIAAAAAEwSIAEAAAAwSYAEAAAAwCQBEgAAAACTBEgAAAAATBIgAQAAADBJgAQAAADAJAESAAAAAJMESAAAAABMEiABAAAAMEmABAAAAMAkARIAAAAAkzatdQVgy/Yb1+y977jyojV7bwAAADhS6IEEAAAAwCQBEgAAAACTBEgAAAAATBIgAQAAADBJgAQAAADAJAESAAAAAJMESAAAAABMEiABAAAAMEmABAAAAMAkARIAAAAAkwRIAADrUFWdVlW/W1UfrqoPVdUPjvITq2pHVd0+fp4wyquqrqqqXVX1/qo6Y25f28b6t1fVtrnyZ1TVB8Y2V1VVHf6WAgBHgk1rXQFYS1u237gm73vHlRetyfsCcET5QpIf7u73VNXjkry7qnYkeUGSW7r7yqranmR7kh9NckGS08frrCSvTXJWVZ2Y5IokW5P02M8N3X3/WOdFSd6Z5KYk5yd5+2FsIwBwhNADCQBgHerue7r7PWP6M0k+kuSUJBcnuXasdm2SZ4/pi5Nc1zO3Jjm+qk5Ocl6SHd29d4RGO5KcP5Yd1923dncnuW5uXwAA+9hvgKT7NADA2qqqLUm+JbOeQid19z1j0SeSnDSmT0ly19xmu0fZVPnuJcoXv/dlVbWzqnbu2bPnkTcGADgiraQH0kL36acmOTvJ5VX11My6S9/S3acnuWXMJ/t2n74ss67Rmes+fVaSM5NcsRA65aHu0wvbnf/ImwYAcOSrqq9O8htJfqi7H5xfNnoO9aF8/+6+uru3dvfWzZs3H8q3AgDWsf0GSLpPAwCsjap6VGbh0a9192+O4nvH+VPGz/tG+d1JTpvb/NRRNlV+6hLlAAAPs6oxkNay+/R4f12oAYANYdzS/7okH+nu/zC36IYkC0MBbEvy1rnyS8ZwAmcneWCcq92c5NyqOmH0/j43yc1j2YNVdfZ4r0vm9gUAsI8VP4Vtcffp+WGKurur6pB2nx7vc3WSq5Nk69ath/z9AADW0N9L8k+TfKCq3jfK/k2SK5NcX1WXJrkzyXPGspuSXJhkV5LPJXlhknT33qp6RZLbxnov7+69Y/rFSV6f5DGZPX3NE9gAgCWtKECa6j7d3fesovv0dywq/73oPg0A8DDd/QdJlnuwyDlLrN9JLl9mX9ckuWaJ8p1JnvYIqgkAbBAreQqb7tMAAAAAG9hKeiDpPg0AAACwge03QNJ9GgAAAGBjW9VT2AAAAADYeARIAAAAAEwSIAEAAAAwSYAEAAAAwCQBEgAAAACTBEgAAAAATBIgAQAAADBJgAQAAADAJAESAAAAAJMESAAAAABMEiABAAAAMEmABAAAAMAkARIAAAAAkwRIAAAAAEwSIAEAAAAwSYAEAAAAwCQBEgAAAACTBEgAAAAATBIgAQAAADBJgAQAAADApE1rXQEAADhSbdl+41pXAQAOCz2QAAAAAJgkQAIAAABgklvYAAAAOKocqbeX3nHlRWtdBViWHkgAAAAATBIgAQAAADBJgAQAAADAJGMgwRpYy3uy3VcNAADAaumBBAAAAMAkARIAAAAAkwRIAAAAAEwSIAEAAAAwSYAEAAAAwCRPYYMNxhPgAAAAWC09kAAAAACYJEACAAAAYJIACQAAAIBJAiQAAAAAJgmQAAAAAJgkQAIAAABg0qa1rgAAAA9XVdck+a4k93X300bZiUnelGRLkjuSPKe776+qSvKzSS5M8rkkL+ju94xttiV56djtK7v72lH+jCSvT/KYJDcl+cHu7sPSOACWtGX7jWtdhQNyx5UXrXUVOAz0QAIAWJ9en+T8RWXbk9zS3acnuWXMJ8kFSU4fr8uSvDb5cuB0RZKzkpyZ5IqqOmFs89okL5rbbvF7AQB82X4DpKq6pqruq6oPzpWdWFU7qur28fOEUV5VdVVV7aqq91fVGXPbbBvr3z6uhC2UP6OqPjC2uWpcQQMA2NC6+/eT7F1UfHGSa8f0tUmePVd+Xc/cmuT4qjo5yXlJdnT33u6+P8mOJOePZcd1962j19F1c/sCAHiYlfRAen1c/QIAWA9O6u57xvQnkpw0pk9JctfcertH2VT57iXKH6aqLquqnVW1c8+ePY+8BQDAEWm/AZKrXwAA6884dzrkYxZ199XdvbW7t27evPlQvx0AsE4d6BhIh/3qV+IKGACw4d07LsBl/LxvlN+d5LS59U4dZVPlpy5RDgCwpEc8iPbhuvo13ssVMABgI7shycJYktuSvHWu/JIxHuXZSR4YF/tuTnJuVZ0whg84N8nNY9mDVXX2GH/ykrl9AQA8zKYD3O7eqjq5u+9ZxdWv71hU/ntx9Qs2lLV8LKlHiwJHmqp6Q2bnT0+sqt2ZjSd5ZZLrq+rSJHcmec5Y/aYkFybZleRzSV6YJN29t6pekeS2sd7Lu3thaIIXZzbW5WOSvH28AACWdKAB0sLVryvz8KtfP1BVb8xswOwHRsh0c5JXzw2cfW6SHxsnNQ+OK2XvzOzq188dYJ0AAI4a3f28ZRads8S6neTyZfZzTZJrlijfmeRpj6SOAMDGsd8AydUvAAAAgI1tvwGSq18AAAAAG9sjHkQbAAAAgKObAAkAAACASQIkAAAAACYJkAAAAACYJEACAAAAYJIACQAAAIBJm9a6AgCHw5btN67J+95x5UVr8r4AAAAHkx5IAAAAAEwSIAEAAAAwyS1sAIfQWt06l7h9DgAAOHj0QAIAAABgkgAJAAAAgEkCJAAAAAAmCZAAAAAAmCRAAgAAAGCSAAkAAACASZvWugIAHH22bL9xzd77jisvWrP3BgCAo5UeSAAAAABM0gMJ4Ci1lr2AAACAo4seSAAAAABMEiABAAAAMEmABAAAAMAkARIAAAAAkwRIAAAAAEwSIAEAAAAwSYAEAAAAwKRNa10BADiYtmy/cU3e944rL1qT9wUAgMNBgAQAB8FaBVdrTXAGALAxuIUNAAAAgEkCJAAAAAAmCZAAAAAAmGQMJAAAAOCAHaljQRrLcXUESAAAAMCGc6QGX8nahF9uYQMAAABgkgAJAAAAgEkCJAAAAAAmCZAAAAAAmCRAAgAAAGCSAAkAAACASQIkAAAAACYJkAAAAACYtGmtKwAAAFu237jWVQAAJqybHkhVdX5VfbSqdlXV9rWuDwDARuAcDABYiXURIFXVMUl+IckFSZ6a5HlV9dS1rRUAwNHNORgAsFLrIkBKcmaSXd398e7+fJI3Jrl4jesEAHC0cw4GAKzIehkD6ZQkd83N705y1uKVquqyJJeN2c9W1Ucn9vnEJJ88aDVc/zZSezdSW5ON1V5tPXptpPZupLamXnNI2/s1h2i/PGS/52CrPP96JDbUv52DxDFbPcds9Ryz1XPMVs8xW6W1OAdbLwHSinT31UmuXsm6VbWzu7ce4iqtGxupvRuprcnGaq+2Hr02Uns3UluTjdfejWg151+PhN+l1XPMVs8xWz3HbPUcs9VzzFZvLY7ZermF7e4kp83NnzrKAAA4dJyDAQArsl4CpNuSnF5VT6mqY5M8N8kNa1wnAICjnXMwAGBF1sUtbN39har6gSQ3JzkmyTXd/aFHuNtD3tV6ndlI7d1IbU02Vnu19ei1kdq7kdqabLz2HlUO0TnYgfK7tHqO2eo5ZqvnmK2eY7Z6jtnqHfZjVt19uN8TAAAAgCPIermFDQAAAIB1SoAEAAAAwKSjMkCqqvOr6qNVtauqtq91fQ5EVZ1WVb9bVR+uqg9V1Q+O8pdV1d1V9b7xunBumx8bbf5oVZ03V77uj0dV3VFVHxht2jnKTqyqHVV1+/h5wiivqrpqtOf9VXXG3H62jfVvr6pta9WeKVX1DXOf3/uq6sGq+qGj6bOtqmuq6r6q+uBc2UH7PKvqGeP3ZdfYtg5vCx+yTFv/fVX98WjPW6rq+FG+par+Yu4z/qW5bZZs03LHbS0s09aD9ntbs0F83znK31SzAX3XzDLtfdNcW++oqveN8iP9s13uO+eo/HfL+rNev8/Wm1rF+dJGtczf7lX/LdtIDtb3+0ZxML8zN4qJY+b3bBlV9ZVV9a6q+qNxzP7tKH9KLXG+XFWPHvO7xvIth6Ri3X1UvTIbAPJjSb42ybFJ/ijJU9e6XgfQjpOTnDGmH5fkT5I8NcnLkvyrJdZ/6mjro5M8ZRyDY46U45HkjiRPXFT2k0m2j+ntSV4zpi9M8vYkleTsJO8c5Scm+fj4ecKYPmGt27afdh+T5BNJvuZo+myTfHuSM5J88FB8nkneNdatse0F66yt5ybZNKZfM9fWLfPrLdrPkm1a7rito7YetN/bJNcnee6Y/qUk/2K9/R4vWv5TSX7iKPlsl/vOOSr/3Xqtr9fU3wWvhx2rO7LC86WN+lrmu2pVf8s22utgfL+vdRsO8/E6KN+ZG+k1ccz8ni1/zCrJV4/pRyV55/j9WfJ8OcmLk/zSmH5ukjcdinodjT2Qzkyyq7s/3t2fT/LGJBevcZ1Wrbvv6e73jOnPJPlIklMmNrk4yRu7+6+6+0+T7MrsWBzJx+PiJNeO6WuTPHuu/LqeuTXJ8VV1cpLzkuzo7r3dfX+SHUnOP8x1Xq1zknysu++cWOeI+2y7+/eT7F1UfFA+z7HsuO6+tWd/Ia+b29dht1Rbu/u3uvsLY/bWJKdO7WM/bVruuB12y3yuy1nV7+3ojfKsJG8e269pW5Pp9o76PifJG6b2cQR9tst95xyV/25Zd9bt99kRYt38LVkPDtI5yIZykL7fN4yD+J25YRzE/9tuGOP35bNj9lHj1Vn+fHn+9+/NSc45FL29j8YA6ZQkd83N7870L+e6N7qffUtmqWOS/MDo/njNXDfl5dp9pByPTvJbVfXuqrpslJ3U3feM6U8kOWlMH+ltnffc7Psf0KPxs11wsD7PU8b04vL16p9ldtVpwVOq6r1V9d+q6ttG2VSbljtu68nB+L19QpJPzwVv6/1z/bYk93b37XNlR8Vnu+g7Z6P+u+XwOtK+z9bSas6XeMhq/5Yxs5rv9w3pEX5nbkiP8P+2G0pVHVOz4RLuy+yi3Mey/Pnyl4/ZWP5AZufXB9XRGCAdVarqq5P8RpIf6u4Hk7w2yd9K8vQk92R2C8XR4JndfUaSC5JcXlXfPr9wXLHuNanZITLuV/2eJL8+io7Wz/ZhjsbPcylV9eNJvpDk10bRPUme3N3fkuQlSf5LVR230v2t0+O2YX5vF3le9g1/j4rPdonvnC9bL3WEDW7DnS8dbI7Rim3U7/cV8525ehvo/7YHRXd/sbufntndDGcm+ca1rdHRGSDdneS0uflTR9kRp6oeldk/sF/r7t9Mku6+d/wifSnJf8pDXfmWa/cRcTy6++7x874kb8msXfcudO8cP+8bqx/RbZ1zQZL3dPe9ydH72c45WJ/n3dn3lrB12e6qekGS70ry/HESkdEN91Nj+t2ZXUX4+ky3abnjti4cxN/bT2XWpXvTovJ1Z9TxHyR500LZ0fDZLvWdkw3275Y1c6R9n62ZVZ4v8ZDV/i3b8A7g+31DOUjfmRvKQfq/7YbU3Z9O8rtJvjXLny9/+ZiN5Y/P7Pz6oDoaA6Tbkpw+Ric/NrNbhG5Y4zqt2rhf8XVJPtLd/2GufP5+2f89ycLTEm5I8twx+vpTkpye2YCl6/54VNVjq+pxC9OZDUD8wczqufAEn21J3jqmb0hySc2cneSB0V305iTnVtUJo/vjuaNsvdqnB8PR+NkuclA+z7Hswao6e/w7uWRuX+tCVZ2f5EeSfE93f26ufHNVHTOmvzazz/Lj+2nTcsdtXThYv7cjZPvdJN87tl93bZ3zvyX54+7+8i1ZR/pnu9x3TjbQv1vW1JH2fbYmDuB8iYes9m/ZhncA3+8bxkH8ztwwDuL/bTeMcW55/Jh+TJLvzGzsqOXOl+d//743ye8sXMQ+qHodjDB+sF+ZjXT/J5ldAf7xta7PAbbhmZl1e3x/kveN14VJfiXJB0b5DUlOntvmx0ebP5q5p9us9+OR2VNX/mi8PrRQx8zu2bwlye1JfjvJiaO8kvzCaM8Hkmyd29c/y2yQtV1JXrjWbZto82MzS4QfP1d21Hy2mQVj9yT568zuzb30YH6eSbZm9gXzsSQ/n6TWWVt3ZXYP8sK/3YUnIvwf43f8fUnek+S799em5Y7bOmrrQfu9HX8L3jWO368nefR6+z0e5a9P8v2L1j3SP9vlvnOOyn+3XuvvtdzfBa99jtGqzpc26muZ76pV/y3bSK+D9f2+UV4H8ztzo7wmjpnfs+WP2d9N8t5xbD6Yh578u+T5cpKvHPO7xvKvPRT1WjiJBQAAAIAlHY23sAEAAABwEAmQAAAAAJgkQAIAAABgkgAJAAAAgEkCJAAAAAAmCZAAAAAAmCRAAgAAAGDS/w9XPHLA1tM9TQAAAABJRU5ErkJggg==\n",
      "text/plain": [
       "<Figure size 1440x504 with 2 Axes>"
      ]
     },
     "metadata": {
      "needs_background": "light"
     },
     "output_type": "display_data"
    }
   ],
   "source": [
    "fig, axs = plt.subplots(1, 2, figsize=(20, 7));\n",
    "axs[0].hist(autos['price'], bins=15);\n",
    "axs[0].set_title('Стоимость автомобиля');\n",
    "axs[1].hist(autos['power'], bins=10, range=(0,300));\n",
    "axs[1].set_title('Мощность двигателя');"
   ]
  },
  {
   "cell_type": "markdown",
   "metadata": {},
   "source": [
    "Непрерывные количественные признаки распределены не совсем равномерно. В стоимости автомобиля имеется сдвиг влево, мощность двигателя распределена более равномерно, но тоже имеется сдвиг влево.\n",
    "\n",
    "По дискретным количественным признакам построим столбиковые диаграммы."
   ]
  },
  {
   "cell_type": "code",
   "execution_count": 36,
   "metadata": {},
   "outputs": [
    {
     "data": {
      "image/png": "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\n",
      "text/plain": [
       "<Figure size 1440x720 with 1 Axes>"
      ]
     },
     "metadata": {
      "needs_background": "light"
     },
     "output_type": "display_data"
    }
   ],
   "source": [
    "fig, ax = plt.subplots(figsize=(20,10))\n",
    "sns.countplot(x ='reg_year', data = autos.query('reg_year>1980'), \n",
    "              palette = \"Set2\", ax=ax).set(title='Год регистрации автомобиля', \n",
    "                                                    xlabel='Годы', ylabel='Кол-во объявлений');\n",
    "\n"
   ]
  },
  {
   "cell_type": "code",
   "execution_count": 37,
   "metadata": {},
   "outputs": [
    {
     "data": {
      "image/png": "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\n",
      "text/plain": [
       "<Figure size 1440x720 with 1 Axes>"
      ]
     },
     "metadata": {
      "needs_background": "light"
     },
     "output_type": "display_data"
    }
   ],
   "source": [
    "fig, ax = plt.subplots(figsize=(20,10))\n",
    "sns.countplot(x ='km', data = autos, \n",
    "              palette = \"Set2\", ax=ax).set(title='Пробег автомобиля', \n",
    "                                                    xlabel='Километры', ylabel='Кол-во объявлений');"
   ]
  },
  {
   "cell_type": "markdown",
   "metadata": {},
   "source": [
    "По графикам видно, что в основном продают автомобили, зарегистрированные с 1998 по 2009 год, пробег преобладает 150000 км."
   ]
  },
  {
   "cell_type": "markdown",
   "metadata": {},
   "source": [
    "### \n",
    "Теперь перейдем к категориальным признакам."
   ]
  },
  {
   "cell_type": "code",
   "execution_count": 38,
   "metadata": {},
   "outputs": [
    {
     "data": {
      "image/png": "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\n",
      "text/plain": [
       "<Figure size 1440x720 with 2 Axes>"
      ]
     },
     "metadata": {
      "needs_background": "light"
     },
     "output_type": "display_data"
    }
   ],
   "source": [
    "fig, axes = plt.subplots(1,2, figsize=(20,10))\n",
    "sns.countplot(x ='vehicle_type', data = autos, order = autos['vehicle_type'].value_counts().index,\n",
    "              palette = \"Set2\", ax=axes[0]).set(title='Тип кузова', \n",
    "                                                    xlabel='Тип кузова', ylabel='Кол-во объявлений');\n",
    "sns.countplot(x ='fuel_type', data = autos, order = autos['fuel_type'].value_counts().index,\n",
    "              palette = \"Set2\", ax=axes[1]).set(title='Тип топлива', \n",
    "                                                    xlabel='Тип топлива', ylabel='Кол-во объявлений');"
   ]
  },
  {
   "cell_type": "markdown",
   "metadata": {},
   "source": [
    "Преобладают автомобили с типами кузова sedan, small и wagon и с типом топлива бензин."
   ]
  },
  {
   "cell_type": "code",
   "execution_count": 39,
   "metadata": {},
   "outputs": [
    {
     "data": {
      "image/png": "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\n",
      "text/plain": [
       "<Figure size 1080x720 with 2 Axes>"
      ]
     },
     "metadata": {},
     "output_type": "display_data"
    }
   ],
   "source": [
    "t1=autos.pivot_table(index='gearbox', values='fuel_type', aggfunc='count')\n",
    "t2=autos.pivot_table(index='repaired', values='fuel_type', aggfunc='count')\n",
    "fig, axes = plt.subplots(1, 2, figsize=(15,10))\n",
    "axes[0].pie(t1['fuel_type'], autopct='%1.0f%%', labels=t1.index.unique())\n",
    "axes[0].set(ylabel='Тип коробки передач', title='Соотношение типов коробки передач');\n",
    "axes[1].pie(t2['fuel_type'], autopct='%1.0f%%', labels=t2.index.unique());\n",
    "axes[1].set(ylabel='Была машина в ремонте или нет', title='Соотношение ремонтированных машин и неремонтированных');\n",
    "plt.legend(bbox_to_anchor=(1, 0.6));\n",
    "plt.show()"
   ]
  },
  {
   "cell_type": "markdown",
   "metadata": {},
   "source": [
    "Явно преобладают машины с ручной коробкой передач, а по отношению к ремонту - неремонтированные."
   ]
  },
  {
   "cell_type": "code",
   "execution_count": 40,
   "metadata": {},
   "outputs": [
    {
     "data": {
      "image/png": "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\n",
      "text/plain": [
       "<Figure size 720x720 with 1 Axes>"
      ]
     },
     "metadata": {
      "needs_background": "light"
     },
     "output_type": "display_data"
    }
   ],
   "source": [
    "fig, ax = plt.subplots(figsize=(10,10))\n",
    "sns.countplot(y ='brand', data = autos, order=autos['brand'].value_counts().head(10).index, \n",
    "              palette = \"Set2\", ax=ax).set(title='Распределение по маркам автомобилей', \n",
    "                                                    ylabel='Марки', xlabel='Кол-во объявлений');"
   ]
  },
  {
   "cell_type": "markdown",
   "metadata": {},
   "source": [
    "Преобладают следующие марки автомобилей: Вольфсваген, Опель, БМВ, Мерседес, Ауди"
   ]
  },
  {
   "cell_type": "code",
   "execution_count": 41,
   "metadata": {},
   "outputs": [
    {
     "data": {
      "image/png": "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\n",
      "text/plain": [
       "<Figure size 720x720 with 1 Axes>"
      ]
     },
     "metadata": {
      "needs_background": "light"
     },
     "output_type": "display_data"
    }
   ],
   "source": [
    "fig, ax = plt.subplots(figsize=(10,10))\n",
    "sns.countplot(y ='model', data = autos, order=autos['model'].value_counts().head(10).index, \n",
    "              palette = \"Set2\", ax=ax).set(title='Распределение по моделям автомобилей', \n",
    "                                                    ylabel='Модели', xlabel='Кол-во объявлений');"
   ]
  },
  {
   "cell_type": "markdown",
   "metadata": {},
   "source": [
    "График показывает 10 самых встречающихся моделей автомобилей."
   ]
  },
  {
   "cell_type": "markdown",
   "metadata": {},
   "source": [
    "### \n",
    "Осталось провести корреляционный анализ, чтобы выяснить, нет ли утечки целевого признака. Для этого используем модуль phik."
   ]
  },
  {
   "cell_type": "code",
   "execution_count": 42,
   "metadata": {},
   "outputs": [],
   "source": [
    "interval_cols = ['price', 'power']"
   ]
  },
  {
   "cell_type": "code",
   "execution_count": 43,
   "metadata": {},
   "outputs": [
    {
     "data": {
      "image/png": "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\n",
      "text/plain": [
       "<Figure size 1440x1080 with 2 Axes>"
      ]
     },
     "metadata": {
      "needs_background": "light"
     },
     "output_type": "display_data"
    }
   ],
   "source": [
    "phik_overview = phik_matrix(autos,interval_cols=interval_cols)\n",
    "plot_correlation_matrix(\n",
    "    phik_overview.values,\n",
    "    x_labels=phik_overview.columns,\n",
    "    y_labels=phik_overview.index,\n",
    "    vmin=0, vmax=1, color_map='Greens',\n",
    "    title=r'correlation $\\phi_K$',\n",
    "    fontsize_factor=1.5,\n",
    "    figsize=(20, 15)\n",
    ")"
   ]
  },
  {
   "cell_type": "markdown",
   "metadata": {},
   "source": [
    "Утечки целевого признака нет, но есть прямая зависимость между моделью и маркой автомобиля. Похоже это мультиколлинеарность, однако мультиколлинеарность не представляет проблемы для древесных и бустинговых моделей, поэтому оставим model. "
   ]
  },
  {
   "cell_type": "markdown",
   "metadata": {},
   "source": [
    "После удаления нужно перепроверить, есть ли дубликаты."
   ]
  },
  {
   "cell_type": "code",
   "execution_count": 44,
   "metadata": {},
   "outputs": [
    {
     "data": {
      "text/plain": [
       "36093"
      ]
     },
     "execution_count": 44,
     "metadata": {},
     "output_type": "execute_result"
    }
   ],
   "source": [
    "autos.duplicated().sum()"
   ]
  },
  {
   "cell_type": "markdown",
   "metadata": {},
   "source": [
    "Удалим дубликаты. Такие данные в обучающей выборке не приносят дополнительной информации в модель, но создают необоснованный вес таким наблюдениям. Кроме того, увеличение объёма выборки, увеличивает расход вычислительных ресурсов и времени обучения."
   ]
  },
  {
   "cell_type": "code",
   "execution_count": 45,
   "metadata": {},
   "outputs": [],
   "source": [
    "autos = autos.drop_duplicates().reset_index(drop=True)"
   ]
  },
  {
   "cell_type": "markdown",
   "metadata": {},
   "source": [
    "***Вывод:*** Таким образом, мы провели исследовательский анализ данных, посмотрели распределение данных по всем признакам, по итогам анализа можно сказать, что данные выглядят более-менее достоверно, особых выбросов нет, при проведении корреляционного анализа утечки целевого признака не обнаружено, но найдена прямая зависимость между моделью и маркой автомобиля, кроме того анализ показал, что признак с почтовым кодом практически не влияет на целевой признак, поэтому признаки с моделью и почтовым кодом были удалены. Перед обучением необходимо будет провести подготовку данных в пайплайне: масштабирование количественных признаков, кодирование категориальных признаков, обработку пропусков."
   ]
  },
  {
   "cell_type": "markdown",
   "metadata": {},
   "source": [
    "## Подготовка данных для обучения"
   ]
  },
  {
   "cell_type": "markdown",
   "metadata": {},
   "source": [
    "Перечислим особенности данных:\n",
    "  - Категориальные признаки: Тип коробки передач, Repaired, Тип кузова, Тип топлива, Модель и Марка автомобиля — нужно кодировать с помощью OrdinalEncoder. К категориальным можно отнести и Год регистрации, Пробег.\n",
    "  - В признаках, закодированных этим методом, встречаются пропуски.\n",
    "  - Целевой признак — Стоимость автомобиля.\n",
    "  - Количественный признак: Мощность двигателя - нужно масштабировать."
   ]
  },
  {
   "cell_type": "markdown",
   "metadata": {},
   "source": [
    "Сначала разделим датасет на тренировочную и тестовую выборки."
   ]
  },
  {
   "cell_type": "code",
   "execution_count": 46,
   "metadata": {},
   "outputs": [],
   "source": [
    "X_train, X_test, y_train, y_test = train_test_split(\n",
    "    autos.drop(['price'], axis=1),\n",
    "    autos['price'],\n",
    "    test_size = TEST_SIZE, \n",
    "    random_state = RANDOM_STATE)"
   ]
  },
  {
   "cell_type": "code",
   "execution_count": 47,
   "metadata": {},
   "outputs": [
    {
     "data": {
      "text/plain": [
       "((170589, 9), (56864, 9))"
      ]
     },
     "execution_count": 47,
     "metadata": {},
     "output_type": "execute_result"
    }
   ],
   "source": [
    "X_train.shape, X_test.shape"
   ]
  },
  {
   "cell_type": "markdown",
   "metadata": {},
   "source": [
    "Теперь определим наши признаки и запустим функцию создания пайплайна."
   ]
  },
  {
   "cell_type": "code",
   "execution_count": 48,
   "metadata": {},
   "outputs": [],
   "source": [
    "ord_columns = [\n",
    "    'gearbox', \n",
    "    'repaired',\n",
    "    'vehicle_type', \n",
    "    'fuel_type',\n",
    "    'brand',\n",
    "    'model',\n",
    "    'reg_year',\n",
    "    'km'\n",
    "]\n",
    "num_columns = ['power'] "
   ]
  },
  {
   "cell_type": "code",
   "execution_count": 49,
   "metadata": {},
   "outputs": [],
   "source": [
    "pipe(ord_columns, num_columns)"
   ]
  },
  {
   "cell_type": "markdown",
   "metadata": {},
   "source": [
    "***Вывод:*** На этом этапе мы провели подготовку данных (кодирование, масштабирование, обработка пропусков) с использованием пайплайна. И теперь мы готовы приступить к обучению моделей."
   ]
  },
  {
   "cell_type": "markdown",
   "metadata": {},
   "source": [
    "## Обучение моделей"
   ]
  },
  {
   "cell_type": "markdown",
   "metadata": {},
   "source": [
    "Так как целевой признак у нас непрерывный количественный, то для для обучения будем брать модели регрессии: дерево решений и модель градиентного бустинга LightGBM (для дерева решений и LightGBM используем перебор разных гиперпараметров). В качестве метрики используем RMSE."
   ]
  },
  {
   "cell_type": "code",
   "execution_count": 50,
   "metadata": {},
   "outputs": [],
   "source": [
    "param_grid = [\n",
    "    \n",
    "    {\n",
    "        'models': [DecisionTreeRegressor(random_state=RANDOM_STATE)],\n",
    "        'models__max_depth': range(7, 9),\n",
    "        'models__max_features': range(7, 9)\n",
    "    },\n",
    "    {\n",
    "        'models': [LGBMRegressor(random_state=RANDOM_STATE)],\n",
    "        'models__n_estimators': [10,50,100],\n",
    "        'models__max_depth': range(4, 7)    \n",
    "    }\n",
    "]"
   ]
  },
  {
   "cell_type": "markdown",
   "metadata": {},
   "source": [
    "Запустим обучение перебором, используя метод GridSearchCV."
   ]
  },
  {
   "cell_type": "code",
   "execution_count": 51,
   "metadata": {},
   "outputs": [
    {
     "data": {
      "text/html": [
       "<style>#sk-container-id-1 {\n",
       "  /* Definition of color scheme common for light and dark mode */\n",
       "  --sklearn-color-text: black;\n",
       "  --sklearn-color-line: gray;\n",
       "  /* Definition of color scheme for unfitted estimators */\n",
       "  --sklearn-color-unfitted-level-0: #fff5e6;\n",
       "  --sklearn-color-unfitted-level-1: #f6e4d2;\n",
       "  --sklearn-color-unfitted-level-2: #ffe0b3;\n",
       "  --sklearn-color-unfitted-level-3: chocolate;\n",
       "  /* Definition of color scheme for fitted estimators */\n",
       "  --sklearn-color-fitted-level-0: #f0f8ff;\n",
       "  --sklearn-color-fitted-level-1: #d4ebff;\n",
       "  --sklearn-color-fitted-level-2: #b3dbfd;\n",
       "  --sklearn-color-fitted-level-3: cornflowerblue;\n",
       "\n",
       "  /* Specific color for light theme */\n",
       "  --sklearn-color-text-on-default-background: var(--sg-text-color, var(--theme-code-foreground, var(--jp-content-font-color1, black)));\n",
       "  --sklearn-color-background: var(--sg-background-color, var(--theme-background, var(--jp-layout-color0, white)));\n",
       "  --sklearn-color-border-box: var(--sg-text-color, var(--theme-code-foreground, var(--jp-content-font-color1, black)));\n",
       "  --sklearn-color-icon: #696969;\n",
       "\n",
       "  @media (prefers-color-scheme: dark) {\n",
       "    /* Redefinition of color scheme for dark theme */\n",
       "    --sklearn-color-text-on-default-background: var(--sg-text-color, var(--theme-code-foreground, var(--jp-content-font-color1, white)));\n",
       "    --sklearn-color-background: var(--sg-background-color, var(--theme-background, var(--jp-layout-color0, #111)));\n",
       "    --sklearn-color-border-box: var(--sg-text-color, var(--theme-code-foreground, var(--jp-content-font-color1, white)));\n",
       "    --sklearn-color-icon: #878787;\n",
       "  }\n",
       "}\n",
       "\n",
       "#sk-container-id-1 {\n",
       "  color: var(--sklearn-color-text);\n",
       "}\n",
       "\n",
       "#sk-container-id-1 pre {\n",
       "  padding: 0;\n",
       "}\n",
       "\n",
       "#sk-container-id-1 input.sk-hidden--visually {\n",
       "  border: 0;\n",
       "  clip: rect(1px 1px 1px 1px);\n",
       "  clip: rect(1px, 1px, 1px, 1px);\n",
       "  height: 1px;\n",
       "  margin: -1px;\n",
       "  overflow: hidden;\n",
       "  padding: 0;\n",
       "  position: absolute;\n",
       "  width: 1px;\n",
       "}\n",
       "\n",
       "#sk-container-id-1 div.sk-dashed-wrapped {\n",
       "  border: 1px dashed var(--sklearn-color-line);\n",
       "  margin: 0 0.4em 0.5em 0.4em;\n",
       "  box-sizing: border-box;\n",
       "  padding-bottom: 0.4em;\n",
       "  background-color: var(--sklearn-color-background);\n",
       "}\n",
       "\n",
       "#sk-container-id-1 div.sk-container {\n",
       "  /* jupyter's `normalize.less` sets `[hidden] { display: none; }`\n",
       "     but bootstrap.min.css set `[hidden] { display: none !important; }`\n",
       "     so we also need the `!important` here to be able to override the\n",
       "     default hidden behavior on the sphinx rendered scikit-learn.org.\n",
       "     See: https://github.com/scikit-learn/scikit-learn/issues/21755 */\n",
       "  display: inline-block !important;\n",
       "  position: relative;\n",
       "}\n",
       "\n",
       "#sk-container-id-1 div.sk-text-repr-fallback {\n",
       "  display: none;\n",
       "}\n",
       "\n",
       "div.sk-parallel-item,\n",
       "div.sk-serial,\n",
       "div.sk-item {\n",
       "  /* draw centered vertical line to link estimators */\n",
       "  background-image: linear-gradient(var(--sklearn-color-text-on-default-background), var(--sklearn-color-text-on-default-background));\n",
       "  background-size: 2px 100%;\n",
       "  background-repeat: no-repeat;\n",
       "  background-position: center center;\n",
       "}\n",
       "\n",
       "/* Parallel-specific style estimator block */\n",
       "\n",
       "#sk-container-id-1 div.sk-parallel-item::after {\n",
       "  content: \"\";\n",
       "  width: 100%;\n",
       "  border-bottom: 2px solid var(--sklearn-color-text-on-default-background);\n",
       "  flex-grow: 1;\n",
       "}\n",
       "\n",
       "#sk-container-id-1 div.sk-parallel {\n",
       "  display: flex;\n",
       "  align-items: stretch;\n",
       "  justify-content: center;\n",
       "  background-color: var(--sklearn-color-background);\n",
       "  position: relative;\n",
       "}\n",
       "\n",
       "#sk-container-id-1 div.sk-parallel-item {\n",
       "  display: flex;\n",
       "  flex-direction: column;\n",
       "}\n",
       "\n",
       "#sk-container-id-1 div.sk-parallel-item:first-child::after {\n",
       "  align-self: flex-end;\n",
       "  width: 50%;\n",
       "}\n",
       "\n",
       "#sk-container-id-1 div.sk-parallel-item:last-child::after {\n",
       "  align-self: flex-start;\n",
       "  width: 50%;\n",
       "}\n",
       "\n",
       "#sk-container-id-1 div.sk-parallel-item:only-child::after {\n",
       "  width: 0;\n",
       "}\n",
       "\n",
       "/* Serial-specific style estimator block */\n",
       "\n",
       "#sk-container-id-1 div.sk-serial {\n",
       "  display: flex;\n",
       "  flex-direction: column;\n",
       "  align-items: center;\n",
       "  background-color: var(--sklearn-color-background);\n",
       "  padding-right: 1em;\n",
       "  padding-left: 1em;\n",
       "}\n",
       "\n",
       "\n",
       "/* Toggleable style: style used for estimator/Pipeline/ColumnTransformer box that is\n",
       "clickable and can be expanded/collapsed.\n",
       "- Pipeline and ColumnTransformer use this feature and define the default style\n",
       "- Estimators will overwrite some part of the style using the `sk-estimator` class\n",
       "*/\n",
       "\n",
       "/* Pipeline and ColumnTransformer style (default) */\n",
       "\n",
       "#sk-container-id-1 div.sk-toggleable {\n",
       "  /* Default theme specific background. It is overwritten whether we have a\n",
       "  specific estimator or a Pipeline/ColumnTransformer */\n",
       "  background-color: var(--sklearn-color-background);\n",
       "}\n",
       "\n",
       "/* Toggleable label */\n",
       "#sk-container-id-1 label.sk-toggleable__label {\n",
       "  cursor: pointer;\n",
       "  display: block;\n",
       "  width: 100%;\n",
       "  margin-bottom: 0;\n",
       "  padding: 0.5em;\n",
       "  box-sizing: border-box;\n",
       "  text-align: center;\n",
       "}\n",
       "\n",
       "#sk-container-id-1 label.sk-toggleable__label-arrow:before {\n",
       "  /* Arrow on the left of the label */\n",
       "  content: \"▸\";\n",
       "  float: left;\n",
       "  margin-right: 0.25em;\n",
       "  color: var(--sklearn-color-icon);\n",
       "}\n",
       "\n",
       "#sk-container-id-1 label.sk-toggleable__label-arrow:hover:before {\n",
       "  color: var(--sklearn-color-text);\n",
       "}\n",
       "\n",
       "/* Toggleable content - dropdown */\n",
       "\n",
       "#sk-container-id-1 div.sk-toggleable__content {\n",
       "  max-height: 0;\n",
       "  max-width: 0;\n",
       "  overflow: hidden;\n",
       "  text-align: left;\n",
       "  /* unfitted */\n",
       "  background-color: var(--sklearn-color-unfitted-level-0);\n",
       "}\n",
       "\n",
       "#sk-container-id-1 div.sk-toggleable__content.fitted {\n",
       "  /* fitted */\n",
       "  background-color: var(--sklearn-color-fitted-level-0);\n",
       "}\n",
       "\n",
       "#sk-container-id-1 div.sk-toggleable__content pre {\n",
       "  margin: 0.2em;\n",
       "  border-radius: 0.25em;\n",
       "  color: var(--sklearn-color-text);\n",
       "  /* unfitted */\n",
       "  background-color: var(--sklearn-color-unfitted-level-0);\n",
       "}\n",
       "\n",
       "#sk-container-id-1 div.sk-toggleable__content.fitted pre {\n",
       "  /* unfitted */\n",
       "  background-color: var(--sklearn-color-fitted-level-0);\n",
       "}\n",
       "\n",
       "#sk-container-id-1 input.sk-toggleable__control:checked~div.sk-toggleable__content {\n",
       "  /* Expand drop-down */\n",
       "  max-height: 200px;\n",
       "  max-width: 100%;\n",
       "  overflow: auto;\n",
       "}\n",
       "\n",
       "#sk-container-id-1 input.sk-toggleable__control:checked~label.sk-toggleable__label-arrow:before {\n",
       "  content: \"▾\";\n",
       "}\n",
       "\n",
       "/* Pipeline/ColumnTransformer-specific style */\n",
       "\n",
       "#sk-container-id-1 div.sk-label input.sk-toggleable__control:checked~label.sk-toggleable__label {\n",
       "  color: var(--sklearn-color-text);\n",
       "  background-color: var(--sklearn-color-unfitted-level-2);\n",
       "}\n",
       "\n",
       "#sk-container-id-1 div.sk-label.fitted input.sk-toggleable__control:checked~label.sk-toggleable__label {\n",
       "  background-color: var(--sklearn-color-fitted-level-2);\n",
       "}\n",
       "\n",
       "/* Estimator-specific style */\n",
       "\n",
       "/* Colorize estimator box */\n",
       "#sk-container-id-1 div.sk-estimator input.sk-toggleable__control:checked~label.sk-toggleable__label {\n",
       "  /* unfitted */\n",
       "  background-color: var(--sklearn-color-unfitted-level-2);\n",
       "}\n",
       "\n",
       "#sk-container-id-1 div.sk-estimator.fitted input.sk-toggleable__control:checked~label.sk-toggleable__label {\n",
       "  /* fitted */\n",
       "  background-color: var(--sklearn-color-fitted-level-2);\n",
       "}\n",
       "\n",
       "#sk-container-id-1 div.sk-label label.sk-toggleable__label,\n",
       "#sk-container-id-1 div.sk-label label {\n",
       "  /* The background is the default theme color */\n",
       "  color: var(--sklearn-color-text-on-default-background);\n",
       "}\n",
       "\n",
       "/* On hover, darken the color of the background */\n",
       "#sk-container-id-1 div.sk-label:hover label.sk-toggleable__label {\n",
       "  color: var(--sklearn-color-text);\n",
       "  background-color: var(--sklearn-color-unfitted-level-2);\n",
       "}\n",
       "\n",
       "/* Label box, darken color on hover, fitted */\n",
       "#sk-container-id-1 div.sk-label.fitted:hover label.sk-toggleable__label.fitted {\n",
       "  color: var(--sklearn-color-text);\n",
       "  background-color: var(--sklearn-color-fitted-level-2);\n",
       "}\n",
       "\n",
       "/* Estimator label */\n",
       "\n",
       "#sk-container-id-1 div.sk-label label {\n",
       "  font-family: monospace;\n",
       "  font-weight: bold;\n",
       "  display: inline-block;\n",
       "  line-height: 1.2em;\n",
       "}\n",
       "\n",
       "#sk-container-id-1 div.sk-label-container {\n",
       "  text-align: center;\n",
       "}\n",
       "\n",
       "/* Estimator-specific */\n",
       "#sk-container-id-1 div.sk-estimator {\n",
       "  font-family: monospace;\n",
       "  border: 1px dotted var(--sklearn-color-border-box);\n",
       "  border-radius: 0.25em;\n",
       "  box-sizing: border-box;\n",
       "  margin-bottom: 0.5em;\n",
       "  /* unfitted */\n",
       "  background-color: var(--sklearn-color-unfitted-level-0);\n",
       "}\n",
       "\n",
       "#sk-container-id-1 div.sk-estimator.fitted {\n",
       "  /* fitted */\n",
       "  background-color: var(--sklearn-color-fitted-level-0);\n",
       "}\n",
       "\n",
       "/* on hover */\n",
       "#sk-container-id-1 div.sk-estimator:hover {\n",
       "  /* unfitted */\n",
       "  background-color: var(--sklearn-color-unfitted-level-2);\n",
       "}\n",
       "\n",
       "#sk-container-id-1 div.sk-estimator.fitted:hover {\n",
       "  /* fitted */\n",
       "  background-color: var(--sklearn-color-fitted-level-2);\n",
       "}\n",
       "\n",
       "/* Specification for estimator info (e.g. \"i\" and \"?\") */\n",
       "\n",
       "/* Common style for \"i\" and \"?\" */\n",
       "\n",
       ".sk-estimator-doc-link,\n",
       "a:link.sk-estimator-doc-link,\n",
       "a:visited.sk-estimator-doc-link {\n",
       "  float: right;\n",
       "  font-size: smaller;\n",
       "  line-height: 1em;\n",
       "  font-family: monospace;\n",
       "  background-color: var(--sklearn-color-background);\n",
       "  border-radius: 1em;\n",
       "  height: 1em;\n",
       "  width: 1em;\n",
       "  text-decoration: none !important;\n",
       "  margin-left: 1ex;\n",
       "  /* unfitted */\n",
       "  border: var(--sklearn-color-unfitted-level-1) 1pt solid;\n",
       "  color: var(--sklearn-color-unfitted-level-1);\n",
       "}\n",
       "\n",
       ".sk-estimator-doc-link.fitted,\n",
       "a:link.sk-estimator-doc-link.fitted,\n",
       "a:visited.sk-estimator-doc-link.fitted {\n",
       "  /* fitted */\n",
       "  border: var(--sklearn-color-fitted-level-1) 1pt solid;\n",
       "  color: var(--sklearn-color-fitted-level-1);\n",
       "}\n",
       "\n",
       "/* On hover */\n",
       "div.sk-estimator:hover .sk-estimator-doc-link:hover,\n",
       ".sk-estimator-doc-link:hover,\n",
       "div.sk-label-container:hover .sk-estimator-doc-link:hover,\n",
       ".sk-estimator-doc-link:hover {\n",
       "  /* unfitted */\n",
       "  background-color: var(--sklearn-color-unfitted-level-3);\n",
       "  color: var(--sklearn-color-background);\n",
       "  text-decoration: none;\n",
       "}\n",
       "\n",
       "div.sk-estimator.fitted:hover .sk-estimator-doc-link.fitted:hover,\n",
       ".sk-estimator-doc-link.fitted:hover,\n",
       "div.sk-label-container:hover .sk-estimator-doc-link.fitted:hover,\n",
       ".sk-estimator-doc-link.fitted:hover {\n",
       "  /* fitted */\n",
       "  background-color: var(--sklearn-color-fitted-level-3);\n",
       "  color: var(--sklearn-color-background);\n",
       "  text-decoration: none;\n",
       "}\n",
       "\n",
       "/* Span, style for the box shown on hovering the info icon */\n",
       ".sk-estimator-doc-link span {\n",
       "  display: none;\n",
       "  z-index: 9999;\n",
       "  position: relative;\n",
       "  font-weight: normal;\n",
       "  right: .2ex;\n",
       "  padding: .5ex;\n",
       "  margin: .5ex;\n",
       "  width: min-content;\n",
       "  min-width: 20ex;\n",
       "  max-width: 50ex;\n",
       "  color: var(--sklearn-color-text);\n",
       "  box-shadow: 2pt 2pt 4pt #999;\n",
       "  /* unfitted */\n",
       "  background: var(--sklearn-color-unfitted-level-0);\n",
       "  border: .5pt solid var(--sklearn-color-unfitted-level-3);\n",
       "}\n",
       "\n",
       ".sk-estimator-doc-link.fitted span {\n",
       "  /* fitted */\n",
       "  background: var(--sklearn-color-fitted-level-0);\n",
       "  border: var(--sklearn-color-fitted-level-3);\n",
       "}\n",
       "\n",
       ".sk-estimator-doc-link:hover span {\n",
       "  display: block;\n",
       "}\n",
       "\n",
       "/* \"?\"-specific style due to the `<a>` HTML tag */\n",
       "\n",
       "#sk-container-id-1 a.estimator_doc_link {\n",
       "  float: right;\n",
       "  font-size: 1rem;\n",
       "  line-height: 1em;\n",
       "  font-family: monospace;\n",
       "  background-color: var(--sklearn-color-background);\n",
       "  border-radius: 1rem;\n",
       "  height: 1rem;\n",
       "  width: 1rem;\n",
       "  text-decoration: none;\n",
       "  /* unfitted */\n",
       "  color: var(--sklearn-color-unfitted-level-1);\n",
       "  border: var(--sklearn-color-unfitted-level-1) 1pt solid;\n",
       "}\n",
       "\n",
       "#sk-container-id-1 a.estimator_doc_link.fitted {\n",
       "  /* fitted */\n",
       "  border: var(--sklearn-color-fitted-level-1) 1pt solid;\n",
       "  color: var(--sklearn-color-fitted-level-1);\n",
       "}\n",
       "\n",
       "/* On hover */\n",
       "#sk-container-id-1 a.estimator_doc_link:hover {\n",
       "  /* unfitted */\n",
       "  background-color: var(--sklearn-color-unfitted-level-3);\n",
       "  color: var(--sklearn-color-background);\n",
       "  text-decoration: none;\n",
       "}\n",
       "\n",
       "#sk-container-id-1 a.estimator_doc_link.fitted:hover {\n",
       "  /* fitted */\n",
       "  background-color: var(--sklearn-color-fitted-level-3);\n",
       "}\n",
       "</style><div id=\"sk-container-id-1\" class=\"sk-top-container\"><div class=\"sk-text-repr-fallback\"><pre>GridSearchCV(cv=3,\n",
       "             estimator=Pipeline(steps=[(&#x27;preprocessor&#x27;,\n",
       "                                        ColumnTransformer(remainder=&#x27;passthrough&#x27;,\n",
       "                                                          transformers=[(&#x27;ord&#x27;,\n",
       "                                                                         Pipeline(steps=[(&#x27;simpleImputer_ord&#x27;,\n",
       "                                                                                          SimpleImputer(strategy=&#x27;most_frequent&#x27;)),\n",
       "                                                                                         (&#x27;ord&#x27;,\n",
       "                                                                                          OrdinalEncoder(handle_unknown=&#x27;use_encoded_value&#x27;,\n",
       "                                                                                                         unknown_value=nan))]),\n",
       "                                                                         [&#x27;gearbox&#x27;,\n",
       "                                                                          &#x27;repaired&#x27;,\n",
       "                                                                          &#x27;vehicle_type&#x27;,\n",
       "                                                                          &#x27;fuel_type&#x27;,\n",
       "                                                                          &#x27;brand&#x27;,\n",
       "                                                                          &#x27;model&#x27;,\n",
       "                                                                          &#x27;reg_...\n",
       "                                        DecisionTreeRegressor(max_depth=8,\n",
       "                                                              max_features=8,\n",
       "                                                              random_state=42))]),\n",
       "             n_jobs=-1,\n",
       "             param_grid=[{&#x27;models&#x27;: [DecisionTreeRegressor(random_state=42)],\n",
       "                          &#x27;models__max_depth&#x27;: range(7, 9),\n",
       "                          &#x27;models__max_features&#x27;: range(7, 9)},\n",
       "                         {&#x27;models&#x27;: [LGBMRegressor(random_state=42)],\n",
       "                          &#x27;models__max_depth&#x27;: range(4, 7),\n",
       "                          &#x27;models__n_estimators&#x27;: [10, 50, 100]}],\n",
       "             scoring=&#x27;neg_root_mean_squared_error&#x27;)</pre><b>In a Jupyter environment, please rerun this cell to show the HTML representation or trust the notebook. <br />On GitHub, the HTML representation is unable to render, please try loading this page with nbviewer.org.</b></div><div class=\"sk-container\" hidden><div class=\"sk-item sk-dashed-wrapped\"><div class=\"sk-label-container\"><div class=\"sk-label fitted sk-toggleable\"><input class=\"sk-toggleable__control sk-hidden--visually\" id=\"sk-estimator-id-1\" type=\"checkbox\" ><label for=\"sk-estimator-id-1\" class=\"sk-toggleable__label fitted sk-toggleable__label-arrow fitted\">&nbsp;&nbsp;GridSearchCV<a class=\"sk-estimator-doc-link fitted\" rel=\"noreferrer\" target=\"_blank\" href=\"https://scikit-learn.org/1.4/modules/generated/sklearn.model_selection.GridSearchCV.html\">?<span>Documentation for GridSearchCV</span></a><span class=\"sk-estimator-doc-link fitted\">i<span>Fitted</span></span></label><div class=\"sk-toggleable__content fitted\"><pre>GridSearchCV(cv=3,\n",
       "             estimator=Pipeline(steps=[(&#x27;preprocessor&#x27;,\n",
       "                                        ColumnTransformer(remainder=&#x27;passthrough&#x27;,\n",
       "                                                          transformers=[(&#x27;ord&#x27;,\n",
       "                                                                         Pipeline(steps=[(&#x27;simpleImputer_ord&#x27;,\n",
       "                                                                                          SimpleImputer(strategy=&#x27;most_frequent&#x27;)),\n",
       "                                                                                         (&#x27;ord&#x27;,\n",
       "                                                                                          OrdinalEncoder(handle_unknown=&#x27;use_encoded_value&#x27;,\n",
       "                                                                                                         unknown_value=nan))]),\n",
       "                                                                         [&#x27;gearbox&#x27;,\n",
       "                                                                          &#x27;repaired&#x27;,\n",
       "                                                                          &#x27;vehicle_type&#x27;,\n",
       "                                                                          &#x27;fuel_type&#x27;,\n",
       "                                                                          &#x27;brand&#x27;,\n",
       "                                                                          &#x27;model&#x27;,\n",
       "                                                                          &#x27;reg_...\n",
       "                                        DecisionTreeRegressor(max_depth=8,\n",
       "                                                              max_features=8,\n",
       "                                                              random_state=42))]),\n",
       "             n_jobs=-1,\n",
       "             param_grid=[{&#x27;models&#x27;: [DecisionTreeRegressor(random_state=42)],\n",
       "                          &#x27;models__max_depth&#x27;: range(7, 9),\n",
       "                          &#x27;models__max_features&#x27;: range(7, 9)},\n",
       "                         {&#x27;models&#x27;: [LGBMRegressor(random_state=42)],\n",
       "                          &#x27;models__max_depth&#x27;: range(4, 7),\n",
       "                          &#x27;models__n_estimators&#x27;: [10, 50, 100]}],\n",
       "             scoring=&#x27;neg_root_mean_squared_error&#x27;)</pre></div> </div></div><div class=\"sk-parallel\"><div class=\"sk-parallel-item\"><div class=\"sk-item\"><div class=\"sk-label-container\"><div class=\"sk-label fitted sk-toggleable\"><input class=\"sk-toggleable__control sk-hidden--visually\" id=\"sk-estimator-id-2\" type=\"checkbox\" ><label for=\"sk-estimator-id-2\" class=\"sk-toggleable__label fitted sk-toggleable__label-arrow fitted\">estimator: Pipeline</label><div class=\"sk-toggleable__content fitted\"><pre>Pipeline(steps=[(&#x27;preprocessor&#x27;,\n",
       "                 ColumnTransformer(remainder=&#x27;passthrough&#x27;,\n",
       "                                   transformers=[(&#x27;ord&#x27;,\n",
       "                                                  Pipeline(steps=[(&#x27;simpleImputer_ord&#x27;,\n",
       "                                                                   SimpleImputer(strategy=&#x27;most_frequent&#x27;)),\n",
       "                                                                  (&#x27;ord&#x27;,\n",
       "                                                                   OrdinalEncoder(handle_unknown=&#x27;use_encoded_value&#x27;,\n",
       "                                                                                  unknown_value=nan))]),\n",
       "                                                  [&#x27;gearbox&#x27;, &#x27;repaired&#x27;,\n",
       "                                                   &#x27;vehicle_type&#x27;, &#x27;fuel_type&#x27;,\n",
       "                                                   &#x27;brand&#x27;, &#x27;model&#x27;, &#x27;reg_year&#x27;,\n",
       "                                                   &#x27;km&#x27;]),\n",
       "                                                 (&#x27;num&#x27;, StandardScaler(),\n",
       "                                                  [&#x27;power&#x27;])])),\n",
       "                (&#x27;models&#x27;,\n",
       "                 DecisionTreeRegressor(max_depth=8, max_features=8,\n",
       "                                       random_state=42))])</pre></div> </div></div><div class=\"sk-serial\"><div class=\"sk-item\"><div class=\"sk-serial\"><div class=\"sk-item sk-dashed-wrapped\"><div class=\"sk-label-container\"><div class=\"sk-label fitted sk-toggleable\"><input class=\"sk-toggleable__control sk-hidden--visually\" id=\"sk-estimator-id-3\" type=\"checkbox\" ><label for=\"sk-estimator-id-3\" class=\"sk-toggleable__label fitted sk-toggleable__label-arrow fitted\">&nbsp;preprocessor: ColumnTransformer<a class=\"sk-estimator-doc-link fitted\" rel=\"noreferrer\" target=\"_blank\" href=\"https://scikit-learn.org/1.4/modules/generated/sklearn.compose.ColumnTransformer.html\">?<span>Documentation for preprocessor: ColumnTransformer</span></a></label><div class=\"sk-toggleable__content fitted\"><pre>ColumnTransformer(remainder=&#x27;passthrough&#x27;,\n",
       "                  transformers=[(&#x27;ord&#x27;,\n",
       "                                 Pipeline(steps=[(&#x27;simpleImputer_ord&#x27;,\n",
       "                                                  SimpleImputer(strategy=&#x27;most_frequent&#x27;)),\n",
       "                                                 (&#x27;ord&#x27;,\n",
       "                                                  OrdinalEncoder(handle_unknown=&#x27;use_encoded_value&#x27;,\n",
       "                                                                 unknown_value=nan))]),\n",
       "                                 [&#x27;gearbox&#x27;, &#x27;repaired&#x27;, &#x27;vehicle_type&#x27;,\n",
       "                                  &#x27;fuel_type&#x27;, &#x27;brand&#x27;, &#x27;model&#x27;, &#x27;reg_year&#x27;,\n",
       "                                  &#x27;km&#x27;]),\n",
       "                                (&#x27;num&#x27;, StandardScaler(), [&#x27;power&#x27;])])</pre></div> </div></div><div class=\"sk-parallel\"><div class=\"sk-parallel-item\"><div class=\"sk-item\"><div class=\"sk-label-container\"><div class=\"sk-label fitted sk-toggleable\"><input class=\"sk-toggleable__control sk-hidden--visually\" id=\"sk-estimator-id-4\" type=\"checkbox\" ><label for=\"sk-estimator-id-4\" class=\"sk-toggleable__label fitted sk-toggleable__label-arrow fitted\">ord</label><div class=\"sk-toggleable__content fitted\"><pre>[&#x27;gearbox&#x27;, &#x27;repaired&#x27;, &#x27;vehicle_type&#x27;, &#x27;fuel_type&#x27;, &#x27;brand&#x27;, &#x27;model&#x27;, &#x27;reg_year&#x27;, &#x27;km&#x27;]</pre></div> </div></div><div class=\"sk-serial\"><div class=\"sk-item\"><div class=\"sk-serial\"><div class=\"sk-item\"><div class=\"sk-estimator fitted sk-toggleable\"><input class=\"sk-toggleable__control sk-hidden--visually\" id=\"sk-estimator-id-5\" type=\"checkbox\" ><label for=\"sk-estimator-id-5\" class=\"sk-toggleable__label fitted sk-toggleable__label-arrow fitted\">&nbsp;SimpleImputer<a class=\"sk-estimator-doc-link fitted\" rel=\"noreferrer\" target=\"_blank\" href=\"https://scikit-learn.org/1.4/modules/generated/sklearn.impute.SimpleImputer.html\">?<span>Documentation for SimpleImputer</span></a></label><div class=\"sk-toggleable__content fitted\"><pre>SimpleImputer(strategy=&#x27;most_frequent&#x27;)</pre></div> </div></div><div class=\"sk-item\"><div class=\"sk-estimator fitted sk-toggleable\"><input class=\"sk-toggleable__control sk-hidden--visually\" id=\"sk-estimator-id-6\" type=\"checkbox\" ><label for=\"sk-estimator-id-6\" class=\"sk-toggleable__label fitted sk-toggleable__label-arrow fitted\">&nbsp;OrdinalEncoder<a class=\"sk-estimator-doc-link fitted\" rel=\"noreferrer\" target=\"_blank\" href=\"https://scikit-learn.org/1.4/modules/generated/sklearn.preprocessing.OrdinalEncoder.html\">?<span>Documentation for OrdinalEncoder</span></a></label><div class=\"sk-toggleable__content fitted\"><pre>OrdinalEncoder(handle_unknown=&#x27;use_encoded_value&#x27;, unknown_value=nan)</pre></div> </div></div></div></div></div></div></div><div class=\"sk-parallel-item\"><div class=\"sk-item\"><div class=\"sk-label-container\"><div class=\"sk-label fitted sk-toggleable\"><input class=\"sk-toggleable__control sk-hidden--visually\" id=\"sk-estimator-id-7\" type=\"checkbox\" ><label for=\"sk-estimator-id-7\" class=\"sk-toggleable__label fitted sk-toggleable__label-arrow fitted\">num</label><div class=\"sk-toggleable__content fitted\"><pre>[&#x27;power&#x27;]</pre></div> </div></div><div class=\"sk-serial\"><div class=\"sk-item\"><div class=\"sk-estimator fitted sk-toggleable\"><input class=\"sk-toggleable__control sk-hidden--visually\" id=\"sk-estimator-id-8\" type=\"checkbox\" ><label for=\"sk-estimator-id-8\" class=\"sk-toggleable__label fitted sk-toggleable__label-arrow fitted\">&nbsp;StandardScaler<a class=\"sk-estimator-doc-link fitted\" rel=\"noreferrer\" target=\"_blank\" href=\"https://scikit-learn.org/1.4/modules/generated/sklearn.preprocessing.StandardScaler.html\">?<span>Documentation for StandardScaler</span></a></label><div class=\"sk-toggleable__content fitted\"><pre>StandardScaler()</pre></div> </div></div></div></div></div><div class=\"sk-parallel-item\"><div class=\"sk-item\"><div class=\"sk-label-container\"><div class=\"sk-label fitted sk-toggleable\"><input class=\"sk-toggleable__control sk-hidden--visually\" id=\"sk-estimator-id-9\" type=\"checkbox\" ><label for=\"sk-estimator-id-9\" class=\"sk-toggleable__label fitted sk-toggleable__label-arrow fitted\">remainder</label><div class=\"sk-toggleable__content fitted\"><pre></pre></div> </div></div><div class=\"sk-serial\"><div class=\"sk-item\"><div class=\"sk-estimator fitted sk-toggleable\"><input class=\"sk-toggleable__control sk-hidden--visually\" id=\"sk-estimator-id-10\" type=\"checkbox\" ><label for=\"sk-estimator-id-10\" class=\"sk-toggleable__label fitted sk-toggleable__label-arrow fitted\">passthrough</label><div class=\"sk-toggleable__content fitted\"><pre>passthrough</pre></div> </div></div></div></div></div></div></div><div class=\"sk-item\"><div class=\"sk-estimator fitted sk-toggleable\"><input class=\"sk-toggleable__control sk-hidden--visually\" id=\"sk-estimator-id-11\" type=\"checkbox\" ><label for=\"sk-estimator-id-11\" class=\"sk-toggleable__label fitted sk-toggleable__label-arrow fitted\">&nbsp;DecisionTreeRegressor<a class=\"sk-estimator-doc-link fitted\" rel=\"noreferrer\" target=\"_blank\" href=\"https://scikit-learn.org/1.4/modules/generated/sklearn.tree.DecisionTreeRegressor.html\">?<span>Documentation for DecisionTreeRegressor</span></a></label><div class=\"sk-toggleable__content fitted\"><pre>DecisionTreeRegressor(max_depth=8, max_features=8, random_state=42)</pre></div> </div></div></div></div></div></div></div></div></div></div></div>"
      ],
      "text/plain": [
       "GridSearchCV(cv=3,\n",
       "             estimator=Pipeline(steps=[('preprocessor',\n",
       "                                        ColumnTransformer(remainder='passthrough',\n",
       "                                                          transformers=[('ord',\n",
       "                                                                         Pipeline(steps=[('simpleImputer_ord',\n",
       "                                                                                          SimpleImputer(strategy='most_frequent')),\n",
       "                                                                                         ('ord',\n",
       "                                                                                          OrdinalEncoder(handle_unknown='use_encoded_value',\n",
       "                                                                                                         unknown_value=nan))]),\n",
       "                                                                         ['gearbox',\n",
       "                                                                          'repaired',\n",
       "                                                                          'vehicle_type',\n",
       "                                                                          'fuel_type',\n",
       "                                                                          'brand',\n",
       "                                                                          'model',\n",
       "                                                                          'reg_...\n",
       "                                        DecisionTreeRegressor(max_depth=8,\n",
       "                                                              max_features=8,\n",
       "                                                              random_state=42))]),\n",
       "             n_jobs=-1,\n",
       "             param_grid=[{'models': [DecisionTreeRegressor(random_state=42)],\n",
       "                          'models__max_depth': range(7, 9),\n",
       "                          'models__max_features': range(7, 9)},\n",
       "                         {'models': [LGBMRegressor(random_state=42)],\n",
       "                          'models__max_depth': range(4, 7),\n",
       "                          'models__n_estimators': [10, 50, 100]}],\n",
       "             scoring='neg_root_mean_squared_error')"
      ]
     },
     "execution_count": 51,
     "metadata": {},
     "output_type": "execute_result"
    }
   ],
   "source": [
    "grid = GridSearchCV(\n",
    "    pipe_final, \n",
    "    param_grid=param_grid, \n",
    "    cv=3,\n",
    "    scoring='neg_root_mean_squared_error',\n",
    "    n_jobs=-1\n",
    ")\n",
    "grid.fit(X_train, y_train)"
   ]
  },
  {
   "cell_type": "markdown",
   "metadata": {},
   "source": [
    "Теперь выберем лучшую модель и посмотрим ее метрику."
   ]
  },
  {
   "cell_type": "code",
   "execution_count": 52,
   "metadata": {},
   "outputs": [
    {
     "name": "stdout",
     "output_type": "stream",
     "text": [
      "Лучшая модель и её параметры:\n",
      "\n",
      " Pipeline(steps=[('preprocessor',\n",
      "                 ColumnTransformer(remainder='passthrough',\n",
      "                                   transformers=[('ord',\n",
      "                                                  Pipeline(steps=[('simpleImputer_ord',\n",
      "                                                                   SimpleImputer(strategy='most_frequent')),\n",
      "                                                                  ('ord',\n",
      "                                                                   OrdinalEncoder(handle_unknown='use_encoded_value',\n",
      "                                                                                  unknown_value=nan))]),\n",
      "                                                  ['gearbox', 'repaired',\n",
      "                                                   'vehicle_type', 'fuel_type',\n",
      "                                                   'brand', 'model', 'reg_year',\n",
      "                                                   'km']),\n",
      "                                                 ('num', StandardScaler(),\n",
      "                                                  ['power'])])),\n",
      "                ('models', LGBMRegressor(max_depth=6, random_state=42))])\n",
      "Метрика лучшей модели на тренировочной выборке: 1739.7879535583033\n"
     ]
    }
   ],
   "source": [
    "print('Лучшая модель и её параметры:\\n\\n', grid.best_estimator_)\n",
    "print ('Метрика лучшей модели на тренировочной выборке:', grid.best_score_*-1)"
   ]
  },
  {
   "cell_type": "markdown",
   "metadata": {},
   "source": [
    "***Вывод:*** Лучшей моделью получилась модель LightGBM с максимальной глубиной - 6 и количеством деревьев - 100. Но так как заказчику важно не только качество предсказания, но и время обучения и предсказания, нам нужно проанализировать другие модели."
   ]
  },
  {
   "cell_type": "markdown",
   "metadata": {},
   "source": [
    "## Анализ моделей"
   ]
  },
  {
   "cell_type": "markdown",
   "metadata": {},
   "source": [
    "Для анализа моделей выведем таблицу с лучшими результатами моделей. Для этого сгруппируем результаты по названию модели и минимальному значению RMSE. Оставим в таблице только гиперпараметры лучших моделей, а также время обучения и время предсказания."
   ]
  },
  {
   "cell_type": "code",
   "execution_count": 53,
   "metadata": {
    "scrolled": true
   },
   "outputs": [
    {
     "data": {
      "text/html": [
       "<div>\n",
       "<style scoped>\n",
       "    .dataframe tbody tr th:only-of-type {\n",
       "        vertical-align: middle;\n",
       "    }\n",
       "\n",
       "    .dataframe tbody tr th {\n",
       "        vertical-align: top;\n",
       "    }\n",
       "\n",
       "    .dataframe thead th {\n",
       "        text-align: right;\n",
       "    }\n",
       "</style>\n",
       "<table border=\"1\" class=\"dataframe\">\n",
       "  <thead>\n",
       "    <tr style=\"text-align: right;\">\n",
       "      <th></th>\n",
       "      <th>min_rmse</th>\n",
       "      <th>mean_fit_time</th>\n",
       "      <th>mean_score_time</th>\n",
       "      <th>param_models</th>\n",
       "      <th>param_models__max_depth</th>\n",
       "      <th>param_models__max_features</th>\n",
       "      <th>param_models__n_estimators</th>\n",
       "    </tr>\n",
       "  </thead>\n",
       "  <tbody>\n",
       "    <tr>\n",
       "      <th>0</th>\n",
       "      <td>2142.934251</td>\n",
       "      <td>0.594622</td>\n",
       "      <td>0.145437</td>\n",
       "      <td>DecisionTreeRegressor(random_state=42)</td>\n",
       "      <td>8</td>\n",
       "      <td>8</td>\n",
       "      <td>NaN</td>\n",
       "    </tr>\n",
       "    <tr>\n",
       "      <th>1</th>\n",
       "      <td>1739.787954</td>\n",
       "      <td>14.165761</td>\n",
       "      <td>0.666201</td>\n",
       "      <td>LGBMRegressor(random_state=42)</td>\n",
       "      <td>6</td>\n",
       "      <td>NaN</td>\n",
       "      <td>100</td>\n",
       "    </tr>\n",
       "  </tbody>\n",
       "</table>\n",
       "</div>"
      ],
      "text/plain": [
       "      min_rmse  mean_fit_time  mean_score_time  \\\n",
       "0  2142.934251       0.594622         0.145437   \n",
       "1  1739.787954      14.165761         0.666201   \n",
       "\n",
       "                             param_models param_models__max_depth  \\\n",
       "0  DecisionTreeRegressor(random_state=42)                       8   \n",
       "1          LGBMRegressor(random_state=42)                       6   \n",
       "\n",
       "  param_models__max_features param_models__n_estimators  \n",
       "0                          8                        NaN  \n",
       "1                        NaN                        100  "
      ]
     },
     "execution_count": 53,
     "metadata": {},
     "output_type": "execute_result"
    }
   ],
   "source": [
    "res = pd.DataFrame(grid.cv_results_)\n",
    "res.mean_test_score = res.mean_test_score * -1\n",
    "res['param_models'] = res['param_models'].astype('category')\n",
    "t=res.pivot_table(index='param_models', values='mean_test_score', aggfunc='min')\n",
    "t.columns = ['min_rmse']\n",
    "res1=t.merge(res, left_on='min_rmse', right_on='mean_test_score', how='left')\n",
    "res1.drop(['std_fit_time', 'std_score_time', 'params',\n",
    "       'split0_test_score', 'split1_test_score', 'split2_test_score',\n",
    "       'mean_test_score', 'std_test_score', 'rank_test_score'], axis=1)"
   ]
  },
  {
   "cell_type": "markdown",
   "metadata": {},
   "source": [
    "Таким образом видно, что модель дерево решений с максимальной глубиной 8 и числом элементов 8 имеет допустимый по условиям заказчика RMSE (до 2500) и по времени обучения и предсказания обходит лучшую модель LightGBM. Так что будем использовать именно эту модель с такими параметрами."
   ]
  },
  {
   "cell_type": "code",
   "execution_count": 54,
   "metadata": {},
   "outputs": [
    {
     "data": {
      "text/plain": [
       "2135.1060847678445"
      ]
     },
     "execution_count": 54,
     "metadata": {},
     "output_type": "execute_result"
    }
   ],
   "source": [
    "pipe_final.fit(X_train, y_train)\n",
    "y_pred = pipe_final.predict(X_test)\n",
    "root_mean_squared_error(y_test, y_pred)"
   ]
  },
  {
   "cell_type": "markdown",
   "metadata": {},
   "source": [
    "***Выводы:*** После анализа моделей оптимальной получилась модель Дерево решений с максимальной глубиной - 8 и количеством элементов - 8, на ней мы получили предсказания для тестовой выборки. Результат RMSE вышел 2135."
   ]
  },
  {
   "cell_type": "markdown",
   "metadata": {},
   "source": [
    "Проверим лучшую модель на адекватность, сравнив ее предсказания с качеством модели, которая предсказывает константу. Для этого используем модель DummyRegressor."
   ]
  },
  {
   "cell_type": "code",
   "execution_count": 55,
   "metadata": {},
   "outputs": [
    {
     "data": {
      "text/plain": [
       "4660.759651100207"
      ]
     },
     "execution_count": 55,
     "metadata": {},
     "output_type": "execute_result"
    }
   ],
   "source": [
    "dummy_regr = DummyRegressor(strategy=\"mean\")\n",
    "dummy_regr.fit(X_train, y_train)\n",
    "y_pred = dummy_regr.predict(X_test)\n",
    "root_mean_squared_error(y_test, y_pred)"
   ]
  },
  {
   "cell_type": "markdown",
   "metadata": {},
   "source": [
    "Результат константной модели на тестовой выборке получился 4660, что намного хуже модели LightGBM."
   ]
  },
  {
   "cell_type": "markdown",
   "metadata": {},
   "source": [
    "## Итоговые выводы\n",
    "\n",
    "Мы провели большую работу по определению стоимости автомобилей. На пути к выполнению этой задачи мы провели следующую работу:\n",
    "1. Провели загрузку данных и получили общаю информацию, которая показала, что в датасете имеется 354369 строк, есть пропущенные значения в пяти колонках, имеется 4 дубликата, форматы данных соответствуют данным кроме трех колонок с датами и временем, так же формат наименования колонок не совсем верный.\n",
    "2. Провели предобработку данных. На этом этапе мы поменяли названия колонок, преобразовали форматы данных у колонок с датой, удалили дубликаты, проверили данные на ошибки в категориальных признаках. Проверили количественных данные на достоверность, в колонках с ценой, годом регистрации и мощностью двигателя нашли ошибочные значения и удалили их, кроме того добавили новую колонку, показывающую срок продажи автомобиля. Удалили несколько неинформативных колонок.\n",
    "3. Провели исследовательский анализ данных, посмотрели распределение данных по всем признакам, по итогам анализа можно сказать, что данные выглядят более-менее достоверно, особых выбросов нет, при проведении корреляционного анализа утечки целевого признака не обнаружено, но найдена прямая зависимость между моделью и маркой автомобиля, кроме того анализ показал, что признак с почтовым кодом практически не влияет на целевой признак, поэтому признаки с моделью и почтовым кодом были удалены.\n",
    "4. Провели подготовку данных (кодирование, масштабирование, обработка пропусков) с использованием пайплайна.\n",
    "5. Так как целевой признак у нас непрерывный количественный, то для для обучения взяли модели регрессии: модель линейной регрессии, дерево решений и модель градиентного бустинга LightGBM (для дерева решений и LightGBM используем перебор разных гиперпараметров). В качестве метрики качества использовали RMSE. Лучшей моделью получилась модель LightGBM с максимальной глубиной - 6 и количеством деревьев - 100. Но так как заказчику важно не только качество предсказания, но и время обучения и предсказания, то нужно было проанализировать другие модели.\n",
    "6. Для анализа моделей вывели таблицу с результатами всех обученных моделей. По итогам анализа получилось, что оптимальной является модель Дерево решений с максимальной глубиной - 8 и количеством элементов - 8, у нее и RMSE в допустимых пределах и время обучения и предсказания меньше других моделей. На этой модели получили предсказания для тестовой выборки, показатель RMSE получился 2135. Именно эту модель и будем рекомендовать заказчику."
   ]
  },
 ],
 "metadata": {
  "ExecuteTimeLog": [
   {
    "duration": 1872,
    "start_time": "2024-03-06T09:19:09.303Z"
   },
   {
    "duration": 4,
    "start_time": "2024-03-06T09:19:18.911Z"
   },
   {
    "duration": 5,
    "start_time": "2024-03-06T09:19:19.869Z"
   },
   {
    "duration": 6,
    "start_time": "2024-03-06T09:19:21.029Z"
   },
   {
    "duration": 3036,
    "start_time": "2024-03-06T09:21:27.265Z"
   },
   {
    "duration": 25,
    "start_time": "2024-03-06T09:23:58.296Z"
   },
   {
    "duration": 926,
    "start_time": "2024-03-06T09:25:23.727Z"
   },
   {
    "duration": 4,
    "start_time": "2024-03-06T10:18:59.907Z"
   },
   {
    "duration": 122,
    "start_time": "2024-03-06T10:25:56.707Z"
   },
   {
    "duration": 328,
    "start_time": "2024-03-06T10:33:48.824Z"
   },
   {
    "duration": 752,
    "start_time": "2024-03-06T10:33:58.667Z"
   },
   {
    "duration": 115,
    "start_time": "2024-03-06T10:34:10.019Z"
   },
   {
    "duration": 15,
    "start_time": "2024-03-06T10:34:29.884Z"
   },
   {
    "duration": 326,
    "start_time": "2024-03-06T10:38:22.812Z"
   },
   {
    "duration": 348,
    "start_time": "2024-03-06T10:40:11.080Z"
   },
   {
    "duration": 347,
    "start_time": "2024-03-06T10:40:18.209Z"
   },
   {
    "duration": 275,
    "start_time": "2024-03-06T10:40:49.991Z"
   },
   {
    "duration": 422,
    "start_time": "2024-03-06T10:40:59.787Z"
   },
   {
    "duration": 226,
    "start_time": "2024-03-06T10:41:26.472Z"
   },
   {
    "duration": 2039,
    "start_time": "2024-03-06T10:48:27.383Z"
   },
   {
    "duration": 17,
    "start_time": "2024-03-06T10:51:08.196Z"
   },
   {
    "duration": 42,
    "start_time": "2024-03-06T11:34:25.969Z"
   },
   {
    "duration": 42,
    "start_time": "2024-03-06T12:23:07.691Z"
   },
   {
    "duration": 35,
    "start_time": "2024-03-06T12:24:35.128Z"
   },
   {
    "duration": 26,
    "start_time": "2024-03-06T12:24:48.956Z"
   },
   {
    "duration": 40,
    "start_time": "2024-03-06T12:25:05.183Z"
   },
   {
    "duration": 24,
    "start_time": "2024-03-06T12:25:40.800Z"
   },
   {
    "duration": 13,
    "start_time": "2024-03-06T12:25:59.935Z"
   },
   {
    "duration": 15,
    "start_time": "2024-03-06T12:26:05.701Z"
   },
   {
    "duration": 28,
    "start_time": "2024-03-06T12:26:28.398Z"
   },
   {
    "duration": 43,
    "start_time": "2024-03-06T12:30:26.833Z"
   },
   {
    "duration": 14,
    "start_time": "2024-03-06T12:35:26.731Z"
   },
   {
    "duration": 68,
    "start_time": "2024-03-06T12:35:28.070Z"
   },
   {
    "duration": 37,
    "start_time": "2024-03-06T12:35:40.413Z"
   },
   {
    "duration": 44,
    "start_time": "2024-03-06T12:36:29.212Z"
   },
   {
    "duration": 44,
    "start_time": "2024-03-06T12:36:35.433Z"
   },
   {
    "duration": 35,
    "start_time": "2024-03-06T12:40:10.045Z"
   },
   {
    "duration": 35,
    "start_time": "2024-03-06T12:40:14.425Z"
   },
   {
    "duration": 53,
    "start_time": "2024-03-06T12:40:16.616Z"
   },
   {
    "duration": 34,
    "start_time": "2024-03-06T12:47:27.408Z"
   },
   {
    "duration": 34,
    "start_time": "2024-03-06T12:47:54.229Z"
   },
   {
    "duration": 58,
    "start_time": "2024-03-06T12:53:47.202Z"
   },
   {
    "duration": 68,
    "start_time": "2024-03-06T12:55:02.274Z"
   },
   {
    "duration": 64,
    "start_time": "2024-03-06T12:55:31.966Z"
   },
   {
    "duration": 170,
    "start_time": "2024-03-06T12:55:43.287Z"
   },
   {
    "duration": 32,
    "start_time": "2024-03-06T12:57:48.497Z"
   },
   {
    "duration": 28,
    "start_time": "2024-03-06T12:58:53.154Z"
   },
   {
    "duration": 56,
    "start_time": "2024-03-06T12:59:36.786Z"
   },
   {
    "duration": 31,
    "start_time": "2024-03-06T13:00:35.712Z"
   },
   {
    "duration": 28,
    "start_time": "2024-03-06T13:01:06.450Z"
   },
   {
    "duration": 1358,
    "start_time": "2024-03-06T13:01:55.403Z"
   },
   {
    "duration": 61,
    "start_time": "2024-03-06T13:03:29.270Z"
   },
   {
    "duration": 40,
    "start_time": "2024-03-06T13:03:42.304Z"
   },
   {
    "duration": 31,
    "start_time": "2024-03-06T13:04:27.336Z"
   },
   {
    "duration": 58,
    "start_time": "2024-03-06T13:04:40.127Z"
   },
   {
    "duration": 23,
    "start_time": "2024-03-06T13:04:54.416Z"
   },
   {
    "duration": 21,
    "start_time": "2024-03-06T13:06:04.620Z"
   },
   {
    "duration": 27,
    "start_time": "2024-03-06T13:06:14.702Z"
   },
   {
    "duration": 47,
    "start_time": "2024-03-06T13:07:03.270Z"
   },
   {
    "duration": 1707,
    "start_time": "2024-03-06T13:07:46.931Z"
   },
   {
    "duration": 4,
    "start_time": "2024-03-06T13:07:48.640Z"
   },
   {
    "duration": 23,
    "start_time": "2024-03-06T13:07:48.645Z"
   },
   {
    "duration": 16,
    "start_time": "2024-03-06T13:07:48.670Z"
   },
   {
    "duration": 1110,
    "start_time": "2024-03-06T13:07:48.687Z"
   },
   {
    "duration": 26,
    "start_time": "2024-03-06T13:07:49.799Z"
   },
   {
    "duration": 1043,
    "start_time": "2024-03-06T13:07:49.828Z"
   },
   {
    "duration": 3,
    "start_time": "2024-03-06T13:07:50.873Z"
   },
   {
    "duration": 472,
    "start_time": "2024-03-06T13:07:50.878Z"
   },
   {
    "duration": 818,
    "start_time": "2024-03-06T13:07:51.354Z"
   },
   {
    "duration": 407,
    "start_time": "2024-03-06T13:07:52.173Z"
   },
   {
    "duration": 378,
    "start_time": "2024-03-06T13:07:52.582Z"
   },
   {
    "duration": 498,
    "start_time": "2024-03-06T13:07:52.962Z"
   },
   {
    "duration": 365,
    "start_time": "2024-03-06T13:07:53.462Z"
   },
   {
    "duration": 510,
    "start_time": "2024-03-06T13:07:53.829Z"
   },
   {
    "duration": 301,
    "start_time": "2024-03-06T13:07:54.341Z"
   },
   {
    "duration": 2306,
    "start_time": "2024-03-06T13:07:54.644Z"
   },
   {
    "duration": 16,
    "start_time": "2024-03-06T13:07:56.952Z"
   },
   {
    "duration": 50,
    "start_time": "2024-03-06T13:07:56.970Z"
   },
   {
    "duration": 36,
    "start_time": "2024-03-06T13:07:57.022Z"
   },
   {
    "duration": 87,
    "start_time": "2024-03-06T13:07:57.060Z"
   },
   {
    "duration": 35,
    "start_time": "2024-03-06T13:07:57.149Z"
   },
   {
    "duration": 25,
    "start_time": "2024-03-06T13:07:57.186Z"
   },
   {
    "duration": 24,
    "start_time": "2024-03-06T13:07:57.220Z"
   },
   {
    "duration": 1297,
    "start_time": "2024-03-06T13:07:57.245Z"
   },
   {
    "duration": 31,
    "start_time": "2024-03-06T15:17:20.394Z"
   },
   {
    "duration": 40,
    "start_time": "2024-03-06T15:17:46.249Z"
   },
   {
    "duration": 28,
    "start_time": "2024-03-06T15:17:56.983Z"
   },
   {
    "duration": 21,
    "start_time": "2024-03-06T15:18:04.632Z"
   },
   {
    "duration": 23,
    "start_time": "2024-03-06T15:18:15.400Z"
   },
   {
    "duration": 16,
    "start_time": "2024-03-06T15:18:26.054Z"
   },
   {
    "duration": 21,
    "start_time": "2024-03-06T15:22:08.828Z"
   },
   {
    "duration": 17,
    "start_time": "2024-03-06T15:22:17.260Z"
   },
   {
    "duration": 14,
    "start_time": "2024-03-06T15:22:32.075Z"
   },
   {
    "duration": 21,
    "start_time": "2024-03-06T15:22:42.331Z"
   },
   {
    "duration": 22,
    "start_time": "2024-03-06T15:22:55.466Z"
   },
   {
    "duration": 16,
    "start_time": "2024-03-06T15:23:37.945Z"
   },
   {
    "duration": 31,
    "start_time": "2024-03-06T15:25:38.496Z"
   },
   {
    "duration": 21,
    "start_time": "2024-03-06T15:30:53.817Z"
   },
   {
    "duration": 22,
    "start_time": "2024-03-06T15:31:30.274Z"
   },
   {
    "duration": 27,
    "start_time": "2024-03-06T15:32:00.495Z"
   },
   {
    "duration": 10,
    "start_time": "2024-03-06T17:04:35.197Z"
   },
   {
    "duration": 9,
    "start_time": "2024-03-06T17:04:41.547Z"
   },
   {
    "duration": 6,
    "start_time": "2024-03-06T17:07:06.592Z"
   },
   {
    "duration": 5,
    "start_time": "2024-03-06T17:07:06.600Z"
   },
   {
    "duration": 7,
    "start_time": "2024-03-06T17:07:06.607Z"
   },
   {
    "duration": 9,
    "start_time": "2024-03-06T17:07:06.616Z"
   },
   {
    "duration": 908,
    "start_time": "2024-03-06T17:07:06.627Z"
   },
   {
    "duration": 16,
    "start_time": "2024-03-06T17:07:07.536Z"
   },
   {
    "duration": 811,
    "start_time": "2024-03-06T17:07:07.554Z"
   },
   {
    "duration": 4,
    "start_time": "2024-03-06T17:07:08.367Z"
   },
   {
    "duration": 271,
    "start_time": "2024-03-06T17:07:08.372Z"
   },
   {
    "duration": 643,
    "start_time": "2024-03-06T17:07:08.646Z"
   },
   {
    "duration": 315,
    "start_time": "2024-03-06T17:07:09.291Z"
   },
   {
    "duration": 305,
    "start_time": "2024-03-06T17:07:09.608Z"
   },
   {
    "duration": 395,
    "start_time": "2024-03-06T17:07:09.914Z"
   },
   {
    "duration": 290,
    "start_time": "2024-03-06T17:07:10.311Z"
   },
   {
    "duration": 349,
    "start_time": "2024-03-06T17:07:10.602Z"
   },
   {
    "duration": 263,
    "start_time": "2024-03-06T17:07:10.953Z"
   },
   {
    "duration": 2001,
    "start_time": "2024-03-06T17:07:11.218Z"
   },
   {
    "duration": 16,
    "start_time": "2024-03-06T17:07:13.221Z"
   },
   {
    "duration": 106,
    "start_time": "2024-03-06T17:07:13.239Z"
   },
   {
    "duration": 1710,
    "start_time": "2024-03-06T17:07:43.131Z"
   },
   {
    "duration": 44,
    "start_time": "2024-03-06T17:08:05.856Z"
   },
   {
    "duration": 11,
    "start_time": "2024-03-06T17:08:23.414Z"
   },
   {
    "duration": 10,
    "start_time": "2024-03-06T17:08:35.334Z"
   },
   {
    "duration": 44,
    "start_time": "2024-03-06T17:11:01.724Z"
   },
   {
    "duration": 44,
    "start_time": "2024-03-06T17:12:37.887Z"
   },
   {
    "duration": 12,
    "start_time": "2024-03-06T17:22:33.029Z"
   },
   {
    "duration": 8,
    "start_time": "2024-03-06T17:22:37.956Z"
   },
   {
    "duration": 38,
    "start_time": "2024-03-06T17:23:21.211Z"
   },
   {
    "duration": 64,
    "start_time": "2024-03-06T17:24:09.530Z"
   },
   {
    "duration": 62,
    "start_time": "2024-03-06T17:24:32.210Z"
   },
   {
    "duration": 3380,
    "start_time": "2024-03-06T17:25:50.488Z"
   },
   {
    "duration": 562,
    "start_time": "2024-03-06T17:26:33.359Z"
   },
   {
    "duration": 490,
    "start_time": "2024-03-06T17:27:17.312Z"
   },
   {
    "duration": 269,
    "start_time": "2024-03-06T17:27:28.933Z"
   },
   {
    "duration": 16,
    "start_time": "2024-03-06T17:31:26.377Z"
   },
   {
    "duration": 1118,
    "start_time": "2024-03-06T17:31:33.807Z"
   },
   {
    "duration": 1557,
    "start_time": "2024-03-06T17:32:20.342Z"
   },
   {
    "duration": 5,
    "start_time": "2024-03-06T17:32:21.901Z"
   },
   {
    "duration": 14,
    "start_time": "2024-03-06T17:32:21.908Z"
   },
   {
    "duration": 6,
    "start_time": "2024-03-06T17:32:21.926Z"
   },
   {
    "duration": 1011,
    "start_time": "2024-03-06T17:32:21.934Z"
   },
   {
    "duration": 19,
    "start_time": "2024-03-06T17:32:22.947Z"
   },
   {
    "duration": 914,
    "start_time": "2024-03-06T17:32:22.967Z"
   },
   {
    "duration": 8,
    "start_time": "2024-03-06T17:32:23.883Z"
   },
   {
    "duration": 418,
    "start_time": "2024-03-06T17:32:23.894Z"
   },
   {
    "duration": 732,
    "start_time": "2024-03-06T17:32:24.316Z"
   },
   {
    "duration": 398,
    "start_time": "2024-03-06T17:32:25.050Z"
   },
   {
    "duration": 310,
    "start_time": "2024-03-06T17:32:25.450Z"
   },
   {
    "duration": 395,
    "start_time": "2024-03-06T17:32:25.761Z"
   },
   {
    "duration": 323,
    "start_time": "2024-03-06T17:32:26.158Z"
   },
   {
    "duration": 424,
    "start_time": "2024-03-06T17:32:26.483Z"
   },
   {
    "duration": 270,
    "start_time": "2024-03-06T17:32:26.908Z"
   },
   {
    "duration": 2057,
    "start_time": "2024-03-06T17:32:27.180Z"
   },
   {
    "duration": 17,
    "start_time": "2024-03-06T17:32:29.239Z"
   },
   {
    "duration": 36,
    "start_time": "2024-03-06T17:32:29.258Z"
   },
   {
    "duration": 40,
    "start_time": "2024-03-06T17:32:29.296Z"
   },
   {
    "duration": 12,
    "start_time": "2024-03-06T17:32:29.338Z"
   },
   {
    "duration": 75,
    "start_time": "2024-03-06T17:32:29.352Z"
   },
   {
    "duration": 9,
    "start_time": "2024-03-06T17:32:29.429Z"
   },
   {
    "duration": 43,
    "start_time": "2024-03-06T17:32:29.439Z"
   },
   {
    "duration": 39,
    "start_time": "2024-03-06T17:32:29.493Z"
   },
   {
    "duration": 20,
    "start_time": "2024-03-06T17:32:29.534Z"
   },
   {
    "duration": 1288,
    "start_time": "2024-03-06T17:32:29.555Z"
   },
   {
    "duration": 1653,
    "start_time": "2024-03-06T17:33:14.664Z"
   },
   {
    "duration": 3,
    "start_time": "2024-03-06T17:33:16.320Z"
   },
   {
    "duration": 35,
    "start_time": "2024-03-06T17:33:16.325Z"
   },
   {
    "duration": 15,
    "start_time": "2024-03-06T17:33:16.363Z"
   },
   {
    "duration": 1095,
    "start_time": "2024-03-06T17:33:16.380Z"
   },
   {
    "duration": 23,
    "start_time": "2024-03-06T17:33:17.477Z"
   },
   {
    "duration": 999,
    "start_time": "2024-03-06T17:33:17.501Z"
   },
   {
    "duration": 8,
    "start_time": "2024-03-06T17:33:18.503Z"
   },
   {
    "duration": 415,
    "start_time": "2024-03-06T17:33:18.513Z"
   },
   {
    "duration": 824,
    "start_time": "2024-03-06T17:33:18.932Z"
   },
   {
    "duration": 381,
    "start_time": "2024-03-06T17:33:19.757Z"
   },
   {
    "duration": 334,
    "start_time": "2024-03-06T17:33:20.140Z"
   },
   {
    "duration": 409,
    "start_time": "2024-03-06T17:33:20.475Z"
   },
   {
    "duration": 328,
    "start_time": "2024-03-06T17:33:20.886Z"
   },
   {
    "duration": 427,
    "start_time": "2024-03-06T17:33:21.217Z"
   },
   {
    "duration": 289,
    "start_time": "2024-03-06T17:33:21.646Z"
   },
   {
    "duration": 2226,
    "start_time": "2024-03-06T17:33:21.937Z"
   },
   {
    "duration": 18,
    "start_time": "2024-03-06T17:33:24.165Z"
   },
   {
    "duration": 32,
    "start_time": "2024-03-06T17:33:24.184Z"
   },
   {
    "duration": 38,
    "start_time": "2024-03-06T17:33:24.218Z"
   },
   {
    "duration": 33,
    "start_time": "2024-03-06T17:33:24.258Z"
   },
   {
    "duration": 61,
    "start_time": "2024-03-06T17:33:24.293Z"
   },
   {
    "duration": 10,
    "start_time": "2024-03-06T17:33:24.356Z"
   },
   {
    "duration": 55,
    "start_time": "2024-03-06T17:33:24.373Z"
   },
   {
    "duration": 30,
    "start_time": "2024-03-06T17:33:24.429Z"
   },
   {
    "duration": 37,
    "start_time": "2024-03-06T17:33:24.461Z"
   },
   {
    "duration": 1233,
    "start_time": "2024-03-06T17:33:24.500Z"
   },
   {
    "duration": 1572,
    "start_time": "2024-03-06T17:44:07.881Z"
   },
   {
    "duration": 3,
    "start_time": "2024-03-06T17:44:09.455Z"
   },
   {
    "duration": 17,
    "start_time": "2024-03-06T17:44:09.460Z"
   },
   {
    "duration": 12,
    "start_time": "2024-03-06T17:44:09.479Z"
   },
   {
    "duration": 1014,
    "start_time": "2024-03-06T17:44:09.493Z"
   },
   {
    "duration": 18,
    "start_time": "2024-03-06T17:44:10.509Z"
   },
   {
    "duration": 877,
    "start_time": "2024-03-06T17:44:10.529Z"
   },
   {
    "duration": 4,
    "start_time": "2024-03-06T17:44:11.408Z"
   },
   {
    "duration": 356,
    "start_time": "2024-03-06T17:44:11.413Z"
   },
   {
    "duration": 749,
    "start_time": "2024-03-06T17:44:11.772Z"
   },
   {
    "duration": 314,
    "start_time": "2024-03-06T17:44:12.523Z"
   },
   {
    "duration": 292,
    "start_time": "2024-03-06T17:44:12.838Z"
   },
   {
    "duration": 363,
    "start_time": "2024-03-06T17:44:13.132Z"
   },
   {
    "duration": 291,
    "start_time": "2024-03-06T17:44:13.497Z"
   },
   {
    "duration": 351,
    "start_time": "2024-03-06T17:44:13.790Z"
   },
   {
    "duration": 250,
    "start_time": "2024-03-06T17:44:14.143Z"
   },
   {
    "duration": 2125,
    "start_time": "2024-03-06T17:44:14.394Z"
   },
   {
    "duration": 18,
    "start_time": "2024-03-06T17:44:16.521Z"
   },
   {
    "duration": 41,
    "start_time": "2024-03-06T17:44:16.541Z"
   },
   {
    "duration": 40,
    "start_time": "2024-03-06T17:44:16.584Z"
   },
   {
    "duration": 11,
    "start_time": "2024-03-06T17:44:16.626Z"
   },
   {
    "duration": 68,
    "start_time": "2024-03-06T17:44:16.639Z"
   },
   {
    "duration": 8,
    "start_time": "2024-03-06T17:44:16.709Z"
   },
   {
    "duration": 44,
    "start_time": "2024-03-06T17:44:16.719Z"
   },
   {
    "duration": 39,
    "start_time": "2024-03-06T17:44:16.765Z"
   },
   {
    "duration": 20,
    "start_time": "2024-03-06T17:44:16.806Z"
   },
   {
    "duration": 97,
    "start_time": "2024-03-06T17:44:16.828Z"
   },
   {
    "duration": 0,
    "start_time": "2024-03-06T17:44:16.927Z"
   },
   {
    "duration": 1147,
    "start_time": "2024-03-06T17:44:25.547Z"
   },
   {
    "duration": 1559,
    "start_time": "2024-03-06T17:47:49.471Z"
   },
   {
    "duration": 3,
    "start_time": "2024-03-06T17:47:51.033Z"
   },
   {
    "duration": 6,
    "start_time": "2024-03-06T17:47:51.038Z"
   },
   {
    "duration": 18,
    "start_time": "2024-03-06T17:47:51.046Z"
   },
   {
    "duration": 1030,
    "start_time": "2024-03-06T17:47:51.067Z"
   },
   {
    "duration": 18,
    "start_time": "2024-03-06T17:47:52.098Z"
   },
   {
    "duration": 855,
    "start_time": "2024-03-06T17:47:52.118Z"
   },
   {
    "duration": 3,
    "start_time": "2024-03-06T17:47:52.975Z"
   },
   {
    "duration": 383,
    "start_time": "2024-03-06T17:47:52.980Z"
   },
   {
    "duration": 755,
    "start_time": "2024-03-06T17:47:53.367Z"
   },
   {
    "duration": 321,
    "start_time": "2024-03-06T17:47:54.124Z"
   },
   {
    "duration": 295,
    "start_time": "2024-03-06T17:47:54.447Z"
   },
   {
    "duration": 342,
    "start_time": "2024-03-06T17:47:54.744Z"
   },
   {
    "duration": 294,
    "start_time": "2024-03-06T17:47:55.092Z"
   },
   {
    "duration": 391,
    "start_time": "2024-03-06T17:47:55.392Z"
   },
   {
    "duration": 254,
    "start_time": "2024-03-06T17:47:55.785Z"
   },
   {
    "duration": 1983,
    "start_time": "2024-03-06T17:47:56.040Z"
   },
   {
    "duration": 17,
    "start_time": "2024-03-06T17:47:58.025Z"
   },
   {
    "duration": 24,
    "start_time": "2024-03-06T17:47:58.044Z"
   },
   {
    "duration": 49,
    "start_time": "2024-03-06T17:47:58.070Z"
   },
   {
    "duration": 12,
    "start_time": "2024-03-06T17:47:58.121Z"
   },
   {
    "duration": 77,
    "start_time": "2024-03-06T17:47:58.135Z"
   },
   {
    "duration": 9,
    "start_time": "2024-03-06T17:47:58.213Z"
   },
   {
    "duration": 34,
    "start_time": "2024-03-06T17:47:58.224Z"
   },
   {
    "duration": 46,
    "start_time": "2024-03-06T17:47:58.260Z"
   },
   {
    "duration": 20,
    "start_time": "2024-03-06T17:47:58.308Z"
   },
   {
    "duration": 1120,
    "start_time": "2024-03-06T17:47:58.330Z"
   },
   {
    "duration": 8,
    "start_time": "2024-03-06T17:49:43.324Z"
   },
   {
    "duration": 1588,
    "start_time": "2024-03-06T17:50:00.116Z"
   },
   {
    "duration": 60,
    "start_time": "2024-03-06T17:50:47.250Z"
   },
   {
    "duration": 16,
    "start_time": "2024-03-06T17:53:12.455Z"
   },
   {
    "duration": 12,
    "start_time": "2024-03-06T17:54:44.645Z"
   },
   {
    "duration": 28,
    "start_time": "2024-03-06T17:54:46.398Z"
   },
   {
    "duration": 1453,
    "start_time": "2024-03-06T17:55:14.509Z"
   },
   {
    "duration": 42,
    "start_time": "2024-03-06T17:57:22.225Z"
   },
   {
    "duration": 100,
    "start_time": "2024-03-06T18:10:13.092Z"
   },
   {
    "duration": 83,
    "start_time": "2024-03-06T18:19:18.406Z"
   },
   {
    "duration": 602,
    "start_time": "2024-03-06T18:22:34.667Z"
   },
   {
    "duration": 317,
    "start_time": "2024-03-06T18:30:29.563Z"
   },
   {
    "duration": 209,
    "start_time": "2024-03-06T18:30:37.595Z"
   },
   {
    "duration": 274,
    "start_time": "2024-03-06T18:31:19.698Z"
   },
   {
    "duration": 230,
    "start_time": "2024-03-06T18:31:38.673Z"
   },
   {
    "duration": 338,
    "start_time": "2024-03-06T18:31:47.137Z"
   },
   {
    "duration": 301,
    "start_time": "2024-03-06T18:31:57.472Z"
   },
   {
    "duration": 2876,
    "start_time": "2024-03-06T18:35:51.716Z"
   },
   {
    "duration": 106,
    "start_time": "2024-03-06T18:39:56.359Z"
   },
   {
    "duration": 1266,
    "start_time": "2024-03-06T18:44:29.711Z"
   },
   {
    "duration": 2088,
    "start_time": "2024-03-06T18:45:07.790Z"
   },
   {
    "duration": 2003,
    "start_time": "2024-03-06T18:45:29.574Z"
   },
   {
    "duration": 2095,
    "start_time": "2024-03-06T18:48:14.977Z"
   },
   {
    "duration": 658,
    "start_time": "2024-03-06T18:48:31.880Z"
   },
   {
    "duration": 1998,
    "start_time": "2024-03-06T18:48:54.945Z"
   },
   {
    "duration": 2197,
    "start_time": "2024-03-06T18:51:25.996Z"
   },
   {
    "duration": 2721,
    "start_time": "2024-03-06T18:52:34.283Z"
   },
   {
    "duration": 2278,
    "start_time": "2024-03-06T18:53:13.896Z"
   },
   {
    "duration": 2321,
    "start_time": "2024-03-06T18:54:21.248Z"
   },
   {
    "duration": 1725,
    "start_time": "2024-03-06T18:55:09.016Z"
   },
   {
    "duration": 1563,
    "start_time": "2024-03-06T18:55:21.159Z"
   },
   {
    "duration": 1231,
    "start_time": "2024-03-06T18:55:34.437Z"
   },
   {
    "duration": 192,
    "start_time": "2024-03-06T18:57:23.420Z"
   },
   {
    "duration": 101,
    "start_time": "2024-03-06T18:57:45.875Z"
   },
   {
    "duration": 101,
    "start_time": "2024-03-06T18:57:52.770Z"
   },
   {
    "duration": 94,
    "start_time": "2024-03-06T18:57:58.929Z"
   },
   {
    "duration": 316,
    "start_time": "2024-03-06T18:58:25.225Z"
   },
   {
    "duration": 979,
    "start_time": "2024-03-06T18:58:40.257Z"
   },
   {
    "duration": 756,
    "start_time": "2024-03-06T18:58:53.953Z"
   },
   {
    "duration": 331,
    "start_time": "2024-03-06T19:00:53.437Z"
   },
   {
    "duration": 219,
    "start_time": "2024-03-06T19:01:47.536Z"
   },
   {
    "duration": 191,
    "start_time": "2024-03-06T19:04:05.264Z"
   },
   {
    "duration": 343,
    "start_time": "2024-03-06T19:04:19.680Z"
   },
   {
    "duration": 336,
    "start_time": "2024-03-06T19:06:34.333Z"
   },
   {
    "duration": 198,
    "start_time": "2024-03-06T19:06:47.403Z"
   },
   {
    "duration": 297,
    "start_time": "2024-03-06T19:09:12.488Z"
   },
   {
    "duration": 390,
    "start_time": "2024-03-06T19:09:32.862Z"
   },
   {
    "duration": 401,
    "start_time": "2024-03-06T19:10:57.060Z"
   },
   {
    "duration": 283,
    "start_time": "2024-03-06T19:11:10.396Z"
   },
   {
    "duration": 341,
    "start_time": "2024-03-07T06:51:54.022Z"
   },
   {
    "duration": 93,
    "start_time": "2024-03-07T06:52:34.057Z"
   },
   {
    "duration": 108,
    "start_time": "2024-03-07T06:55:08.568Z"
   },
   {
    "duration": 346,
    "start_time": "2024-03-07T07:00:55.131Z"
   },
   {
    "duration": 481,
    "start_time": "2024-03-07T07:01:09.643Z"
   },
   {
    "duration": 404,
    "start_time": "2024-03-07T07:01:17.978Z"
   },
   {
    "duration": 1550,
    "start_time": "2024-03-07T07:39:10.688Z"
   },
   {
    "duration": 4,
    "start_time": "2024-03-07T07:39:12.239Z"
   },
   {
    "duration": 5,
    "start_time": "2024-03-07T07:39:12.244Z"
   },
   {
    "duration": 7,
    "start_time": "2024-03-07T07:39:12.251Z"
   },
   {
    "duration": 956,
    "start_time": "2024-03-07T07:39:12.259Z"
   },
   {
    "duration": 18,
    "start_time": "2024-03-07T07:39:13.217Z"
   },
   {
    "duration": 821,
    "start_time": "2024-03-07T07:39:13.236Z"
   },
   {
    "duration": 4,
    "start_time": "2024-03-07T07:39:14.058Z"
   },
   {
    "duration": 331,
    "start_time": "2024-03-07T07:39:14.063Z"
   },
   {
    "duration": 715,
    "start_time": "2024-03-07T07:39:14.396Z"
   },
   {
    "duration": 303,
    "start_time": "2024-03-07T07:39:15.112Z"
   },
   {
    "duration": 289,
    "start_time": "2024-03-07T07:39:15.416Z"
   },
   {
    "duration": 360,
    "start_time": "2024-03-07T07:39:15.707Z"
   },
   {
    "duration": 296,
    "start_time": "2024-03-07T07:39:16.069Z"
   },
   {
    "duration": 336,
    "start_time": "2024-03-07T07:39:16.367Z"
   },
   {
    "duration": 238,
    "start_time": "2024-03-07T07:39:16.705Z"
   },
   {
    "duration": 1955,
    "start_time": "2024-03-07T07:39:16.944Z"
   },
   {
    "duration": 17,
    "start_time": "2024-03-07T07:39:18.901Z"
   },
   {
    "duration": 40,
    "start_time": "2024-03-07T07:39:18.919Z"
   },
   {
    "duration": 38,
    "start_time": "2024-03-07T07:39:18.961Z"
   },
   {
    "duration": 11,
    "start_time": "2024-03-07T07:39:19.001Z"
   },
   {
    "duration": 54,
    "start_time": "2024-03-07T07:39:19.013Z"
   },
   {
    "duration": 30,
    "start_time": "2024-03-07T07:39:19.069Z"
   },
   {
    "duration": 49,
    "start_time": "2024-03-07T07:39:19.101Z"
   },
   {
    "duration": 31,
    "start_time": "2024-03-07T07:39:19.151Z"
   },
   {
    "duration": 10034,
    "start_time": "2024-03-07T07:39:19.184Z"
   },
   {
    "duration": 13,
    "start_time": "2024-03-07T07:39:29.220Z"
   },
   {
    "duration": 64,
    "start_time": "2024-03-07T07:39:29.236Z"
   },
   {
    "duration": 2,
    "start_time": "2024-03-07T07:39:29.302Z"
   },
   {
    "duration": 1452,
    "start_time": "2024-03-07T07:39:29.306Z"
   },
   {
    "duration": 102,
    "start_time": "2024-03-07T07:39:30.760Z"
   },
   {
    "duration": 131,
    "start_time": "2024-03-07T07:39:30.864Z"
   },
   {
    "duration": 573,
    "start_time": "2024-03-07T07:39:30.997Z"
   },
   {
    "duration": 421,
    "start_time": "2024-03-07T07:39:31.572Z"
   },
   {
    "duration": 396,
    "start_time": "2024-03-07T07:39:31.996Z"
   },
   {
    "duration": 280,
    "start_time": "2024-03-07T07:39:32.394Z"
   },
   {
    "duration": 26,
    "start_time": "2024-03-07T07:39:49.390Z"
   },
   {
    "duration": 1709,
    "start_time": "2024-03-07T07:45:02.898Z"
   },
   {
    "duration": 4,
    "start_time": "2024-03-07T07:45:04.609Z"
   },
   {
    "duration": 6,
    "start_time": "2024-03-07T07:45:04.615Z"
   },
   {
    "duration": 11,
    "start_time": "2024-03-07T07:45:04.624Z"
   },
   {
    "duration": 955,
    "start_time": "2024-03-07T07:45:04.636Z"
   },
   {
    "duration": 20,
    "start_time": "2024-03-07T07:45:05.594Z"
   },
   {
    "duration": 985,
    "start_time": "2024-03-07T07:45:05.617Z"
   },
   {
    "duration": 4,
    "start_time": "2024-03-07T07:45:06.604Z"
   },
   {
    "duration": 374,
    "start_time": "2024-03-07T07:45:06.610Z"
   },
   {
    "duration": 754,
    "start_time": "2024-03-07T07:45:06.987Z"
   },
   {
    "duration": 323,
    "start_time": "2024-03-07T07:45:07.743Z"
   },
   {
    "duration": 292,
    "start_time": "2024-03-07T07:45:08.068Z"
   },
   {
    "duration": 388,
    "start_time": "2024-03-07T07:45:08.362Z"
   },
   {
    "duration": 291,
    "start_time": "2024-03-07T07:45:08.752Z"
   },
   {
    "duration": 378,
    "start_time": "2024-03-07T07:45:09.045Z"
   },
   {
    "duration": 246,
    "start_time": "2024-03-07T07:45:09.424Z"
   },
   {
    "duration": 2118,
    "start_time": "2024-03-07T07:45:09.672Z"
   },
   {
    "duration": 16,
    "start_time": "2024-03-07T07:45:11.792Z"
   },
   {
    "duration": 24,
    "start_time": "2024-03-07T07:45:11.810Z"
   },
   {
    "duration": 60,
    "start_time": "2024-03-07T07:45:11.836Z"
   },
   {
    "duration": 11,
    "start_time": "2024-03-07T07:45:11.898Z"
   },
   {
    "duration": 55,
    "start_time": "2024-03-07T07:45:11.911Z"
   },
   {
    "duration": 41,
    "start_time": "2024-03-07T07:45:11.968Z"
   },
   {
    "duration": 40,
    "start_time": "2024-03-07T07:45:12.011Z"
   },
   {
    "duration": 43,
    "start_time": "2024-03-07T07:45:12.053Z"
   },
   {
    "duration": 10238,
    "start_time": "2024-03-07T07:45:12.098Z"
   },
   {
    "duration": 1815,
    "start_time": "2024-03-07T07:45:22.338Z"
   },
   {
    "duration": 14,
    "start_time": "2024-03-07T07:45:24.156Z"
   },
   {
    "duration": 41,
    "start_time": "2024-03-07T07:45:24.172Z"
   },
   {
    "duration": 13,
    "start_time": "2024-03-07T07:45:24.215Z"
   },
   {
    "duration": 1455,
    "start_time": "2024-03-07T07:45:24.229Z"
   },
   {
    "duration": 105,
    "start_time": "2024-03-07T07:45:25.686Z"
   },
   {
    "duration": 98,
    "start_time": "2024-03-07T07:45:25.793Z"
   },
   {
    "duration": 457,
    "start_time": "2024-03-07T07:45:25.893Z"
   },
   {
    "duration": 433,
    "start_time": "2024-03-07T07:45:26.352Z"
   },
   {
    "duration": 375,
    "start_time": "2024-03-07T07:45:26.786Z"
   },
   {
    "duration": 297,
    "start_time": "2024-03-07T07:45:27.163Z"
   },
   {
    "duration": 1485,
    "start_time": "2024-03-07T07:48:34.741Z"
   },
   {
    "duration": 4,
    "start_time": "2024-03-07T07:48:36.228Z"
   },
   {
    "duration": 9,
    "start_time": "2024-03-07T07:48:36.233Z"
   },
   {
    "duration": 6,
    "start_time": "2024-03-07T07:48:36.244Z"
   },
   {
    "duration": 930,
    "start_time": "2024-03-07T07:48:36.252Z"
   },
   {
    "duration": 20,
    "start_time": "2024-03-07T07:48:37.184Z"
   },
   {
    "duration": 841,
    "start_time": "2024-03-07T07:48:37.205Z"
   },
   {
    "duration": 4,
    "start_time": "2024-03-07T07:48:38.048Z"
   },
   {
    "duration": 344,
    "start_time": "2024-03-07T07:48:38.054Z"
   },
   {
    "duration": 714,
    "start_time": "2024-03-07T07:48:38.401Z"
   },
   {
    "duration": 303,
    "start_time": "2024-03-07T07:48:39.117Z"
   },
   {
    "duration": 287,
    "start_time": "2024-03-07T07:48:39.422Z"
   },
   {
    "duration": 389,
    "start_time": "2024-03-07T07:48:39.711Z"
   },
   {
    "duration": 282,
    "start_time": "2024-03-07T07:48:40.102Z"
   },
   {
    "duration": 358,
    "start_time": "2024-03-07T07:48:40.386Z"
   },
   {
    "duration": 238,
    "start_time": "2024-03-07T07:48:40.746Z"
   },
   {
    "duration": 1999,
    "start_time": "2024-03-07T07:48:40.985Z"
   },
   {
    "duration": 21,
    "start_time": "2024-03-07T07:48:42.985Z"
   },
   {
    "duration": 24,
    "start_time": "2024-03-07T07:48:43.008Z"
   },
   {
    "duration": 36,
    "start_time": "2024-03-07T07:48:43.034Z"
   },
   {
    "duration": 28,
    "start_time": "2024-03-07T07:48:43.072Z"
   },
   {
    "duration": 55,
    "start_time": "2024-03-07T07:48:43.102Z"
   },
   {
    "duration": 9,
    "start_time": "2024-03-07T07:48:43.158Z"
   },
   {
    "duration": 54,
    "start_time": "2024-03-07T07:48:43.169Z"
   },
   {
    "duration": 30,
    "start_time": "2024-03-07T07:48:43.225Z"
   },
   {
    "duration": 10024,
    "start_time": "2024-03-07T07:48:43.257Z"
   },
   {
    "duration": 1619,
    "start_time": "2024-03-07T07:48:53.283Z"
   },
   {
    "duration": 13,
    "start_time": "2024-03-07T07:48:54.905Z"
   },
   {
    "duration": 31,
    "start_time": "2024-03-07T07:48:54.920Z"
   },
   {
    "duration": 1433,
    "start_time": "2024-03-07T07:48:54.952Z"
   },
   {
    "duration": 107,
    "start_time": "2024-03-07T07:48:56.387Z"
   },
   {
    "duration": 85,
    "start_time": "2024-03-07T07:48:56.496Z"
   },
   {
    "duration": 403,
    "start_time": "2024-03-07T07:48:56.591Z"
   },
   {
    "duration": 421,
    "start_time": "2024-03-07T07:48:56.996Z"
   },
   {
    "duration": 382,
    "start_time": "2024-03-07T07:48:57.418Z"
   },
   {
    "duration": 284,
    "start_time": "2024-03-07T07:48:57.802Z"
   },
   {
    "duration": 315,
    "start_time": "2024-03-07T07:51:23.649Z"
   },
   {
    "duration": 294,
    "start_time": "2024-03-07T07:51:39.957Z"
   },
   {
    "duration": 422,
    "start_time": "2024-03-07T10:31:36.969Z"
   },
   {
    "duration": 381,
    "start_time": "2024-03-07T10:32:34.500Z"
   },
   {
    "duration": 373,
    "start_time": "2024-03-07T10:32:56.406Z"
   },
   {
    "duration": 167,
    "start_time": "2024-03-07T10:33:07.318Z"
   },
   {
    "duration": 157,
    "start_time": "2024-03-07T10:34:07.404Z"
   },
   {
    "duration": 700,
    "start_time": "2024-03-07T10:34:16.491Z"
   },
   {
    "duration": 660,
    "start_time": "2024-03-07T10:34:48.591Z"
   },
   {
    "duration": 521,
    "start_time": "2024-03-07T10:35:09.740Z"
   },
   {
    "duration": 588,
    "start_time": "2024-03-07T10:35:22.897Z"
   },
   {
    "duration": 607,
    "start_time": "2024-03-07T10:35:41.647Z"
   },
   {
    "duration": 354,
    "start_time": "2024-03-07T10:37:49.168Z"
   },
   {
    "duration": 345,
    "start_time": "2024-03-07T10:40:18.717Z"
   },
   {
    "duration": 317,
    "start_time": "2024-03-07T10:43:58.576Z"
   },
   {
    "duration": 19,
    "start_time": "2024-03-07T10:48:44.991Z"
   },
   {
    "duration": 214,
    "start_time": "2024-03-07T10:49:06.040Z"
   },
   {
    "duration": 274,
    "start_time": "2024-03-07T10:52:49.336Z"
   },
   {
    "duration": 269,
    "start_time": "2024-03-07T10:53:05.352Z"
   },
   {
    "duration": 1140,
    "start_time": "2024-03-07T10:53:30.849Z"
   },
   {
    "duration": 1030,
    "start_time": "2024-03-07T10:53:38.696Z"
   },
   {
    "duration": 998,
    "start_time": "2024-03-07T10:53:58.473Z"
   },
   {
    "duration": 1019,
    "start_time": "2024-03-07T10:54:12.636Z"
   },
   {
    "duration": 631,
    "start_time": "2024-03-07T10:55:33.042Z"
   },
   {
    "duration": 116,
    "start_time": "2024-03-07T11:01:31.727Z"
   },
   {
    "duration": 345,
    "start_time": "2024-03-07T11:02:48.268Z"
   },
   {
    "duration": 319,
    "start_time": "2024-03-07T11:03:48.915Z"
   },
   {
    "duration": 385,
    "start_time": "2024-03-07T11:07:54.484Z"
   },
   {
    "duration": 122,
    "start_time": "2024-03-07T11:15:33.687Z"
   },
   {
    "duration": 217,
    "start_time": "2024-03-07T11:15:42.093Z"
   },
   {
    "duration": 646,
    "start_time": "2024-03-07T11:18:36.714Z"
   },
   {
    "duration": 723,
    "start_time": "2024-03-07T11:25:45.805Z"
   },
   {
    "duration": 750,
    "start_time": "2024-03-07T11:26:00.371Z"
   },
   {
    "duration": 3948,
    "start_time": "2024-03-07T11:30:18.948Z"
   },
   {
    "duration": 4319,
    "start_time": "2024-03-07T11:30:34.022Z"
   },
   {
    "duration": 402,
    "start_time": "2024-03-07T11:32:47.022Z"
   },
   {
    "duration": 467,
    "start_time": "2024-03-07T11:32:59.385Z"
   },
   {
    "duration": 406,
    "start_time": "2024-03-07T11:33:13.703Z"
   },
   {
    "duration": 351,
    "start_time": "2024-03-07T11:34:14.088Z"
   },
   {
    "duration": 3564,
    "start_time": "2024-03-07T11:37:47.041Z"
   },
   {
    "duration": 64,
    "start_time": "2024-03-07T11:38:26.354Z"
   },
   {
    "duration": 65610,
    "start_time": "2024-03-07T11:40:58.490Z"
   },
   {
    "duration": 10118,
    "start_time": "2024-03-07T11:42:12.208Z"
   },
   {
    "duration": 18,
    "start_time": "2024-03-07T12:10:13.307Z"
   },
   {
    "duration": 2693,
    "start_time": "2024-03-07T14:04:44.588Z"
   },
   {
    "duration": 1585,
    "start_time": "2024-03-07T14:04:47.284Z"
   },
   {
    "duration": 4,
    "start_time": "2024-03-07T14:04:48.870Z"
   },
   {
    "duration": 13,
    "start_time": "2024-03-07T14:04:48.876Z"
   },
   {
    "duration": 9,
    "start_time": "2024-03-07T14:04:48.892Z"
   },
   {
    "duration": 969,
    "start_time": "2024-03-07T14:04:48.903Z"
   },
   {
    "duration": 25,
    "start_time": "2024-03-07T14:04:49.874Z"
   },
   {
    "duration": 855,
    "start_time": "2024-03-07T14:04:49.901Z"
   },
   {
    "duration": 3,
    "start_time": "2024-03-07T14:04:50.758Z"
   },
   {
    "duration": 341,
    "start_time": "2024-03-07T14:04:50.764Z"
   },
   {
    "duration": 748,
    "start_time": "2024-03-07T14:04:51.107Z"
   },
   {
    "duration": 344,
    "start_time": "2024-03-07T14:04:51.856Z"
   },
   {
    "duration": 307,
    "start_time": "2024-03-07T14:04:52.202Z"
   },
   {
    "duration": 369,
    "start_time": "2024-03-07T14:04:52.511Z"
   },
   {
    "duration": 311,
    "start_time": "2024-03-07T14:04:52.882Z"
   },
   {
    "duration": 397,
    "start_time": "2024-03-07T14:04:53.195Z"
   },
   {
    "duration": 251,
    "start_time": "2024-03-07T14:04:53.595Z"
   },
   {
    "duration": 1987,
    "start_time": "2024-03-07T14:04:53.847Z"
   },
   {
    "duration": 18,
    "start_time": "2024-03-07T14:04:55.838Z"
   },
   {
    "duration": 39,
    "start_time": "2024-03-07T14:04:55.857Z"
   },
   {
    "duration": 63,
    "start_time": "2024-03-07T14:04:55.897Z"
   },
   {
    "duration": 11,
    "start_time": "2024-03-07T14:04:55.962Z"
   },
   {
    "duration": 66,
    "start_time": "2024-03-07T14:04:55.975Z"
   },
   {
    "duration": 10,
    "start_time": "2024-03-07T14:04:56.042Z"
   },
   {
    "duration": 43,
    "start_time": "2024-03-07T14:04:56.054Z"
   },
   {
    "duration": 34,
    "start_time": "2024-03-07T14:04:56.100Z"
   },
   {
    "duration": 9973,
    "start_time": "2024-03-07T14:04:56.135Z"
   },
   {
    "duration": 1622,
    "start_time": "2024-03-07T14:05:06.112Z"
   },
   {
    "duration": 12,
    "start_time": "2024-03-07T14:05:07.736Z"
   },
   {
    "duration": 27,
    "start_time": "2024-03-07T14:05:07.750Z"
   },
   {
    "duration": 1394,
    "start_time": "2024-03-07T14:05:07.779Z"
   },
   {
    "duration": 101,
    "start_time": "2024-03-07T14:05:09.175Z"
   },
   {
    "duration": 106,
    "start_time": "2024-03-07T14:05:09.278Z"
   },
   {
    "duration": 306,
    "start_time": "2024-03-07T14:05:09.385Z"
   },
   {
    "duration": 558,
    "start_time": "2024-03-07T14:05:09.693Z"
   },
   {
    "duration": 377,
    "start_time": "2024-03-07T14:05:10.253Z"
   },
   {
    "duration": 278,
    "start_time": "2024-03-07T14:05:10.632Z"
   },
   {
    "duration": 684,
    "start_time": "2024-03-07T14:05:10.912Z"
   },
   {
    "duration": 325,
    "start_time": "2024-03-07T14:05:11.598Z"
   },
   {
    "duration": 363,
    "start_time": "2024-03-07T14:05:11.925Z"
   },
   {
    "duration": 346,
    "start_time": "2024-03-07T14:05:12.290Z"
   },
   {
    "duration": 10062,
    "start_time": "2024-03-07T14:05:12.638Z"
   },
   {
    "duration": 26,
    "start_time": "2024-03-07T14:05:22.702Z"
   },
   {
    "duration": 85,
    "start_time": "2024-03-07T14:19:39.967Z"
   },
   {
    "duration": 161,
    "start_time": "2024-03-07T14:24:33.416Z"
   },
   {
    "duration": 146,
    "start_time": "2024-03-07T14:31:38.902Z"
   },
   {
    "duration": 186,
    "start_time": "2024-03-07T14:31:42.862Z"
   },
   {
    "duration": 83,
    "start_time": "2024-03-07T14:32:45.020Z"
   },
   {
    "duration": 6,
    "start_time": "2024-03-07T14:40:40.442Z"
   },
   {
    "duration": 5,
    "start_time": "2024-03-07T14:44:52.593Z"
   },
   {
    "duration": 66,
    "start_time": "2024-03-07T14:45:05.849Z"
   },
   {
    "duration": 4,
    "start_time": "2024-03-07T14:45:33.233Z"
   },
   {
    "duration": 88,
    "start_time": "2024-03-07T14:46:57.071Z"
   },
   {
    "duration": 3,
    "start_time": "2024-03-07T14:49:28.060Z"
   },
   {
    "duration": 4,
    "start_time": "2024-03-07T14:49:37.241Z"
   },
   {
    "duration": 5,
    "start_time": "2024-03-07T14:53:19.141Z"
   },
   {
    "duration": 5,
    "start_time": "2024-03-07T14:53:37.588Z"
   },
   {
    "duration": 12264,
    "start_time": "2024-03-07T14:55:36.249Z"
   },
   {
    "duration": 6,
    "start_time": "2024-03-07T14:57:07.135Z"
   },
   {
    "duration": 3,
    "start_time": "2024-03-07T14:57:22.453Z"
   },
   {
    "duration": 3,
    "start_time": "2024-03-07T14:57:23.197Z"
   },
   {
    "duration": 3,
    "start_time": "2024-03-07T14:57:26.213Z"
   },
   {
    "duration": 119973,
    "start_time": "2024-03-07T14:57:27.520Z"
   },
   {
    "duration": 33,
    "start_time": "2024-03-07T15:00:39.207Z"
   },
   {
    "duration": 3,
    "start_time": "2024-03-07T15:17:07.093Z"
   },
   {
    "duration": 3,
    "start_time": "2024-03-07T15:17:07.924Z"
   },
   {
    "duration": 5,
    "start_time": "2024-03-07T15:17:23.163Z"
   },
   {
    "duration": 25851,
    "start_time": "2024-03-07T15:17:24.877Z"
   },
   {
    "duration": 34,
    "start_time": "2024-03-07T15:19:43.118Z"
   },
   {
    "duration": 30,
    "start_time": "2024-03-07T15:20:36.052Z"
   },
   {
    "duration": 13,
    "start_time": "2024-03-07T16:39:33.973Z"
   },
   {
    "duration": 4,
    "start_time": "2024-03-07T16:40:08.467Z"
   },
   {
    "duration": 15,
    "start_time": "2024-03-07T16:40:53.634Z"
   },
   {
    "duration": 4,
    "start_time": "2024-03-07T16:41:04.977Z"
   },
   {
    "duration": 13,
    "start_time": "2024-03-07T16:41:34.097Z"
   },
   {
    "duration": 13,
    "start_time": "2024-03-07T16:45:50.834Z"
   },
   {
    "duration": 107,
    "start_time": "2024-03-07T16:48:11.454Z"
   },
   {
    "duration": 4,
    "start_time": "2024-03-07T16:48:20.129Z"
   },
   {
    "duration": 5,
    "start_time": "2024-03-07T16:50:33.679Z"
   },
   {
    "duration": 5,
    "start_time": "2024-03-07T16:50:42.020Z"
   },
   {
    "duration": 6625,
    "start_time": "2024-03-07T16:58:16.679Z"
   },
   {
    "duration": 5,
    "start_time": "2024-03-07T16:59:01.660Z"
   },
   {
    "duration": 6,
    "start_time": "2024-03-07T16:59:19.250Z"
   },
   {
    "duration": 4,
    "start_time": "2024-03-07T16:59:50.170Z"
   },
   {
    "duration": 4,
    "start_time": "2024-03-07T16:59:50.897Z"
   },
   {
    "duration": 3,
    "start_time": "2024-03-07T16:59:54.744Z"
   },
   {
    "duration": 3546,
    "start_time": "2024-03-07T16:59:56.585Z"
   },
   {
    "duration": 6,
    "start_time": "2024-03-07T17:01:54.000Z"
   },
   {
    "duration": 3,
    "start_time": "2024-03-07T17:02:09.709Z"
   },
   {
    "duration": 15,
    "start_time": "2024-03-07T17:02:14.052Z"
   },
   {
    "duration": 6,
    "start_time": "2024-03-07T17:03:15.994Z"
   },
   {
    "duration": 3,
    "start_time": "2024-03-07T17:03:27.730Z"
   },
   {
    "duration": 3,
    "start_time": "2024-03-07T17:03:28.588Z"
   },
   {
    "duration": 4,
    "start_time": "2024-03-07T17:03:31.649Z"
   },
   {
    "duration": 3249,
    "start_time": "2024-03-07T17:03:34.511Z"
   },
   {
    "duration": 6,
    "start_time": "2024-03-07T17:04:40.441Z"
   },
   {
    "duration": 11,
    "start_time": "2024-03-07T17:06:46.451Z"
   },
   {
    "duration": 4,
    "start_time": "2024-03-07T17:07:10.476Z"
   },
   {
    "duration": 3115,
    "start_time": "2024-03-07T17:07:54.602Z"
   },
   {
    "duration": 6,
    "start_time": "2024-03-07T17:07:58.955Z"
   },
   {
    "duration": 4,
    "start_time": "2024-03-07T17:08:03.698Z"
   },
   {
    "duration": 2658,
    "start_time": "2024-03-07T17:09:26.944Z"
   },
   {
    "duration": 3388,
    "start_time": "2024-03-07T17:09:29.604Z"
   },
   {
    "duration": 1405,
    "start_time": "2024-03-07T17:09:32.995Z"
   },
   {
    "duration": 4,
    "start_time": "2024-03-07T17:09:34.402Z"
   },
   {
    "duration": 51,
    "start_time": "2024-03-07T17:09:34.407Z"
   },
   {
    "duration": 6,
    "start_time": "2024-03-07T17:09:34.460Z"
   },
   {
    "duration": 20,
    "start_time": "2024-03-07T17:09:34.467Z"
   },
   {
    "duration": 960,
    "start_time": "2024-03-07T17:09:34.489Z"
   },
   {
    "duration": 16,
    "start_time": "2024-03-07T17:09:35.452Z"
   },
   {
    "duration": 874,
    "start_time": "2024-03-07T17:09:35.476Z"
   },
   {
    "duration": 3,
    "start_time": "2024-03-07T17:09:36.352Z"
   },
   {
    "duration": 335,
    "start_time": "2024-03-07T17:09:36.357Z"
   },
   {
    "duration": 675,
    "start_time": "2024-03-07T17:09:36.694Z"
   },
   {
    "duration": 316,
    "start_time": "2024-03-07T17:09:37.371Z"
   },
   {
    "duration": 280,
    "start_time": "2024-03-07T17:09:37.688Z"
   },
   {
    "duration": 364,
    "start_time": "2024-03-07T17:09:37.970Z"
   },
   {
    "duration": 290,
    "start_time": "2024-03-07T17:09:38.336Z"
   },
   {
    "duration": 346,
    "start_time": "2024-03-07T17:09:38.628Z"
   },
   {
    "duration": 240,
    "start_time": "2024-03-07T17:09:38.976Z"
   },
   {
    "duration": 2012,
    "start_time": "2024-03-07T17:09:39.217Z"
   },
   {
    "duration": 19,
    "start_time": "2024-03-07T17:09:41.230Z"
   },
   {
    "duration": 24,
    "start_time": "2024-03-07T17:09:41.250Z"
   },
   {
    "duration": 32,
    "start_time": "2024-03-07T17:09:41.292Z"
   },
   {
    "duration": 9,
    "start_time": "2024-03-07T17:09:41.326Z"
   },
   {
    "duration": 67,
    "start_time": "2024-03-07T17:09:41.336Z"
   },
   {
    "duration": 9,
    "start_time": "2024-03-07T17:09:41.404Z"
   },
   {
    "duration": 32,
    "start_time": "2024-03-07T17:09:41.415Z"
   },
   {
    "duration": 51,
    "start_time": "2024-03-07T17:09:41.451Z"
   },
   {
    "duration": 9917,
    "start_time": "2024-03-07T17:09:41.503Z"
   },
   {
    "duration": 1683,
    "start_time": "2024-03-07T17:09:51.422Z"
   },
   {
    "duration": 14,
    "start_time": "2024-03-07T17:09:53.106Z"
   },
   {
    "duration": 26,
    "start_time": "2024-03-07T17:09:53.122Z"
   },
   {
    "duration": 1392,
    "start_time": "2024-03-07T17:09:53.150Z"
   },
   {
    "duration": 95,
    "start_time": "2024-03-07T17:09:54.544Z"
   },
   {
    "duration": 100,
    "start_time": "2024-03-07T17:09:54.641Z"
   },
   {
    "duration": 288,
    "start_time": "2024-03-07T17:09:54.742Z"
   },
   {
    "duration": 553,
    "start_time": "2024-03-07T17:09:55.033Z"
   },
   {
    "duration": 363,
    "start_time": "2024-03-07T17:09:55.588Z"
   },
   {
    "duration": 283,
    "start_time": "2024-03-07T17:09:55.953Z"
   },
   {
    "duration": 621,
    "start_time": "2024-03-07T17:09:56.237Z"
   },
   {
    "duration": 314,
    "start_time": "2024-03-07T17:09:56.860Z"
   },
   {
    "duration": 374,
    "start_time": "2024-03-07T17:09:57.176Z"
   },
   {
    "duration": 392,
    "start_time": "2024-03-07T17:09:57.552Z"
   },
   {
    "duration": 10393,
    "start_time": "2024-03-07T17:09:57.946Z"
   },
   {
    "duration": 24,
    "start_time": "2024-03-07T17:10:08.341Z"
   },
   {
    "duration": 158,
    "start_time": "2024-03-07T17:10:08.367Z"
   },
   {
    "duration": 198,
    "start_time": "2024-03-07T17:10:08.527Z"
   },
   {
    "duration": 75,
    "start_time": "2024-03-07T17:10:08.727Z"
   },
   {
    "duration": 4,
    "start_time": "2024-03-07T17:10:08.804Z"
   },
   {
    "duration": 90,
    "start_time": "2024-03-07T17:10:08.809Z"
   },
   {
    "duration": 3,
    "start_time": "2024-03-07T17:10:08.900Z"
   },
   {
    "duration": 135,
    "start_time": "2024-03-07T17:10:08.905Z"
   },
   {
    "duration": 0,
    "start_time": "2024-03-07T17:10:09.041Z"
   },
   {
    "duration": 0,
    "start_time": "2024-03-07T17:10:09.043Z"
   },
   {
    "duration": 0,
    "start_time": "2024-03-07T17:10:09.045Z"
   },
   {
    "duration": 0,
    "start_time": "2024-03-07T17:10:09.046Z"
   },
   {
    "duration": 0,
    "start_time": "2024-03-07T17:10:09.047Z"
   },
   {
    "duration": 0,
    "start_time": "2024-03-07T17:10:09.048Z"
   },
   {
    "duration": 6,
    "start_time": "2024-03-07T17:11:46.607Z"
   },
   {
    "duration": 3,
    "start_time": "2024-03-07T17:13:36.323Z"
   },
   {
    "duration": 3,
    "start_time": "2024-03-07T17:13:37.806Z"
   },
   {
    "duration": 4,
    "start_time": "2024-03-07T17:13:42.213Z"
   },
   {
    "duration": 26141,
    "start_time": "2024-03-07T17:13:43.197Z"
   },
   {
    "duration": 32,
    "start_time": "2024-03-07T17:14:26.341Z"
   },
   {
    "duration": 30,
    "start_time": "2024-03-07T17:14:31.300Z"
   },
   {
    "duration": 125,
    "start_time": "2024-03-07T17:14:35.372Z"
   },
   {
    "duration": 5,
    "start_time": "2024-03-07T17:14:36.596Z"
   },
   {
    "duration": 6,
    "start_time": "2024-03-07T17:25:15.801Z"
   },
   {
    "duration": 5,
    "start_time": "2024-03-07T17:25:31.788Z"
   },
   {
    "duration": 5,
    "start_time": "2024-03-07T17:40:24.818Z"
   },
   {
    "duration": 3,
    "start_time": "2024-03-07T17:40:53.177Z"
   },
   {
    "duration": 3,
    "start_time": "2024-03-07T17:40:55.657Z"
   },
   {
    "duration": 3,
    "start_time": "2024-03-07T17:40:58.505Z"
   },
   {
    "duration": 26769,
    "start_time": "2024-03-07T17:40:59.865Z"
   },
   {
    "duration": 33,
    "start_time": "2024-03-07T17:41:30.952Z"
   },
   {
    "duration": 3,
    "start_time": "2024-03-07T17:49:34.189Z"
   },
   {
    "duration": 3,
    "start_time": "2024-03-07T17:49:37.149Z"
   },
   {
    "duration": 4,
    "start_time": "2024-03-07T17:50:30.063Z"
   },
   {
    "duration": 2,
    "start_time": "2024-03-07T17:50:30.808Z"
   },
   {
    "duration": 3,
    "start_time": "2024-03-07T17:50:33.313Z"
   },
   {
    "duration": 16,
    "start_time": "2024-03-07T17:50:34.907Z"
   },
   {
    "duration": 83667,
    "start_time": "2024-03-07T17:52:31.367Z"
   },
   {
    "duration": 32,
    "start_time": "2024-03-07T17:54:12.955Z"
   },
   {
    "duration": 29,
    "start_time": "2024-03-07T17:54:24.611Z"
   },
   {
    "duration": 146,
    "start_time": "2024-03-07T17:54:41.980Z"
   },
   {
    "duration": 5,
    "start_time": "2024-03-07T17:54:43.458Z"
   },
   {
    "duration": 5,
    "start_time": "2024-03-07T17:55:29.401Z"
   },
   {
    "duration": 6,
    "start_time": "2024-03-07T18:03:17.134Z"
   },
   {
    "duration": 3,
    "start_time": "2024-03-07T18:06:46.202Z"
   },
   {
    "duration": 2,
    "start_time": "2024-03-07T18:06:47.480Z"
   },
   {
    "duration": 4,
    "start_time": "2024-03-07T18:07:06.896Z"
   },
   {
    "duration": 3,
    "start_time": "2024-03-07T18:07:17.655Z"
   },
   {
    "duration": 3,
    "start_time": "2024-03-07T18:07:18.271Z"
   },
   {
    "duration": 4,
    "start_time": "2024-03-07T18:07:33.296Z"
   },
   {
    "duration": 85106,
    "start_time": "2024-03-07T18:07:35.648Z"
   },
   {
    "duration": 17,
    "start_time": "2024-03-07T18:10:14.445Z"
   },
   {
    "duration": 43,
    "start_time": "2024-03-07T18:10:21.063Z"
   },
   {
    "duration": 161,
    "start_time": "2024-03-07T18:10:42.019Z"
   },
   {
    "duration": 6,
    "start_time": "2024-03-07T18:10:42.985Z"
   },
   {
    "duration": 52,
    "start_time": "2024-03-07T18:11:50.929Z"
   },
   {
    "duration": 113,
    "start_time": "2024-03-07T18:13:08.656Z"
   },
   {
    "duration": 4,
    "start_time": "2024-03-07T18:13:18.079Z"
   },
   {
    "duration": 95160,
    "start_time": "2024-03-07T18:13:26.911Z"
   },
   {
    "duration": 18,
    "start_time": "2024-03-07T18:15:06.923Z"
   },
   {
    "duration": 19,
    "start_time": "2024-03-07T18:16:15.937Z"
   },
   {
    "duration": 816,
    "start_time": "2024-03-07T18:16:35.184Z"
   },
   {
    "duration": 5,
    "start_time": "2024-03-07T18:16:37.009Z"
   },
   {
    "duration": 4,
    "start_time": "2024-03-07T18:28:01.593Z"
   },
   {
    "duration": 240894,
    "start_time": "2024-03-07T18:28:05.879Z"
   },
   {
    "duration": 18,
    "start_time": "2024-03-07T18:33:59.333Z"
   },
   {
    "duration": 621,
    "start_time": "2024-03-07T18:34:27.477Z"
   },
   {
    "duration": 6,
    "start_time": "2024-03-07T18:34:28.363Z"
   },
   {
    "duration": 50,
    "start_time": "2024-03-07T18:34:51.772Z"
   },
   {
    "duration": 4,
    "start_time": "2024-03-07T18:45:37.626Z"
   },
   {
    "duration": 274593,
    "start_time": "2024-03-07T18:45:39.339Z"
   },
   {
    "duration": 19,
    "start_time": "2024-03-07T18:52:10.248Z"
   },
   {
    "duration": 44,
    "start_time": "2024-03-07T18:52:16.094Z"
   },
   {
    "duration": 670,
    "start_time": "2024-03-07T19:09:18.833Z"
   },
   {
    "duration": 7,
    "start_time": "2024-03-07T19:09:21.304Z"
   },
   {
    "duration": 694,
    "start_time": "2024-03-07T19:09:42.609Z"
   },
   {
    "duration": 6,
    "start_time": "2024-03-07T19:09:44.008Z"
   },
   {
    "duration": 17,
    "start_time": "2024-03-07T19:10:21.240Z"
   },
   {
    "duration": 10,
    "start_time": "2024-03-07T19:12:07.524Z"
   },
   {
    "duration": 10,
    "start_time": "2024-03-07T19:12:33.344Z"
   },
   {
    "duration": 12,
    "start_time": "2024-03-07T19:14:26.610Z"
   },
   {
    "duration": 9,
    "start_time": "2024-03-07T19:14:36.649Z"
   },
   {
    "duration": 12,
    "start_time": "2024-03-07T19:14:50.538Z"
   },
   {
    "duration": 13,
    "start_time": "2024-03-07T19:14:59.832Z"
   },
   {
    "duration": 11,
    "start_time": "2024-03-07T19:15:04.947Z"
   },
   {
    "duration": 9,
    "start_time": "2024-03-07T19:16:17.074Z"
   },
   {
    "duration": 11,
    "start_time": "2024-03-07T19:18:13.069Z"
   },
   {
    "duration": 658,
    "start_time": "2024-03-07T19:18:20.353Z"
   },
   {
    "duration": 5,
    "start_time": "2024-03-07T19:18:21.669Z"
   },
   {
    "duration": 9,
    "start_time": "2024-03-07T19:18:33.220Z"
   },
   {
    "duration": 25,
    "start_time": "2024-03-07T19:21:33.622Z"
   },
   {
    "duration": 68,
    "start_time": "2024-03-08T06:25:46.714Z"
   },
   {
    "duration": 2738,
    "start_time": "2024-03-08T06:26:48.925Z"
   },
   {
    "duration": 3190,
    "start_time": "2024-03-08T06:26:51.666Z"
   },
   {
    "duration": 1439,
    "start_time": "2024-03-08T06:26:54.858Z"
   },
   {
    "duration": 3,
    "start_time": "2024-03-08T06:26:56.299Z"
   },
   {
    "duration": 33,
    "start_time": "2024-03-08T06:26:56.304Z"
   },
   {
    "duration": 13,
    "start_time": "2024-03-08T06:26:56.338Z"
   },
   {
    "duration": 15,
    "start_time": "2024-03-08T06:26:56.353Z"
   },
   {
    "duration": 942,
    "start_time": "2024-03-08T06:26:56.369Z"
   },
   {
    "duration": 15,
    "start_time": "2024-03-08T06:26:57.312Z"
   },
   {
    "duration": 845,
    "start_time": "2024-03-08T06:26:57.329Z"
   },
   {
    "duration": 4,
    "start_time": "2024-03-08T06:26:58.175Z"
   },
   {
    "duration": 350,
    "start_time": "2024-03-08T06:26:58.180Z"
   },
   {
    "duration": 729,
    "start_time": "2024-03-08T06:26:58.532Z"
   },
   {
    "duration": 318,
    "start_time": "2024-03-08T06:26:59.263Z"
   },
   {
    "duration": 348,
    "start_time": "2024-03-08T06:26:59.582Z"
   },
   {
    "duration": 415,
    "start_time": "2024-03-08T06:26:59.932Z"
   },
   {
    "duration": 325,
    "start_time": "2024-03-08T06:27:00.349Z"
   },
   {
    "duration": 389,
    "start_time": "2024-03-08T06:27:00.675Z"
   },
   {
    "duration": 275,
    "start_time": "2024-03-08T06:27:01.066Z"
   },
   {
    "duration": 2044,
    "start_time": "2024-03-08T06:27:01.343Z"
   },
   {
    "duration": 17,
    "start_time": "2024-03-08T06:27:03.391Z"
   },
   {
    "duration": 67,
    "start_time": "2024-03-08T06:27:03.410Z"
   },
   {
    "duration": 63,
    "start_time": "2024-03-08T06:27:03.479Z"
   },
   {
    "duration": 12,
    "start_time": "2024-03-08T06:27:03.544Z"
   },
   {
    "duration": 101,
    "start_time": "2024-03-08T06:27:03.557Z"
   },
   {
    "duration": 9,
    "start_time": "2024-03-08T06:27:03.659Z"
   },
   {
    "duration": 44,
    "start_time": "2024-03-08T06:27:03.669Z"
   },
   {
    "duration": 28,
    "start_time": "2024-03-08T06:27:03.718Z"
   },
   {
    "duration": 9743,
    "start_time": "2024-03-08T06:27:03.748Z"
   },
   {
    "duration": 1653,
    "start_time": "2024-03-08T06:27:13.493Z"
   },
   {
    "duration": 13,
    "start_time": "2024-03-08T06:27:15.148Z"
   },
   {
    "duration": 230,
    "start_time": "2024-03-08T06:27:15.163Z"
   },
   {
    "duration": 1467,
    "start_time": "2024-03-08T06:27:15.395Z"
   },
   {
    "duration": 102,
    "start_time": "2024-03-08T06:27:16.864Z"
   },
   {
    "duration": 142,
    "start_time": "2024-03-08T06:27:16.968Z"
   },
   {
    "duration": 301,
    "start_time": "2024-03-08T06:27:17.112Z"
   },
   {
    "duration": 558,
    "start_time": "2024-03-08T06:27:17.415Z"
   },
   {
    "duration": 401,
    "start_time": "2024-03-08T06:27:17.975Z"
   },
   {
    "duration": 281,
    "start_time": "2024-03-08T06:27:18.378Z"
   },
   {
    "duration": 651,
    "start_time": "2024-03-08T06:27:18.661Z"
   },
   {
    "duration": 326,
    "start_time": "2024-03-08T06:27:19.314Z"
   },
   {
    "duration": 373,
    "start_time": "2024-03-08T06:27:19.642Z"
   },
   {
    "duration": 371,
    "start_time": "2024-03-08T06:27:20.017Z"
   },
   {
    "duration": 10256,
    "start_time": "2024-03-08T06:27:20.392Z"
   },
   {
    "duration": 25,
    "start_time": "2024-03-08T06:27:30.649Z"
   },
   {
    "duration": 230,
    "start_time": "2024-03-08T06:27:30.676Z"
   },
   {
    "duration": 192,
    "start_time": "2024-03-08T06:27:30.907Z"
   },
   {
    "duration": 73,
    "start_time": "2024-03-08T06:27:31.101Z"
   },
   {
    "duration": 128,
    "start_time": "2024-03-08T06:27:31.175Z"
   },
   {
    "duration": 422,
    "start_time": "2024-03-08T06:27:31.305Z"
   },
   {
    "duration": 207,
    "start_time": "2024-03-08T06:27:31.729Z"
   },
   {
    "duration": 40,
    "start_time": "2024-03-08T06:27:31.938Z"
   },
   {
    "duration": 49,
    "start_time": "2024-03-08T06:27:31.981Z"
   },
   {
    "duration": 809324,
    "start_time": "2024-03-08T06:27:32.032Z"
   },
   {
    "duration": 0,
    "start_time": "2024-03-08T06:41:01.358Z"
   },
   {
    "duration": 0,
    "start_time": "2024-03-08T06:41:01.359Z"
   },
   {
    "duration": 0,
    "start_time": "2024-03-08T06:41:01.360Z"
   },
   {
    "duration": 0,
    "start_time": "2024-03-08T06:41:01.362Z"
   },
   {
    "duration": 0,
    "start_time": "2024-03-08T06:41:01.363Z"
   },
   {
    "duration": 447,
    "start_time": "2024-03-08T06:41:18.857Z"
   },
   {
    "duration": 2533,
    "start_time": "2024-03-08T06:42:38.448Z"
   },
   {
    "duration": 455,
    "start_time": "2024-03-08T07:17:39.776Z"
   },
   {
    "duration": 2242,
    "start_time": "2024-03-08T07:24:04.091Z"
   },
   {
    "duration": 2192,
    "start_time": "2024-03-08T07:25:13.217Z"
   },
   {
    "duration": 2357,
    "start_time": "2024-03-08T07:26:06.320Z"
   },
   {
    "duration": 2221,
    "start_time": "2024-03-08T07:27:25.822Z"
   },
   {
    "duration": 2177,
    "start_time": "2024-03-08T07:27:35.718Z"
   },
   {
    "duration": 19,
    "start_time": "2024-03-08T07:28:21.260Z"
   },
   {
    "duration": 5,
    "start_time": "2024-03-08T08:20:06.092Z"
   },
   {
    "duration": 3,
    "start_time": "2024-03-08T08:20:31.440Z"
   },
   {
    "duration": 3,
    "start_time": "2024-03-08T08:20:32.469Z"
   },
   {
    "duration": 2724,
    "start_time": "2024-03-08T08:22:19.426Z"
   },
   {
    "duration": 3173,
    "start_time": "2024-03-08T08:22:22.153Z"
   },
   {
    "duration": 1395,
    "start_time": "2024-03-08T08:22:25.329Z"
   },
   {
    "duration": 3,
    "start_time": "2024-03-08T08:22:26.726Z"
   },
   {
    "duration": 36,
    "start_time": "2024-03-08T08:22:26.730Z"
   },
   {
    "duration": 19,
    "start_time": "2024-03-08T08:22:26.767Z"
   },
   {
    "duration": 13,
    "start_time": "2024-03-08T08:22:26.788Z"
   },
   {
    "duration": 961,
    "start_time": "2024-03-08T08:22:26.802Z"
   },
   {
    "duration": 19,
    "start_time": "2024-03-08T08:22:27.765Z"
   },
   {
    "duration": 833,
    "start_time": "2024-03-08T08:22:27.794Z"
   },
   {
    "duration": 4,
    "start_time": "2024-03-08T08:22:28.628Z"
   },
   {
    "duration": 320,
    "start_time": "2024-03-08T08:22:28.633Z"
   },
   {
    "duration": 669,
    "start_time": "2024-03-08T08:22:28.955Z"
   },
   {
    "duration": 350,
    "start_time": "2024-03-08T08:22:29.626Z"
   },
   {
    "duration": 289,
    "start_time": "2024-03-08T08:22:29.978Z"
   },
   {
    "duration": 378,
    "start_time": "2024-03-08T08:22:30.269Z"
   },
   {
    "duration": 286,
    "start_time": "2024-03-08T08:22:30.648Z"
   },
   {
    "duration": 455,
    "start_time": "2024-03-08T08:22:30.936Z"
   },
   {
    "duration": 685,
    "start_time": "2024-03-08T08:22:31.393Z"
   },
   {
    "duration": 1944,
    "start_time": "2024-03-08T08:22:32.080Z"
   },
   {
    "duration": 17,
    "start_time": "2024-03-08T08:22:34.026Z"
   },
   {
    "duration": 327,
    "start_time": "2024-03-08T08:22:34.045Z"
   },
   {
    "duration": 37,
    "start_time": "2024-03-08T08:22:34.374Z"
   },
   {
    "duration": 10,
    "start_time": "2024-03-08T08:22:34.413Z"
   },
   {
    "duration": 52,
    "start_time": "2024-03-08T08:22:34.425Z"
   },
   {
    "duration": 20,
    "start_time": "2024-03-08T08:22:34.478Z"
   },
   {
    "duration": 41,
    "start_time": "2024-03-08T08:22:34.499Z"
   },
   {
    "duration": 30,
    "start_time": "2024-03-08T08:22:34.544Z"
   },
   {
    "duration": 9882,
    "start_time": "2024-03-08T08:22:34.575Z"
   },
   {
    "duration": 1651,
    "start_time": "2024-03-08T08:22:44.459Z"
   },
   {
    "duration": 17,
    "start_time": "2024-03-08T08:22:46.112Z"
   },
   {
    "duration": 27,
    "start_time": "2024-03-08T08:22:46.132Z"
   },
   {
    "duration": 1436,
    "start_time": "2024-03-08T08:22:46.161Z"
   },
   {
    "duration": 110,
    "start_time": "2024-03-08T08:22:47.598Z"
   },
   {
    "duration": 101,
    "start_time": "2024-03-08T08:22:47.710Z"
   },
   {
    "duration": 313,
    "start_time": "2024-03-08T08:22:47.812Z"
   },
   {
    "duration": 515,
    "start_time": "2024-03-08T08:22:48.127Z"
   },
   {
    "duration": 366,
    "start_time": "2024-03-08T08:22:48.644Z"
   },
   {
    "duration": 275,
    "start_time": "2024-03-08T08:22:49.012Z"
   },
   {
    "duration": 656,
    "start_time": "2024-03-08T08:22:49.292Z"
   },
   {
    "duration": 355,
    "start_time": "2024-03-08T08:22:49.949Z"
   },
   {
    "duration": 372,
    "start_time": "2024-03-08T08:22:50.306Z"
   },
   {
    "duration": 334,
    "start_time": "2024-03-08T08:22:50.680Z"
   },
   {
    "duration": 9945,
    "start_time": "2024-03-08T08:22:51.015Z"
   },
   {
    "duration": 26,
    "start_time": "2024-03-08T08:23:00.962Z"
   },
   {
    "duration": 202,
    "start_time": "2024-03-08T08:23:00.989Z"
   },
   {
    "duration": 201,
    "start_time": "2024-03-08T08:23:01.193Z"
   },
   {
    "duration": 68,
    "start_time": "2024-03-08T08:23:01.396Z"
   },
   {
    "duration": 363,
    "start_time": "2024-03-08T08:23:01.466Z"
   },
   {
    "duration": 672,
    "start_time": "2024-03-08T08:23:01.830Z"
   },
   {
    "duration": 52,
    "start_time": "2024-03-08T08:23:02.504Z"
   },
   {
    "duration": 22,
    "start_time": "2024-03-08T08:23:02.557Z"
   },
   {
    "duration": 246741,
    "start_time": "2024-03-08T08:23:02.581Z"
   },
   {
    "duration": 18,
    "start_time": "2024-03-08T08:27:09.323Z"
   },
   {
    "duration": 57,
    "start_time": "2024-03-08T08:27:09.343Z"
   },
   {
    "duration": 3677,
    "start_time": "2024-03-08T08:27:09.401Z"
   },
   {
    "duration": 0,
    "start_time": "2024-03-08T08:27:13.079Z"
   },
   {
    "duration": 4293,
    "start_time": "2024-03-08T08:28:43.400Z"
   },
   {
    "duration": 2619,
    "start_time": "2024-03-08T08:31:15.063Z"
   },
   {
    "duration": 3180,
    "start_time": "2024-03-08T08:31:17.685Z"
   },
   {
    "duration": 5,
    "start_time": "2024-03-08T08:31:20.868Z"
   },
   {
    "duration": 13,
    "start_time": "2024-03-08T08:31:20.875Z"
   },
   {
    "duration": 10,
    "start_time": "2024-03-08T08:31:20.890Z"
   },
   {
    "duration": 8,
    "start_time": "2024-03-08T08:31:20.901Z"
   },
   {
    "duration": 10,
    "start_time": "2024-03-08T08:31:20.911Z"
   },
   {
    "duration": 864,
    "start_time": "2024-03-08T08:31:20.922Z"
   },
   {
    "duration": 15,
    "start_time": "2024-03-08T08:31:21.788Z"
   },
   {
    "duration": 724,
    "start_time": "2024-03-08T08:31:21.805Z"
   },
   {
    "duration": 3,
    "start_time": "2024-03-08T08:31:22.530Z"
   },
   {
    "duration": 276,
    "start_time": "2024-03-08T08:31:22.535Z"
   },
   {
    "duration": 653,
    "start_time": "2024-03-08T08:31:22.813Z"
   },
   {
    "duration": 301,
    "start_time": "2024-03-08T08:31:23.468Z"
   },
   {
    "duration": 283,
    "start_time": "2024-03-08T08:31:23.771Z"
   },
   {
    "duration": 354,
    "start_time": "2024-03-08T08:31:24.056Z"
   },
   {
    "duration": 277,
    "start_time": "2024-03-08T08:31:24.411Z"
   },
   {
    "duration": 351,
    "start_time": "2024-03-08T08:31:24.692Z"
   },
   {
    "duration": 241,
    "start_time": "2024-03-08T08:31:25.045Z"
   },
   {
    "duration": 1907,
    "start_time": "2024-03-08T08:31:25.292Z"
   },
   {
    "duration": 16,
    "start_time": "2024-03-08T08:31:27.202Z"
   },
   {
    "duration": 23,
    "start_time": "2024-03-08T08:31:27.220Z"
   },
   {
    "duration": 61,
    "start_time": "2024-03-08T08:31:27.245Z"
   },
   {
    "duration": 11,
    "start_time": "2024-03-08T08:31:27.308Z"
   },
   {
    "duration": 49,
    "start_time": "2024-03-08T08:31:27.320Z"
   },
   {
    "duration": 10,
    "start_time": "2024-03-08T08:31:31.437Z"
   },
   {
    "duration": 10,
    "start_time": "2024-03-08T08:31:38.396Z"
   },
   {
    "duration": 10,
    "start_time": "2024-03-08T08:31:42.964Z"
   },
   {
    "duration": 10,
    "start_time": "2024-03-08T08:31:51.029Z"
   },
   {
    "duration": 11,
    "start_time": "2024-03-08T08:31:59.948Z"
   },
   {
    "duration": 9,
    "start_time": "2024-03-08T08:32:18.813Z"
   },
   {
    "duration": 28,
    "start_time": "2024-03-08T08:34:13.297Z"
   },
   {
    "duration": 106,
    "start_time": "2024-03-08T08:34:14.626Z"
   },
   {
    "duration": 8,
    "start_time": "2024-03-08T08:34:20.720Z"
   },
   {
    "duration": 2748,
    "start_time": "2024-03-08T08:55:48.223Z"
   },
   {
    "duration": 3245,
    "start_time": "2024-03-08T08:55:50.974Z"
   },
   {
    "duration": 1417,
    "start_time": "2024-03-08T08:55:54.221Z"
   },
   {
    "duration": 3,
    "start_time": "2024-03-08T08:55:55.640Z"
   },
   {
    "duration": 25,
    "start_time": "2024-03-08T08:55:55.645Z"
   },
   {
    "duration": 15,
    "start_time": "2024-03-08T08:55:55.672Z"
   },
   {
    "duration": 975,
    "start_time": "2024-03-08T08:55:55.689Z"
   },
   {
    "duration": 18,
    "start_time": "2024-03-08T08:55:56.666Z"
   },
   {
    "duration": 809,
    "start_time": "2024-03-08T08:55:56.685Z"
   },
   {
    "duration": 4,
    "start_time": "2024-03-08T08:55:57.497Z"
   },
   {
    "duration": 339,
    "start_time": "2024-03-08T08:55:57.503Z"
   },
   {
    "duration": 691,
    "start_time": "2024-03-08T08:55:57.844Z"
   },
   {
    "duration": 309,
    "start_time": "2024-03-08T08:55:58.537Z"
   },
   {
    "duration": 287,
    "start_time": "2024-03-08T08:55:58.848Z"
   },
   {
    "duration": 356,
    "start_time": "2024-03-08T08:55:59.137Z"
   },
   {
    "duration": 287,
    "start_time": "2024-03-08T08:55:59.495Z"
   },
   {
    "duration": 379,
    "start_time": "2024-03-08T08:55:59.792Z"
   },
   {
    "duration": 254,
    "start_time": "2024-03-08T08:56:00.172Z"
   },
   {
    "duration": 2050,
    "start_time": "2024-03-08T08:56:00.427Z"
   },
   {
    "duration": 21,
    "start_time": "2024-03-08T08:56:02.479Z"
   },
   {
    "duration": 66,
    "start_time": "2024-03-08T08:56:02.502Z"
   },
   {
    "duration": 33,
    "start_time": "2024-03-08T08:56:02.570Z"
   },
   {
    "duration": 10,
    "start_time": "2024-03-08T08:56:02.605Z"
   },
   {
    "duration": 51,
    "start_time": "2024-03-08T08:56:02.617Z"
   },
   {
    "duration": 49,
    "start_time": "2024-03-08T08:56:02.671Z"
   },
   {
    "duration": 8,
    "start_time": "2024-03-08T08:56:02.722Z"
   },
   {
    "duration": 68,
    "start_time": "2024-03-08T08:56:02.732Z"
   },
   {
    "duration": 35,
    "start_time": "2024-03-08T08:56:02.804Z"
   },
   {
    "duration": 10009,
    "start_time": "2024-03-08T08:56:02.841Z"
   },
   {
    "duration": 1824,
    "start_time": "2024-03-08T08:56:12.852Z"
   },
   {
    "duration": 22,
    "start_time": "2024-03-08T08:56:14.677Z"
   },
   {
    "duration": 27,
    "start_time": "2024-03-08T08:56:14.700Z"
   },
   {
    "duration": 1433,
    "start_time": "2024-03-08T08:56:14.729Z"
   },
   {
    "duration": 101,
    "start_time": "2024-03-08T08:56:16.164Z"
   },
   {
    "duration": 93,
    "start_time": "2024-03-08T08:56:16.267Z"
   },
   {
    "duration": 296,
    "start_time": "2024-03-08T08:56:16.362Z"
   },
   {
    "duration": 518,
    "start_time": "2024-03-08T08:56:16.659Z"
   },
   {
    "duration": 392,
    "start_time": "2024-03-08T08:56:17.178Z"
   },
   {
    "duration": 281,
    "start_time": "2024-03-08T08:56:17.572Z"
   },
   {
    "duration": 632,
    "start_time": "2024-03-08T08:56:17.854Z"
   },
   {
    "duration": 329,
    "start_time": "2024-03-08T08:56:18.488Z"
   },
   {
    "duration": 359,
    "start_time": "2024-03-08T08:56:18.818Z"
   },
   {
    "duration": 332,
    "start_time": "2024-03-08T08:56:19.178Z"
   },
   {
    "duration": 10032,
    "start_time": "2024-03-08T08:56:19.512Z"
   },
   {
    "duration": 24,
    "start_time": "2024-03-08T08:56:29.546Z"
   },
   {
    "duration": 157,
    "start_time": "2024-03-08T08:56:29.572Z"
   },
   {
    "duration": 199,
    "start_time": "2024-03-08T08:56:29.731Z"
   },
   {
    "duration": 82,
    "start_time": "2024-03-08T08:56:29.932Z"
   },
   {
    "duration": 4,
    "start_time": "2024-03-08T08:56:30.016Z"
   },
   {
    "duration": 27,
    "start_time": "2024-03-08T08:56:30.022Z"
   },
   {
    "duration": 203,
    "start_time": "2024-03-08T08:56:30.050Z"
   },
   {
    "duration": 0,
    "start_time": "2024-03-08T08:56:30.254Z"
   },
   {
    "duration": 0,
    "start_time": "2024-03-08T08:56:30.255Z"
   },
   {
    "duration": 0,
    "start_time": "2024-03-08T08:56:30.256Z"
   },
   {
    "duration": 0,
    "start_time": "2024-03-08T08:56:30.258Z"
   },
   {
    "duration": 0,
    "start_time": "2024-03-08T08:56:30.259Z"
   },
   {
    "duration": 2633,
    "start_time": "2024-03-08T08:59:20.742Z"
   },
   {
    "duration": 3144,
    "start_time": "2024-03-08T08:59:23.378Z"
   },
   {
    "duration": 1391,
    "start_time": "2024-03-08T08:59:26.524Z"
   },
   {
    "duration": 4,
    "start_time": "2024-03-08T08:59:27.917Z"
   },
   {
    "duration": 6,
    "start_time": "2024-03-08T08:59:27.924Z"
   },
   {
    "duration": 9,
    "start_time": "2024-03-08T08:59:27.932Z"
   },
   {
    "duration": 956,
    "start_time": "2024-03-08T08:59:27.943Z"
   },
   {
    "duration": 18,
    "start_time": "2024-03-08T08:59:28.901Z"
   },
   {
    "duration": 851,
    "start_time": "2024-03-08T08:59:28.920Z"
   },
   {
    "duration": 4,
    "start_time": "2024-03-08T08:59:29.774Z"
   },
   {
    "duration": 403,
    "start_time": "2024-03-08T08:59:29.780Z"
   },
   {
    "duration": 739,
    "start_time": "2024-03-08T08:59:30.185Z"
   },
   {
    "duration": 333,
    "start_time": "2024-03-08T08:59:30.926Z"
   },
   {
    "duration": 290,
    "start_time": "2024-03-08T08:59:31.261Z"
   },
   {
    "duration": 390,
    "start_time": "2024-03-08T08:59:31.553Z"
   },
   {
    "duration": 303,
    "start_time": "2024-03-08T08:59:31.944Z"
   },
   {
    "duration": 340,
    "start_time": "2024-03-08T08:59:32.248Z"
   },
   {
    "duration": 242,
    "start_time": "2024-03-08T08:59:32.589Z"
   },
   {
    "duration": 2005,
    "start_time": "2024-03-08T08:59:32.833Z"
   },
   {
    "duration": 17,
    "start_time": "2024-03-08T08:59:34.840Z"
   },
   {
    "duration": 36,
    "start_time": "2024-03-08T08:59:34.859Z"
   },
   {
    "duration": 36,
    "start_time": "2024-03-08T08:59:34.897Z"
   },
   {
    "duration": 12,
    "start_time": "2024-03-08T08:59:34.934Z"
   },
   {
    "duration": 73,
    "start_time": "2024-03-08T08:59:34.947Z"
   },
   {
    "duration": 34,
    "start_time": "2024-03-08T08:59:35.022Z"
   },
   {
    "duration": 8,
    "start_time": "2024-03-08T08:59:35.057Z"
   },
   {
    "duration": 56,
    "start_time": "2024-03-08T08:59:35.067Z"
   },
   {
    "duration": 29,
    "start_time": "2024-03-08T08:59:35.126Z"
   },
   {
    "duration": 9877,
    "start_time": "2024-03-08T08:59:35.157Z"
   },
   {
    "duration": 1674,
    "start_time": "2024-03-08T08:59:45.036Z"
   },
   {
    "duration": 13,
    "start_time": "2024-03-08T08:59:46.712Z"
   },
   {
    "duration": 29,
    "start_time": "2024-03-08T08:59:46.727Z"
   },
   {
    "duration": 1485,
    "start_time": "2024-03-08T08:59:46.757Z"
   },
   {
    "duration": 96,
    "start_time": "2024-03-08T08:59:48.244Z"
   },
   {
    "duration": 98,
    "start_time": "2024-03-08T08:59:48.342Z"
   },
   {
    "duration": 285,
    "start_time": "2024-03-08T08:59:48.442Z"
   },
   {
    "duration": 550,
    "start_time": "2024-03-08T08:59:48.728Z"
   },
   {
    "duration": 362,
    "start_time": "2024-03-08T08:59:49.280Z"
   },
   {
    "duration": 300,
    "start_time": "2024-03-08T08:59:49.644Z"
   },
   {
    "duration": 674,
    "start_time": "2024-03-08T08:59:49.946Z"
   },
   {
    "duration": 328,
    "start_time": "2024-03-08T08:59:50.622Z"
   },
   {
    "duration": 374,
    "start_time": "2024-03-08T08:59:50.952Z"
   },
   {
    "duration": 347,
    "start_time": "2024-03-08T08:59:51.328Z"
   },
   {
    "duration": 10071,
    "start_time": "2024-03-08T08:59:51.677Z"
   },
   {
    "duration": 26,
    "start_time": "2024-03-08T09:00:01.750Z"
   },
   {
    "duration": 233,
    "start_time": "2024-03-08T09:00:01.778Z"
   },
   {
    "duration": 248,
    "start_time": "2024-03-08T09:00:02.013Z"
   },
   {
    "duration": 91,
    "start_time": "2024-03-08T09:00:02.263Z"
   },
   {
    "duration": 32,
    "start_time": "2024-03-08T09:00:02.356Z"
   },
   {
    "duration": 46,
    "start_time": "2024-03-08T09:00:02.390Z"
   },
   {
    "duration": 50,
    "start_time": "2024-03-08T09:00:02.437Z"
   },
   {
    "duration": 20,
    "start_time": "2024-03-08T09:00:02.489Z"
   },
   {
    "duration": 240161,
    "start_time": "2024-03-08T09:00:02.511Z"
   },
   {
    "duration": 28,
    "start_time": "2024-03-08T09:04:02.674Z"
   },
   {
    "duration": 95,
    "start_time": "2024-03-08T09:04:02.703Z"
   },
   {
    "duration": 3100,
    "start_time": "2024-03-08T09:04:02.800Z"
   },
   {
    "duration": 7140,
    "start_time": "2024-03-08T10:47:36.023Z"
   },
   {
    "duration": 5998,
    "start_time": "2024-03-08T10:47:43.165Z"
   },
   {
    "duration": 1756,
    "start_time": "2024-03-08T10:47:49.165Z"
   },
   {
    "duration": 3,
    "start_time": "2024-03-08T10:47:50.923Z"
   },
   {
    "duration": 41,
    "start_time": "2024-03-08T10:47:50.928Z"
   },
   {
    "duration": 8,
    "start_time": "2024-03-08T10:47:50.970Z"
   },
   {
    "duration": 949,
    "start_time": "2024-03-08T10:47:50.980Z"
   },
   {
    "duration": 14,
    "start_time": "2024-03-08T10:47:51.930Z"
   },
   {
    "duration": 542,
    "start_time": "2024-03-08T10:47:51.946Z"
   },
   {
    "duration": 2,
    "start_time": "2024-03-08T10:47:52.491Z"
   },
   {
    "duration": 283,
    "start_time": "2024-03-08T10:47:52.495Z"
   },
   {
    "duration": 515,
    "start_time": "2024-03-08T10:47:52.780Z"
   },
   {
    "duration": 223,
    "start_time": "2024-03-08T10:47:53.297Z"
   },
   {
    "duration": 191,
    "start_time": "2024-03-08T10:47:53.521Z"
   },
   {
    "duration": 249,
    "start_time": "2024-03-08T10:47:53.714Z"
   },
   {
    "duration": 204,
    "start_time": "2024-03-08T10:47:53.965Z"
   },
   {
    "duration": 240,
    "start_time": "2024-03-08T10:47:54.171Z"
   },
   {
    "duration": 167,
    "start_time": "2024-03-08T10:47:54.412Z"
   },
   {
    "duration": 1498,
    "start_time": "2024-03-08T10:47:54.581Z"
   },
   {
    "duration": 21,
    "start_time": "2024-03-08T10:47:56.081Z"
   },
   {
    "duration": 31,
    "start_time": "2024-03-08T10:47:56.103Z"
   },
   {
    "duration": 30,
    "start_time": "2024-03-08T10:47:56.135Z"
   },
   {
    "duration": 10,
    "start_time": "2024-03-08T10:47:56.166Z"
   },
   {
    "duration": 4,
    "start_time": "2024-03-08T10:48:03.268Z"
   },
   {
    "duration": 3414,
    "start_time": "2024-03-08T14:12:40.810Z"
   },
   {
    "duration": 6473,
    "start_time": "2024-03-08T14:12:44.226Z"
   },
   {
    "duration": 1456,
    "start_time": "2024-03-08T14:12:50.701Z"
   },
   {
    "duration": 3,
    "start_time": "2024-03-08T14:12:52.160Z"
   },
   {
    "duration": 6,
    "start_time": "2024-03-08T14:12:52.164Z"
   },
   {
    "duration": 6,
    "start_time": "2024-03-08T14:12:52.171Z"
   },
   {
    "duration": 1136,
    "start_time": "2024-03-08T14:12:52.179Z"
   },
   {
    "duration": 17,
    "start_time": "2024-03-08T14:12:53.316Z"
   },
   {
    "duration": 756,
    "start_time": "2024-03-08T14:12:53.334Z"
   },
   {
    "duration": 3,
    "start_time": "2024-03-08T14:12:54.093Z"
   },
   {
    "duration": 313,
    "start_time": "2024-03-08T14:12:54.098Z"
   },
   {
    "duration": 622,
    "start_time": "2024-03-08T14:12:54.413Z"
   },
   {
    "duration": 269,
    "start_time": "2024-03-08T14:12:55.036Z"
   },
   {
    "duration": 285,
    "start_time": "2024-03-08T14:12:55.307Z"
   },
   {
    "duration": 308,
    "start_time": "2024-03-08T14:12:55.594Z"
   },
   {
    "duration": 249,
    "start_time": "2024-03-08T14:12:55.903Z"
   },
   {
    "duration": 312,
    "start_time": "2024-03-08T14:12:56.154Z"
   },
   {
    "duration": 211,
    "start_time": "2024-03-08T14:12:56.467Z"
   },
   {
    "duration": 24,
    "start_time": "2024-03-08T14:12:56.680Z"
   },
   {
    "duration": 1783,
    "start_time": "2024-03-08T14:12:56.706Z"
   },
   {
    "duration": 16,
    "start_time": "2024-03-08T14:12:58.491Z"
   },
   {
    "duration": 47,
    "start_time": "2024-03-08T14:12:58.509Z"
   },
   {
    "duration": 32,
    "start_time": "2024-03-08T14:12:58.558Z"
   },
   {
    "duration": 11,
    "start_time": "2024-03-08T14:12:58.592Z"
   },
   {
    "duration": 78,
    "start_time": "2024-03-08T14:12:58.605Z"
   },
   {
    "duration": 31,
    "start_time": "2024-03-08T14:12:58.685Z"
   },
   {
    "duration": 6,
    "start_time": "2024-03-08T14:14:26.349Z"
   },
   {
    "duration": 6,
    "start_time": "2024-03-08T14:14:52.522Z"
   },
   {
    "duration": 24,
    "start_time": "2024-03-08T14:15:46.626Z"
   },
   {
    "duration": 23,
    "start_time": "2024-03-08T14:22:40.214Z"
   },
   {
    "duration": 32,
    "start_time": "2024-03-08T14:25:14.448Z"
   },
   {
    "duration": 13,
    "start_time": "2024-03-08T14:25:28.603Z"
   },
   {
    "duration": 899,
    "start_time": "2024-03-08T14:25:31.938Z"
   },
   {
    "duration": 70,
    "start_time": "2024-03-08T14:25:46.554Z"
   },
   {
    "duration": 47,
    "start_time": "2024-03-08T14:26:48.727Z"
   },
   {
    "duration": 244,
    "start_time": "2024-03-08T14:27:04.424Z"
   },
   {
    "duration": 423,
    "start_time": "2024-03-08T14:27:12.471Z"
   },
   {
    "duration": 215,
    "start_time": "2024-03-08T14:27:25.767Z"
   },
   {
    "duration": 461,
    "start_time": "2024-03-08T14:27:39.737Z"
   },
   {
    "duration": 102,
    "start_time": "2024-03-08T14:28:49.015Z"
   },
   {
    "duration": 270,
    "start_time": "2024-03-08T14:29:12.616Z"
   },
   {
    "duration": 275,
    "start_time": "2024-03-08T14:29:25.206Z"
   },
   {
    "duration": 231,
    "start_time": "2024-03-08T14:29:37.838Z"
   },
   {
    "duration": 2233,
    "start_time": "2024-03-08T14:30:15.737Z"
   },
   {
    "duration": 2633,
    "start_time": "2024-03-08T14:30:17.972Z"
   },
   {
    "duration": 4,
    "start_time": "2024-03-08T14:30:20.607Z"
   },
   {
    "duration": 60,
    "start_time": "2024-03-08T14:30:20.613Z"
   },
   {
    "duration": 35,
    "start_time": "2024-03-08T14:30:20.674Z"
   },
   {
    "duration": 30,
    "start_time": "2024-03-08T14:30:20.710Z"
   },
   {
    "duration": 750,
    "start_time": "2024-03-08T14:30:20.741Z"
   },
   {
    "duration": 13,
    "start_time": "2024-03-08T14:30:21.493Z"
   },
   {
    "duration": 613,
    "start_time": "2024-03-08T14:30:21.508Z"
   },
   {
    "duration": 3,
    "start_time": "2024-03-08T14:30:22.123Z"
   },
   {
    "duration": 239,
    "start_time": "2024-03-08T14:30:22.127Z"
   },
   {
    "duration": 522,
    "start_time": "2024-03-08T14:30:22.367Z"
   },
   {
    "duration": 252,
    "start_time": "2024-03-08T14:30:22.890Z"
   },
   {
    "duration": 233,
    "start_time": "2024-03-08T14:30:23.144Z"
   },
   {
    "duration": 289,
    "start_time": "2024-03-08T14:30:23.378Z"
   },
   {
    "duration": 236,
    "start_time": "2024-03-08T14:30:23.668Z"
   },
   {
    "duration": 273,
    "start_time": "2024-03-08T14:30:23.905Z"
   },
   {
    "duration": 271,
    "start_time": "2024-03-08T14:30:28.805Z"
   },
   {
    "duration": 198,
    "start_time": "2024-03-08T14:30:33.411Z"
   },
   {
    "duration": 28,
    "start_time": "2024-03-08T14:30:36.116Z"
   },
   {
    "duration": 1619,
    "start_time": "2024-03-08T14:30:41.651Z"
   },
   {
    "duration": 14,
    "start_time": "2024-03-08T14:30:44.602Z"
   },
   {
    "duration": 22,
    "start_time": "2024-03-08T14:30:46.298Z"
   },
   {
    "duration": 28,
    "start_time": "2024-03-08T14:30:48.889Z"
   },
   {
    "duration": 9,
    "start_time": "2024-03-08T14:30:49.738Z"
   },
   {
    "duration": 44,
    "start_time": "2024-03-08T14:30:51.722Z"
   },
   {
    "duration": 29,
    "start_time": "2024-03-08T14:30:53.536Z"
   },
   {
    "duration": 7,
    "start_time": "2024-03-08T14:30:54.872Z"
   },
   {
    "duration": 27,
    "start_time": "2024-03-08T14:30:58.210Z"
   },
   {
    "duration": 26,
    "start_time": "2024-03-08T14:31:02.193Z"
   },
   {
    "duration": 22,
    "start_time": "2024-03-08T14:31:04.473Z"
   },
   {
    "duration": 18,
    "start_time": "2024-03-08T14:31:17.760Z"
   },
   {
    "duration": 862,
    "start_time": "2024-03-08T14:31:19.640Z"
   },
   {
    "duration": 76,
    "start_time": "2024-03-08T14:31:21.480Z"
   },
   {
    "duration": 47,
    "start_time": "2024-03-08T14:31:26.401Z"
   },
   {
    "duration": 249,
    "start_time": "2024-03-08T14:31:28.200Z"
   },
   {
    "duration": 443,
    "start_time": "2024-03-08T14:31:29.732Z"
   },
   {
    "duration": 218,
    "start_time": "2024-03-08T14:31:30.977Z"
   },
   {
    "duration": 474,
    "start_time": "2024-03-08T14:31:35.171Z"
   },
   {
    "duration": 272,
    "start_time": "2024-03-08T14:31:39.273Z"
   },
   {
    "duration": 253,
    "start_time": "2024-03-08T14:31:43.553Z"
   },
   {
    "duration": 237,
    "start_time": "2024-03-08T14:31:45.040Z"
   },
   {
    "duration": 3,
    "start_time": "2024-03-08T14:32:42.655Z"
   },
   {
    "duration": 125772,
    "start_time": "2024-03-08T14:32:49.862Z"
   },
   {
    "duration": 2197,
    "start_time": "2024-03-08T14:36:24.694Z"
   },
   {
    "duration": 2670,
    "start_time": "2024-03-08T14:36:26.893Z"
   },
   {
    "duration": 4,
    "start_time": "2024-03-08T14:36:29.565Z"
   },
   {
    "duration": 4,
    "start_time": "2024-03-08T14:36:29.571Z"
   },
   {
    "duration": 8,
    "start_time": "2024-03-08T14:36:29.576Z"
   },
   {
    "duration": 15,
    "start_time": "2024-03-08T14:36:29.586Z"
   },
   {
    "duration": 766,
    "start_time": "2024-03-08T14:36:29.602Z"
   },
   {
    "duration": 13,
    "start_time": "2024-03-08T14:36:30.369Z"
   },
   {
    "duration": 649,
    "start_time": "2024-03-08T14:36:30.383Z"
   },
   {
    "duration": 3,
    "start_time": "2024-03-08T14:36:31.034Z"
   },
   {
    "duration": 251,
    "start_time": "2024-03-08T14:36:31.038Z"
   },
   {
    "duration": 542,
    "start_time": "2024-03-08T14:36:31.291Z"
   },
   {
    "duration": 253,
    "start_time": "2024-03-08T14:36:31.834Z"
   },
   {
    "duration": 236,
    "start_time": "2024-03-08T14:36:32.089Z"
   },
   {
    "duration": 281,
    "start_time": "2024-03-08T14:36:32.326Z"
   },
   {
    "duration": 255,
    "start_time": "2024-03-08T14:36:32.609Z"
   },
   {
    "duration": 279,
    "start_time": "2024-03-08T14:36:32.866Z"
   },
   {
    "duration": 200,
    "start_time": "2024-03-08T14:36:33.146Z"
   },
   {
    "duration": 23,
    "start_time": "2024-03-08T14:36:33.347Z"
   },
   {
    "duration": 1474,
    "start_time": "2024-03-08T14:36:33.371Z"
   },
   {
    "duration": 13,
    "start_time": "2024-03-08T14:36:34.846Z"
   },
   {
    "duration": 19,
    "start_time": "2024-03-08T14:36:34.861Z"
   },
   {
    "duration": 35,
    "start_time": "2024-03-08T14:36:34.882Z"
   },
   {
    "duration": 28,
    "start_time": "2024-03-08T14:36:34.918Z"
   },
   {
    "duration": 45,
    "start_time": "2024-03-08T14:36:34.948Z"
   },
   {
    "duration": 31,
    "start_time": "2024-03-08T14:36:34.994Z"
   },
   {
    "duration": 22,
    "start_time": "2024-03-08T14:36:35.026Z"
   },
   {
    "duration": 33,
    "start_time": "2024-03-08T14:36:35.052Z"
   },
   {
    "duration": 25,
    "start_time": "2024-03-08T14:36:35.086Z"
   },
   {
    "duration": 33,
    "start_time": "2024-03-08T14:36:35.113Z"
   },
   {
    "duration": 13,
    "start_time": "2024-03-08T14:36:39.040Z"
   },
   {
    "duration": 978,
    "start_time": "2024-03-08T14:36:40.727Z"
   },
   {
    "duration": 71,
    "start_time": "2024-03-08T14:36:41.707Z"
   },
   {
    "duration": 41,
    "start_time": "2024-03-08T14:36:42.799Z"
   },
   {
    "duration": 265,
    "start_time": "2024-03-08T14:36:43.295Z"
   },
   {
    "duration": 335,
    "start_time": "2024-03-08T14:36:43.696Z"
   },
   {
    "duration": 226,
    "start_time": "2024-03-08T14:36:44.033Z"
   },
   {
    "duration": 501,
    "start_time": "2024-03-08T14:36:44.674Z"
   },
   {
    "duration": 273,
    "start_time": "2024-03-08T14:36:45.635Z"
   },
   {
    "duration": 366,
    "start_time": "2024-03-08T14:36:45.909Z"
   },
   {
    "duration": 246,
    "start_time": "2024-03-08T14:36:46.600Z"
   },
   {
    "duration": 3,
    "start_time": "2024-03-08T14:36:48.047Z"
   },
   {
    "duration": 4824,
    "start_time": "2024-03-08T14:36:50.975Z"
   },
   {
    "duration": 114,
    "start_time": "2024-03-08T14:41:45.601Z"
   },
   {
    "duration": 131,
    "start_time": "2024-03-08T14:42:36.134Z"
   },
   {
    "duration": 45,
    "start_time": "2024-03-08T14:42:43.494Z"
   },
   {
    "duration": 5,
    "start_time": "2024-03-08T14:42:44.493Z"
   },
   {
    "duration": 3,
    "start_time": "2024-03-08T14:46:04.246Z"
   },
   {
    "duration": 4,
    "start_time": "2024-03-08T14:53:55.435Z"
   },
   {
    "duration": 12,
    "start_time": "2024-03-08T14:54:09.569Z"
   },
   {
    "duration": 6,
    "start_time": "2024-03-08T14:54:25.769Z"
   },
   {
    "duration": 3,
    "start_time": "2024-03-08T14:54:33.524Z"
   },
   {
    "duration": 4,
    "start_time": "2024-03-08T14:54:38.737Z"
   },
   {
    "duration": 3,
    "start_time": "2024-03-08T14:54:52.872Z"
   },
   {
    "duration": 63872,
    "start_time": "2024-03-08T14:54:56.504Z"
   },
   {
    "duration": 4,
    "start_time": "2024-03-08T14:56:25.486Z"
   },
   {
    "duration": 159383,
    "start_time": "2024-03-08T14:56:28.408Z"
   },
   {
    "duration": 15,
    "start_time": "2024-03-08T14:59:12.986Z"
   },
   {
    "duration": 27,
    "start_time": "2024-03-08T14:59:24.163Z"
   },
   {
    "duration": 4,
    "start_time": "2024-03-08T15:02:44.742Z"
   },
   {
    "duration": 13,
    "start_time": "2024-03-08T15:15:48.499Z"
   },
   {
    "duration": 29,
    "start_time": "2024-03-08T15:15:57.887Z"
   },
   {
    "duration": 88,
    "start_time": "2024-03-08T15:19:43.413Z"
   },
   {
    "duration": 19,
    "start_time": "2024-03-08T15:19:55.457Z"
   },
   {
    "duration": 64,
    "start_time": "2024-03-08T15:23:02.390Z"
   },
   {
    "duration": 19,
    "start_time": "2024-03-08T15:23:09.972Z"
   },
   {
    "duration": 18,
    "start_time": "2024-03-08T15:23:35.182Z"
   },
   {
    "duration": 2393,
    "start_time": "2024-03-08T15:29:52.962Z"
   },
   {
    "duration": 6,
    "start_time": "2024-03-08T16:56:58.841Z"
   },
   {
    "duration": 4,
    "start_time": "2024-03-08T16:58:04.174Z"
   },
   {
    "duration": 630,
    "start_time": "2024-03-08T16:58:05.095Z"
   },
   {
    "duration": 7,
    "start_time": "2024-03-08T17:02:54.794Z"
   },
   {
    "duration": 79,
    "start_time": "2024-03-08T17:04:45.254Z"
   },
   {
    "duration": 2216,
    "start_time": "2024-03-08T17:05:01.802Z"
   },
   {
    "duration": 2716,
    "start_time": "2024-03-08T17:05:04.020Z"
   },
   {
    "duration": 1261,
    "start_time": "2024-03-08T17:05:06.738Z"
   },
   {
    "duration": 4,
    "start_time": "2024-03-08T17:05:08.001Z"
   },
   {
    "duration": 234,
    "start_time": "2024-03-08T17:05:08.007Z"
   },
   {
    "duration": 153,
    "start_time": "2024-03-08T17:05:08.243Z"
   },
   {
    "duration": 809,
    "start_time": "2024-03-08T17:05:08.398Z"
   },
   {
    "duration": 14,
    "start_time": "2024-03-08T17:05:09.208Z"
   },
   {
    "duration": 712,
    "start_time": "2024-03-08T17:05:09.223Z"
   },
   {
    "duration": 6,
    "start_time": "2024-03-08T17:05:09.939Z"
   },
   {
    "duration": 279,
    "start_time": "2024-03-08T17:05:09.947Z"
   },
   {
    "duration": 576,
    "start_time": "2024-03-08T17:05:10.227Z"
   },
   {
    "duration": 272,
    "start_time": "2024-03-08T17:05:10.804Z"
   },
   {
    "duration": 243,
    "start_time": "2024-03-08T17:05:11.079Z"
   },
   {
    "duration": 283,
    "start_time": "2024-03-08T17:05:11.323Z"
   },
   {
    "duration": 230,
    "start_time": "2024-03-08T17:05:11.608Z"
   },
   {
    "duration": 280,
    "start_time": "2024-03-08T17:05:11.839Z"
   },
   {
    "duration": 195,
    "start_time": "2024-03-08T17:05:12.121Z"
   },
   {
    "duration": 33,
    "start_time": "2024-03-08T17:05:12.317Z"
   },
   {
    "duration": 1573,
    "start_time": "2024-03-08T17:05:12.351Z"
   },
   {
    "duration": 19,
    "start_time": "2024-03-08T17:05:13.926Z"
   },
   {
    "duration": 20,
    "start_time": "2024-03-08T17:05:13.947Z"
   },
   {
    "duration": 30,
    "start_time": "2024-03-08T17:05:13.969Z"
   },
   {
    "duration": 9,
    "start_time": "2024-03-08T17:05:14.000Z"
   },
   {
    "duration": 68,
    "start_time": "2024-03-08T17:05:14.010Z"
   },
   {
    "duration": 29,
    "start_time": "2024-03-08T17:05:14.080Z"
   },
   {
    "duration": 6,
    "start_time": "2024-03-08T17:05:14.110Z"
   },
   {
    "duration": 37,
    "start_time": "2024-03-08T17:05:14.117Z"
   },
   {
    "duration": 27,
    "start_time": "2024-03-08T17:05:14.155Z"
   },
   {
    "duration": 30,
    "start_time": "2024-03-08T17:05:14.184Z"
   },
   {
    "duration": 34,
    "start_time": "2024-03-08T17:05:14.216Z"
   },
   {
    "duration": 896,
    "start_time": "2024-03-08T17:05:14.252Z"
   },
   {
    "duration": 69,
    "start_time": "2024-03-08T17:05:15.150Z"
   },
   {
    "duration": 67,
    "start_time": "2024-03-08T17:05:15.221Z"
   },
   {
    "duration": 272,
    "start_time": "2024-03-08T17:05:15.289Z"
   },
   {
    "duration": 463,
    "start_time": "2024-03-08T17:05:15.563Z"
   },
   {
    "duration": 230,
    "start_time": "2024-03-08T17:05:16.027Z"
   },
   {
    "duration": 478,
    "start_time": "2024-03-08T17:05:16.258Z"
   },
   {
    "duration": 278,
    "start_time": "2024-03-08T17:05:16.737Z"
   },
   {
    "duration": 284,
    "start_time": "2024-03-08T17:05:17.017Z"
   },
   {
    "duration": 266,
    "start_time": "2024-03-08T17:05:17.304Z"
   },
   {
    "duration": 3,
    "start_time": "2024-03-08T17:05:17.571Z"
   },
   {
    "duration": 5155,
    "start_time": "2024-03-08T17:05:17.575Z"
   },
   {
    "duration": 132,
    "start_time": "2024-03-08T17:05:22.732Z"
   },
   {
    "duration": 145,
    "start_time": "2024-03-08T17:05:22.866Z"
   },
   {
    "duration": 46,
    "start_time": "2024-03-08T17:05:23.012Z"
   },
   {
    "duration": 4,
    "start_time": "2024-03-08T17:05:23.059Z"
   },
   {
    "duration": 10,
    "start_time": "2024-03-08T17:05:23.064Z"
   },
   {
    "duration": 23,
    "start_time": "2024-03-08T17:05:23.075Z"
   },
   {
    "duration": 18,
    "start_time": "2024-03-08T17:05:23.099Z"
   },
   {
    "duration": 316344,
    "start_time": "2024-03-08T17:05:23.119Z"
   },
   {
    "duration": 16,
    "start_time": "2024-03-08T17:10:39.464Z"
   },
   {
    "duration": 26,
    "start_time": "2024-03-08T17:10:39.482Z"
   },
   {
    "duration": 2452,
    "start_time": "2024-03-08T17:10:39.510Z"
   },
   {
    "duration": 6,
    "start_time": "2024-03-08T17:10:42.045Z"
   },
   {
    "duration": 14836,
    "start_time": "2024-03-08T17:24:00.335Z"
   },
   {
    "duration": 7,
    "start_time": "2024-03-08T17:24:30.862Z"
   },
   {
    "duration": 48,
    "start_time": "2024-03-09T13:53:52.195Z"
   },
   {
    "duration": 3741,
    "start_time": "2024-03-09T13:54:02.551Z"
   },
   {
    "duration": 6903,
    "start_time": "2024-03-09T13:54:06.295Z"
   },
   {
    "duration": 1609,
    "start_time": "2024-03-09T13:54:13.201Z"
   },
   {
    "duration": 3,
    "start_time": "2024-03-09T13:54:14.812Z"
   },
   {
    "duration": 25,
    "start_time": "2024-03-09T13:54:14.817Z"
   },
   {
    "duration": 8,
    "start_time": "2024-03-09T13:54:14.844Z"
   },
   {
    "duration": 3031,
    "start_time": "2024-03-09T13:54:14.854Z"
   },
   {
    "duration": 17,
    "start_time": "2024-03-09T13:54:17.886Z"
   },
   {
    "duration": 817,
    "start_time": "2024-03-09T13:54:17.905Z"
   },
   {
    "duration": 3,
    "start_time": "2024-03-09T13:54:18.723Z"
   },
   {
    "duration": 362,
    "start_time": "2024-03-09T13:54:18.728Z"
   },
   {
    "duration": 693,
    "start_time": "2024-03-09T13:54:19.092Z"
   },
   {
    "duration": 305,
    "start_time": "2024-03-09T13:54:19.787Z"
   },
   {
    "duration": 285,
    "start_time": "2024-03-09T13:54:20.097Z"
   },
   {
    "duration": 360,
    "start_time": "2024-03-09T13:54:20.384Z"
   },
   {
    "duration": 295,
    "start_time": "2024-03-09T13:54:20.746Z"
   },
   {
    "duration": 339,
    "start_time": "2024-03-09T13:54:21.043Z"
   },
   {
    "duration": 231,
    "start_time": "2024-03-09T13:54:21.383Z"
   },
   {
    "duration": 26,
    "start_time": "2024-03-09T13:54:21.616Z"
   },
   {
    "duration": 1931,
    "start_time": "2024-03-09T13:54:21.644Z"
   },
   {
    "duration": 15,
    "start_time": "2024-03-09T13:54:23.577Z"
   },
   {
    "duration": 30,
    "start_time": "2024-03-09T13:54:23.593Z"
   },
   {
    "duration": 49,
    "start_time": "2024-03-09T13:54:23.624Z"
   },
   {
    "duration": 11,
    "start_time": "2024-03-09T13:54:23.675Z"
   },
   {
    "duration": 67,
    "start_time": "2024-03-09T13:54:23.688Z"
   },
   {
    "duration": 37,
    "start_time": "2024-03-09T13:54:23.757Z"
   },
   {
    "duration": 7,
    "start_time": "2024-03-09T13:54:23.796Z"
   },
   {
    "duration": 25,
    "start_time": "2024-03-09T13:54:23.805Z"
   },
   {
    "duration": 49,
    "start_time": "2024-03-09T13:54:23.831Z"
   },
   {
    "duration": 32,
    "start_time": "2024-03-09T13:54:23.882Z"
   },
   {
    "duration": 16,
    "start_time": "2024-03-09T13:54:23.916Z"
   },
   {
    "duration": 1056,
    "start_time": "2024-03-09T13:54:23.933Z"
   },
   {
    "duration": 92,
    "start_time": "2024-03-09T13:54:24.990Z"
   },
   {
    "duration": 47,
    "start_time": "2024-03-09T13:54:25.083Z"
   },
   {
    "duration": 313,
    "start_time": "2024-03-09T13:54:25.132Z"
   },
   {
    "duration": 542,
    "start_time": "2024-03-09T13:54:25.447Z"
   },
   {
    "duration": 292,
    "start_time": "2024-03-09T13:54:25.992Z"
   },
   {
    "duration": 564,
    "start_time": "2024-03-09T13:54:26.285Z"
   },
   {
    "duration": 354,
    "start_time": "2024-03-09T13:54:26.850Z"
   },
   {
    "duration": 323,
    "start_time": "2024-03-09T13:54:27.206Z"
   },
   {
    "duration": 300,
    "start_time": "2024-03-09T13:54:27.533Z"
   },
   {
    "duration": 3,
    "start_time": "2024-03-09T13:54:27.834Z"
   },
   {
    "duration": 6139,
    "start_time": "2024-03-09T13:54:27.839Z"
   },
   {
    "duration": 165,
    "start_time": "2024-03-09T13:54:33.980Z"
   },
   {
    "duration": 165,
    "start_time": "2024-03-09T13:54:34.147Z"
   },
   {
    "duration": 64,
    "start_time": "2024-03-09T13:54:34.313Z"
   },
   {
    "duration": 4,
    "start_time": "2024-03-09T13:54:34.378Z"
   },
   {
    "duration": 30,
    "start_time": "2024-03-09T13:54:34.383Z"
   },
   {
    "duration": 8,
    "start_time": "2024-03-09T13:54:34.415Z"
   },
   {
    "duration": 11,
    "start_time": "2024-03-09T13:54:34.425Z"
   },
   {
    "duration": 208192,
    "start_time": "2024-03-09T13:54:34.438Z"
   },
   {
    "duration": 19,
    "start_time": "2024-03-09T13:58:02.632Z"
   },
   {
    "duration": 97,
    "start_time": "2024-03-09T13:58:02.652Z"
   },
   {
    "duration": 9,
    "start_time": "2024-03-09T13:58:15.738Z"
   },
   {
    "duration": 23,
    "start_time": "2024-03-09T13:58:27.254Z"
   },
   {
    "duration": 93,
    "start_time": "2024-03-09T14:00:19.321Z"
   },
   {
    "duration": 1280,
    "start_time": "2024-03-09T14:00:35.435Z"
   },
   {
    "duration": 559,
    "start_time": "2024-03-09T14:09:05.111Z"
   },
   {
    "duration": 22,
    "start_time": "2024-03-09T14:10:00.154Z"
   },
   {
    "duration": 579,
    "start_time": "2024-03-09T14:10:16.498Z"
   },
   {
    "duration": 592,
    "start_time": "2024-03-09T14:23:11.727Z"
   },
   {
    "duration": 624,
    "start_time": "2024-03-09T14:23:36.306Z"
   },
   {
    "duration": 24,
    "start_time": "2024-03-09T14:29:38.796Z"
   },
   {
    "duration": 574,
    "start_time": "2024-03-09T15:32:53.089Z"
   },
   {
    "duration": 547,
    "start_time": "2024-03-09T15:33:34.993Z"
   },
   {
    "duration": 101,
    "start_time": "2024-03-09T15:36:53.592Z"
   },
   {
    "duration": 20,
    "start_time": "2024-03-09T15:37:00.351Z"
   },
   {
    "duration": 547,
    "start_time": "2024-03-09T15:37:41.584Z"
   },
   {
    "duration": 549,
    "start_time": "2024-03-09T15:39:01.765Z"
   },
   {
    "duration": 25,
    "start_time": "2024-03-09T15:42:26.970Z"
   },
   {
    "duration": 20,
    "start_time": "2024-03-09T15:43:22.110Z"
   },
   {
    "duration": 22,
    "start_time": "2024-03-09T15:43:35.462Z"
   },
   {
    "duration": 1194,
    "start_time": "2024-03-09T15:43:57.206Z"
   },
   {
    "duration": 16,
    "start_time": "2024-03-09T15:44:26.697Z"
   },
   {
    "duration": 522,
    "start_time": "2024-03-09T15:44:52.686Z"
   },
   {
    "duration": 9,
    "start_time": "2024-03-09T15:46:25.823Z"
   },
   {
    "duration": 528,
    "start_time": "2024-03-09T15:46:41.226Z"
   },
   {
    "duration": 11,
    "start_time": "2024-03-09T15:50:41.077Z"
   },
   {
    "duration": 535,
    "start_time": "2024-03-09T15:52:13.984Z"
   },
   {
    "duration": 548,
    "start_time": "2024-03-09T17:00:29.216Z"
   },
   {
    "duration": 13,
    "start_time": "2024-03-09T17:00:57.413Z"
   },
   {
    "duration": 408,
    "start_time": "2024-03-09T17:01:05.178Z"
   },
   {
    "duration": 36,
    "start_time": "2024-03-09T17:01:32.780Z"
   },
   {
    "duration": 29,
    "start_time": "2024-03-09T17:01:52.443Z"
   },
   {
    "duration": 108,
    "start_time": "2024-03-09T17:02:17.827Z"
   },
   {
    "duration": 37,
    "start_time": "2024-03-09T17:02:25.945Z"
   },
   {
    "duration": 19,
    "start_time": "2024-03-09T17:02:39.922Z"
   },
   {
    "duration": 414,
    "start_time": "2024-03-09T17:06:11.196Z"
   },
   {
    "duration": 19,
    "start_time": "2024-03-09T17:06:29.764Z"
   },
   {
    "duration": 19,
    "start_time": "2024-03-09T17:06:59.403Z"
   },
   {
    "duration": 39,
    "start_time": "2024-03-09T17:08:25.042Z"
   },
   {
    "duration": 20,
    "start_time": "2024-03-09T17:11:05.231Z"
   },
   {
    "duration": 41,
    "start_time": "2024-03-09T17:12:05.494Z"
   },
   {
    "duration": 37,
    "start_time": "2024-03-09T17:13:42.972Z"
   },
   {
    "duration": 40,
    "start_time": "2024-03-09T17:14:38.706Z"
   },
   {
    "duration": 32,
    "start_time": "2024-03-09T17:27:45.427Z"
   },
   {
    "duration": 18,
    "start_time": "2024-03-09T17:28:40.614Z"
   },
   {
    "duration": 25,
    "start_time": "2024-03-09T17:30:50.301Z"
   },
   {
    "duration": 32,
    "start_time": "2024-03-09T17:31:06.569Z"
   },
   {
    "duration": 5,
    "start_time": "2024-03-09T17:36:57.769Z"
   },
   {
    "duration": 2939,
    "start_time": "2024-03-09T17:37:41.735Z"
   },
   {
    "duration": 2676,
    "start_time": "2024-03-09T17:39:59.751Z"
   },
   {
    "duration": 3140,
    "start_time": "2024-03-09T17:40:02.430Z"
   },
   {
    "duration": 1419,
    "start_time": "2024-03-09T17:40:05.572Z"
   },
   {
    "duration": 5,
    "start_time": "2024-03-09T17:40:06.994Z"
   },
   {
    "duration": 8,
    "start_time": "2024-03-09T17:40:07.000Z"
   },
   {
    "duration": 11,
    "start_time": "2024-03-09T17:40:07.009Z"
   },
   {
    "duration": 945,
    "start_time": "2024-03-09T17:40:07.022Z"
   },
   {
    "duration": 17,
    "start_time": "2024-03-09T17:40:07.969Z"
   },
   {
    "duration": 851,
    "start_time": "2024-03-09T17:40:07.988Z"
   },
   {
    "duration": 4,
    "start_time": "2024-03-09T17:40:08.842Z"
   },
   {
    "duration": 349,
    "start_time": "2024-03-09T17:40:08.847Z"
   },
   {
    "duration": 690,
    "start_time": "2024-03-09T17:40:09.198Z"
   },
   {
    "duration": 319,
    "start_time": "2024-03-09T17:40:09.889Z"
   },
   {
    "duration": 282,
    "start_time": "2024-03-09T17:40:10.210Z"
   },
   {
    "duration": 353,
    "start_time": "2024-03-09T17:40:10.494Z"
   },
   {
    "duration": 315,
    "start_time": "2024-03-09T17:40:10.848Z"
   },
   {
    "duration": 330,
    "start_time": "2024-03-09T17:40:11.165Z"
   },
   {
    "duration": 252,
    "start_time": "2024-03-09T17:40:11.496Z"
   },
   {
    "duration": 36,
    "start_time": "2024-03-09T17:40:11.749Z"
   },
   {
    "duration": 1941,
    "start_time": "2024-03-09T17:40:11.787Z"
   },
   {
    "duration": 16,
    "start_time": "2024-03-09T17:40:13.729Z"
   },
   {
    "duration": 31,
    "start_time": "2024-03-09T17:40:13.746Z"
   },
   {
    "duration": 36,
    "start_time": "2024-03-09T17:40:13.778Z"
   },
   {
    "duration": 10,
    "start_time": "2024-03-09T17:40:13.816Z"
   },
   {
    "duration": 70,
    "start_time": "2024-03-09T17:40:13.828Z"
   },
   {
    "duration": 32,
    "start_time": "2024-03-09T17:40:13.900Z"
   },
   {
    "duration": 7,
    "start_time": "2024-03-09T17:40:13.934Z"
   },
   {
    "duration": 46,
    "start_time": "2024-03-09T17:40:13.944Z"
   },
   {
    "duration": 28,
    "start_time": "2024-03-09T17:40:13.991Z"
   },
   {
    "duration": 31,
    "start_time": "2024-03-09T17:40:14.021Z"
   },
   {
    "duration": 34,
    "start_time": "2024-03-09T17:40:14.054Z"
   },
   {
    "duration": 1093,
    "start_time": "2024-03-09T17:40:14.090Z"
   },
   {
    "duration": 88,
    "start_time": "2024-03-09T17:40:15.185Z"
   },
   {
    "duration": 79,
    "start_time": "2024-03-09T17:40:15.274Z"
   },
   {
    "duration": 329,
    "start_time": "2024-03-09T17:40:15.355Z"
   },
   {
    "duration": 535,
    "start_time": "2024-03-09T17:40:15.685Z"
   },
   {
    "duration": 271,
    "start_time": "2024-03-09T17:40:16.221Z"
   },
   {
    "duration": 605,
    "start_time": "2024-03-09T17:40:16.493Z"
   },
   {
    "duration": 356,
    "start_time": "2024-03-09T17:40:17.099Z"
   },
   {
    "duration": 336,
    "start_time": "2024-03-09T17:40:17.456Z"
   },
   {
    "duration": 317,
    "start_time": "2024-03-09T17:40:17.794Z"
   },
   {
    "duration": 3,
    "start_time": "2024-03-09T17:40:18.112Z"
   },
   {
    "duration": 6121,
    "start_time": "2024-03-09T17:40:18.117Z"
   },
   {
    "duration": 150,
    "start_time": "2024-03-09T17:40:24.239Z"
   },
   {
    "duration": 167,
    "start_time": "2024-03-09T17:40:24.391Z"
   },
   {
    "duration": 61,
    "start_time": "2024-03-09T17:40:24.559Z"
   },
   {
    "duration": 4,
    "start_time": "2024-03-09T17:40:24.621Z"
   },
   {
    "duration": 12,
    "start_time": "2024-03-09T17:40:24.626Z"
   },
   {
    "duration": 6,
    "start_time": "2024-03-09T17:40:24.639Z"
   },
   {
    "duration": 4,
    "start_time": "2024-03-09T17:40:24.647Z"
   },
   {
    "duration": 213170,
    "start_time": "2024-03-09T17:40:24.653Z"
   },
   {
    "duration": 18,
    "start_time": "2024-03-09T17:43:57.825Z"
   },
   {
    "duration": 51,
    "start_time": "2024-03-09T17:43:57.845Z"
   },
   {
    "duration": 948,
    "start_time": "2024-03-09T17:43:57.898Z"
   },
   {
    "duration": 7,
    "start_time": "2024-03-09T17:43:58.848Z"
   }
  ],
  "kernelspec": {
   "display_name": "Python 3 (ipykernel)",
   "language": "python",
   "name": "python3"
  },
  "language_info": {
   "codemirror_mode": {
    "name": "ipython",
    "version": 3
   },
   "file_extension": ".py",
   "mimetype": "text/x-python",
   "name": "python",
   "nbconvert_exporter": "python",
   "pygments_lexer": "ipython3",
   "version": "3.9.5"
  },
  "toc": {
   "base_numbering": 1,
   "nav_menu": {},
   "number_sections": true,
   "sideBar": true,
   "skip_h1_title": true,
   "title_cell": "Table of Contents",
   "title_sidebar": "Contents",
   "toc_cell": false,
   "toc_position": {},
   "toc_section_display": true,
   "toc_window_display": false
  }
 },
 "nbformat": 4,
 "nbformat_minor": 2
}
