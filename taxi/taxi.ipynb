{
  "cells": [
    {
      "cell_type": "markdown",
      "metadata": {
        "toc": true,
        "id": "_DuWYf_P46cm"
      },
      "source": [
        "<h1>Содержание<span class=\"tocSkip\"></span></h1>\n",
        "<div class=\"toc\"><ul class=\"toc-item\"><li><span><a href=\"#Подготовка\" data-toc-modified-id=\"Подготовка-1\"><span class=\"toc-item-num\">1&nbsp;&nbsp;</span>Подготовка</a></span><ul class=\"toc-item\"><li><span><a href=\"#Загрузка-данных\" data-toc-modified-id=\"Загрузка-данных-1.1\"><span class=\"toc-item-num\">1.1&nbsp;&nbsp;</span>Загрузка данных</a></span></li><li><span><a href=\"#Подготовка-данных\" data-toc-modified-id=\"Подготовка-данных-1.2\"><span class=\"toc-item-num\">1.2&nbsp;&nbsp;</span>Подготовка данных</a></span></li></ul></li><li><span><a href=\"#Анализ\" data-toc-modified-id=\"Анализ-2\"><span class=\"toc-item-num\">2&nbsp;&nbsp;</span>Анализ</a></span><ul class=\"toc-item\"><li><span><a href=\"#Тренды-и-сезонность\" data-toc-modified-id=\"Тренды-и-сезонность-2.1\"><span class=\"toc-item-num\">2.1&nbsp;&nbsp;</span>Тренды и сезонность</a></span></li><li><span><a href=\"#Скользящая-средняя,-проверка-на-стационарность\" data-toc-modified-id=\"Скользящая-средняя,-проверка-на-стационарность-2.2\"><span class=\"toc-item-num\">2.2&nbsp;&nbsp;</span>Скользящая средняя, проверка на стационарность</a></span></li></ul></li><li><span><a href=\"#Обучение\" data-toc-modified-id=\"Обучение-3\"><span class=\"toc-item-num\">3&nbsp;&nbsp;</span>Обучение</a></span><ul class=\"toc-item\"><li><span><a href=\"#Добавление-признаков\" data-toc-modified-id=\"Добавление-признаков-3.1\"><span class=\"toc-item-num\">3.1&nbsp;&nbsp;</span>Добавление признаков</a></span></li><li><span><a href=\"#Создание-обучающей-и-тестовой-выборок\" data-toc-modified-id=\"Создание-обучающей-и-тестовой-выборок-3.2\"><span class=\"toc-item-num\">3.2&nbsp;&nbsp;</span>Создание обучающей и тестовой выборок</a></span></li><li><span><a href=\"#Обучение-моделей-с-помощью-пайплайна\" data-toc-modified-id=\"Обучение-моделей-с-помощью-пайплайна-3.3\"><span class=\"toc-item-num\">3.3&nbsp;&nbsp;</span>Обучение моделей с помощью пайплайна</a></span></li><li><span><a href=\"#Анализ-моделей\" data-toc-modified-id=\"Анализ-моделей-3.4\"><span class=\"toc-item-num\">3.4&nbsp;&nbsp;</span>Анализ моделей</a></span></li></ul></li><li><span><a href=\"#Тестирование\" data-toc-modified-id=\"Тестирование-4\"><span class=\"toc-item-num\">4&nbsp;&nbsp;</span>Тестирование</a></span></li><li><span><a href=\"#Итоговые-выводы\" data-toc-modified-id=\"Итоговые-выводы-5\"><span class=\"toc-item-num\">5&nbsp;&nbsp;</span>Итоговые выводы</a></span></li></ul></div>"
      ]
    },
    {
      "cell_type": "markdown",
      "metadata": {
        "id": "M1uKkcTS46co"
      },
      "source": [
        "#  Прогнозирование заказов такси"
      ]
    },
    {
      "cell_type": "markdown",
      "metadata": {
        "id": "0eUDdSFo46co"
      },
      "source": [
        "Компания «Чётенькое такси» собрала исторические данные о заказах такси в аэропортах. Чтобы привлекать больше водителей в период пиковой нагрузки, нужно спрогнозировать количество заказов такси на следующий час.\n",
        "\n",
        "**Наша задача** - построить модель для предсказания количества заказов такси на следующий час.\n",
        "\n",
        "Значение метрики *RMSE* на тестовой выборке должно быть не больше 48.\n",
        "\n",
        "**Описание данных**\n",
        "\n",
        "Данные лежат в файле `taxi.csv`. Количество заказов находится в столбце `num_orders`\n",
        "\n",
        "**План работы будет таким:**\n",
        "\n",
        "1. Загрузить данные и выполнить их ресемплирование по одному часу.\n",
        "2. Проанализировать данные.\n",
        "3. Обучить разные модели с различными гиперпараметрами. Сделать тестовую выборку размером 10% от исходных данных.\n",
        "4. Проверить данные на тестовой выборке и сделать выводы.\n",
        "\n",
        "Прежде чем загружать датасеты, нужно провести импорт необходимых библиотек и до."
      ]
    },
    {
      "cell_type": "code",
      "execution_count": null,
      "metadata": {
        "id": "8jKNnIJo46ct"
      },
      "outputs": [],
      "source": [
        "import pandas as pd\n",
        "import matplotlib.pyplot as plt\n",
        "from statsmodels.tsa.seasonal import seasonal_decompose\n",
        "from statsmodels.tsa.stattools import adfuller\n",
        "\n",
        "import sklearn\n",
        "from sklearn.model_selection import train_test_split\n",
        "from sklearn.metrics import root_mean_squared_error\n",
        "from sklearn.linear_model import LinearRegression\n",
        "from sklearn.tree import DecisionTreeRegressor\n",
        "from lightgbm import LGBMRegressor\n",
        "from sklearn.pipeline import Pipeline\n",
        "from sklearn.model_selection import TimeSeriesSplit, GridSearchCV\n",
        "from sklearn.dummy import DummyRegressor\n",
        "\n",
        "RANDOM_STATE = 42"
      ]
    },
    {
      "cell_type": "markdown",
      "metadata": {
        "id": "BgSlDk2p46cv"
      },
      "source": [
        "Кроме того, напишем функции, которые пригодятся нам в дальнейшей работе."
      ]
    },
    {
      "cell_type": "code",
      "execution_count": null,
      "metadata": {
        "id": "kl_FcDVa46cv"
      },
      "outputs": [],
      "source": [
        "# Функция получения общей информации о датасете, о дубликатах и пропусках.\n",
        "def information(df):\n",
        "    df.info();\n",
        "    print('\\nКоличество дубликатов:',df.duplicated().sum(),'\\n')\n",
        "    print('Количество пропусков:\\n',df.isna().sum())"
      ]
    },
    {
      "cell_type": "code",
      "execution_count": null,
      "metadata": {
        "id": "2uyixhNW46cw"
      },
      "outputs": [],
      "source": [
        "# Функция создания дополнительных признаков (день, день недели, час, смещение, скользящая средняя).\n",
        "def make_features(data, max_lag, rolling_mean_size):\n",
        "    data_new = data.copy()\n",
        "    data_new['day'] = data_new.index.day\n",
        "    data_new['dayofweek'] = data_new.index.dayofweek\n",
        "    data_new['hour'] = data_new.index.hour\n",
        "\n",
        "    for lag in range(1, max_lag + 1):\n",
        "        data_new['lag_{}'.format(lag)] = data_new['num_orders'].shift(lag)\n",
        "\n",
        "    data_new['rolling_mean'] = data_new['num_orders'].shift().rolling(rolling_mean_size).mean()\n",
        "    return data_new"
      ]
    },
    {
      "cell_type": "markdown",
      "metadata": {
        "id": "Ucgq28BB46c1"
      },
      "source": [
        "## Подготовка"
      ]
    },
    {
      "cell_type": "markdown",
      "metadata": {
        "id": "ryLoxVv-46c1"
      },
      "source": [
        "### Загрузка данных"
      ]
    },
    {
      "cell_type": "markdown",
      "metadata": {
        "id": "z8VPoGzR46c2"
      },
      "source": [
        "Попробуем загрузить датасет, сразу переведем формат данных в колонке с датой и временем в нужный фомат и сделаем эту колонку индексом."
      ]
    },
    {
      "cell_type": "code",
      "execution_count": null,
      "metadata": {
        "id": "6e6qnlgQ46c2"
      },
      "outputs": [],
      "source": [
        "try:\n",
        "    data = pd.read_csv('/???/taxi.csv', index_col=[0], parse_dates=[0])\n",
        "except:\n",
        "    data = pd.read_csv('https://???/taxi.csv', index_col=[0], parse_dates=[0])"
      ]
    },
    {
      "cell_type": "markdown",
      "metadata": {
        "id": "4x2tcd6o46c3"
      },
      "source": [
        "Посмотрим первые 5 строк датасета."
      ]
    },
    {
      "cell_type": "code",
      "execution_count": null,
      "metadata": {
        "id": "ladoCpL_46c4",
        "outputId": "f7ca4692-adf2-4b7d-a04d-45c04bccc318"
      },
      "outputs": [
        {
          "data": {
            "text/html": [
              "<div>\n",
              "<style scoped>\n",
              "    .dataframe tbody tr th:only-of-type {\n",
              "        vertical-align: middle;\n",
              "    }\n",
              "\n",
              "    .dataframe tbody tr th {\n",
              "        vertical-align: top;\n",
              "    }\n",
              "\n",
              "    .dataframe thead th {\n",
              "        text-align: right;\n",
              "    }\n",
              "</style>\n",
              "<table border=\"1\" class=\"dataframe\">\n",
              "  <thead>\n",
              "    <tr style=\"text-align: right;\">\n",
              "      <th></th>\n",
              "      <th>num_orders</th>\n",
              "    </tr>\n",
              "    <tr>\n",
              "      <th>datetime</th>\n",
              "      <th></th>\n",
              "    </tr>\n",
              "  </thead>\n",
              "  <tbody>\n",
              "    <tr>\n",
              "      <th>2018-03-01 00:00:00</th>\n",
              "      <td>9</td>\n",
              "    </tr>\n",
              "    <tr>\n",
              "      <th>2018-03-01 00:10:00</th>\n",
              "      <td>14</td>\n",
              "    </tr>\n",
              "    <tr>\n",
              "      <th>2018-03-01 00:20:00</th>\n",
              "      <td>28</td>\n",
              "    </tr>\n",
              "    <tr>\n",
              "      <th>2018-03-01 00:30:00</th>\n",
              "      <td>20</td>\n",
              "    </tr>\n",
              "    <tr>\n",
              "      <th>2018-03-01 00:40:00</th>\n",
              "      <td>32</td>\n",
              "    </tr>\n",
              "  </tbody>\n",
              "</table>\n",
              "</div>"
            ],
            "text/plain": [
              "                     num_orders\n",
              "datetime                       \n",
              "2018-03-01 00:00:00           9\n",
              "2018-03-01 00:10:00          14\n",
              "2018-03-01 00:20:00          28\n",
              "2018-03-01 00:30:00          20\n",
              "2018-03-01 00:40:00          32"
            ]
          },
          "execution_count": 6,
          "metadata": {},
          "output_type": "execute_result"
        }
      ],
      "source": [
        "data.head()"
      ]
    },
    {
      "cell_type": "markdown",
      "metadata": {
        "id": "ApaatxAS46c6"
      },
      "source": [
        "Посмотрим общую информацию о датасете."
      ]
    },
    {
      "cell_type": "code",
      "execution_count": null,
      "metadata": {
        "id": "-pO8m8Ky46c8",
        "outputId": "541617ca-c456-4c54-8ae5-e11cc2ce3664"
      },
      "outputs": [
        {
          "name": "stdout",
          "output_type": "stream",
          "text": [
            "<class 'pandas.core.frame.DataFrame'>\n",
            "DatetimeIndex: 26496 entries, 2018-03-01 00:00:00 to 2018-08-31 23:50:00\n",
            "Data columns (total 1 columns):\n",
            " #   Column      Non-Null Count  Dtype\n",
            "---  ------      --------------  -----\n",
            " 0   num_orders  26496 non-null  int64\n",
            "dtypes: int64(1)\n",
            "memory usage: 414.0 KB\n",
            "\n",
            "Количество дубликатов: 26415 \n",
            "\n",
            "Количество пропусков:\n",
            " num_orders    0\n",
            "dtype: int64\n"
          ]
        }
      ],
      "source": [
        "information(data)"
      ]
    },
    {
      "cell_type": "markdown",
      "metadata": {
        "id": "ulitsLb646c9"
      },
      "source": [
        "В данном случае на дубликаты можно не обращать внимание, ведь у нас всего одна колонка с данными."
      ]
    },
    {
      "cell_type": "markdown",
      "metadata": {
        "id": "sk1ZucP-46c_"
      },
      "source": [
        "### Подготовка данных"
      ]
    },
    {
      "cell_type": "markdown",
      "metadata": {
        "id": "8OuHgnT546c_"
      },
      "source": [
        "Отсортируем индекс, чтобы даты и время шли по порядку."
      ]
    },
    {
      "cell_type": "code",
      "execution_count": null,
      "metadata": {
        "id": "FtO1M2JT46dA",
        "outputId": "808490ff-6f9e-4f87-fb04-c5d2955341f3"
      },
      "outputs": [
        {
          "data": {
            "text/plain": [
              "True"
            ]
          },
          "execution_count": 8,
          "metadata": {},
          "output_type": "execute_result"
        }
      ],
      "source": [
        "data.sort_index(inplace=True)\n",
        "data.index.is_monotonic"
      ]
    },
    {
      "cell_type": "markdown",
      "metadata": {
        "id": "VXFUo1Z846dB"
      },
      "source": [
        "Проведем ресемплирование данные в датасете по одному часу."
      ]
    },
    {
      "cell_type": "code",
      "execution_count": null,
      "metadata": {
        "id": "NcMoS4ZJ46dB"
      },
      "outputs": [],
      "source": [
        "data = data.resample('1H').sum()"
      ]
    },
    {
      "cell_type": "code",
      "execution_count": null,
      "metadata": {
        "id": "mMEoTbNq46dC",
        "outputId": "836b5038-ee1c-4caa-da08-7cd495fab615"
      },
      "outputs": [
        {
          "name": "stdout",
          "output_type": "stream",
          "text": [
            "<class 'pandas.core.frame.DataFrame'>\n",
            "DatetimeIndex: 4416 entries, 2018-03-01 00:00:00 to 2018-08-31 23:00:00\n",
            "Freq: H\n",
            "Data columns (total 1 columns):\n",
            " #   Column      Non-Null Count  Dtype\n",
            "---  ------      --------------  -----\n",
            " 0   num_orders  4416 non-null   int64\n",
            "dtypes: int64(1)\n",
            "memory usage: 69.0 KB\n"
          ]
        }
      ],
      "source": [
        "data.info()"
      ]
    },
    {
      "cell_type": "markdown",
      "metadata": {
        "id": "7YeuKcG146dE"
      },
      "source": [
        "***Выводы:*** Мы провели загрузку данных, выяснили, что датасет состоит из 26496 строк, пропусков в данных нет. После ресемплирования количество строк уменьшилось до 4416."
      ]
    },
    {
      "cell_type": "markdown",
      "metadata": {
        "id": "rp5YOAdU46dF"
      },
      "source": [
        "## Анализ"
      ]
    },
    {
      "cell_type": "markdown",
      "metadata": {
        "id": "id4sYSCu46dF"
      },
      "source": [
        "### Тренды и сезонность\n",
        "\n",
        "Начнем анализ наших данных с трендов и сезонности."
      ]
    },
    {
      "cell_type": "code",
      "execution_count": null,
      "metadata": {
        "scrolled": true,
        "id": "LZMIqW0s46dG"
      },
      "outputs": [],
      "source": [
        "decomposed = seasonal_decompose(data)"
      ]
    },
    {
      "cell_type": "code",
      "execution_count": null,
      "metadata": {
        "id": "Fo5CtQ-V46dH",
        "outputId": "e1b73bb5-1ed5-413e-d0e1-2e53fa7338cc"
      },
      "outputs": [
        {
          "data": {
            "image/png": "[encoded data removed]",
            "text/plain": [
              "<Figure size 1080x720 with 1 Axes>"
            ]
          },
          "metadata": {
            "needs_background": "light"
          },
          "output_type": "display_data"
        }
      ],
      "source": [
        "decomposed.trend.plot(title='Тренд', xlabel='Месяцы', ylabel='Количество заказов',figsize=(15,10));"
      ]
    },
    {
      "cell_type": "markdown",
      "metadata": {
        "id": "JeKNRsp-46dI"
      },
      "source": [
        "Видно, что тренд в повышении количества заказов такси от начала весны к концу лета."
      ]
    },
    {
      "cell_type": "code",
      "execution_count": null,
      "metadata": {
        "id": "yye3nlvl46dJ",
        "outputId": "880ba7a3-4939-4259-af40-18a8c8a605bc"
      },
      "outputs": [
        {
          "data": {
            "image/png": "[encoded data removed]",
            "text/plain": [
              "<Figure size 1080x720 with 1 Axes>"
            ]
          },
          "metadata": {
            "needs_background": "light"
          },
          "output_type": "display_data"
        }
      ],
      "source": [
        "decomposed.seasonal['2018-03-01 00:00:00':'2018-03-03 00:00:00'].plot(title='Сезонность', xlabel='Время',\n",
        "                                                                      ylabel='Количество заказов', figsize=(15,10));"
      ]
    },
    {
      "cell_type": "markdown",
      "metadata": {
        "id": "9y3RTlI-46dK"
      },
      "source": [
        "При анализе сезонности можно выявить циклично повторяющиеся закономерности во временном ряду. В данном случае мы видим закономерности по количеству заказов в зависимости от времени суток. Максимальное число заказов ежедневно около полуночи, затем к утру количество резко уменьшается, затем снова идет подъем к обеду, еще один пик в районе 17 часов и подъем к полуночи. Думаю, такая закономерность связана с расписанием полетов аэропорта."
      ]
    },
    {
      "cell_type": "markdown",
      "metadata": {
        "id": "gX7xzwx_46dN"
      },
      "source": [
        "### Скользящая средняя, проверка на стационарность\n",
        "\n",
        "Теперь посмотрим скользящую среднюю на интервале в одну неделю, шаг сделаем 24 часа."
      ]
    },
    {
      "cell_type": "code",
      "execution_count": null,
      "metadata": {
        "id": "lrlmUwp-46dO"
      },
      "outputs": [],
      "source": [
        "data2 = data['2018-03-01 00:00:00':'2018-03-08 23:00:00'].resample('1H').sum()\n",
        "data2['rolling_mean'] = data2.shift().rolling(24).mean()"
      ]
    },
    {
      "cell_type": "code",
      "execution_count": null,
      "metadata": {
        "scrolled": false,
        "id": "DCBMTeEh46dR",
        "outputId": "20237091-4c22-4227-f2e2-92738387e973"
      },
      "outputs": [
        {
          "data": {
            "image/png": "[encoded data removed]",
            "text/plain": [
              "<Figure size 1080x720 with 1 Axes>"
            ]
          },
          "metadata": {
            "needs_background": "light"
          },
          "output_type": "display_data"
        }
      ],
      "source": [
        "data2.plot(title='Скользящая средняя', xlabel='Время', ylabel='Количество заказов', figsize=(15,10));"
      ]
    },
    {
      "cell_type": "markdown",
      "metadata": {
        "id": "mcAlFWrn46dS"
      },
      "source": [
        "График очень похож на график нестационарного временного ряда. Но нужно в этом убедиться. Для этого воспользуемся тестом Дики-Фуллера."
      ]
    },
    {
      "cell_type": "code",
      "execution_count": null,
      "metadata": {
        "id": "abSXXkuH46dT",
        "outputId": "c024525b-4e34-4d11-fd0b-7893190f296e"
      },
      "outputs": [
        {
          "name": "stdout",
          "output_type": "stream",
          "text": [
            "Критерий ADF: -3.068924\n",
            "P-значение: 0.028940\n",
            "Критические значения:\n",
            "\t1%: -3.432\n",
            "\t5%: -2.862\n",
            "\t10%: -2.567\n",
            "Нулевая гипотеза не отвергнута – Временной ряд не стационарен\n"
          ]
        }
      ],
      "source": [
        "result = adfuller(data['num_orders'], autolag='AIC')\n",
        "\n",
        "print('Критерий ADF: %f' % result[0])\n",
        "\n",
        "print('P-значение: %f' % result[1])\n",
        "\n",
        "print('Критические значения:')\n",
        "\n",
        "for key, value in result[4].items():\n",
        "    print('\\t%s: %.3f' % (key, value))\n",
        "if result[0] < result[4][\"1%\"]:\n",
        "    print (\"Нулевая гипотеза отвергнута – Временной ряд стационарен\")\n",
        "else:\n",
        "    print (\"Нулевая гипотеза не отвергнута – Временной ряд не стационарен\")"
      ]
    },
    {
      "cell_type": "markdown",
      "metadata": {
        "id": "0OQH84Gj46dU"
      },
      "source": [
        "Исходный временной ряд не является стационарным, а значит для обучения нужно будет добавлять новые признаки со смещением, чтобы привести временной ряд к стационарности."
      ]
    },
    {
      "cell_type": "markdown",
      "metadata": {
        "id": "NxeKvrw346da"
      },
      "source": [
        "***Выводы:*** Мы провели анализ временных рядов наших данных. Изучили тренды, сезонность, построили скользящую кривую и проверили временной ряд на стационарность. Видно, что тренд в повышении количества заказов такси от начала весны к концу лета, а сезонность в течение дня связана с расписанием полетов аэропорта."
      ]
    },
    {
      "cell_type": "markdown",
      "metadata": {
        "id": "KxrNujET46db"
      },
      "source": [
        "## Обучение"
      ]
    },
    {
      "cell_type": "markdown",
      "metadata": {
        "id": "ytIKRZxq46dc"
      },
      "source": [
        "### Добавление признаков\n",
        "\n",
        "Для того, чтобы модели было, на чем обучаться, в датасет необходимо добавить признаки. В нашем случае это колонки с указанием дня, дня недели, часа, стационарные ряды, данные скользящей средней. Стационарных рядов возьмем 24 по количество часов в сутках, а также учитывая анализ сезонности. Для создания признаков воспользуемся функцией, которая написана выше."
      ]
    },
    {
      "cell_type": "code",
      "execution_count": null,
      "metadata": {
        "id": "7Bpe3Xsv46de"
      },
      "outputs": [],
      "source": [
        "data_new=make_features(data, 24, 24)"
      ]
    },
    {
      "cell_type": "markdown",
      "metadata": {
        "id": "5DFMjYF946dh"
      },
      "source": [
        "### Создание обучающей и тестовой выборок\n",
        "\n",
        "Теперь нужно провести разделение датасета на обучающую и тестовую выборки. Для тестовой выборки оставим 10% от всего датасета. Отделим целевой признак (количество заказов)."
      ]
    },
    {
      "cell_type": "code",
      "execution_count": null,
      "metadata": {
        "id": "j7h0bdnQ46dh"
      },
      "outputs": [],
      "source": [
        "train, test = train_test_split(data_new, shuffle=False, test_size=0.1)\n",
        "train = train.dropna()\n",
        "\n",
        "X_train = train.drop(('num_orders'), axis=1)\n",
        "y_train = train['num_orders']\n",
        "X_test = test.drop(('num_orders'), axis=1)\n",
        "y_test = test['num_orders']"
      ]
    },
    {
      "cell_type": "markdown",
      "metadata": {
        "id": "7eBwj5ug46dj"
      },
      "source": [
        "### Обучение моделей с помощью пайплайна"
      ]
    },
    {
      "cell_type": "markdown",
      "metadata": {
        "id": "cgxRdXb746dj"
      },
      "source": [
        "Чтобы сравнить несколько моделей, удобно использовать пайплайн с перебором разных гиперпараметров в GridsearchCV. Так как целевой признак у нас непрерывный количественный, то для для обучения будем брать модели регрессии: линейную регрессию, дерево решений и модель градиентного бустинга LightGBM (для дерева решений и LightGBM используем перебор разных гиперпараметров). В качестве метрики используем RMSE."
      ]
    },
    {
      "cell_type": "code",
      "execution_count": null,
      "metadata": {
        "id": "nbtMwP3l46dk"
      },
      "outputs": [],
      "source": [
        "pipe_final = Pipeline(\n",
        "        [\n",
        "            ('models', DecisionTreeRegressor(random_state=RANDOM_STATE, max_depth=8, max_features=8))\n",
        "        ]\n",
        "    )"
      ]
    },
    {
      "cell_type": "code",
      "execution_count": null,
      "metadata": {
        "id": "BQEseekz46dl"
      },
      "outputs": [],
      "source": [
        "param_grid = [\n",
        "\n",
        "    {\n",
        "        'models': [DecisionTreeRegressor(random_state=RANDOM_STATE)],\n",
        "        'models__max_depth': range(6, 9),\n",
        "        'models__max_features': range(6, 9)\n",
        "    },\n",
        "    {\n",
        "        'models': [LGBMRegressor(random_state=RANDOM_STATE)],\n",
        "        'models__n_estimators': [50,100],\n",
        "        'models__max_depth': range(2, 6)\n",
        "    },\n",
        "    {\n",
        "        'models': [LinearRegression()]\n",
        "    }\n",
        "]"
      ]
    },
    {
      "cell_type": "markdown",
      "metadata": {
        "id": "zyWu_mSX46dl"
      },
      "source": [
        "Запустим обучение перебором, используя метод GridSearchCV."
      ]
    },
    {
      "cell_type": "code",
      "execution_count": null,
      "metadata": {
        "id": "RYFZhWEO46dm",
        "outputId": "6f3dfd57-d171-44d0-d77a-9fb0e087f277"
      },
      "outputs": [
        {
          "data": {
            "text/html": [
              "<style>#sk-container-id-1 {\n",
              "  /* Definition of color scheme common for light and dark mode */\n",
              "  --sklearn-color-text: black;\n",
              "  --sklearn-color-line: gray;\n",
              "  /* Definition of color scheme for unfitted estimators */\n",
              "  --sklearn-color-unfitted-level-0: #fff5e6;\n",
              "  --sklearn-color-unfitted-level-1: #f6e4d2;\n",
              "  --sklearn-color-unfitted-level-2: #ffe0b3;\n",
              "  --sklearn-color-unfitted-level-3: chocolate;\n",
              "  /* Definition of color scheme for fitted estimators */\n",
              "  --sklearn-color-fitted-level-0: #f0f8ff;\n",
              "  --sklearn-color-fitted-level-1: #d4ebff;\n",
              "  --sklearn-color-fitted-level-2: #b3dbfd;\n",
              "  --sklearn-color-fitted-level-3: cornflowerblue;\n",
              "\n",
              "  /* Specific color for light theme */\n",
              "  --sklearn-color-text-on-default-background: var(--sg-text-color, var(--theme-code-foreground, var(--jp-content-font-color1, black)));\n",
              "  --sklearn-color-background: var(--sg-background-color, var(--theme-background, var(--jp-layout-color0, white)));\n",
              "  --sklearn-color-border-box: var(--sg-text-color, var(--theme-code-foreground, var(--jp-content-font-color1, black)));\n",
              "  --sklearn-color-icon: #696969;\n",
              "\n",
              "  @media (prefers-color-scheme: dark) {\n",
              "    /* Redefinition of color scheme for dark theme */\n",
              "    --sklearn-color-text-on-default-background: var(--sg-text-color, var(--theme-code-foreground, var(--jp-content-font-color1, white)));\n",
              "    --sklearn-color-background: var(--sg-background-color, var(--theme-background, var(--jp-layout-color0, #111)));\n",
              "    --sklearn-color-border-box: var(--sg-text-color, var(--theme-code-foreground, var(--jp-content-font-color1, white)));\n",
              "    --sklearn-color-icon: #878787;\n",
              "  }\n",
              "}\n",
              "\n",
              "#sk-container-id-1 {\n",
              "  color: var(--sklearn-color-text);\n",
              "}\n",
              "\n",
              "#sk-container-id-1 pre {\n",
              "  padding: 0;\n",
              "}\n",
              "\n",
              "#sk-container-id-1 input.sk-hidden--visually {\n",
              "  border: 0;\n",
              "  clip: rect(1px 1px 1px 1px);\n",
              "  clip: rect(1px, 1px, 1px, 1px);\n",
              "  height: 1px;\n",
              "  margin: -1px;\n",
              "  overflow: hidden;\n",
              "  padding: 0;\n",
              "  position: absolute;\n",
              "  width: 1px;\n",
              "}\n",
              "\n",
              "#sk-container-id-1 div.sk-dashed-wrapped {\n",
              "  border: 1px dashed var(--sklearn-color-line);\n",
              "  margin: 0 0.4em 0.5em 0.4em;\n",
              "  box-sizing: border-box;\n",
              "  padding-bottom: 0.4em;\n",
              "  background-color: var(--sklearn-color-background);\n",
              "}\n",
              "\n",
              "#sk-container-id-1 div.sk-container {\n",
              "  /* jupyter's `normalize.less` sets `[hidden] { display: none; }`\n",
              "     but bootstrap.min.css set `[hidden] { display: none !important; }`\n",
              "     so we also need the `!important` here to be able to override the\n",
              "     default hidden behavior on the sphinx rendered scikit-learn.org.\n",
              "     See: https://github.com/scikit-learn/scikit-learn/issues/21755 */\n",
              "  display: inline-block !important;\n",
              "  position: relative;\n",
              "}\n",
              "\n",
              "#sk-container-id-1 div.sk-text-repr-fallback {\n",
              "  display: none;\n",
              "}\n",
              "\n",
              "div.sk-parallel-item,\n",
              "div.sk-serial,\n",
              "div.sk-item {\n",
              "  /* draw centered vertical line to link estimators */\n",
              "  background-image: linear-gradient(var(--sklearn-color-text-on-default-background), var(--sklearn-color-text-on-default-background));\n",
              "  background-size: 2px 100%;\n",
              "  background-repeat: no-repeat;\n",
              "  background-position: center center;\n",
              "}\n",
              "\n",
              "/* Parallel-specific style estimator block */\n",
              "\n",
              "#sk-container-id-1 div.sk-parallel-item::after {\n",
              "  content: \"\";\n",
              "  width: 100%;\n",
              "  border-bottom: 2px solid var(--sklearn-color-text-on-default-background);\n",
              "  flex-grow: 1;\n",
              "}\n",
              "\n",
              "#sk-container-id-1 div.sk-parallel {\n",
              "  display: flex;\n",
              "  align-items: stretch;\n",
              "  justify-content: center;\n",
              "  background-color: var(--sklearn-color-background);\n",
              "  position: relative;\n",
              "}\n",
              "\n",
              "#sk-container-id-1 div.sk-parallel-item {\n",
              "  display: flex;\n",
              "  flex-direction: column;\n",
              "}\n",
              "\n",
              "#sk-container-id-1 div.sk-parallel-item:first-child::after {\n",
              "  align-self: flex-end;\n",
              "  width: 50%;\n",
              "}\n",
              "\n",
              "#sk-container-id-1 div.sk-parallel-item:last-child::after {\n",
              "  align-self: flex-start;\n",
              "  width: 50%;\n",
              "}\n",
              "\n",
              "#sk-container-id-1 div.sk-parallel-item:only-child::after {\n",
              "  width: 0;\n",
              "}\n",
              "\n",
              "/* Serial-specific style estimator block */\n",
              "\n",
              "#sk-container-id-1 div.sk-serial {\n",
              "  display: flex;\n",
              "  flex-direction: column;\n",
              "  align-items: center;\n",
              "  background-color: var(--sklearn-color-background);\n",
              "  padding-right: 1em;\n",
              "  padding-left: 1em;\n",
              "}\n",
              "\n",
              "\n",
              "/* Toggleable style: style used for estimator/Pipeline/ColumnTransformer box that is\n",
              "clickable and can be expanded/collapsed.\n",
              "- Pipeline and ColumnTransformer use this feature and define the default style\n",
              "- Estimators will overwrite some part of the style using the `sk-estimator` class\n",
              "*/\n",
              "\n",
              "/* Pipeline and ColumnTransformer style (default) */\n",
              "\n",
              "#sk-container-id-1 div.sk-toggleable {\n",
              "  /* Default theme specific background. It is overwritten whether we have a\n",
              "  specific estimator or a Pipeline/ColumnTransformer */\n",
              "  background-color: var(--sklearn-color-background);\n",
              "}\n",
              "\n",
              "/* Toggleable label */\n",
              "#sk-container-id-1 label.sk-toggleable__label {\n",
              "  cursor: pointer;\n",
              "  display: block;\n",
              "  width: 100%;\n",
              "  margin-bottom: 0;\n",
              "  padding: 0.5em;\n",
              "  box-sizing: border-box;\n",
              "  text-align: center;\n",
              "}\n",
              "\n",
              "#sk-container-id-1 label.sk-toggleable__label-arrow:before {\n",
              "  /* Arrow on the left of the label */\n",
              "  content: \"▸\";\n",
              "  float: left;\n",
              "  margin-right: 0.25em;\n",
              "  color: var(--sklearn-color-icon);\n",
              "}\n",
              "\n",
              "#sk-container-id-1 label.sk-toggleable__label-arrow:hover:before {\n",
              "  color: var(--sklearn-color-text);\n",
              "}\n",
              "\n",
              "/* Toggleable content - dropdown */\n",
              "\n",
              "#sk-container-id-1 div.sk-toggleable__content {\n",
              "  max-height: 0;\n",
              "  max-width: 0;\n",
              "  overflow: hidden;\n",
              "  text-align: left;\n",
              "  /* unfitted */\n",
              "  background-color: var(--sklearn-color-unfitted-level-0);\n",
              "}\n",
              "\n",
              "#sk-container-id-1 div.sk-toggleable__content.fitted {\n",
              "  /* fitted */\n",
              "  background-color: var(--sklearn-color-fitted-level-0);\n",
              "}\n",
              "\n",
              "#sk-container-id-1 div.sk-toggleable__content pre {\n",
              "  margin: 0.2em;\n",
              "  border-radius: 0.25em;\n",
              "  color: var(--sklearn-color-text);\n",
              "  /* unfitted */\n",
              "  background-color: var(--sklearn-color-unfitted-level-0);\n",
              "}\n",
              "\n",
              "#sk-container-id-1 div.sk-toggleable__content.fitted pre {\n",
              "  /* unfitted */\n",
              "  background-color: var(--sklearn-color-fitted-level-0);\n",
              "}\n",
              "\n",
              "#sk-container-id-1 input.sk-toggleable__control:checked~div.sk-toggleable__content {\n",
              "  /* Expand drop-down */\n",
              "  max-height: 200px;\n",
              "  max-width: 100%;\n",
              "  overflow: auto;\n",
              "}\n",
              "\n",
              "#sk-container-id-1 input.sk-toggleable__control:checked~label.sk-toggleable__label-arrow:before {\n",
              "  content: \"▾\";\n",
              "}\n",
              "\n",
              "/* Pipeline/ColumnTransformer-specific style */\n",
              "\n",
              "#sk-container-id-1 div.sk-label input.sk-toggleable__control:checked~label.sk-toggleable__label {\n",
              "  color: var(--sklearn-color-text);\n",
              "  background-color: var(--sklearn-color-unfitted-level-2);\n",
              "}\n",
              "\n",
              "#sk-container-id-1 div.sk-label.fitted input.sk-toggleable__control:checked~label.sk-toggleable__label {\n",
              "  background-color: var(--sklearn-color-fitted-level-2);\n",
              "}\n",
              "\n",
              "/* Estimator-specific style */\n",
              "\n",
              "/* Colorize estimator box */\n",
              "#sk-container-id-1 div.sk-estimator input.sk-toggleable__control:checked~label.sk-toggleable__label {\n",
              "  /* unfitted */\n",
              "  background-color: var(--sklearn-color-unfitted-level-2);\n",
              "}\n",
              "\n",
              "#sk-container-id-1 div.sk-estimator.fitted input.sk-toggleable__control:checked~label.sk-toggleable__label {\n",
              "  /* fitted */\n",
              "  background-color: var(--sklearn-color-fitted-level-2);\n",
              "}\n",
              "\n",
              "#sk-container-id-1 div.sk-label label.sk-toggleable__label,\n",
              "#sk-container-id-1 div.sk-label label {\n",
              "  /* The background is the default theme color */\n",
              "  color: var(--sklearn-color-text-on-default-background);\n",
              "}\n",
              "\n",
              "/* On hover, darken the color of the background */\n",
              "#sk-container-id-1 div.sk-label:hover label.sk-toggleable__label {\n",
              "  color: var(--sklearn-color-text);\n",
              "  background-color: var(--sklearn-color-unfitted-level-2);\n",
              "}\n",
              "\n",
              "/* Label box, darken color on hover, fitted */\n",
              "#sk-container-id-1 div.sk-label.fitted:hover label.sk-toggleable__label.fitted {\n",
              "  color: var(--sklearn-color-text);\n",
              "  background-color: var(--sklearn-color-fitted-level-2);\n",
              "}\n",
              "\n",
              "/* Estimator label */\n",
              "\n",
              "#sk-container-id-1 div.sk-label label {\n",
              "  font-family: monospace;\n",
              "  font-weight: bold;\n",
              "  display: inline-block;\n",
              "  line-height: 1.2em;\n",
              "}\n",
              "\n",
              "#sk-container-id-1 div.sk-label-container {\n",
              "  text-align: center;\n",
              "}\n",
              "\n",
              "/* Estimator-specific */\n",
              "#sk-container-id-1 div.sk-estimator {\n",
              "  font-family: monospace;\n",
              "  border: 1px dotted var(--sklearn-color-border-box);\n",
              "  border-radius: 0.25em;\n",
              "  box-sizing: border-box;\n",
              "  margin-bottom: 0.5em;\n",
              "  /* unfitted */\n",
              "  background-color: var(--sklearn-color-unfitted-level-0);\n",
              "}\n",
              "\n",
              "#sk-container-id-1 div.sk-estimator.fitted {\n",
              "  /* fitted */\n",
              "  background-color: var(--sklearn-color-fitted-level-0);\n",
              "}\n",
              "\n",
              "/* on hover */\n",
              "#sk-container-id-1 div.sk-estimator:hover {\n",
              "  /* unfitted */\n",
              "  background-color: var(--sklearn-color-unfitted-level-2);\n",
              "}\n",
              "\n",
              "#sk-container-id-1 div.sk-estimator.fitted:hover {\n",
              "  /* fitted */\n",
              "  background-color: var(--sklearn-color-fitted-level-2);\n",
              "}\n",
              "\n",
              "/* Specification for estimator info (e.g. \"i\" and \"?\") */\n",
              "\n",
              "/* Common style for \"i\" and \"?\" */\n",
              "\n",
              ".sk-estimator-doc-link,\n",
              "a:link.sk-estimator-doc-link,\n",
              "a:visited.sk-estimator-doc-link {\n",
              "  float: right;\n",
              "  font-size: smaller;\n",
              "  line-height: 1em;\n",
              "  font-family: monospace;\n",
              "  background-color: var(--sklearn-color-background);\n",
              "  border-radius: 1em;\n",
              "  height: 1em;\n",
              "  width: 1em;\n",
              "  text-decoration: none !important;\n",
              "  margin-left: 1ex;\n",
              "  /* unfitted */\n",
              "  border: var(--sklearn-color-unfitted-level-1) 1pt solid;\n",
              "  color: var(--sklearn-color-unfitted-level-1);\n",
              "}\n",
              "\n",
              ".sk-estimator-doc-link.fitted,\n",
              "a:link.sk-estimator-doc-link.fitted,\n",
              "a:visited.sk-estimator-doc-link.fitted {\n",
              "  /* fitted */\n",
              "  border: var(--sklearn-color-fitted-level-1) 1pt solid;\n",
              "  color: var(--sklearn-color-fitted-level-1);\n",
              "}\n",
              "\n",
              "/* On hover */\n",
              "div.sk-estimator:hover .sk-estimator-doc-link:hover,\n",
              ".sk-estimator-doc-link:hover,\n",
              "div.sk-label-container:hover .sk-estimator-doc-link:hover,\n",
              ".sk-estimator-doc-link:hover {\n",
              "  /* unfitted */\n",
              "  background-color: var(--sklearn-color-unfitted-level-3);\n",
              "  color: var(--sklearn-color-background);\n",
              "  text-decoration: none;\n",
              "}\n",
              "\n",
              "div.sk-estimator.fitted:hover .sk-estimator-doc-link.fitted:hover,\n",
              ".sk-estimator-doc-link.fitted:hover,\n",
              "div.sk-label-container:hover .sk-estimator-doc-link.fitted:hover,\n",
              ".sk-estimator-doc-link.fitted:hover {\n",
              "  /* fitted */\n",
              "  background-color: var(--sklearn-color-fitted-level-3);\n",
              "  color: var(--sklearn-color-background);\n",
              "  text-decoration: none;\n",
              "}\n",
              "\n",
              "/* Span, style for the box shown on hovering the info icon */\n",
              ".sk-estimator-doc-link span {\n",
              "  display: none;\n",
              "  z-index: 9999;\n",
              "  position: relative;\n",
              "  font-weight: normal;\n",
              "  right: .2ex;\n",
              "  padding: .5ex;\n",
              "  margin: .5ex;\n",
              "  width: min-content;\n",
              "  min-width: 20ex;\n",
              "  max-width: 50ex;\n",
              "  color: var(--sklearn-color-text);\n",
              "  box-shadow: 2pt 2pt 4pt #999;\n",
              "  /* unfitted */\n",
              "  background: var(--sklearn-color-unfitted-level-0);\n",
              "  border: .5pt solid var(--sklearn-color-unfitted-level-3);\n",
              "}\n",
              "\n",
              ".sk-estimator-doc-link.fitted span {\n",
              "  /* fitted */\n",
              "  background: var(--sklearn-color-fitted-level-0);\n",
              "  border: var(--sklearn-color-fitted-level-3);\n",
              "}\n",
              "\n",
              ".sk-estimator-doc-link:hover span {\n",
              "  display: block;\n",
              "}\n",
              "\n",
              "/* \"?\"-specific style due to the `<a>` HTML tag */\n",
              "\n",
              "#sk-container-id-1 a.estimator_doc_link {\n",
              "  float: right;\n",
              "  font-size: 1rem;\n",
              "  line-height: 1em;\n",
              "  font-family: monospace;\n",
              "  background-color: var(--sklearn-color-background);\n",
              "  border-radius: 1rem;\n",
              "  height: 1rem;\n",
              "  width: 1rem;\n",
              "  text-decoration: none;\n",
              "  /* unfitted */\n",
              "  color: var(--sklearn-color-unfitted-level-1);\n",
              "  border: var(--sklearn-color-unfitted-level-1) 1pt solid;\n",
              "}\n",
              "\n",
              "#sk-container-id-1 a.estimator_doc_link.fitted {\n",
              "  /* fitted */\n",
              "  border: var(--sklearn-color-fitted-level-1) 1pt solid;\n",
              "  color: var(--sklearn-color-fitted-level-1);\n",
              "}\n",
              "\n",
              "/* On hover */\n",
              "#sk-container-id-1 a.estimator_doc_link:hover {\n",
              "  /* unfitted */\n",
              "  background-color: var(--sklearn-color-unfitted-level-3);\n",
              "  color: var(--sklearn-color-background);\n",
              "  text-decoration: none;\n",
              "}\n",
              "\n",
              "#sk-container-id-1 a.estimator_doc_link.fitted:hover {\n",
              "  /* fitted */\n",
              "  background-color: var(--sklearn-color-fitted-level-3);\n",
              "}\n",
              "</style><div id=\"sk-container-id-1\" class=\"sk-top-container\"><div class=\"sk-text-repr-fallback\"><pre>GridSearchCV(cv=TimeSeriesSplit(gap=0, max_train_size=None, n_splits=3, test_size=None),\n",
              "             estimator=Pipeline(steps=[(&#x27;models&#x27;,\n",
              "                                        DecisionTreeRegressor(max_depth=8,\n",
              "                                                              max_features=8,\n",
              "                                                              random_state=42))]),\n",
              "             n_jobs=-1,\n",
              "             param_grid=[{&#x27;models&#x27;: [DecisionTreeRegressor(random_state=42)],\n",
              "                          &#x27;models__max_depth&#x27;: range(6, 9),\n",
              "                          &#x27;models__max_features&#x27;: range(6, 9)},\n",
              "                         {&#x27;models&#x27;: [LGBMRegressor(random_state=42)],\n",
              "                          &#x27;models__max_depth&#x27;: range(2, 6),\n",
              "                          &#x27;models__n_estimators&#x27;: [50, 100]},\n",
              "                         {&#x27;models&#x27;: [LinearRegression()]}],\n",
              "             scoring=&#x27;neg_root_mean_squared_error&#x27;)</pre><b>In a Jupyter environment, please rerun this cell to show the HTML representation or trust the notebook. <br />On GitHub, the HTML representation is unable to render, please try loading this page with nbviewer.org.</b></div><div class=\"sk-container\" hidden><div class=\"sk-item sk-dashed-wrapped\"><div class=\"sk-label-container\"><div class=\"sk-label fitted sk-toggleable\"><input class=\"sk-toggleable__control sk-hidden--visually\" id=\"sk-estimator-id-1\" type=\"checkbox\" ><label for=\"sk-estimator-id-1\" class=\"sk-toggleable__label fitted sk-toggleable__label-arrow fitted\">&nbsp;&nbsp;GridSearchCV<a class=\"sk-estimator-doc-link fitted\" rel=\"noreferrer\" target=\"_blank\" href=\"https://scikit-learn.org/1.4/modules/generated/sklearn.model_selection.GridSearchCV.html\">?<span>Documentation for GridSearchCV</span></a><span class=\"sk-estimator-doc-link fitted\">i<span>Fitted</span></span></label><div class=\"sk-toggleable__content fitted\"><pre>GridSearchCV(cv=TimeSeriesSplit(gap=0, max_train_size=None, n_splits=3, test_size=None),\n",
              "             estimator=Pipeline(steps=[(&#x27;models&#x27;,\n",
              "                                        DecisionTreeRegressor(max_depth=8,\n",
              "                                                              max_features=8,\n",
              "                                                              random_state=42))]),\n",
              "             n_jobs=-1,\n",
              "             param_grid=[{&#x27;models&#x27;: [DecisionTreeRegressor(random_state=42)],\n",
              "                          &#x27;models__max_depth&#x27;: range(6, 9),\n",
              "                          &#x27;models__max_features&#x27;: range(6, 9)},\n",
              "                         {&#x27;models&#x27;: [LGBMRegressor(random_state=42)],\n",
              "                          &#x27;models__max_depth&#x27;: range(2, 6),\n",
              "                          &#x27;models__n_estimators&#x27;: [50, 100]},\n",
              "                         {&#x27;models&#x27;: [LinearRegression()]}],\n",
              "             scoring=&#x27;neg_root_mean_squared_error&#x27;)</pre></div> </div></div><div class=\"sk-parallel\"><div class=\"sk-parallel-item\"><div class=\"sk-item\"><div class=\"sk-label-container\"><div class=\"sk-label fitted sk-toggleable\"><input class=\"sk-toggleable__control sk-hidden--visually\" id=\"sk-estimator-id-2\" type=\"checkbox\" ><label for=\"sk-estimator-id-2\" class=\"sk-toggleable__label fitted sk-toggleable__label-arrow fitted\">estimator: Pipeline</label><div class=\"sk-toggleable__content fitted\"><pre>Pipeline(steps=[(&#x27;models&#x27;,\n",
              "                 DecisionTreeRegressor(max_depth=8, max_features=8,\n",
              "                                       random_state=42))])</pre></div> </div></div><div class=\"sk-serial\"><div class=\"sk-item\"><div class=\"sk-serial\"><div class=\"sk-item\"><div class=\"sk-estimator fitted sk-toggleable\"><input class=\"sk-toggleable__control sk-hidden--visually\" id=\"sk-estimator-id-3\" type=\"checkbox\" ><label for=\"sk-estimator-id-3\" class=\"sk-toggleable__label fitted sk-toggleable__label-arrow fitted\">&nbsp;DecisionTreeRegressor<a class=\"sk-estimator-doc-link fitted\" rel=\"noreferrer\" target=\"_blank\" href=\"https://scikit-learn.org/1.4/modules/generated/sklearn.tree.DecisionTreeRegressor.html\">?<span>Documentation for DecisionTreeRegressor</span></a></label><div class=\"sk-toggleable__content fitted\"><pre>DecisionTreeRegressor(max_depth=8, max_features=8, random_state=42)</pre></div> </div></div></div></div></div></div></div></div></div></div></div>"
            ],
            "text/plain": [
              "GridSearchCV(cv=TimeSeriesSplit(gap=0, max_train_size=None, n_splits=3, test_size=None),\n",
              "             estimator=Pipeline(steps=[('models',\n",
              "                                        DecisionTreeRegressor(max_depth=8,\n",
              "                                                              max_features=8,\n",
              "                                                              random_state=42))]),\n",
              "             n_jobs=-1,\n",
              "             param_grid=[{'models': [DecisionTreeRegressor(random_state=42)],\n",
              "                          'models__max_depth': range(6, 9),\n",
              "                          'models__max_features': range(6, 9)},\n",
              "                         {'models': [LGBMRegressor(random_state=42)],\n",
              "                          'models__max_depth': range(2, 6),\n",
              "                          'models__n_estimators': [50, 100]},\n",
              "                         {'models': [LinearRegression()]}],\n",
              "             scoring='neg_root_mean_squared_error')"
            ]
          },
          "execution_count": 21,
          "metadata": {},
          "output_type": "execute_result"
        }
      ],
      "source": [
        "tscv = TimeSeriesSplit(n_splits=3)\n",
        "grid = GridSearchCV(\n",
        "    pipe_final,\n",
        "    param_grid=param_grid,\n",
        "    cv=tscv,\n",
        "    scoring='neg_root_mean_squared_error',\n",
        "    n_jobs=-1\n",
        ")\n",
        "grid.fit(X_train, y_train)"
      ]
    },
    {
      "cell_type": "markdown",
      "metadata": {
        "id": "MgLHZHTV46do"
      },
      "source": [
        "Теперь выберем лучшую модель и посмотрим ее метрику."
      ]
    },
    {
      "cell_type": "code",
      "execution_count": null,
      "metadata": {
        "id": "9OToZ9vB46dp",
        "outputId": "64f95ca7-a06a-469d-8a36-355770552ec4"
      },
      "outputs": [
        {
          "name": "stdout",
          "output_type": "stream",
          "text": [
            "Лучшая модель и её параметры:\n",
            "\n",
            " Pipeline(steps=[('models', LGBMRegressor(max_depth=3, random_state=42))])\n",
            "Метрика RMSE лучшей модели на кросс-валидации: 26.304047294894602\n"
          ]
        }
      ],
      "source": [
        "print('Лучшая модель и её параметры:\\n\\n', grid.best_estimator_)\n",
        "print ('Метрика RMSE лучшей модели на кросс-валидации:', grid.best_score_*-1)"
      ]
    },
    {
      "cell_type": "markdown",
      "metadata": {
        "id": "BMIxnhIP46dq"
      },
      "source": [
        "Лучшей моделью получилась модель LightGBM с максимальной глубиной - 4 и количеством деревьев - 100."
      ]
    },
    {
      "cell_type": "markdown",
      "metadata": {
        "id": "z6gXrpG946dt"
      },
      "source": [
        "### Анализ моделей\n",
        "\n"
      ]
    },
    {
      "cell_type": "markdown",
      "metadata": {
        "id": "ZdAkyl0S46du"
      },
      "source": [
        "Для анализа моделей выведем таблицу с лучшими результатами моделей. Для этого сгруппируем результаты по названию модели и минимальному значению RMSE. Оставим в таблице только гиперпараметры лучших экземпляров моделей, а также время обучения и время предсказания."
      ]
    },
    {
      "cell_type": "code",
      "execution_count": null,
      "metadata": {
        "id": "haJMoOdD46dv",
        "outputId": "b0279d7a-b08e-4da1-f670-d47483c0c855"
      },
      "outputs": [
        {
          "data": {
            "text/html": [
              "<div>\n",
              "<style scoped>\n",
              "    .dataframe tbody tr th:only-of-type {\n",
              "        vertical-align: middle;\n",
              "    }\n",
              "\n",
              "    .dataframe tbody tr th {\n",
              "        vertical-align: top;\n",
              "    }\n",
              "\n",
              "    .dataframe thead th {\n",
              "        text-align: right;\n",
              "    }\n",
              "</style>\n",
              "<table border=\"1\" class=\"dataframe\">\n",
              "  <thead>\n",
              "    <tr style=\"text-align: right;\">\n",
              "      <th></th>\n",
              "      <th>min_rmse</th>\n",
              "      <th>mean_fit_time</th>\n",
              "      <th>mean_score_time</th>\n",
              "      <th>param_models</th>\n",
              "      <th>param_models__max_depth</th>\n",
              "      <th>param_models__max_features</th>\n",
              "      <th>param_models__n_estimators</th>\n",
              "    </tr>\n",
              "  </thead>\n",
              "  <tbody>\n",
              "    <tr>\n",
              "      <th>0</th>\n",
              "      <td>31.881602</td>\n",
              "      <td>0.010326</td>\n",
              "      <td>0.002247</td>\n",
              "      <td>DecisionTreeRegressor(random_state=42)</td>\n",
              "      <td>7</td>\n",
              "      <td>8</td>\n",
              "      <td>NaN</td>\n",
              "    </tr>\n",
              "    <tr>\n",
              "      <th>1</th>\n",
              "      <td>26.304047</td>\n",
              "      <td>1.576701</td>\n",
              "      <td>0.086861</td>\n",
              "      <td>LGBMRegressor(random_state=42)</td>\n",
              "      <td>3</td>\n",
              "      <td>NaN</td>\n",
              "      <td>100</td>\n",
              "    </tr>\n",
              "    <tr>\n",
              "      <th>2</th>\n",
              "      <td>27.796919</td>\n",
              "      <td>0.070695</td>\n",
              "      <td>0.030004</td>\n",
              "      <td>LinearRegression()</td>\n",
              "      <td>NaN</td>\n",
              "      <td>NaN</td>\n",
              "      <td>NaN</td>\n",
              "    </tr>\n",
              "  </tbody>\n",
              "</table>\n",
              "</div>"
            ],
            "text/plain": [
              "    min_rmse  mean_fit_time  mean_score_time  \\\n",
              "0  31.881602       0.010326         0.002247   \n",
              "1  26.304047       1.576701         0.086861   \n",
              "2  27.796919       0.070695         0.030004   \n",
              "\n",
              "                             param_models param_models__max_depth  \\\n",
              "0  DecisionTreeRegressor(random_state=42)                       7   \n",
              "1          LGBMRegressor(random_state=42)                       3   \n",
              "2                      LinearRegression()                     NaN   \n",
              "\n",
              "  param_models__max_features param_models__n_estimators  \n",
              "0                          8                        NaN  \n",
              "1                        NaN                        100  \n",
              "2                        NaN                        NaN  "
            ]
          },
          "execution_count": 23,
          "metadata": {},
          "output_type": "execute_result"
        }
      ],
      "source": [
        "res = pd.DataFrame(grid.cv_results_)\n",
        "res.mean_test_score = res.mean_test_score * -1\n",
        "res['param_models'] = res['param_models'].astype('category')\n",
        "t=res.pivot_table(index='param_models', values='mean_test_score', aggfunc='min')\n",
        "t.columns = ['min_rmse']\n",
        "res1=t.merge(res, left_on='min_rmse', right_on='mean_test_score', how='left')\n",
        "res1.drop(['std_fit_time', 'std_score_time', 'params',\n",
        "       'split0_test_score', 'split1_test_score', 'split2_test_score',\n",
        "       'mean_test_score', 'std_test_score', 'rank_test_score'], axis=1)"
      ]
    },
    {
      "cell_type": "markdown",
      "metadata": {
        "id": "JWXsd-6y46dw"
      },
      "source": [
        "Видно, что на обучающей выборке модель LightGBM ненамного лучше двух других моделей."
      ]
    },
    {
      "cell_type": "markdown",
      "metadata": {
        "id": "_sa1NpJJ46dx"
      },
      "source": [
        "***Выводы:*** Мы добавили новые признаки и провели обучение нескольких моделей с разными гиперпараметрами, используя пайплайн и метод GridSearchCV. Лучшей моделью получилась модель LightGBM с максимальной глубиной - 3 и количеством деревьев - 100, показавшая метрику RMSE 26,3."
      ]
    },
    {
      "cell_type": "markdown",
      "metadata": {
        "id": "21r0C-yh46dy"
      },
      "source": [
        "## Тестирование"
      ]
    },
    {
      "cell_type": "markdown",
      "metadata": {
        "id": "ToYCee8h46d2"
      },
      "source": [
        "Посмотрим, какой результат покажет модель LightGBM на тестовой выборке."
      ]
    },
    {
      "cell_type": "code",
      "execution_count": null,
      "metadata": {
        "id": "dyjB9RX246d2",
        "outputId": "c3207b60-e57a-4f8d-a9fc-7b86cee36f98"
      },
      "outputs": [
        {
          "name": "stdout",
          "output_type": "stream",
          "text": [
            "RMSE тестовой выборки: 42.99158441228548\n"
          ]
        }
      ],
      "source": [
        "pred = grid.best_estimator_.predict(X_test)\n",
        "print(\"RMSE тестовой выборки:\", root_mean_squared_error(y_test, pred))"
      ]
    },
    {
      "cell_type": "markdown",
      "metadata": {
        "id": "8EunQQKs46d4"
      },
      "source": [
        "Значение метрики RMSE получилось 42.9, что укладывается в критерии заказчика, так что будем рекомендовать заказчику именно эту модель.\n",
        "\n",
        "Визуализируем предсказания лучшей модели и сравним их с правильными ответами на графике."
      ]
    },
    {
      "cell_type": "code",
      "execution_count": null,
      "metadata": {
        "id": "wVgyw08u46d4",
        "outputId": "8fb01a21-d144-47bc-afc8-eba640763982"
      },
      "outputs": [
        {
          "data": {
            "image/png": "[encoded data removed]",
            "text/plain": [
              "<Figure size 1440x720 with 1 Axes>"
            ]
          },
          "metadata": {
            "needs_background": "light"
          },
          "output_type": "display_data"
        }
      ],
      "source": [
        "fig, ax = plt.subplots(1, 1, figsize=(20, 10))\n",
        "ax.plot(y_test, label='test')\n",
        "ax.plot(y_test.index, pred, label='predicted')\n",
        "ax.set_xlabel('Время')\n",
        "ax.set_ylabel('Предсказываемая переменная')\n",
        "plt.legend()\n",
        "plt.show()"
      ]
    },
    {
      "cell_type": "markdown",
      "metadata": {
        "id": "6Huth3Vv46d5"
      },
      "source": [
        "Видно, что модель плохо справляется с предсказанием пиковых нагрузок (больше 200 заказов такси в час), кроме того больше ошибок становится ближе к концу графика, при этом в начале графика ошибок гораздо меньше, а ведь задача заказчика как раз состоит в предсказании количества заказов на следующий час, с этим модель справляется хорошо."
      ]
    },
    {
      "cell_type": "markdown",
      "metadata": {
        "id": "fYEeJeJk46d8"
      },
      "source": [
        "Проверим лучшую модель на адекватность, сравнив ее предсказания с качеством модели, которая предсказывает константу. Для этого используем модель DummyRegressor."
      ]
    },
    {
      "cell_type": "code",
      "execution_count": null,
      "metadata": {
        "id": "hGPADaZ346d9",
        "outputId": "2c616005-43f3-4126-e59d-017b2a6ca886"
      },
      "outputs": [
        {
          "data": {
            "text/plain": [
              "84.6499381993622"
            ]
          },
          "execution_count": 26,
          "metadata": {},
          "output_type": "execute_result"
        }
      ],
      "source": [
        "dummy_regr = DummyRegressor(strategy=\"mean\")\n",
        "dummy_regr.fit(X_train, y_train)\n",
        "y_pred = dummy_regr.predict(X_test)\n",
        "root_mean_squared_error(y_test, y_pred)"
      ]
    },
    {
      "cell_type": "markdown",
      "metadata": {
        "id": "Wq6jx_hb46eA"
      },
      "source": [
        "Результат константной модели на тестовой выборке получился 84.6, что намного хуже модели LightGBM."
      ]
    },
    {
      "cell_type": "markdown",
      "metadata": {
        "id": "8RuiO3ja46eO"
      },
      "source": [
        "## Итоговые выводы"
      ]
    },
    {
      "cell_type": "markdown",
      "metadata": {
        "id": "JN0arJeg46eQ"
      },
      "source": [
        "Мы провели работу по предсказанию количества заказов такси на следующий час. На пути к выполнению этой задачи мы провели следующую работу:\n",
        " 1. Провели загрузку данных, выяснили, что датасет состоит из 26496 строк, пропусков в данных нет. После ресемплирования количество строк уменьшилось до 4416.\n",
        " 2. Провели анализ временных рядов наших данных. Изучили тренды, сезонность, построили скользящую кривую и проверили временной ряд на стационарность. Видно, что тренд в повышении количества заказов такси от начала весны к концу лета, а сезонность в течение дня связана с расписанием полетов аэропорта.\n",
        " 3. Добавили новые признаки. Так как целевой признак у нас непрерывный количественный, то для для обучения взяли модели регрессии: линейную регрессию, дерево решений и модель градиентного бустинга LightGBM (для дерева решений и LightGBM используем перебор разных гиперпараметров). В качестве метрики использовали RMSE. Провели обучение нескольких моделей с разными гиперпараметрами, используя пайплайн и метод GridSearchCV. Лучшей моделью получилась модель LightGBM с максимальной глубиной - 3 и количеством деревьев - 100, показавшая метрику RMSE 26,3.\n",
        " 4. Для анализа моделей вывели таблицу с результатами всех обученных моделей. Получили предсказания для тестовой выборки для лучшей модели, показатель RMSE у лучшей модели получился 42.9, что удовлетворяет критериям заказчика  Именно эту модель и будем рекомендовать заказчику. Дополнительно посмотрели предсказания лучшей модели и сравнили их с правильными ответами на графике. Видно, что модель плохо справляется с предсказанием пиковых нагрузок (больше 200 заказов такси в час), кроме того больше ошибок становится ближе к концу графика, при этом в начале графика ошибок гораздо меньше, а ведь задача заказчика как раз состоит в предсказании количества заказов на следующий час, с этим модель справляется хорошо.\n"
      ]
    }
  ],
  "metadata": {
    "ExecuteTimeLog": [
      {
        "duration": 1803,
        "start_time": "2024-03-12T10:39:02.555Z"
      },
      {
        "duration": 6837,
        "start_time": "2024-03-12T10:39:37.458Z"
      },
      {
        "duration": 15,
        "start_time": "2024-03-12T10:39:46.398Z"
      },
      {
        "duration": 3047,
        "start_time": "2024-03-12T10:41:39.688Z"
      },
      {
        "duration": 1304,
        "start_time": "2024-03-12T10:41:42.737Z"
      },
      {
        "duration": 5,
        "start_time": "2024-03-12T10:58:07.568Z"
      },
      {
        "duration": 144,
        "start_time": "2024-03-12T10:58:19.855Z"
      },
      {
        "duration": 10,
        "start_time": "2024-03-12T10:58:50.562Z"
      },
      {
        "duration": 9,
        "start_time": "2024-03-12T10:59:59.684Z"
      },
      {
        "duration": 4,
        "start_time": "2024-03-12T11:11:51.241Z"
      },
      {
        "duration": 7,
        "start_time": "2024-03-12T11:11:54.326Z"
      },
      {
        "duration": 10,
        "start_time": "2024-03-12T11:12:10.239Z"
      },
      {
        "duration": 300,
        "start_time": "2024-03-12T11:13:24.011Z"
      },
      {
        "duration": 122,
        "start_time": "2024-03-12T11:15:17.834Z"
      },
      {
        "duration": 27,
        "start_time": "2024-03-12T11:15:37.872Z"
      },
      {
        "duration": 15,
        "start_time": "2024-03-12T11:15:41.612Z"
      },
      {
        "duration": 236,
        "start_time": "2024-03-12T11:18:05.479Z"
      },
      {
        "duration": 12,
        "start_time": "2024-03-12T11:18:08.740Z"
      },
      {
        "duration": 3,
        "start_time": "2024-03-12T11:19:05.262Z"
      },
      {
        "duration": 14,
        "start_time": "2024-03-12T11:19:21.670Z"
      },
      {
        "duration": 3024,
        "start_time": "2024-03-12T11:20:07.754Z"
      },
      {
        "duration": 5,
        "start_time": "2024-03-12T11:20:10.780Z"
      },
      {
        "duration": 47,
        "start_time": "2024-03-12T11:20:10.786Z"
      },
      {
        "duration": 62,
        "start_time": "2024-03-12T11:20:10.835Z"
      },
      {
        "duration": 7,
        "start_time": "2024-03-12T11:20:10.899Z"
      },
      {
        "duration": 24,
        "start_time": "2024-03-12T11:20:10.908Z"
      },
      {
        "duration": 11,
        "start_time": "2024-03-12T11:20:10.933Z"
      },
      {
        "duration": 12,
        "start_time": "2024-03-12T11:20:10.946Z"
      },
      {
        "duration": 97,
        "start_time": "2024-03-12T11:20:29.406Z"
      },
      {
        "duration": 3,
        "start_time": "2024-03-12T11:20:58.728Z"
      },
      {
        "duration": 806,
        "start_time": "2024-03-12T11:21:04.504Z"
      },
      {
        "duration": 125,
        "start_time": "2024-03-12T11:24:02.332Z"
      },
      {
        "duration": 149,
        "start_time": "2024-03-12T11:25:02.173Z"
      },
      {
        "duration": 152,
        "start_time": "2024-03-12T11:26:27.267Z"
      },
      {
        "duration": 249,
        "start_time": "2024-03-12T11:27:53.342Z"
      },
      {
        "duration": 221,
        "start_time": "2024-03-12T11:28:00.509Z"
      },
      {
        "duration": 233,
        "start_time": "2024-03-12T11:28:35.223Z"
      },
      {
        "duration": 1676,
        "start_time": "2024-03-12T11:36:00.335Z"
      },
      {
        "duration": 12,
        "start_time": "2024-03-12T11:36:32.526Z"
      },
      {
        "duration": 336,
        "start_time": "2024-03-12T11:36:43.213Z"
      },
      {
        "duration": 194,
        "start_time": "2024-03-12T11:39:31.977Z"
      },
      {
        "duration": 197,
        "start_time": "2024-03-12T11:39:43.949Z"
      },
      {
        "duration": 201,
        "start_time": "2024-03-12T11:40:30.015Z"
      },
      {
        "duration": 189,
        "start_time": "2024-03-12T11:41:02.260Z"
      },
      {
        "duration": 182,
        "start_time": "2024-03-12T11:41:14.598Z"
      },
      {
        "duration": 180,
        "start_time": "2024-03-12T11:43:34.350Z"
      },
      {
        "duration": 166,
        "start_time": "2024-03-12T11:45:19.689Z"
      },
      {
        "duration": 386,
        "start_time": "2024-03-12T11:47:06.423Z"
      },
      {
        "duration": 286,
        "start_time": "2024-03-12T11:48:05.757Z"
      },
      {
        "duration": 303,
        "start_time": "2024-03-12T11:48:17.884Z"
      },
      {
        "duration": 283,
        "start_time": "2024-03-12T11:50:18.834Z"
      },
      {
        "duration": 275,
        "start_time": "2024-03-12T11:50:36.304Z"
      },
      {
        "duration": 269,
        "start_time": "2024-03-12T11:51:06.433Z"
      },
      {
        "duration": 193,
        "start_time": "2024-03-12T11:52:23.527Z"
      },
      {
        "duration": 205,
        "start_time": "2024-03-12T11:52:57.634Z"
      },
      {
        "duration": 219,
        "start_time": "2024-03-12T11:53:16.329Z"
      },
      {
        "duration": 243,
        "start_time": "2024-03-12T11:55:46.278Z"
      },
      {
        "duration": 245,
        "start_time": "2024-03-12T12:02:35.651Z"
      },
      {
        "duration": 389,
        "start_time": "2024-03-12T12:03:16.884Z"
      },
      {
        "duration": 266,
        "start_time": "2024-03-12T12:03:37.898Z"
      },
      {
        "duration": 267,
        "start_time": "2024-03-12T12:04:14.451Z"
      },
      {
        "duration": 278,
        "start_time": "2024-03-12T12:06:19.267Z"
      },
      {
        "duration": 266,
        "start_time": "2024-03-12T12:06:43.474Z"
      },
      {
        "duration": 10,
        "start_time": "2024-03-12T12:12:42.574Z"
      },
      {
        "duration": 5,
        "start_time": "2024-03-12T12:15:52.910Z"
      },
      {
        "duration": 9,
        "start_time": "2024-03-12T12:16:12.439Z"
      },
      {
        "duration": 110,
        "start_time": "2024-03-12T12:18:06.465Z"
      },
      {
        "duration": 19,
        "start_time": "2024-03-12T12:18:44.157Z"
      },
      {
        "duration": 6,
        "start_time": "2024-03-12T12:22:41.653Z"
      },
      {
        "duration": 9,
        "start_time": "2024-03-12T12:23:39.863Z"
      },
      {
        "duration": 106,
        "start_time": "2024-03-12T12:23:41.466Z"
      },
      {
        "duration": 7,
        "start_time": "2024-03-12T12:23:47.283Z"
      },
      {
        "duration": 10,
        "start_time": "2024-03-12T12:24:00.452Z"
      },
      {
        "duration": 184,
        "start_time": "2024-03-12T12:24:02.388Z"
      },
      {
        "duration": 6,
        "start_time": "2024-03-12T12:24:06.774Z"
      },
      {
        "duration": 7,
        "start_time": "2024-03-12T12:24:25.208Z"
      },
      {
        "duration": 61,
        "start_time": "2024-03-12T12:24:26.015Z"
      },
      {
        "duration": 6,
        "start_time": "2024-03-12T12:24:31.251Z"
      },
      {
        "duration": 6,
        "start_time": "2024-03-12T12:24:42.468Z"
      },
      {
        "duration": 17,
        "start_time": "2024-03-12T12:24:43.380Z"
      },
      {
        "duration": 7,
        "start_time": "2024-03-12T12:24:46.548Z"
      },
      {
        "duration": 3078,
        "start_time": "2024-03-12T12:25:10.675Z"
      },
      {
        "duration": 4,
        "start_time": "2024-03-12T12:25:13.756Z"
      },
      {
        "duration": 15,
        "start_time": "2024-03-12T12:25:13.762Z"
      },
      {
        "duration": 15,
        "start_time": "2024-03-12T12:25:13.779Z"
      },
      {
        "duration": 57,
        "start_time": "2024-03-12T12:25:13.796Z"
      },
      {
        "duration": 10,
        "start_time": "2024-03-12T12:25:13.855Z"
      },
      {
        "duration": 7,
        "start_time": "2024-03-12T12:25:13.866Z"
      },
      {
        "duration": 11,
        "start_time": "2024-03-12T12:25:13.874Z"
      },
      {
        "duration": 14,
        "start_time": "2024-03-12T12:25:13.886Z"
      },
      {
        "duration": 11,
        "start_time": "2024-03-12T12:25:13.902Z"
      },
      {
        "duration": 307,
        "start_time": "2024-03-12T12:25:13.914Z"
      },
      {
        "duration": 234,
        "start_time": "2024-03-12T12:25:14.222Z"
      },
      {
        "duration": 295,
        "start_time": "2024-03-12T12:25:14.457Z"
      },
      {
        "duration": 306,
        "start_time": "2024-03-12T12:25:14.754Z"
      },
      {
        "duration": 10,
        "start_time": "2024-03-12T12:25:32.060Z"
      },
      {
        "duration": 64,
        "start_time": "2024-03-12T12:25:33.817Z"
      },
      {
        "duration": 6,
        "start_time": "2024-03-12T12:25:38.314Z"
      },
      {
        "duration": 36,
        "start_time": "2024-03-12T12:26:25.358Z"
      },
      {
        "duration": 6,
        "start_time": "2024-03-12T12:26:47.721Z"
      },
      {
        "duration": 1235,
        "start_time": "2024-03-12T12:27:18.046Z"
      },
      {
        "duration": 10,
        "start_time": "2024-03-12T12:27:23.598Z"
      },
      {
        "duration": 3185,
        "start_time": "2024-03-12T12:30:01.967Z"
      },
      {
        "duration": 1460,
        "start_time": "2024-03-12T12:30:05.155Z"
      },
      {
        "duration": 3,
        "start_time": "2024-03-12T12:30:06.617Z"
      },
      {
        "duration": 23,
        "start_time": "2024-03-12T12:30:06.622Z"
      },
      {
        "duration": 72,
        "start_time": "2024-03-12T12:30:06.647Z"
      },
      {
        "duration": 14,
        "start_time": "2024-03-12T12:30:06.721Z"
      },
      {
        "duration": 4,
        "start_time": "2024-03-12T12:30:06.737Z"
      },
      {
        "duration": 14,
        "start_time": "2024-03-12T12:30:06.742Z"
      },
      {
        "duration": 12,
        "start_time": "2024-03-12T12:30:06.758Z"
      },
      {
        "duration": 29,
        "start_time": "2024-03-12T12:30:06.773Z"
      },
      {
        "duration": 357,
        "start_time": "2024-03-12T12:30:06.804Z"
      },
      {
        "duration": 219,
        "start_time": "2024-03-12T12:30:07.163Z"
      },
      {
        "duration": 266,
        "start_time": "2024-03-12T12:30:07.384Z"
      },
      {
        "duration": 360,
        "start_time": "2024-03-12T12:30:07.652Z"
      },
      {
        "duration": 9,
        "start_time": "2024-03-12T12:30:08.013Z"
      },
      {
        "duration": 59,
        "start_time": "2024-03-12T12:30:08.023Z"
      },
      {
        "duration": 112,
        "start_time": "2024-03-12T12:30:08.085Z"
      },
      {
        "duration": 879,
        "start_time": "2024-03-12T12:30:08.198Z"
      },
      {
        "duration": 11,
        "start_time": "2024-03-12T12:30:09.078Z"
      },
      {
        "duration": 3103,
        "start_time": "2024-03-12T12:30:35.912Z"
      },
      {
        "duration": 1313,
        "start_time": "2024-03-12T12:30:39.018Z"
      },
      {
        "duration": 3,
        "start_time": "2024-03-12T12:30:40.333Z"
      },
      {
        "duration": 11,
        "start_time": "2024-03-12T12:30:40.337Z"
      },
      {
        "duration": 63,
        "start_time": "2024-03-12T12:30:40.350Z"
      },
      {
        "duration": 13,
        "start_time": "2024-03-12T12:30:40.414Z"
      },
      {
        "duration": 14,
        "start_time": "2024-03-12T12:30:40.429Z"
      },
      {
        "duration": 13,
        "start_time": "2024-03-12T12:30:40.444Z"
      },
      {
        "duration": 11,
        "start_time": "2024-03-12T12:30:40.459Z"
      },
      {
        "duration": 20,
        "start_time": "2024-03-12T12:30:40.472Z"
      },
      {
        "duration": 315,
        "start_time": "2024-03-12T12:30:40.494Z"
      },
      {
        "duration": 222,
        "start_time": "2024-03-12T12:30:40.811Z"
      },
      {
        "duration": 263,
        "start_time": "2024-03-12T12:30:41.034Z"
      },
      {
        "duration": 368,
        "start_time": "2024-03-12T12:30:41.300Z"
      },
      {
        "duration": 11,
        "start_time": "2024-03-12T12:30:41.669Z"
      },
      {
        "duration": 104,
        "start_time": "2024-03-12T12:30:41.682Z"
      },
      {
        "duration": 45,
        "start_time": "2024-03-12T12:30:41.873Z"
      },
      {
        "duration": 27561,
        "start_time": "2024-03-12T12:30:41.920Z"
      },
      {
        "duration": 92,
        "start_time": "2024-03-12T12:31:09.483Z"
      },
      {
        "duration": 3230,
        "start_time": "2024-03-12T12:31:36.576Z"
      },
      {
        "duration": 1298,
        "start_time": "2024-03-12T12:31:39.809Z"
      },
      {
        "duration": 3,
        "start_time": "2024-03-12T12:31:41.109Z"
      },
      {
        "duration": 14,
        "start_time": "2024-03-12T12:31:41.113Z"
      },
      {
        "duration": 57,
        "start_time": "2024-03-12T12:31:41.129Z"
      },
      {
        "duration": 15,
        "start_time": "2024-03-12T12:31:41.187Z"
      },
      {
        "duration": 15,
        "start_time": "2024-03-12T12:31:41.204Z"
      },
      {
        "duration": 19,
        "start_time": "2024-03-12T12:31:41.221Z"
      },
      {
        "duration": 17,
        "start_time": "2024-03-12T12:31:41.242Z"
      },
      {
        "duration": 8,
        "start_time": "2024-03-12T12:31:41.262Z"
      },
      {
        "duration": 339,
        "start_time": "2024-03-12T12:31:41.271Z"
      },
      {
        "duration": 215,
        "start_time": "2024-03-12T12:31:41.612Z"
      },
      {
        "duration": 266,
        "start_time": "2024-03-12T12:31:41.829Z"
      },
      {
        "duration": 372,
        "start_time": "2024-03-12T12:31:42.096Z"
      },
      {
        "duration": 11,
        "start_time": "2024-03-12T12:31:42.469Z"
      },
      {
        "duration": 92,
        "start_time": "2024-03-12T12:31:42.481Z"
      },
      {
        "duration": 127,
        "start_time": "2024-03-12T12:31:42.575Z"
      },
      {
        "duration": 1172,
        "start_time": "2024-03-12T12:31:42.704Z"
      },
      {
        "duration": 9,
        "start_time": "2024-03-12T12:31:43.878Z"
      },
      {
        "duration": 7,
        "start_time": "2024-03-12T14:58:09.938Z"
      },
      {
        "duration": 3,
        "start_time": "2024-03-12T14:58:26.844Z"
      },
      {
        "duration": 4,
        "start_time": "2024-03-12T15:02:19.562Z"
      },
      {
        "duration": 124,
        "start_time": "2024-03-12T15:04:11.351Z"
      },
      {
        "duration": 4,
        "start_time": "2024-03-12T15:05:00.217Z"
      },
      {
        "duration": 6915,
        "start_time": "2024-03-12T15:05:05.078Z"
      },
      {
        "duration": 5,
        "start_time": "2024-03-12T15:05:16.670Z"
      },
      {
        "duration": 47,
        "start_time": "2024-03-12T15:06:05.805Z"
      },
      {
        "duration": 10,
        "start_time": "2024-03-12T15:08:54.449Z"
      },
      {
        "duration": 13,
        "start_time": "2024-03-12T15:09:03.089Z"
      },
      {
        "duration": 25,
        "start_time": "2024-03-12T15:11:22.224Z"
      },
      {
        "duration": 4,
        "start_time": "2024-03-12T15:12:43.282Z"
      },
      {
        "duration": 12063,
        "start_time": "2024-03-12T15:12:44.524Z"
      },
      {
        "duration": 8,
        "start_time": "2024-03-12T15:13:00.794Z"
      },
      {
        "duration": 22,
        "start_time": "2024-03-12T15:13:12.098Z"
      },
      {
        "duration": 23,
        "start_time": "2024-03-12T15:14:08.793Z"
      },
      {
        "duration": 23,
        "start_time": "2024-03-12T15:14:14.715Z"
      },
      {
        "duration": 24,
        "start_time": "2024-03-12T15:14:19.983Z"
      },
      {
        "duration": 3151,
        "start_time": "2024-03-12T15:14:55.910Z"
      },
      {
        "duration": 1384,
        "start_time": "2024-03-12T15:14:59.064Z"
      },
      {
        "duration": 3,
        "start_time": "2024-03-12T15:15:00.450Z"
      },
      {
        "duration": 62,
        "start_time": "2024-03-12T15:15:00.455Z"
      },
      {
        "duration": 127,
        "start_time": "2024-03-12T15:15:00.519Z"
      },
      {
        "duration": 24,
        "start_time": "2024-03-12T15:15:00.648Z"
      },
      {
        "duration": 50,
        "start_time": "2024-03-12T15:15:00.674Z"
      },
      {
        "duration": 36,
        "start_time": "2024-03-12T15:15:00.726Z"
      },
      {
        "duration": 57,
        "start_time": "2024-03-12T15:15:00.764Z"
      },
      {
        "duration": 49,
        "start_time": "2024-03-12T15:15:00.824Z"
      },
      {
        "duration": 379,
        "start_time": "2024-03-12T15:15:00.874Z"
      },
      {
        "duration": 230,
        "start_time": "2024-03-12T15:15:01.255Z"
      },
      {
        "duration": 270,
        "start_time": "2024-03-12T15:15:01.487Z"
      },
      {
        "duration": 297,
        "start_time": "2024-03-12T15:15:01.759Z"
      },
      {
        "duration": 18,
        "start_time": "2024-03-12T15:15:02.058Z"
      },
      {
        "duration": 86,
        "start_time": "2024-03-12T15:15:02.077Z"
      },
      {
        "duration": 108,
        "start_time": "2024-03-12T15:15:02.165Z"
      },
      {
        "duration": 79,
        "start_time": "2024-03-12T15:15:02.275Z"
      },
      {
        "duration": 44,
        "start_time": "2024-03-12T15:15:02.355Z"
      },
      {
        "duration": 67,
        "start_time": "2024-03-12T15:15:02.401Z"
      },
      {
        "duration": 25,
        "start_time": "2024-03-12T15:15:02.470Z"
      },
      {
        "duration": 10290,
        "start_time": "2024-03-12T15:15:02.497Z"
      },
      {
        "duration": 5,
        "start_time": "2024-03-12T15:15:12.789Z"
      },
      {
        "duration": 130,
        "start_time": "2024-03-12T15:15:12.796Z"
      },
      {
        "duration": 0,
        "start_time": "2024-03-12T15:15:12.927Z"
      },
      {
        "duration": 0,
        "start_time": "2024-03-12T15:15:12.929Z"
      },
      {
        "duration": 26,
        "start_time": "2024-03-12T15:15:38.967Z"
      },
      {
        "duration": 15,
        "start_time": "2024-03-12T15:16:07.518Z"
      },
      {
        "duration": 4,
        "start_time": "2024-03-12T15:16:33.433Z"
      },
      {
        "duration": 34689,
        "start_time": "2024-03-12T15:16:35.607Z"
      },
      {
        "duration": 6,
        "start_time": "2024-03-12T15:17:16.548Z"
      },
      {
        "duration": 26,
        "start_time": "2024-03-12T15:17:22.437Z"
      },
      {
        "duration": 15,
        "start_time": "2024-03-12T15:17:30.916Z"
      },
      {
        "duration": 3,
        "start_time": "2024-03-12T15:21:39.037Z"
      },
      {
        "duration": 6628,
        "start_time": "2024-03-12T15:21:40.750Z"
      },
      {
        "duration": 4,
        "start_time": "2024-03-12T15:21:50.836Z"
      },
      {
        "duration": 24,
        "start_time": "2024-03-12T15:21:54.358Z"
      },
      {
        "duration": 7,
        "start_time": "2024-03-12T15:22:05.444Z"
      },
      {
        "duration": 4,
        "start_time": "2024-03-12T15:23:28.060Z"
      },
      {
        "duration": 9669,
        "start_time": "2024-03-12T15:23:29.428Z"
      },
      {
        "duration": 4,
        "start_time": "2024-03-12T15:23:40.946Z"
      },
      {
        "duration": 26,
        "start_time": "2024-03-12T15:23:44.232Z"
      },
      {
        "duration": 12,
        "start_time": "2024-03-12T15:23:56.515Z"
      },
      {
        "duration": 4,
        "start_time": "2024-03-12T15:24:27.160Z"
      },
      {
        "duration": 4,
        "start_time": "2024-03-12T15:24:37.482Z"
      },
      {
        "duration": 28260,
        "start_time": "2024-03-12T15:24:39.729Z"
      },
      {
        "duration": 4,
        "start_time": "2024-03-12T15:25:15.343Z"
      },
      {
        "duration": 26,
        "start_time": "2024-03-12T15:25:17.759Z"
      },
      {
        "duration": 12,
        "start_time": "2024-03-12T15:27:11.011Z"
      },
      {
        "duration": 3143,
        "start_time": "2024-03-12T15:39:39.242Z"
      },
      {
        "duration": 5,
        "start_time": "2024-03-12T15:39:42.388Z"
      },
      {
        "duration": 9,
        "start_time": "2024-03-12T15:39:42.394Z"
      },
      {
        "duration": 19,
        "start_time": "2024-03-12T15:39:42.405Z"
      },
      {
        "duration": 74,
        "start_time": "2024-03-12T15:39:42.426Z"
      },
      {
        "duration": 7,
        "start_time": "2024-03-12T15:39:42.502Z"
      },
      {
        "duration": 15,
        "start_time": "2024-03-12T15:39:42.511Z"
      },
      {
        "duration": 5,
        "start_time": "2024-03-12T15:39:42.528Z"
      },
      {
        "duration": 16,
        "start_time": "2024-03-12T15:40:16.263Z"
      },
      {
        "duration": 10,
        "start_time": "2024-03-12T15:40:25.079Z"
      },
      {
        "duration": 7,
        "start_time": "2024-03-12T15:41:08.757Z"
      },
      {
        "duration": 3220,
        "start_time": "2024-03-12T15:41:22.288Z"
      },
      {
        "duration": 5,
        "start_time": "2024-03-12T15:41:25.511Z"
      },
      {
        "duration": 4,
        "start_time": "2024-03-12T15:41:25.518Z"
      },
      {
        "duration": 6,
        "start_time": "2024-03-12T15:41:25.524Z"
      },
      {
        "duration": 54,
        "start_time": "2024-03-12T15:41:25.532Z"
      },
      {
        "duration": 10,
        "start_time": "2024-03-12T15:41:25.587Z"
      },
      {
        "duration": 13,
        "start_time": "2024-03-12T15:41:25.598Z"
      },
      {
        "duration": 4,
        "start_time": "2024-03-12T15:41:25.612Z"
      },
      {
        "duration": 7,
        "start_time": "2024-03-12T15:41:25.617Z"
      },
      {
        "duration": 11,
        "start_time": "2024-03-12T15:41:34.021Z"
      },
      {
        "duration": 3128,
        "start_time": "2024-03-12T17:35:42.482Z"
      },
      {
        "duration": 1339,
        "start_time": "2024-03-12T17:35:45.612Z"
      },
      {
        "duration": 3,
        "start_time": "2024-03-12T17:35:46.953Z"
      },
      {
        "duration": 10,
        "start_time": "2024-03-12T17:35:46.958Z"
      },
      {
        "duration": 72,
        "start_time": "2024-03-12T17:35:46.972Z"
      },
      {
        "duration": 11,
        "start_time": "2024-03-12T17:35:47.046Z"
      },
      {
        "duration": 24,
        "start_time": "2024-03-12T17:35:47.059Z"
      },
      {
        "duration": 5,
        "start_time": "2024-03-12T17:35:47.084Z"
      },
      {
        "duration": 18,
        "start_time": "2024-03-12T17:35:47.091Z"
      },
      {
        "duration": 9,
        "start_time": "2024-03-12T17:35:47.112Z"
      },
      {
        "duration": 14,
        "start_time": "2024-03-12T17:35:47.123Z"
      },
      {
        "duration": 339,
        "start_time": "2024-03-12T17:35:47.138Z"
      },
      {
        "duration": 220,
        "start_time": "2024-03-12T17:35:47.479Z"
      },
      {
        "duration": 286,
        "start_time": "2024-03-12T17:35:47.701Z"
      },
      {
        "duration": 302,
        "start_time": "2024-03-12T17:35:47.989Z"
      },
      {
        "duration": 9,
        "start_time": "2024-03-12T17:35:48.293Z"
      },
      {
        "duration": 11,
        "start_time": "2024-03-12T17:35:48.304Z"
      },
      {
        "duration": 8,
        "start_time": "2024-03-12T17:35:48.317Z"
      },
      {
        "duration": 15,
        "start_time": "2024-03-12T17:35:48.326Z"
      },
      {
        "duration": 7949,
        "start_time": "2024-03-12T17:35:48.343Z"
      },
      {
        "duration": 4,
        "start_time": "2024-03-12T17:35:56.294Z"
      },
      {
        "duration": 46,
        "start_time": "2024-03-12T17:35:56.299Z"
      },
      {
        "duration": 33,
        "start_time": "2024-03-12T17:35:56.347Z"
      },
      {
        "duration": 25,
        "start_time": "2024-03-12T17:35:56.381Z"
      },
      {
        "duration": 116,
        "start_time": "2024-03-13T10:52:34.252Z"
      },
      {
        "duration": 103,
        "start_time": "2024-03-13T10:53:02.677Z"
      },
      {
        "duration": 6,
        "start_time": "2024-03-13T10:53:51.398Z"
      },
      {
        "duration": 6620,
        "start_time": "2024-03-13T10:58:13.731Z"
      },
      {
        "duration": 1507,
        "start_time": "2024-03-13T10:58:20.353Z"
      },
      {
        "duration": 4,
        "start_time": "2024-03-13T10:58:21.862Z"
      },
      {
        "duration": 40,
        "start_time": "2024-03-13T10:58:21.868Z"
      },
      {
        "duration": 181,
        "start_time": "2024-03-13T10:58:21.910Z"
      },
      {
        "duration": 10,
        "start_time": "2024-03-13T10:58:22.093Z"
      },
      {
        "duration": 13,
        "start_time": "2024-03-13T10:58:22.104Z"
      },
      {
        "duration": 4,
        "start_time": "2024-03-13T10:58:22.118Z"
      },
      {
        "duration": 17,
        "start_time": "2024-03-13T10:58:22.123Z"
      },
      {
        "duration": 18,
        "start_time": "2024-03-13T10:58:22.142Z"
      },
      {
        "duration": 9,
        "start_time": "2024-03-13T10:58:22.162Z"
      },
      {
        "duration": 298,
        "start_time": "2024-03-13T10:58:22.172Z"
      },
      {
        "duration": 201,
        "start_time": "2024-03-13T10:58:22.472Z"
      },
      {
        "duration": 13,
        "start_time": "2024-03-13T10:58:22.675Z"
      },
      {
        "duration": 270,
        "start_time": "2024-03-13T10:58:37.743Z"
      },
      {
        "duration": 1689,
        "start_time": "2024-03-13T10:59:33.239Z"
      },
      {
        "duration": 325,
        "start_time": "2024-03-13T10:59:37.088Z"
      },
      {
        "duration": 10,
        "start_time": "2024-03-13T10:59:51.786Z"
      },
      {
        "duration": 264,
        "start_time": "2024-03-13T10:59:56.638Z"
      },
      {
        "duration": 33,
        "start_time": "2024-03-13T11:20:29.558Z"
      },
      {
        "duration": 1909,
        "start_time": "2024-03-13T11:21:34.177Z"
      },
      {
        "duration": 1891,
        "start_time": "2024-03-13T11:49:39.900Z"
      },
      {
        "duration": 15,
        "start_time": "2024-03-13T11:53:01.327Z"
      },
      {
        "duration": 256,
        "start_time": "2024-03-13T11:53:09.261Z"
      },
      {
        "duration": 27,
        "start_time": "2024-03-13T11:53:14.024Z"
      },
      {
        "duration": 15,
        "start_time": "2024-03-13T11:54:34.159Z"
      },
      {
        "duration": 9,
        "start_time": "2024-03-13T12:06:16.577Z"
      },
      {
        "duration": 208,
        "start_time": "2024-03-13T12:06:20.464Z"
      },
      {
        "duration": 10,
        "start_time": "2024-03-13T12:06:36.313Z"
      },
      {
        "duration": 270,
        "start_time": "2024-03-13T12:06:40.751Z"
      },
      {
        "duration": 9,
        "start_time": "2024-03-13T12:07:35.587Z"
      },
      {
        "duration": 256,
        "start_time": "2024-03-13T12:07:40.275Z"
      },
      {
        "duration": 10,
        "start_time": "2024-03-13T12:08:01.053Z"
      },
      {
        "duration": 257,
        "start_time": "2024-03-13T12:08:06.224Z"
      },
      {
        "duration": 10,
        "start_time": "2024-03-13T12:13:07.591Z"
      },
      {
        "duration": 231,
        "start_time": "2024-03-13T12:13:11.999Z"
      },
      {
        "duration": 10,
        "start_time": "2024-03-13T12:27:35.888Z"
      },
      {
        "duration": 2859,
        "start_time": "2024-03-13T12:27:46.911Z"
      },
      {
        "duration": 4,
        "start_time": "2024-03-13T12:27:49.772Z"
      },
      {
        "duration": 9,
        "start_time": "2024-03-13T12:27:49.777Z"
      },
      {
        "duration": 5,
        "start_time": "2024-03-13T12:27:49.788Z"
      },
      {
        "duration": 56,
        "start_time": "2024-03-13T12:27:49.794Z"
      },
      {
        "duration": 7,
        "start_time": "2024-03-13T12:27:49.851Z"
      },
      {
        "duration": 14,
        "start_time": "2024-03-13T12:27:49.859Z"
      },
      {
        "duration": 4,
        "start_time": "2024-03-13T12:27:49.875Z"
      },
      {
        "duration": 6,
        "start_time": "2024-03-13T12:27:49.880Z"
      },
      {
        "duration": 10,
        "start_time": "2024-03-13T12:27:49.889Z"
      },
      {
        "duration": 7,
        "start_time": "2024-03-13T12:27:49.901Z"
      },
      {
        "duration": 298,
        "start_time": "2024-03-13T12:27:49.909Z"
      },
      {
        "duration": 304,
        "start_time": "2024-03-13T12:27:50.208Z"
      },
      {
        "duration": 10,
        "start_time": "2024-03-13T12:27:50.514Z"
      },
      {
        "duration": 245,
        "start_time": "2024-03-13T12:27:50.525Z"
      },
      {
        "duration": 1817,
        "start_time": "2024-03-13T12:27:50.772Z"
      },
      {
        "duration": 189,
        "start_time": "2024-03-13T12:27:52.592Z"
      },
      {
        "duration": 14,
        "start_time": "2024-03-13T12:27:52.783Z"
      },
      {
        "duration": 0,
        "start_time": "2024-03-13T12:27:52.798Z"
      },
      {
        "duration": 0,
        "start_time": "2024-03-13T12:27:52.799Z"
      },
      {
        "duration": 0,
        "start_time": "2024-03-13T12:27:52.800Z"
      },
      {
        "duration": 0,
        "start_time": "2024-03-13T12:27:52.801Z"
      },
      {
        "duration": 0,
        "start_time": "2024-03-13T12:27:52.802Z"
      },
      {
        "duration": 2,
        "start_time": "2024-03-13T12:28:25.673Z"
      },
      {
        "duration": 4,
        "start_time": "2024-03-13T12:32:38.834Z"
      },
      {
        "duration": 4,
        "start_time": "2024-03-13T12:33:06.257Z"
      },
      {
        "duration": 6,
        "start_time": "2024-03-13T12:33:12.247Z"
      },
      {
        "duration": 4,
        "start_time": "2024-03-13T12:36:19.561Z"
      },
      {
        "duration": 8,
        "start_time": "2024-03-13T12:38:08.521Z"
      },
      {
        "duration": 15,
        "start_time": "2024-03-13T12:38:12.872Z"
      },
      {
        "duration": 9,
        "start_time": "2024-03-13T12:38:30.815Z"
      },
      {
        "duration": 3,
        "start_time": "2024-03-13T12:38:41.152Z"
      },
      {
        "duration": 5,
        "start_time": "2024-03-13T12:38:43.063Z"
      },
      {
        "duration": 13809,
        "start_time": "2024-03-13T12:38:45.991Z"
      },
      {
        "duration": 4,
        "start_time": "2024-03-13T12:39:07.662Z"
      },
      {
        "duration": 27,
        "start_time": "2024-03-13T12:39:21.600Z"
      },
      {
        "duration": 24,
        "start_time": "2024-03-13T12:40:00.111Z"
      },
      {
        "duration": 10,
        "start_time": "2024-03-13T12:40:06.962Z"
      },
      {
        "duration": 6,
        "start_time": "2024-03-13T12:40:11.976Z"
      },
      {
        "duration": 10,
        "start_time": "2024-03-13T12:40:48.593Z"
      },
      {
        "duration": 20,
        "start_time": "2024-03-13T12:40:52.809Z"
      },
      {
        "duration": 9,
        "start_time": "2024-03-13T12:41:00.903Z"
      },
      {
        "duration": 3,
        "start_time": "2024-03-13T12:41:08.752Z"
      },
      {
        "duration": 4,
        "start_time": "2024-03-13T12:41:11.986Z"
      },
      {
        "duration": 13854,
        "start_time": "2024-03-13T12:41:17.946Z"
      },
      {
        "duration": 4,
        "start_time": "2024-03-13T12:42:23.623Z"
      },
      {
        "duration": 23,
        "start_time": "2024-03-13T12:42:50.254Z"
      },
      {
        "duration": 12,
        "start_time": "2024-03-13T12:43:08.568Z"
      },
      {
        "duration": 6,
        "start_time": "2024-03-13T12:43:50.723Z"
      },
      {
        "duration": 19,
        "start_time": "2024-03-13T12:44:20.455Z"
      },
      {
        "duration": 11,
        "start_time": "2024-03-13T12:44:26.322Z"
      },
      {
        "duration": 2,
        "start_time": "2024-03-13T12:44:30.790Z"
      },
      {
        "duration": 4,
        "start_time": "2024-03-13T12:44:31.802Z"
      },
      {
        "duration": 12815,
        "start_time": "2024-03-13T12:44:34.587Z"
      },
      {
        "duration": 4,
        "start_time": "2024-03-13T12:45:18.802Z"
      },
      {
        "duration": 25,
        "start_time": "2024-03-13T12:45:28.464Z"
      },
      {
        "duration": 11,
        "start_time": "2024-03-13T12:45:39.621Z"
      },
      {
        "duration": 235,
        "start_time": "2024-03-13T12:48:25.717Z"
      },
      {
        "duration": 12,
        "start_time": "2024-03-13T12:49:51.984Z"
      },
      {
        "duration": 153,
        "start_time": "2024-03-13T12:50:13.290Z"
      },
      {
        "duration": 5,
        "start_time": "2024-03-13T12:50:45.953Z"
      },
      {
        "duration": 13,
        "start_time": "2024-03-13T12:53:34.900Z"
      },
      {
        "duration": 2963,
        "start_time": "2024-03-13T12:53:52.155Z"
      },
      {
        "duration": 5,
        "start_time": "2024-03-13T12:53:55.120Z"
      },
      {
        "duration": 8,
        "start_time": "2024-03-13T12:53:55.126Z"
      },
      {
        "duration": 5,
        "start_time": "2024-03-13T12:53:55.136Z"
      },
      {
        "duration": 58,
        "start_time": "2024-03-13T12:53:55.142Z"
      },
      {
        "duration": 7,
        "start_time": "2024-03-13T12:53:55.202Z"
      },
      {
        "duration": 15,
        "start_time": "2024-03-13T12:53:55.210Z"
      },
      {
        "duration": 4,
        "start_time": "2024-03-13T12:53:55.226Z"
      },
      {
        "duration": 9,
        "start_time": "2024-03-13T12:53:55.231Z"
      },
      {
        "duration": 9,
        "start_time": "2024-03-13T12:53:55.242Z"
      },
      {
        "duration": 30,
        "start_time": "2024-03-13T12:53:55.252Z"
      },
      {
        "duration": 281,
        "start_time": "2024-03-13T12:53:55.284Z"
      },
      {
        "duration": 218,
        "start_time": "2024-03-13T12:53:55.567Z"
      },
      {
        "duration": 10,
        "start_time": "2024-03-13T12:53:55.787Z"
      },
      {
        "duration": 260,
        "start_time": "2024-03-13T12:53:55.798Z"
      },
      {
        "duration": 2031,
        "start_time": "2024-03-13T12:53:56.060Z"
      },
      {
        "duration": 107,
        "start_time": "2024-03-13T12:53:58.182Z"
      },
      {
        "duration": 32,
        "start_time": "2024-03-13T12:53:58.291Z"
      },
      {
        "duration": 11,
        "start_time": "2024-03-13T12:53:58.324Z"
      },
      {
        "duration": 2,
        "start_time": "2024-03-13T12:53:58.337Z"
      },
      {
        "duration": 12,
        "start_time": "2024-03-13T12:53:58.341Z"
      },
      {
        "duration": 10440,
        "start_time": "2024-03-13T12:53:58.354Z"
      },
      {
        "duration": 4,
        "start_time": "2024-03-13T12:54:08.795Z"
      },
      {
        "duration": 27,
        "start_time": "2024-03-13T12:54:08.800Z"
      },
      {
        "duration": 15,
        "start_time": "2024-03-13T12:54:08.829Z"
      },
      {
        "duration": 14,
        "start_time": "2024-03-13T12:56:14.884Z"
      },
      {
        "duration": 16,
        "start_time": "2024-03-13T14:33:25.307Z"
      },
      {
        "duration": 5,
        "start_time": "2024-03-13T14:33:32.834Z"
      },
      {
        "duration": 3010,
        "start_time": "2024-03-13T14:39:33.925Z"
      },
      {
        "duration": 5,
        "start_time": "2024-03-13T14:39:36.937Z"
      },
      {
        "duration": 15,
        "start_time": "2024-03-13T14:39:36.944Z"
      },
      {
        "duration": 6,
        "start_time": "2024-03-13T14:39:36.961Z"
      },
      {
        "duration": 58,
        "start_time": "2024-03-13T14:39:36.969Z"
      },
      {
        "duration": 7,
        "start_time": "2024-03-13T14:39:37.029Z"
      },
      {
        "duration": 14,
        "start_time": "2024-03-13T14:39:37.038Z"
      },
      {
        "duration": 4,
        "start_time": "2024-03-13T14:39:37.054Z"
      },
      {
        "duration": 25,
        "start_time": "2024-03-13T14:39:37.059Z"
      },
      {
        "duration": 13,
        "start_time": "2024-03-13T14:39:37.086Z"
      },
      {
        "duration": 19,
        "start_time": "2024-03-13T14:39:37.101Z"
      },
      {
        "duration": 278,
        "start_time": "2024-03-13T14:39:37.122Z"
      },
      {
        "duration": 337,
        "start_time": "2024-03-13T14:39:37.401Z"
      },
      {
        "duration": 11,
        "start_time": "2024-03-13T14:39:37.739Z"
      },
      {
        "duration": 268,
        "start_time": "2024-03-13T14:39:37.752Z"
      },
      {
        "duration": 1763,
        "start_time": "2024-03-13T14:39:38.022Z"
      },
      {
        "duration": 110,
        "start_time": "2024-03-13T14:39:39.787Z"
      },
      {
        "duration": 32,
        "start_time": "2024-03-13T14:39:39.899Z"
      },
      {
        "duration": 11,
        "start_time": "2024-03-13T14:39:39.933Z"
      },
      {
        "duration": 12,
        "start_time": "2024-03-13T14:39:39.945Z"
      },
      {
        "duration": 23,
        "start_time": "2024-03-13T14:39:39.959Z"
      },
      {
        "duration": 47311,
        "start_time": "2024-03-13T14:39:39.984Z"
      },
      {
        "duration": 5,
        "start_time": "2024-03-13T14:40:27.296Z"
      },
      {
        "duration": 30,
        "start_time": "2024-03-13T14:40:27.302Z"
      },
      {
        "duration": 14,
        "start_time": "2024-03-13T14:40:27.334Z"
      },
      {
        "duration": 16,
        "start_time": "2024-03-13T14:40:41.794Z"
      },
      {
        "duration": 11,
        "start_time": "2024-03-13T14:41:04.808Z"
      },
      {
        "duration": 12,
        "start_time": "2024-03-13T14:41:28.544Z"
      },
      {
        "duration": 5,
        "start_time": "2024-03-13T14:41:32.704Z"
      },
      {
        "duration": 7,
        "start_time": "2024-03-13T14:41:39.719Z"
      },
      {
        "duration": 2903,
        "start_time": "2024-03-13T14:45:46.237Z"
      },
      {
        "duration": 5,
        "start_time": "2024-03-13T14:45:49.143Z"
      },
      {
        "duration": 6,
        "start_time": "2024-03-13T14:45:49.149Z"
      },
      {
        "duration": 15,
        "start_time": "2024-03-13T14:45:49.157Z"
      },
      {
        "duration": 58,
        "start_time": "2024-03-13T14:45:49.174Z"
      },
      {
        "duration": 7,
        "start_time": "2024-03-13T14:45:49.234Z"
      },
      {
        "duration": 21,
        "start_time": "2024-03-13T14:45:49.242Z"
      },
      {
        "duration": 8,
        "start_time": "2024-03-13T14:45:49.264Z"
      },
      {
        "duration": 9,
        "start_time": "2024-03-13T14:45:49.273Z"
      },
      {
        "duration": 9,
        "start_time": "2024-03-13T14:45:49.285Z"
      },
      {
        "duration": 15,
        "start_time": "2024-03-13T14:45:49.295Z"
      },
      {
        "duration": 270,
        "start_time": "2024-03-13T14:45:49.311Z"
      },
      {
        "duration": 212,
        "start_time": "2024-03-13T14:45:49.583Z"
      },
      {
        "duration": 9,
        "start_time": "2024-03-13T14:45:49.797Z"
      },
      {
        "duration": 260,
        "start_time": "2024-03-13T14:45:49.808Z"
      },
      {
        "duration": 2013,
        "start_time": "2024-03-13T14:45:50.069Z"
      },
      {
        "duration": 113,
        "start_time": "2024-03-13T14:45:52.084Z"
      },
      {
        "duration": 30,
        "start_time": "2024-03-13T14:45:52.199Z"
      },
      {
        "duration": 10,
        "start_time": "2024-03-13T14:45:52.231Z"
      },
      {
        "duration": 21,
        "start_time": "2024-03-13T14:45:52.243Z"
      },
      {
        "duration": 26,
        "start_time": "2024-03-13T14:45:52.265Z"
      },
      {
        "duration": 9104,
        "start_time": "2024-03-13T14:45:52.293Z"
      },
      {
        "duration": 4,
        "start_time": "2024-03-13T14:46:01.398Z"
      },
      {
        "duration": 51,
        "start_time": "2024-03-13T14:46:01.404Z"
      },
      {
        "duration": 83,
        "start_time": "2024-03-13T14:46:01.457Z"
      },
      {
        "duration": 16,
        "start_time": "2024-03-13T14:46:04.738Z"
      },
      {
        "duration": 281,
        "start_time": "2024-03-13T14:49:44.088Z"
      },
      {
        "duration": 201,
        "start_time": "2024-03-13T14:56:47.656Z"
      },
      {
        "duration": 9,
        "start_time": "2024-03-13T15:10:57.090Z"
      },
      {
        "duration": 175,
        "start_time": "2024-03-13T15:11:12.289Z"
      },
      {
        "duration": 7,
        "start_time": "2024-03-13T15:11:30.034Z"
      },
      {
        "duration": 172,
        "start_time": "2024-03-13T15:11:45.353Z"
      },
      {
        "duration": 159,
        "start_time": "2024-03-13T15:11:58.135Z"
      },
      {
        "duration": 9,
        "start_time": "2024-03-13T15:15:25.803Z"
      },
      {
        "duration": 10,
        "start_time": "2024-03-13T15:22:28.606Z"
      },
      {
        "duration": 17,
        "start_time": "2024-03-13T15:24:39.594Z"
      },
      {
        "duration": 7,
        "start_time": "2024-03-13T15:24:56.252Z"
      },
      {
        "duration": 11,
        "start_time": "2024-03-13T15:25:23.597Z"
      },
      {
        "duration": 7,
        "start_time": "2024-03-13T15:25:34.854Z"
      },
      {
        "duration": 3210,
        "start_time": "2024-03-13T15:26:05.494Z"
      },
      {
        "duration": 1364,
        "start_time": "2024-03-13T15:26:08.707Z"
      },
      {
        "duration": 10,
        "start_time": "2024-03-13T15:26:10.073Z"
      },
      {
        "duration": 18,
        "start_time": "2024-03-13T15:26:10.086Z"
      },
      {
        "duration": 69,
        "start_time": "2024-03-13T15:26:10.106Z"
      },
      {
        "duration": 20,
        "start_time": "2024-03-13T15:26:10.177Z"
      },
      {
        "duration": 18,
        "start_time": "2024-03-13T15:26:10.199Z"
      },
      {
        "duration": 6,
        "start_time": "2024-03-13T15:26:10.219Z"
      },
      {
        "duration": 10,
        "start_time": "2024-03-13T15:26:10.227Z"
      },
      {
        "duration": 12,
        "start_time": "2024-03-13T15:26:10.239Z"
      },
      {
        "duration": 40,
        "start_time": "2024-03-13T15:26:10.252Z"
      },
      {
        "duration": 344,
        "start_time": "2024-03-13T15:26:10.294Z"
      },
      {
        "duration": 215,
        "start_time": "2024-03-13T15:26:10.640Z"
      },
      {
        "duration": 10,
        "start_time": "2024-03-13T15:26:10.856Z"
      },
      {
        "duration": 294,
        "start_time": "2024-03-13T15:26:10.867Z"
      },
      {
        "duration": 4244,
        "start_time": "2024-03-13T15:26:11.163Z"
      },
      {
        "duration": 112,
        "start_time": "2024-03-13T15:26:15.482Z"
      },
      {
        "duration": 40,
        "start_time": "2024-03-13T15:26:15.595Z"
      },
      {
        "duration": 10,
        "start_time": "2024-03-13T15:26:15.637Z"
      },
      {
        "duration": 34,
        "start_time": "2024-03-13T15:26:15.648Z"
      },
      {
        "duration": 12,
        "start_time": "2024-03-13T15:26:15.684Z"
      },
      {
        "duration": 543134,
        "start_time": "2024-03-13T15:26:15.698Z"
      },
      {
        "duration": 0,
        "start_time": "2024-03-13T15:35:18.835Z"
      },
      {
        "duration": 0,
        "start_time": "2024-03-13T15:35:18.837Z"
      },
      {
        "duration": 0,
        "start_time": "2024-03-13T15:35:18.838Z"
      },
      {
        "duration": 0,
        "start_time": "2024-03-13T15:35:18.840Z"
      },
      {
        "duration": 0,
        "start_time": "2024-03-13T15:35:18.842Z"
      },
      {
        "duration": 0,
        "start_time": "2024-03-13T15:35:18.843Z"
      },
      {
        "duration": 0,
        "start_time": "2024-03-13T15:35:18.845Z"
      },
      {
        "duration": 0,
        "start_time": "2024-03-13T15:35:18.847Z"
      },
      {
        "duration": 97960,
        "start_time": "2024-03-13T15:35:27.951Z"
      },
      {
        "duration": 4,
        "start_time": "2024-03-13T15:37:42.331Z"
      },
      {
        "duration": 25,
        "start_time": "2024-03-13T15:37:50.412Z"
      },
      {
        "duration": 9,
        "start_time": "2024-03-13T15:38:08.923Z"
      },
      {
        "duration": 303,
        "start_time": "2024-03-13T15:38:16.436Z"
      },
      {
        "duration": 303,
        "start_time": "2024-03-13T15:38:43.133Z"
      },
      {
        "duration": 15,
        "start_time": "2024-03-13T15:45:50.080Z"
      },
      {
        "duration": 6,
        "start_time": "2024-03-13T15:46:11.441Z"
      },
      {
        "duration": 6,
        "start_time": "2024-03-13T15:46:17.425Z"
      },
      {
        "duration": 3165,
        "start_time": "2024-03-13T15:58:07.487Z"
      },
      {
        "duration": 1327,
        "start_time": "2024-03-13T15:58:10.654Z"
      },
      {
        "duration": 4,
        "start_time": "2024-03-13T15:58:11.982Z"
      },
      {
        "duration": 21,
        "start_time": "2024-03-13T15:58:11.987Z"
      },
      {
        "duration": 53,
        "start_time": "2024-03-13T15:58:12.009Z"
      },
      {
        "duration": 10,
        "start_time": "2024-03-13T15:58:12.063Z"
      },
      {
        "duration": 13,
        "start_time": "2024-03-13T15:58:12.075Z"
      },
      {
        "duration": 4,
        "start_time": "2024-03-13T15:58:12.089Z"
      },
      {
        "duration": 10,
        "start_time": "2024-03-13T15:58:12.094Z"
      },
      {
        "duration": 9,
        "start_time": "2024-03-13T15:58:12.106Z"
      },
      {
        "duration": 9,
        "start_time": "2024-03-13T15:58:12.117Z"
      },
      {
        "duration": 343,
        "start_time": "2024-03-13T15:58:12.127Z"
      },
      {
        "duration": 221,
        "start_time": "2024-03-13T15:58:12.472Z"
      },
      {
        "duration": 10,
        "start_time": "2024-03-13T15:58:12.694Z"
      },
      {
        "duration": 253,
        "start_time": "2024-03-13T15:58:12.706Z"
      },
      {
        "duration": 2330,
        "start_time": "2024-03-13T15:58:12.960Z"
      },
      {
        "duration": 199,
        "start_time": "2024-03-13T15:58:15.293Z"
      },
      {
        "duration": 15,
        "start_time": "2024-03-13T15:58:15.495Z"
      },
      {
        "duration": 15,
        "start_time": "2024-03-13T15:58:15.512Z"
      },
      {
        "duration": 18,
        "start_time": "2024-03-13T15:58:15.528Z"
      },
      {
        "duration": 54458,
        "start_time": "2024-03-13T15:58:15.548Z"
      },
      {
        "duration": 3,
        "start_time": "2024-03-13T15:59:10.008Z"
      },
      {
        "duration": 48,
        "start_time": "2024-03-13T15:59:10.013Z"
      },
      {
        "duration": 53,
        "start_time": "2024-03-13T15:59:10.062Z"
      },
      {
        "duration": 416,
        "start_time": "2024-03-13T15:59:10.116Z"
      },
      {
        "duration": 6,
        "start_time": "2024-03-13T15:59:10.534Z"
      }
    ],
    "kernelspec": {
      "display_name": "Python 3 (ipykernel)",
      "language": "python",
      "name": "python3"
    },
    "language_info": {
      "codemirror_mode": {
        "name": "ipython",
        "version": 3
      },
      "file_extension": ".py",
      "mimetype": "text/x-python",
      "name": "python",
      "nbconvert_exporter": "python",
      "pygments_lexer": "ipython3",
      "version": "3.9.5"
    },
    "toc": {
      "base_numbering": 1,
      "nav_menu": {},
      "number_sections": true,
      "sideBar": true,
      "skip_h1_title": true,
      "title_cell": "Содержание",
      "title_sidebar": "Contents",
      "toc_cell": true,
      "toc_position": {},
      "toc_section_display": true,
      "toc_window_display": true
    },
    "colab": {
      "provenance": []
    }
  },
  "nbformat": 4,
  "nbformat_minor": 0
}